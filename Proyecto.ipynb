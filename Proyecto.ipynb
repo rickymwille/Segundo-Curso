{
  "nbformat": 4,
  "nbformat_minor": 0,
  "metadata": {
    "colab": {
      "name": "Proyecto v2",
      "provenance": [],
      "collapsed_sections": []
    },
    "kernelspec": {
      "name": "python3",
      "display_name": "Python 3"
    },
    "language_info": {
      "name": "python"
    }
  },
  "cells": [
    {
      "cell_type": "markdown",
      "metadata": {
        "id": "tQueVaBlFE3T"
      },
      "source": [
        "# Programa de Ciencia de Datos, Aprendizaje Automático\n",
        "\n",
        "\n",
        "**Proyecto**\n",
        "\n",
        "Estudiantes:\n",
        "\n",
        "   - *Ricardo Montero Wille*\n",
        "\n",
        "   - *Esteban Pérez Navarro*"
      ]
    },
    {
      "cell_type": "markdown",
      "metadata": {
        "id": "59rINqSmFH8y"
      },
      "source": [
        "**A continuación se presenta el desarrollo del problema:**\n",
        "\n",
        "Los datos pertenecen a la empresa a la que Ricardo y yo trabajamos, la cual no se va a revelar el nombre. Estos datos son relativos al desempeño de la entrega de paquetes, y cuentan con diversas variables sobre estos, como por ejemplo, su peso, su tamaño, días estimados para la entrega, entre otros. El problema en este caso consiste en que la organización desea poder predecir si un paquete se va a entregar a un cliente en el tiempo asignado, que según política de la empresa son 10 días hábiles. Esto se realiza con el objetivo de poder prometerle a clientes futuros esto mismo, o si se debe hacer una modificación de la política. \n",
        "\n",
        "Se extraen alrededor de 140.000 datos de la base de datos de la organización, relativos a los envíos realizados en el presente año. \n"
      ]
    },
    {
      "cell_type": "markdown",
      "metadata": {
        "id": "W1uYTsbhoOi5"
      },
      "source": [
        "Primero se importan las librerías."
      ]
    },
    {
      "cell_type": "code",
      "metadata": {
        "id": "kjilCAvCFK0F"
      },
      "source": [
        "# Imports para tratamiento de datos\n",
        "# ==============================================================================\n",
        "import pandas as pd\n",
        "import numpy as np\n",
        "from numpy import mean\n",
        "from numpy import std\n",
        "from numpy import absolute\n",
        "from numpy import arange\n",
        "\n",
        "# Imports para graficación\n",
        "# ==============================================================================\n",
        "\n",
        "import matplotlib.pyplot as plt\n",
        "from matplotlib import style\n",
        "import seaborn as sns\n",
        "import sklearn.metrics as skm\n",
        "\n",
        "# Imports para pre-procesado y modelado\n",
        "# ==============================================================================\n",
        "from scipy.stats import pearsonr\n",
        "from sklearn.model_selection import train_test_split\n",
        "from sklearn.metrics import mean_squared_error\n",
        "from sklearn.preprocessing import MinMaxScaler\n",
        "\n",
        "\n",
        "# Configuración matplotlib\n",
        "# ==============================================================================\n",
        "plt.rcParams['image.cmap'] = \"bwr\"\n",
        "#plt.rcParams['figure.dpi'] = \"100\"\n",
        "plt.rcParams['savefig.bbox'] = \"tight\"\n",
        "style.use('ggplot') or plt.style.use('ggplot')\n",
        "\n",
        "#Esta línea se utiliza para evitar algunas advertencias que panda tiene\n",
        "pd.options.mode.chained_assignment = None  # default='warn'"
      ],
      "execution_count": 15,
      "outputs": []
    },
    {
      "cell_type": "markdown",
      "metadata": {
        "id": "mkffvuHIRSxc"
      },
      "source": [
        "Se procede a leer el archivo que se encuentra subido en github. De esta manera es más sencillo leerlo y no se necesita el archivo en la misma carpeta del notebook. "
      ]
    },
    {
      "cell_type": "code",
      "metadata": {
        "colab": {
          "base_uri": "https://localhost:8080/",
          "height": 438
        },
        "id": "G2ZqmbuMFSO6",
        "outputId": "4bd3e46b-3451-415f-c07c-49b11393c299"
      },
      "source": [
        "archivo = 'https://raw.githubusercontent.com/EstebanPN14/prueba2/main/Package%20v2.csv'\n",
        "packageDelivery = pd.read_csv(archivo,error_bad_lines=False)\n",
        "packageDelivery"
      ],
      "execution_count": 16,
      "outputs": [
        {
          "output_type": "execute_result",
          "data": {
            "text/html": [
              "<div>\n",
              "<style scoped>\n",
              "    .dataframe tbody tr th:only-of-type {\n",
              "        vertical-align: middle;\n",
              "    }\n",
              "\n",
              "    .dataframe tbody tr th {\n",
              "        vertical-align: top;\n",
              "    }\n",
              "\n",
              "    .dataframe thead th {\n",
              "        text-align: right;\n",
              "    }\n",
              "</style>\n",
              "<table border=\"1\" class=\"dataframe\">\n",
              "  <thead>\n",
              "    <tr style=\"text-align: right;\">\n",
              "      <th></th>\n",
              "      <th>ALTR_PROD_SVC_FLG</th>\n",
              "      <th>BO_FLG</th>\n",
              "      <th>CARR_DLV_DAYS</th>\n",
              "      <th>CARR_PKG_DLV_DLAY_MINS</th>\n",
              "      <th>CNTRY_ID</th>\n",
              "      <th>DC_FULF_OP_DAYS</th>\n",
              "      <th>DIM_WGT_FLG</th>\n",
              "      <th>EMBR_PROD_SVC_FLG</th>\n",
              "      <th>ENGR_PROD_SVC_FLG</th>\n",
              "      <th>GBOX_PROD_SVC_FLG</th>\n",
              "      <th>MNGM_PROD_SVC_FLG</th>\n",
              "      <th>ORD_RLSE_TO_DC_MINS</th>\n",
              "      <th>OTHR_PROD_SVC_FLG</th>\n",
              "      <th>PERS_PROD_SVC_FLG</th>\n",
              "      <th>PCK_CNT</th>\n",
              "      <th>PKG_DLVD_BY_QTD_DT_IND</th>\n",
              "      <th>PKG_GRTH</th>\n",
              "      <th>PKG_HT</th>\n",
              "      <th>PKG_LTH</th>\n",
              "      <th>PKG_MER_QTY</th>\n",
              "      <th>PKG_MNFST_DLAY_MINS</th>\n",
              "      <th>PKG_PROD_SVC_FLG</th>\n",
              "      <th>PKG_WDTH</th>\n",
              "      <th>PKG_WGT</th>\n",
              "      <th>SECD_CARR_FLG</th>\n",
              "      <th>SECD_CARR_ONTM_FLG</th>\n",
              "    </tr>\n",
              "  </thead>\n",
              "  <tbody>\n",
              "    <tr>\n",
              "      <th>0</th>\n",
              "      <td>N</td>\n",
              "      <td>N</td>\n",
              "      <td>1</td>\n",
              "      <td>0</td>\n",
              "      <td>USA</td>\n",
              "      <td>4</td>\n",
              "      <td>Y</td>\n",
              "      <td>N</td>\n",
              "      <td>N</td>\n",
              "      <td>N</td>\n",
              "      <td>N</td>\n",
              "      <td>250</td>\n",
              "      <td>N</td>\n",
              "      <td>N</td>\n",
              "      <td>1</td>\n",
              "      <td>Y</td>\n",
              "      <td>52.0</td>\n",
              "      <td>4.0</td>\n",
              "      <td>18.0</td>\n",
              "      <td>2</td>\n",
              "      <td>0</td>\n",
              "      <td>N</td>\n",
              "      <td>13.0</td>\n",
              "      <td>1.575</td>\n",
              "      <td>N</td>\n",
              "      <td>Y</td>\n",
              "    </tr>\n",
              "    <tr>\n",
              "      <th>1</th>\n",
              "      <td>N</td>\n",
              "      <td>N</td>\n",
              "      <td>3</td>\n",
              "      <td>0</td>\n",
              "      <td>USA</td>\n",
              "      <td>3</td>\n",
              "      <td>Y</td>\n",
              "      <td>N</td>\n",
              "      <td>N</td>\n",
              "      <td>N</td>\n",
              "      <td>N</td>\n",
              "      <td>31</td>\n",
              "      <td>N</td>\n",
              "      <td>N</td>\n",
              "      <td>1</td>\n",
              "      <td>Y</td>\n",
              "      <td>0.0</td>\n",
              "      <td>0.0</td>\n",
              "      <td>0.0</td>\n",
              "      <td>1</td>\n",
              "      <td>0</td>\n",
              "      <td>N</td>\n",
              "      <td>0.0</td>\n",
              "      <td>0.790</td>\n",
              "      <td>N</td>\n",
              "      <td>Y</td>\n",
              "    </tr>\n",
              "    <tr>\n",
              "      <th>2</th>\n",
              "      <td>N</td>\n",
              "      <td>N</td>\n",
              "      <td>6</td>\n",
              "      <td>0</td>\n",
              "      <td>USA</td>\n",
              "      <td>1</td>\n",
              "      <td>Y</td>\n",
              "      <td>N</td>\n",
              "      <td>N</td>\n",
              "      <td>N</td>\n",
              "      <td>N</td>\n",
              "      <td>30</td>\n",
              "      <td>N</td>\n",
              "      <td>N</td>\n",
              "      <td>1</td>\n",
              "      <td>Y</td>\n",
              "      <td>60.0</td>\n",
              "      <td>5.0</td>\n",
              "      <td>22.0</td>\n",
              "      <td>3</td>\n",
              "      <td>0</td>\n",
              "      <td>N</td>\n",
              "      <td>14.0</td>\n",
              "      <td>2.440</td>\n",
              "      <td>N</td>\n",
              "      <td>Y</td>\n",
              "    </tr>\n",
              "    <tr>\n",
              "      <th>3</th>\n",
              "      <td>N</td>\n",
              "      <td>N</td>\n",
              "      <td>2</td>\n",
              "      <td>0</td>\n",
              "      <td>USA</td>\n",
              "      <td>2</td>\n",
              "      <td>Y</td>\n",
              "      <td>N</td>\n",
              "      <td>N</td>\n",
              "      <td>N</td>\n",
              "      <td>N</td>\n",
              "      <td>31</td>\n",
              "      <td>N</td>\n",
              "      <td>N</td>\n",
              "      <td>1</td>\n",
              "      <td>Y</td>\n",
              "      <td>0.0</td>\n",
              "      <td>0.0</td>\n",
              "      <td>0.0</td>\n",
              "      <td>1</td>\n",
              "      <td>0</td>\n",
              "      <td>N</td>\n",
              "      <td>0.0</td>\n",
              "      <td>1.525</td>\n",
              "      <td>N</td>\n",
              "      <td>Y</td>\n",
              "    </tr>\n",
              "    <tr>\n",
              "      <th>4</th>\n",
              "      <td>N</td>\n",
              "      <td>N</td>\n",
              "      <td>1</td>\n",
              "      <td>0</td>\n",
              "      <td>USA</td>\n",
              "      <td>1</td>\n",
              "      <td>Y</td>\n",
              "      <td>N</td>\n",
              "      <td>N</td>\n",
              "      <td>N</td>\n",
              "      <td>N</td>\n",
              "      <td>30</td>\n",
              "      <td>N</td>\n",
              "      <td>N</td>\n",
              "      <td>1</td>\n",
              "      <td>Y</td>\n",
              "      <td>0.0</td>\n",
              "      <td>0.0</td>\n",
              "      <td>0.0</td>\n",
              "      <td>1</td>\n",
              "      <td>0</td>\n",
              "      <td>N</td>\n",
              "      <td>0.0</td>\n",
              "      <td>1.889</td>\n",
              "      <td>N</td>\n",
              "      <td>Y</td>\n",
              "    </tr>\n",
              "    <tr>\n",
              "      <th>...</th>\n",
              "      <td>...</td>\n",
              "      <td>...</td>\n",
              "      <td>...</td>\n",
              "      <td>...</td>\n",
              "      <td>...</td>\n",
              "      <td>...</td>\n",
              "      <td>...</td>\n",
              "      <td>...</td>\n",
              "      <td>...</td>\n",
              "      <td>...</td>\n",
              "      <td>...</td>\n",
              "      <td>...</td>\n",
              "      <td>...</td>\n",
              "      <td>...</td>\n",
              "      <td>...</td>\n",
              "      <td>...</td>\n",
              "      <td>...</td>\n",
              "      <td>...</td>\n",
              "      <td>...</td>\n",
              "      <td>...</td>\n",
              "      <td>...</td>\n",
              "      <td>...</td>\n",
              "      <td>...</td>\n",
              "      <td>...</td>\n",
              "      <td>...</td>\n",
              "      <td>...</td>\n",
              "    </tr>\n",
              "    <tr>\n",
              "      <th>139832</th>\n",
              "      <td>N</td>\n",
              "      <td>N</td>\n",
              "      <td>1</td>\n",
              "      <td>0</td>\n",
              "      <td>USA</td>\n",
              "      <td>10</td>\n",
              "      <td>Y</td>\n",
              "      <td>N</td>\n",
              "      <td>N</td>\n",
              "      <td>N</td>\n",
              "      <td>Y</td>\n",
              "      <td>34</td>\n",
              "      <td>N</td>\n",
              "      <td>N</td>\n",
              "      <td>1</td>\n",
              "      <td>N</td>\n",
              "      <td>52.0</td>\n",
              "      <td>4.0</td>\n",
              "      <td>18.0</td>\n",
              "      <td>1</td>\n",
              "      <td>0</td>\n",
              "      <td>Y</td>\n",
              "      <td>13.0</td>\n",
              "      <td>1.455</td>\n",
              "      <td>N</td>\n",
              "      <td>Y</td>\n",
              "    </tr>\n",
              "    <tr>\n",
              "      <th>139833</th>\n",
              "      <td>N</td>\n",
              "      <td>N</td>\n",
              "      <td>3</td>\n",
              "      <td>-999999</td>\n",
              "      <td>USA</td>\n",
              "      <td>2</td>\n",
              "      <td>Y</td>\n",
              "      <td>N</td>\n",
              "      <td>N</td>\n",
              "      <td>N</td>\n",
              "      <td>N</td>\n",
              "      <td>37</td>\n",
              "      <td>N</td>\n",
              "      <td>N</td>\n",
              "      <td>1</td>\n",
              "      <td>Y</td>\n",
              "      <td>0.0</td>\n",
              "      <td>0.0</td>\n",
              "      <td>0.0</td>\n",
              "      <td>1</td>\n",
              "      <td>0</td>\n",
              "      <td>N</td>\n",
              "      <td>0.0</td>\n",
              "      <td>0.940</td>\n",
              "      <td>N</td>\n",
              "      <td>N</td>\n",
              "    </tr>\n",
              "    <tr>\n",
              "      <th>139834</th>\n",
              "      <td>N</td>\n",
              "      <td>N</td>\n",
              "      <td>2</td>\n",
              "      <td>0</td>\n",
              "      <td>USA</td>\n",
              "      <td>2</td>\n",
              "      <td>Y</td>\n",
              "      <td>N</td>\n",
              "      <td>N</td>\n",
              "      <td>N</td>\n",
              "      <td>N</td>\n",
              "      <td>31</td>\n",
              "      <td>N</td>\n",
              "      <td>N</td>\n",
              "      <td>1</td>\n",
              "      <td>Y</td>\n",
              "      <td>60.0</td>\n",
              "      <td>5.0</td>\n",
              "      <td>22.0</td>\n",
              "      <td>1</td>\n",
              "      <td>0</td>\n",
              "      <td>N</td>\n",
              "      <td>14.0</td>\n",
              "      <td>3.090</td>\n",
              "      <td>N</td>\n",
              "      <td>Y</td>\n",
              "    </tr>\n",
              "    <tr>\n",
              "      <th>139835</th>\n",
              "      <td>N</td>\n",
              "      <td>N</td>\n",
              "      <td>6</td>\n",
              "      <td>0</td>\n",
              "      <td>USA</td>\n",
              "      <td>3</td>\n",
              "      <td>Y</td>\n",
              "      <td>N</td>\n",
              "      <td>N</td>\n",
              "      <td>N</td>\n",
              "      <td>N</td>\n",
              "      <td>36</td>\n",
              "      <td>N</td>\n",
              "      <td>N</td>\n",
              "      <td>1</td>\n",
              "      <td>N</td>\n",
              "      <td>0.0</td>\n",
              "      <td>0.0</td>\n",
              "      <td>0.0</td>\n",
              "      <td>1</td>\n",
              "      <td>0</td>\n",
              "      <td>N</td>\n",
              "      <td>0.0</td>\n",
              "      <td>0.875</td>\n",
              "      <td>N</td>\n",
              "      <td>Y</td>\n",
              "    </tr>\n",
              "    <tr>\n",
              "      <th>139836</th>\n",
              "      <td>N</td>\n",
              "      <td>N</td>\n",
              "      <td>3</td>\n",
              "      <td>0</td>\n",
              "      <td>USA</td>\n",
              "      <td>3</td>\n",
              "      <td>Y</td>\n",
              "      <td>N</td>\n",
              "      <td>N</td>\n",
              "      <td>N</td>\n",
              "      <td>N</td>\n",
              "      <td>30</td>\n",
              "      <td>N</td>\n",
              "      <td>N</td>\n",
              "      <td>1</td>\n",
              "      <td>Y</td>\n",
              "      <td>0.0</td>\n",
              "      <td>0.0</td>\n",
              "      <td>0.0</td>\n",
              "      <td>1</td>\n",
              "      <td>0</td>\n",
              "      <td>N</td>\n",
              "      <td>0.0</td>\n",
              "      <td>0.875</td>\n",
              "      <td>N</td>\n",
              "      <td>Y</td>\n",
              "    </tr>\n",
              "  </tbody>\n",
              "</table>\n",
              "<p>139837 rows × 26 columns</p>\n",
              "</div>"
            ],
            "text/plain": [
              "       ALTR_PROD_SVC_FLG BO_FLG  ...  SECD_CARR_FLG  SECD_CARR_ONTM_FLG\n",
              "0                      N      N  ...              N                   Y\n",
              "1                      N      N  ...              N                   Y\n",
              "2                      N      N  ...              N                   Y\n",
              "3                      N      N  ...              N                   Y\n",
              "4                      N      N  ...              N                   Y\n",
              "...                  ...    ...  ...            ...                 ...\n",
              "139832                 N      N  ...              N                   Y\n",
              "139833                 N      N  ...              N                   N\n",
              "139834                 N      N  ...              N                   Y\n",
              "139835                 N      N  ...              N                   Y\n",
              "139836                 N      N  ...              N                   Y\n",
              "\n",
              "[139837 rows x 26 columns]"
            ]
          },
          "metadata": {},
          "execution_count": 16
        }
      ]
    },
    {
      "cell_type": "markdown",
      "metadata": {
        "id": "nQIduJ_hRVSn"
      },
      "source": [
        "Mostramos los tipos de datos que se tiene en el dataframe. De esta manera es más sencillo lograr una visualización de los datos con los que es mejor trabajar."
      ]
    },
    {
      "cell_type": "code",
      "metadata": {
        "colab": {
          "base_uri": "https://localhost:8080/"
        },
        "id": "NRyMb32FFeSd",
        "outputId": "716e8627-35b0-4f64-9c18-10313fa33a8b"
      },
      "source": [
        "packageDelivery.dtypes"
      ],
      "execution_count": 17,
      "outputs": [
        {
          "output_type": "execute_result",
          "data": {
            "text/plain": [
              "ALTR_PROD_SVC_FLG          object\n",
              "BO_FLG                     object\n",
              "CARR_DLV_DAYS               int64\n",
              "CARR_PKG_DLV_DLAY_MINS      int64\n",
              "CNTRY_ID                   object\n",
              "DC_FULF_OP_DAYS             int64\n",
              "DIM_WGT_FLG                object\n",
              "EMBR_PROD_SVC_FLG          object\n",
              "ENGR_PROD_SVC_FLG          object\n",
              "GBOX_PROD_SVC_FLG          object\n",
              "MNGM_PROD_SVC_FLG          object\n",
              "ORD_RLSE_TO_DC_MINS         int64\n",
              "OTHR_PROD_SVC_FLG          object\n",
              "PERS_PROD_SVC_FLG          object\n",
              "PCK_CNT                     int64\n",
              "PKG_DLVD_BY_QTD_DT_IND     object\n",
              "PKG_GRTH                  float64\n",
              "PKG_HT                    float64\n",
              "PKG_LTH                   float64\n",
              "PKG_MER_QTY                 int64\n",
              "PKG_MNFST_DLAY_MINS         int64\n",
              "PKG_PROD_SVC_FLG           object\n",
              "PKG_WDTH                  float64\n",
              "PKG_WGT                   float64\n",
              "SECD_CARR_FLG              object\n",
              "SECD_CARR_ONTM_FLG         object\n",
              "dtype: object"
            ]
          },
          "metadata": {},
          "execution_count": 17
        }
      ]
    },
    {
      "cell_type": "markdown",
      "metadata": {
        "id": "fYVH2KNZRYOq"
      },
      "source": [
        "En la empresa en cuestión, los datos  con valor \"-999999\" son datos nulos por lo que los reemplazamos por el valor nulo que utiliza el lenguaje, es decir, por NaN, usando la función replace. "
      ]
    },
    {
      "cell_type": "code",
      "metadata": {
        "colab": {
          "base_uri": "https://localhost:8080/",
          "height": 438
        },
        "id": "un94ARc-MZKs",
        "outputId": "05cbd34e-153d-4be3-cb08-fe93142b8668"
      },
      "source": [
        "packageDelivery = packageDelivery.replace(-999999,np.NaN)\n",
        "packageDelivery"
      ],
      "execution_count": 18,
      "outputs": [
        {
          "output_type": "execute_result",
          "data": {
            "text/html": [
              "<div>\n",
              "<style scoped>\n",
              "    .dataframe tbody tr th:only-of-type {\n",
              "        vertical-align: middle;\n",
              "    }\n",
              "\n",
              "    .dataframe tbody tr th {\n",
              "        vertical-align: top;\n",
              "    }\n",
              "\n",
              "    .dataframe thead th {\n",
              "        text-align: right;\n",
              "    }\n",
              "</style>\n",
              "<table border=\"1\" class=\"dataframe\">\n",
              "  <thead>\n",
              "    <tr style=\"text-align: right;\">\n",
              "      <th></th>\n",
              "      <th>ALTR_PROD_SVC_FLG</th>\n",
              "      <th>BO_FLG</th>\n",
              "      <th>CARR_DLV_DAYS</th>\n",
              "      <th>CARR_PKG_DLV_DLAY_MINS</th>\n",
              "      <th>CNTRY_ID</th>\n",
              "      <th>DC_FULF_OP_DAYS</th>\n",
              "      <th>DIM_WGT_FLG</th>\n",
              "      <th>EMBR_PROD_SVC_FLG</th>\n",
              "      <th>ENGR_PROD_SVC_FLG</th>\n",
              "      <th>GBOX_PROD_SVC_FLG</th>\n",
              "      <th>MNGM_PROD_SVC_FLG</th>\n",
              "      <th>ORD_RLSE_TO_DC_MINS</th>\n",
              "      <th>OTHR_PROD_SVC_FLG</th>\n",
              "      <th>PERS_PROD_SVC_FLG</th>\n",
              "      <th>PCK_CNT</th>\n",
              "      <th>PKG_DLVD_BY_QTD_DT_IND</th>\n",
              "      <th>PKG_GRTH</th>\n",
              "      <th>PKG_HT</th>\n",
              "      <th>PKG_LTH</th>\n",
              "      <th>PKG_MER_QTY</th>\n",
              "      <th>PKG_MNFST_DLAY_MINS</th>\n",
              "      <th>PKG_PROD_SVC_FLG</th>\n",
              "      <th>PKG_WDTH</th>\n",
              "      <th>PKG_WGT</th>\n",
              "      <th>SECD_CARR_FLG</th>\n",
              "      <th>SECD_CARR_ONTM_FLG</th>\n",
              "    </tr>\n",
              "  </thead>\n",
              "  <tbody>\n",
              "    <tr>\n",
              "      <th>0</th>\n",
              "      <td>N</td>\n",
              "      <td>N</td>\n",
              "      <td>1</td>\n",
              "      <td>0.0</td>\n",
              "      <td>USA</td>\n",
              "      <td>4</td>\n",
              "      <td>Y</td>\n",
              "      <td>N</td>\n",
              "      <td>N</td>\n",
              "      <td>N</td>\n",
              "      <td>N</td>\n",
              "      <td>250</td>\n",
              "      <td>N</td>\n",
              "      <td>N</td>\n",
              "      <td>1</td>\n",
              "      <td>Y</td>\n",
              "      <td>52.0</td>\n",
              "      <td>4.0</td>\n",
              "      <td>18.0</td>\n",
              "      <td>2</td>\n",
              "      <td>0.0</td>\n",
              "      <td>N</td>\n",
              "      <td>13.0</td>\n",
              "      <td>1.575</td>\n",
              "      <td>N</td>\n",
              "      <td>Y</td>\n",
              "    </tr>\n",
              "    <tr>\n",
              "      <th>1</th>\n",
              "      <td>N</td>\n",
              "      <td>N</td>\n",
              "      <td>3</td>\n",
              "      <td>0.0</td>\n",
              "      <td>USA</td>\n",
              "      <td>3</td>\n",
              "      <td>Y</td>\n",
              "      <td>N</td>\n",
              "      <td>N</td>\n",
              "      <td>N</td>\n",
              "      <td>N</td>\n",
              "      <td>31</td>\n",
              "      <td>N</td>\n",
              "      <td>N</td>\n",
              "      <td>1</td>\n",
              "      <td>Y</td>\n",
              "      <td>0.0</td>\n",
              "      <td>0.0</td>\n",
              "      <td>0.0</td>\n",
              "      <td>1</td>\n",
              "      <td>0.0</td>\n",
              "      <td>N</td>\n",
              "      <td>0.0</td>\n",
              "      <td>0.790</td>\n",
              "      <td>N</td>\n",
              "      <td>Y</td>\n",
              "    </tr>\n",
              "    <tr>\n",
              "      <th>2</th>\n",
              "      <td>N</td>\n",
              "      <td>N</td>\n",
              "      <td>6</td>\n",
              "      <td>0.0</td>\n",
              "      <td>USA</td>\n",
              "      <td>1</td>\n",
              "      <td>Y</td>\n",
              "      <td>N</td>\n",
              "      <td>N</td>\n",
              "      <td>N</td>\n",
              "      <td>N</td>\n",
              "      <td>30</td>\n",
              "      <td>N</td>\n",
              "      <td>N</td>\n",
              "      <td>1</td>\n",
              "      <td>Y</td>\n",
              "      <td>60.0</td>\n",
              "      <td>5.0</td>\n",
              "      <td>22.0</td>\n",
              "      <td>3</td>\n",
              "      <td>0.0</td>\n",
              "      <td>N</td>\n",
              "      <td>14.0</td>\n",
              "      <td>2.440</td>\n",
              "      <td>N</td>\n",
              "      <td>Y</td>\n",
              "    </tr>\n",
              "    <tr>\n",
              "      <th>3</th>\n",
              "      <td>N</td>\n",
              "      <td>N</td>\n",
              "      <td>2</td>\n",
              "      <td>0.0</td>\n",
              "      <td>USA</td>\n",
              "      <td>2</td>\n",
              "      <td>Y</td>\n",
              "      <td>N</td>\n",
              "      <td>N</td>\n",
              "      <td>N</td>\n",
              "      <td>N</td>\n",
              "      <td>31</td>\n",
              "      <td>N</td>\n",
              "      <td>N</td>\n",
              "      <td>1</td>\n",
              "      <td>Y</td>\n",
              "      <td>0.0</td>\n",
              "      <td>0.0</td>\n",
              "      <td>0.0</td>\n",
              "      <td>1</td>\n",
              "      <td>0.0</td>\n",
              "      <td>N</td>\n",
              "      <td>0.0</td>\n",
              "      <td>1.525</td>\n",
              "      <td>N</td>\n",
              "      <td>Y</td>\n",
              "    </tr>\n",
              "    <tr>\n",
              "      <th>4</th>\n",
              "      <td>N</td>\n",
              "      <td>N</td>\n",
              "      <td>1</td>\n",
              "      <td>0.0</td>\n",
              "      <td>USA</td>\n",
              "      <td>1</td>\n",
              "      <td>Y</td>\n",
              "      <td>N</td>\n",
              "      <td>N</td>\n",
              "      <td>N</td>\n",
              "      <td>N</td>\n",
              "      <td>30</td>\n",
              "      <td>N</td>\n",
              "      <td>N</td>\n",
              "      <td>1</td>\n",
              "      <td>Y</td>\n",
              "      <td>0.0</td>\n",
              "      <td>0.0</td>\n",
              "      <td>0.0</td>\n",
              "      <td>1</td>\n",
              "      <td>0.0</td>\n",
              "      <td>N</td>\n",
              "      <td>0.0</td>\n",
              "      <td>1.889</td>\n",
              "      <td>N</td>\n",
              "      <td>Y</td>\n",
              "    </tr>\n",
              "    <tr>\n",
              "      <th>...</th>\n",
              "      <td>...</td>\n",
              "      <td>...</td>\n",
              "      <td>...</td>\n",
              "      <td>...</td>\n",
              "      <td>...</td>\n",
              "      <td>...</td>\n",
              "      <td>...</td>\n",
              "      <td>...</td>\n",
              "      <td>...</td>\n",
              "      <td>...</td>\n",
              "      <td>...</td>\n",
              "      <td>...</td>\n",
              "      <td>...</td>\n",
              "      <td>...</td>\n",
              "      <td>...</td>\n",
              "      <td>...</td>\n",
              "      <td>...</td>\n",
              "      <td>...</td>\n",
              "      <td>...</td>\n",
              "      <td>...</td>\n",
              "      <td>...</td>\n",
              "      <td>...</td>\n",
              "      <td>...</td>\n",
              "      <td>...</td>\n",
              "      <td>...</td>\n",
              "      <td>...</td>\n",
              "    </tr>\n",
              "    <tr>\n",
              "      <th>139832</th>\n",
              "      <td>N</td>\n",
              "      <td>N</td>\n",
              "      <td>1</td>\n",
              "      <td>0.0</td>\n",
              "      <td>USA</td>\n",
              "      <td>10</td>\n",
              "      <td>Y</td>\n",
              "      <td>N</td>\n",
              "      <td>N</td>\n",
              "      <td>N</td>\n",
              "      <td>Y</td>\n",
              "      <td>34</td>\n",
              "      <td>N</td>\n",
              "      <td>N</td>\n",
              "      <td>1</td>\n",
              "      <td>N</td>\n",
              "      <td>52.0</td>\n",
              "      <td>4.0</td>\n",
              "      <td>18.0</td>\n",
              "      <td>1</td>\n",
              "      <td>0.0</td>\n",
              "      <td>Y</td>\n",
              "      <td>13.0</td>\n",
              "      <td>1.455</td>\n",
              "      <td>N</td>\n",
              "      <td>Y</td>\n",
              "    </tr>\n",
              "    <tr>\n",
              "      <th>139833</th>\n",
              "      <td>N</td>\n",
              "      <td>N</td>\n",
              "      <td>3</td>\n",
              "      <td>NaN</td>\n",
              "      <td>USA</td>\n",
              "      <td>2</td>\n",
              "      <td>Y</td>\n",
              "      <td>N</td>\n",
              "      <td>N</td>\n",
              "      <td>N</td>\n",
              "      <td>N</td>\n",
              "      <td>37</td>\n",
              "      <td>N</td>\n",
              "      <td>N</td>\n",
              "      <td>1</td>\n",
              "      <td>Y</td>\n",
              "      <td>0.0</td>\n",
              "      <td>0.0</td>\n",
              "      <td>0.0</td>\n",
              "      <td>1</td>\n",
              "      <td>0.0</td>\n",
              "      <td>N</td>\n",
              "      <td>0.0</td>\n",
              "      <td>0.940</td>\n",
              "      <td>N</td>\n",
              "      <td>N</td>\n",
              "    </tr>\n",
              "    <tr>\n",
              "      <th>139834</th>\n",
              "      <td>N</td>\n",
              "      <td>N</td>\n",
              "      <td>2</td>\n",
              "      <td>0.0</td>\n",
              "      <td>USA</td>\n",
              "      <td>2</td>\n",
              "      <td>Y</td>\n",
              "      <td>N</td>\n",
              "      <td>N</td>\n",
              "      <td>N</td>\n",
              "      <td>N</td>\n",
              "      <td>31</td>\n",
              "      <td>N</td>\n",
              "      <td>N</td>\n",
              "      <td>1</td>\n",
              "      <td>Y</td>\n",
              "      <td>60.0</td>\n",
              "      <td>5.0</td>\n",
              "      <td>22.0</td>\n",
              "      <td>1</td>\n",
              "      <td>0.0</td>\n",
              "      <td>N</td>\n",
              "      <td>14.0</td>\n",
              "      <td>3.090</td>\n",
              "      <td>N</td>\n",
              "      <td>Y</td>\n",
              "    </tr>\n",
              "    <tr>\n",
              "      <th>139835</th>\n",
              "      <td>N</td>\n",
              "      <td>N</td>\n",
              "      <td>6</td>\n",
              "      <td>0.0</td>\n",
              "      <td>USA</td>\n",
              "      <td>3</td>\n",
              "      <td>Y</td>\n",
              "      <td>N</td>\n",
              "      <td>N</td>\n",
              "      <td>N</td>\n",
              "      <td>N</td>\n",
              "      <td>36</td>\n",
              "      <td>N</td>\n",
              "      <td>N</td>\n",
              "      <td>1</td>\n",
              "      <td>N</td>\n",
              "      <td>0.0</td>\n",
              "      <td>0.0</td>\n",
              "      <td>0.0</td>\n",
              "      <td>1</td>\n",
              "      <td>0.0</td>\n",
              "      <td>N</td>\n",
              "      <td>0.0</td>\n",
              "      <td>0.875</td>\n",
              "      <td>N</td>\n",
              "      <td>Y</td>\n",
              "    </tr>\n",
              "    <tr>\n",
              "      <th>139836</th>\n",
              "      <td>N</td>\n",
              "      <td>N</td>\n",
              "      <td>3</td>\n",
              "      <td>0.0</td>\n",
              "      <td>USA</td>\n",
              "      <td>3</td>\n",
              "      <td>Y</td>\n",
              "      <td>N</td>\n",
              "      <td>N</td>\n",
              "      <td>N</td>\n",
              "      <td>N</td>\n",
              "      <td>30</td>\n",
              "      <td>N</td>\n",
              "      <td>N</td>\n",
              "      <td>1</td>\n",
              "      <td>Y</td>\n",
              "      <td>0.0</td>\n",
              "      <td>0.0</td>\n",
              "      <td>0.0</td>\n",
              "      <td>1</td>\n",
              "      <td>0.0</td>\n",
              "      <td>N</td>\n",
              "      <td>0.0</td>\n",
              "      <td>0.875</td>\n",
              "      <td>N</td>\n",
              "      <td>Y</td>\n",
              "    </tr>\n",
              "  </tbody>\n",
              "</table>\n",
              "<p>139837 rows × 26 columns</p>\n",
              "</div>"
            ],
            "text/plain": [
              "       ALTR_PROD_SVC_FLG BO_FLG  ...  SECD_CARR_FLG  SECD_CARR_ONTM_FLG\n",
              "0                      N      N  ...              N                   Y\n",
              "1                      N      N  ...              N                   Y\n",
              "2                      N      N  ...              N                   Y\n",
              "3                      N      N  ...              N                   Y\n",
              "4                      N      N  ...              N                   Y\n",
              "...                  ...    ...  ...            ...                 ...\n",
              "139832                 N      N  ...              N                   Y\n",
              "139833                 N      N  ...              N                   N\n",
              "139834                 N      N  ...              N                   Y\n",
              "139835                 N      N  ...              N                   Y\n",
              "139836                 N      N  ...              N                   Y\n",
              "\n",
              "[139837 rows x 26 columns]"
            ]
          },
          "metadata": {},
          "execution_count": 18
        }
      ]
    },
    {
      "cell_type": "markdown",
      "metadata": {
        "id": "OPCvLV4VRaxJ"
      },
      "source": [
        "Revisamos que no queden datos con valores de  \"-999999\" para que no nos afecte el modelo."
      ]
    },
    {
      "cell_type": "code",
      "metadata": {
        "colab": {
          "base_uri": "https://localhost:8080/"
        },
        "id": "MuXrjY5YNKJA",
        "outputId": "044f4d9a-775b-48eb-8180-c3f78b3ee681"
      },
      "source": [
        "print((packageDelivery == -999999).astype(int).sum())"
      ],
      "execution_count": 19,
      "outputs": [
        {
          "output_type": "stream",
          "name": "stdout",
          "text": [
            "ALTR_PROD_SVC_FLG         0\n",
            "BO_FLG                    0\n",
            "CARR_DLV_DAYS             0\n",
            "CARR_PKG_DLV_DLAY_MINS    0\n",
            "CNTRY_ID                  0\n",
            "DC_FULF_OP_DAYS           0\n",
            "DIM_WGT_FLG               0\n",
            "EMBR_PROD_SVC_FLG         0\n",
            "ENGR_PROD_SVC_FLG         0\n",
            "GBOX_PROD_SVC_FLG         0\n",
            "MNGM_PROD_SVC_FLG         0\n",
            "ORD_RLSE_TO_DC_MINS       0\n",
            "OTHR_PROD_SVC_FLG         0\n",
            "PERS_PROD_SVC_FLG         0\n",
            "PCK_CNT                   0\n",
            "PKG_DLVD_BY_QTD_DT_IND    0\n",
            "PKG_GRTH                  0\n",
            "PKG_HT                    0\n",
            "PKG_LTH                   0\n",
            "PKG_MER_QTY               0\n",
            "PKG_MNFST_DLAY_MINS       0\n",
            "PKG_PROD_SVC_FLG          0\n",
            "PKG_WDTH                  0\n",
            "PKG_WGT                   0\n",
            "SECD_CARR_FLG             0\n",
            "SECD_CARR_ONTM_FLG        0\n",
            "dtype: int64\n"
          ]
        }
      ]
    },
    {
      "cell_type": "markdown",
      "metadata": {
        "id": "_bgdL5QyqEO5"
      },
      "source": [
        "Ahora, verificamos la cantidad de nulos que quedan en el set de datos"
      ]
    },
    {
      "cell_type": "code",
      "metadata": {
        "colab": {
          "base_uri": "https://localhost:8080/"
        },
        "id": "k_gLX2nfNUQh",
        "outputId": "9910046d-f3e6-4536-abe6-fab1d71717d9"
      },
      "source": [
        "print(packageDelivery.isnull().sum())"
      ],
      "execution_count": 20,
      "outputs": [
        {
          "output_type": "stream",
          "name": "stdout",
          "text": [
            "ALTR_PROD_SVC_FLG            0\n",
            "BO_FLG                       0\n",
            "CARR_DLV_DAYS                0\n",
            "CARR_PKG_DLV_DLAY_MINS    2222\n",
            "CNTRY_ID                     0\n",
            "DC_FULF_OP_DAYS              0\n",
            "DIM_WGT_FLG                  0\n",
            "EMBR_PROD_SVC_FLG            0\n",
            "ENGR_PROD_SVC_FLG            0\n",
            "GBOX_PROD_SVC_FLG            0\n",
            "MNGM_PROD_SVC_FLG            0\n",
            "ORD_RLSE_TO_DC_MINS          0\n",
            "OTHR_PROD_SVC_FLG            0\n",
            "PERS_PROD_SVC_FLG            0\n",
            "PCK_CNT                      0\n",
            "PKG_DLVD_BY_QTD_DT_IND       0\n",
            "PKG_GRTH                     0\n",
            "PKG_HT                       0\n",
            "PKG_LTH                      0\n",
            "PKG_MER_QTY                  0\n",
            "PKG_MNFST_DLAY_MINS        563\n",
            "PKG_PROD_SVC_FLG             0\n",
            "PKG_WDTH                     0\n",
            "PKG_WGT                      0\n",
            "SECD_CARR_FLG                0\n",
            "SECD_CARR_ONTM_FLG           0\n",
            "dtype: int64\n"
          ]
        }
      ]
    },
    {
      "cell_type": "markdown",
      "metadata": {
        "id": "SMxFi5FJRcYZ"
      },
      "source": [
        "Reemplazamos todos los valores nulos con la mediana de cada columna, siendo este uno de los métodos recomendados para rellenar los nulos de un set de datos."
      ]
    },
    {
      "cell_type": "code",
      "metadata": {
        "id": "aEEtXjMsOqcU"
      },
      "source": [
        "packageDelivery.fillna(packageDelivery.median(), inplace=True)"
      ],
      "execution_count": 21,
      "outputs": []
    },
    {
      "cell_type": "markdown",
      "metadata": {
        "id": "OFL_y_ugqTt5"
      },
      "source": [
        "Se verifica que ya no existan nulos en el set de datos."
      ]
    },
    {
      "cell_type": "code",
      "metadata": {
        "colab": {
          "base_uri": "https://localhost:8080/"
        },
        "id": "V4w4rw2TOxU9",
        "outputId": "75df79fb-f95c-4a98-b7b5-f3150603f497"
      },
      "source": [
        "print(packageDelivery.isnull().sum())"
      ],
      "execution_count": 22,
      "outputs": [
        {
          "output_type": "stream",
          "name": "stdout",
          "text": [
            "ALTR_PROD_SVC_FLG         0\n",
            "BO_FLG                    0\n",
            "CARR_DLV_DAYS             0\n",
            "CARR_PKG_DLV_DLAY_MINS    0\n",
            "CNTRY_ID                  0\n",
            "DC_FULF_OP_DAYS           0\n",
            "DIM_WGT_FLG               0\n",
            "EMBR_PROD_SVC_FLG         0\n",
            "ENGR_PROD_SVC_FLG         0\n",
            "GBOX_PROD_SVC_FLG         0\n",
            "MNGM_PROD_SVC_FLG         0\n",
            "ORD_RLSE_TO_DC_MINS       0\n",
            "OTHR_PROD_SVC_FLG         0\n",
            "PERS_PROD_SVC_FLG         0\n",
            "PCK_CNT                   0\n",
            "PKG_DLVD_BY_QTD_DT_IND    0\n",
            "PKG_GRTH                  0\n",
            "PKG_HT                    0\n",
            "PKG_LTH                   0\n",
            "PKG_MER_QTY               0\n",
            "PKG_MNFST_DLAY_MINS       0\n",
            "PKG_PROD_SVC_FLG          0\n",
            "PKG_WDTH                  0\n",
            "PKG_WGT                   0\n",
            "SECD_CARR_FLG             0\n",
            "SECD_CARR_ONTM_FLG        0\n",
            "dtype: int64\n"
          ]
        }
      ]
    },
    {
      "cell_type": "markdown",
      "metadata": {
        "id": "p6-3n9q1Re63"
      },
      "source": [
        "Reemplazamos los nombres de las columnas a nombres más entendibles para cualquier usuario que vaya a visualizar la data."
      ]
    },
    {
      "cell_type": "code",
      "metadata": {
        "id": "cKWbhjJYZMRP"
      },
      "source": [
        "packageDelivery.columns = ['Alteration service flag','Backorder flag','Carrier delivery days','Carrier delivery delay minutes'\n",
        "                    ,'Country ID','Dist Center Fulfilment Ops Days','Dimension weight flag','Embroidery product service flag',\n",
        "                   'Engraving product service flag', 'Gift box product service flag',\n",
        "                   'Monogramming product flag','Order release to DC minutes','Other product service flag','Personalization product service flag','Package count','Package delivered by quoted date indicator',\n",
        "                   'Package girth','Package height', 'Package length','Package merchandise quantity','Package manifest delay minutes','Package product service flag','Package width','Package weight','Second carrier flag','Second carrier on time flag']"
      ],
      "execution_count": 23,
      "outputs": []
    },
    {
      "cell_type": "code",
      "metadata": {
        "colab": {
          "base_uri": "https://localhost:8080/",
          "height": 505
        },
        "id": "Qb2PckJMcViS",
        "outputId": "d6fc1fd9-cb34-4cbb-fa00-0ba4b3db8962"
      },
      "source": [
        "packageDelivery"
      ],
      "execution_count": 24,
      "outputs": [
        {
          "output_type": "execute_result",
          "data": {
            "text/html": [
              "<div>\n",
              "<style scoped>\n",
              "    .dataframe tbody tr th:only-of-type {\n",
              "        vertical-align: middle;\n",
              "    }\n",
              "\n",
              "    .dataframe tbody tr th {\n",
              "        vertical-align: top;\n",
              "    }\n",
              "\n",
              "    .dataframe thead th {\n",
              "        text-align: right;\n",
              "    }\n",
              "</style>\n",
              "<table border=\"1\" class=\"dataframe\">\n",
              "  <thead>\n",
              "    <tr style=\"text-align: right;\">\n",
              "      <th></th>\n",
              "      <th>Alteration service flag</th>\n",
              "      <th>Backorder flag</th>\n",
              "      <th>Carrier delivery days</th>\n",
              "      <th>Carrier delivery delay minutes</th>\n",
              "      <th>Country ID</th>\n",
              "      <th>Dist Center Fulfilment Ops Days</th>\n",
              "      <th>Dimension weight flag</th>\n",
              "      <th>Embroidery product service flag</th>\n",
              "      <th>Engraving product service flag</th>\n",
              "      <th>Gift box product service flag</th>\n",
              "      <th>Monogramming product flag</th>\n",
              "      <th>Order release to DC minutes</th>\n",
              "      <th>Other product service flag</th>\n",
              "      <th>Personalization product service flag</th>\n",
              "      <th>Package count</th>\n",
              "      <th>Package delivered by quoted date indicator</th>\n",
              "      <th>Package girth</th>\n",
              "      <th>Package height</th>\n",
              "      <th>Package length</th>\n",
              "      <th>Package merchandise quantity</th>\n",
              "      <th>Package manifest delay minutes</th>\n",
              "      <th>Package product service flag</th>\n",
              "      <th>Package width</th>\n",
              "      <th>Package weight</th>\n",
              "      <th>Second carrier flag</th>\n",
              "      <th>Second carrier on time flag</th>\n",
              "    </tr>\n",
              "  </thead>\n",
              "  <tbody>\n",
              "    <tr>\n",
              "      <th>0</th>\n",
              "      <td>N</td>\n",
              "      <td>N</td>\n",
              "      <td>1</td>\n",
              "      <td>0.0</td>\n",
              "      <td>USA</td>\n",
              "      <td>4</td>\n",
              "      <td>Y</td>\n",
              "      <td>N</td>\n",
              "      <td>N</td>\n",
              "      <td>N</td>\n",
              "      <td>N</td>\n",
              "      <td>250</td>\n",
              "      <td>N</td>\n",
              "      <td>N</td>\n",
              "      <td>1</td>\n",
              "      <td>Y</td>\n",
              "      <td>52.0</td>\n",
              "      <td>4.0</td>\n",
              "      <td>18.0</td>\n",
              "      <td>2</td>\n",
              "      <td>0.0</td>\n",
              "      <td>N</td>\n",
              "      <td>13.0</td>\n",
              "      <td>1.575</td>\n",
              "      <td>N</td>\n",
              "      <td>Y</td>\n",
              "    </tr>\n",
              "    <tr>\n",
              "      <th>1</th>\n",
              "      <td>N</td>\n",
              "      <td>N</td>\n",
              "      <td>3</td>\n",
              "      <td>0.0</td>\n",
              "      <td>USA</td>\n",
              "      <td>3</td>\n",
              "      <td>Y</td>\n",
              "      <td>N</td>\n",
              "      <td>N</td>\n",
              "      <td>N</td>\n",
              "      <td>N</td>\n",
              "      <td>31</td>\n",
              "      <td>N</td>\n",
              "      <td>N</td>\n",
              "      <td>1</td>\n",
              "      <td>Y</td>\n",
              "      <td>0.0</td>\n",
              "      <td>0.0</td>\n",
              "      <td>0.0</td>\n",
              "      <td>1</td>\n",
              "      <td>0.0</td>\n",
              "      <td>N</td>\n",
              "      <td>0.0</td>\n",
              "      <td>0.790</td>\n",
              "      <td>N</td>\n",
              "      <td>Y</td>\n",
              "    </tr>\n",
              "    <tr>\n",
              "      <th>2</th>\n",
              "      <td>N</td>\n",
              "      <td>N</td>\n",
              "      <td>6</td>\n",
              "      <td>0.0</td>\n",
              "      <td>USA</td>\n",
              "      <td>1</td>\n",
              "      <td>Y</td>\n",
              "      <td>N</td>\n",
              "      <td>N</td>\n",
              "      <td>N</td>\n",
              "      <td>N</td>\n",
              "      <td>30</td>\n",
              "      <td>N</td>\n",
              "      <td>N</td>\n",
              "      <td>1</td>\n",
              "      <td>Y</td>\n",
              "      <td>60.0</td>\n",
              "      <td>5.0</td>\n",
              "      <td>22.0</td>\n",
              "      <td>3</td>\n",
              "      <td>0.0</td>\n",
              "      <td>N</td>\n",
              "      <td>14.0</td>\n",
              "      <td>2.440</td>\n",
              "      <td>N</td>\n",
              "      <td>Y</td>\n",
              "    </tr>\n",
              "    <tr>\n",
              "      <th>3</th>\n",
              "      <td>N</td>\n",
              "      <td>N</td>\n",
              "      <td>2</td>\n",
              "      <td>0.0</td>\n",
              "      <td>USA</td>\n",
              "      <td>2</td>\n",
              "      <td>Y</td>\n",
              "      <td>N</td>\n",
              "      <td>N</td>\n",
              "      <td>N</td>\n",
              "      <td>N</td>\n",
              "      <td>31</td>\n",
              "      <td>N</td>\n",
              "      <td>N</td>\n",
              "      <td>1</td>\n",
              "      <td>Y</td>\n",
              "      <td>0.0</td>\n",
              "      <td>0.0</td>\n",
              "      <td>0.0</td>\n",
              "      <td>1</td>\n",
              "      <td>0.0</td>\n",
              "      <td>N</td>\n",
              "      <td>0.0</td>\n",
              "      <td>1.525</td>\n",
              "      <td>N</td>\n",
              "      <td>Y</td>\n",
              "    </tr>\n",
              "    <tr>\n",
              "      <th>4</th>\n",
              "      <td>N</td>\n",
              "      <td>N</td>\n",
              "      <td>1</td>\n",
              "      <td>0.0</td>\n",
              "      <td>USA</td>\n",
              "      <td>1</td>\n",
              "      <td>Y</td>\n",
              "      <td>N</td>\n",
              "      <td>N</td>\n",
              "      <td>N</td>\n",
              "      <td>N</td>\n",
              "      <td>30</td>\n",
              "      <td>N</td>\n",
              "      <td>N</td>\n",
              "      <td>1</td>\n",
              "      <td>Y</td>\n",
              "      <td>0.0</td>\n",
              "      <td>0.0</td>\n",
              "      <td>0.0</td>\n",
              "      <td>1</td>\n",
              "      <td>0.0</td>\n",
              "      <td>N</td>\n",
              "      <td>0.0</td>\n",
              "      <td>1.889</td>\n",
              "      <td>N</td>\n",
              "      <td>Y</td>\n",
              "    </tr>\n",
              "    <tr>\n",
              "      <th>...</th>\n",
              "      <td>...</td>\n",
              "      <td>...</td>\n",
              "      <td>...</td>\n",
              "      <td>...</td>\n",
              "      <td>...</td>\n",
              "      <td>...</td>\n",
              "      <td>...</td>\n",
              "      <td>...</td>\n",
              "      <td>...</td>\n",
              "      <td>...</td>\n",
              "      <td>...</td>\n",
              "      <td>...</td>\n",
              "      <td>...</td>\n",
              "      <td>...</td>\n",
              "      <td>...</td>\n",
              "      <td>...</td>\n",
              "      <td>...</td>\n",
              "      <td>...</td>\n",
              "      <td>...</td>\n",
              "      <td>...</td>\n",
              "      <td>...</td>\n",
              "      <td>...</td>\n",
              "      <td>...</td>\n",
              "      <td>...</td>\n",
              "      <td>...</td>\n",
              "      <td>...</td>\n",
              "    </tr>\n",
              "    <tr>\n",
              "      <th>139832</th>\n",
              "      <td>N</td>\n",
              "      <td>N</td>\n",
              "      <td>1</td>\n",
              "      <td>0.0</td>\n",
              "      <td>USA</td>\n",
              "      <td>10</td>\n",
              "      <td>Y</td>\n",
              "      <td>N</td>\n",
              "      <td>N</td>\n",
              "      <td>N</td>\n",
              "      <td>Y</td>\n",
              "      <td>34</td>\n",
              "      <td>N</td>\n",
              "      <td>N</td>\n",
              "      <td>1</td>\n",
              "      <td>N</td>\n",
              "      <td>52.0</td>\n",
              "      <td>4.0</td>\n",
              "      <td>18.0</td>\n",
              "      <td>1</td>\n",
              "      <td>0.0</td>\n",
              "      <td>Y</td>\n",
              "      <td>13.0</td>\n",
              "      <td>1.455</td>\n",
              "      <td>N</td>\n",
              "      <td>Y</td>\n",
              "    </tr>\n",
              "    <tr>\n",
              "      <th>139833</th>\n",
              "      <td>N</td>\n",
              "      <td>N</td>\n",
              "      <td>3</td>\n",
              "      <td>0.0</td>\n",
              "      <td>USA</td>\n",
              "      <td>2</td>\n",
              "      <td>Y</td>\n",
              "      <td>N</td>\n",
              "      <td>N</td>\n",
              "      <td>N</td>\n",
              "      <td>N</td>\n",
              "      <td>37</td>\n",
              "      <td>N</td>\n",
              "      <td>N</td>\n",
              "      <td>1</td>\n",
              "      <td>Y</td>\n",
              "      <td>0.0</td>\n",
              "      <td>0.0</td>\n",
              "      <td>0.0</td>\n",
              "      <td>1</td>\n",
              "      <td>0.0</td>\n",
              "      <td>N</td>\n",
              "      <td>0.0</td>\n",
              "      <td>0.940</td>\n",
              "      <td>N</td>\n",
              "      <td>N</td>\n",
              "    </tr>\n",
              "    <tr>\n",
              "      <th>139834</th>\n",
              "      <td>N</td>\n",
              "      <td>N</td>\n",
              "      <td>2</td>\n",
              "      <td>0.0</td>\n",
              "      <td>USA</td>\n",
              "      <td>2</td>\n",
              "      <td>Y</td>\n",
              "      <td>N</td>\n",
              "      <td>N</td>\n",
              "      <td>N</td>\n",
              "      <td>N</td>\n",
              "      <td>31</td>\n",
              "      <td>N</td>\n",
              "      <td>N</td>\n",
              "      <td>1</td>\n",
              "      <td>Y</td>\n",
              "      <td>60.0</td>\n",
              "      <td>5.0</td>\n",
              "      <td>22.0</td>\n",
              "      <td>1</td>\n",
              "      <td>0.0</td>\n",
              "      <td>N</td>\n",
              "      <td>14.0</td>\n",
              "      <td>3.090</td>\n",
              "      <td>N</td>\n",
              "      <td>Y</td>\n",
              "    </tr>\n",
              "    <tr>\n",
              "      <th>139835</th>\n",
              "      <td>N</td>\n",
              "      <td>N</td>\n",
              "      <td>6</td>\n",
              "      <td>0.0</td>\n",
              "      <td>USA</td>\n",
              "      <td>3</td>\n",
              "      <td>Y</td>\n",
              "      <td>N</td>\n",
              "      <td>N</td>\n",
              "      <td>N</td>\n",
              "      <td>N</td>\n",
              "      <td>36</td>\n",
              "      <td>N</td>\n",
              "      <td>N</td>\n",
              "      <td>1</td>\n",
              "      <td>N</td>\n",
              "      <td>0.0</td>\n",
              "      <td>0.0</td>\n",
              "      <td>0.0</td>\n",
              "      <td>1</td>\n",
              "      <td>0.0</td>\n",
              "      <td>N</td>\n",
              "      <td>0.0</td>\n",
              "      <td>0.875</td>\n",
              "      <td>N</td>\n",
              "      <td>Y</td>\n",
              "    </tr>\n",
              "    <tr>\n",
              "      <th>139836</th>\n",
              "      <td>N</td>\n",
              "      <td>N</td>\n",
              "      <td>3</td>\n",
              "      <td>0.0</td>\n",
              "      <td>USA</td>\n",
              "      <td>3</td>\n",
              "      <td>Y</td>\n",
              "      <td>N</td>\n",
              "      <td>N</td>\n",
              "      <td>N</td>\n",
              "      <td>N</td>\n",
              "      <td>30</td>\n",
              "      <td>N</td>\n",
              "      <td>N</td>\n",
              "      <td>1</td>\n",
              "      <td>Y</td>\n",
              "      <td>0.0</td>\n",
              "      <td>0.0</td>\n",
              "      <td>0.0</td>\n",
              "      <td>1</td>\n",
              "      <td>0.0</td>\n",
              "      <td>N</td>\n",
              "      <td>0.0</td>\n",
              "      <td>0.875</td>\n",
              "      <td>N</td>\n",
              "      <td>Y</td>\n",
              "    </tr>\n",
              "  </tbody>\n",
              "</table>\n",
              "<p>139837 rows × 26 columns</p>\n",
              "</div>"
            ],
            "text/plain": [
              "       Alteration service flag  ... Second carrier on time flag\n",
              "0                            N  ...                           Y\n",
              "1                            N  ...                           Y\n",
              "2                            N  ...                           Y\n",
              "3                            N  ...                           Y\n",
              "4                            N  ...                           Y\n",
              "...                        ...  ...                         ...\n",
              "139832                       N  ...                           Y\n",
              "139833                       N  ...                           N\n",
              "139834                       N  ...                           Y\n",
              "139835                       N  ...                           Y\n",
              "139836                       N  ...                           Y\n",
              "\n",
              "[139837 rows x 26 columns]"
            ]
          },
          "metadata": {},
          "execution_count": 24
        }
      ]
    },
    {
      "cell_type": "markdown",
      "metadata": {
        "id": "wSPB16rRRg8J"
      },
      "source": [
        "Seguidamente, se construye un mapa de calor para visualizar las relaciones entre las diferentes variables, logrando dar una idea previa de cuáles variables pueden aportar más al modelo."
      ]
    },
    {
      "cell_type": "code",
      "metadata": {
        "colab": {
          "base_uri": "https://localhost:8080/",
          "height": 1000
        },
        "id": "Ps64yabgucNz",
        "outputId": "df845784-bb98-448e-ca86-f2622080c1ff"
      },
      "source": [
        "plt.figure(figsize=(15,15))\n",
        "\n",
        "chart = sns.heatmap(packageDelivery.corr(), annot = True, cmap = 'viridis')\n",
        "plt.xticks(rotation=90)\n",
        "plt.show"
      ],
      "execution_count": 25,
      "outputs": [
        {
          "output_type": "execute_result",
          "data": {
            "text/plain": [
              "<function matplotlib.pyplot.show>"
            ]
          },
          "metadata": {},
          "execution_count": 25
        },
        {
          "output_type": "display_data",
          "data": {
            "image/png": "[encoded data removed]",
            "text/plain": [
              "<Figure size 1080x1080 with 2 Axes>"
            ]
          },
          "metadata": {}
        }
      ]
    },
    {
      "cell_type": "markdown",
      "metadata": {
        "id": "LIn20oYORj-8"
      },
      "source": [
        "En el mapa de calor se denota que la variable de \"Package count\" no tiene valores de correlación, por lo tanto, se decide utilizar un histograma para visualizar la distribución de frecuencia de esta variable. "
      ]
    },
    {
      "cell_type": "code",
      "metadata": {
        "colab": {
          "base_uri": "https://localhost:8080/",
          "height": 299
        },
        "id": "dwYLNnq8vSLH",
        "outputId": "2e4ba4b0-d9a5-40f3-a942-0293aa54719b"
      },
      "source": [
        "plt.hist(packageDelivery['Package count'], color = '#2ca02c', rwidth=0.85)\n",
        "plt.title('Histograma de frecuencia')\n",
        "plt.xlabel('Package count')\n",
        "plt.ylabel('Frecuencia')\n",
        "\n",
        "\n",
        "plt.show() "
      ],
      "execution_count": 26,
      "outputs": [
        {
          "output_type": "display_data",
          "data": {
            "image/png": "[encoded data removed]",
            "text/plain": [
              "<Figure size 432x288 with 1 Axes>"
            ]
          },
          "metadata": {}
        }
      ]
    },
    {
      "cell_type": "markdown",
      "metadata": {
        "id": "MGiZDhhVq3Zl"
      },
      "source": [
        "Usando el histograma, es posible darse cuenta que todos los valores de package count son 1, por lo cual la variable no aporta variabilidad al modelo y puede proceder a eliminarse."
      ]
    },
    {
      "cell_type": "code",
      "metadata": {
        "colab": {
          "base_uri": "https://localhost:8080/",
          "height": 505
        },
        "id": "Ko5DgalEvZAg",
        "outputId": "e04bb9a0-8bf5-43e1-b7c0-c46c42cf0dfb"
      },
      "source": [
        "porEliminar = []\n",
        "porEliminar += [\"Package count\"]\n",
        "\n",
        "packageDelivery.drop(porEliminar, axis=1, errors='ignore', inplace=True)\n",
        "packageDelivery"
      ],
      "execution_count": 27,
      "outputs": [
        {
          "output_type": "execute_result",
          "data": {
            "text/html": [
              "<div>\n",
              "<style scoped>\n",
              "    .dataframe tbody tr th:only-of-type {\n",
              "        vertical-align: middle;\n",
              "    }\n",
              "\n",
              "    .dataframe tbody tr th {\n",
              "        vertical-align: top;\n",
              "    }\n",
              "\n",
              "    .dataframe thead th {\n",
              "        text-align: right;\n",
              "    }\n",
              "</style>\n",
              "<table border=\"1\" class=\"dataframe\">\n",
              "  <thead>\n",
              "    <tr style=\"text-align: right;\">\n",
              "      <th></th>\n",
              "      <th>Alteration service flag</th>\n",
              "      <th>Backorder flag</th>\n",
              "      <th>Carrier delivery days</th>\n",
              "      <th>Carrier delivery delay minutes</th>\n",
              "      <th>Country ID</th>\n",
              "      <th>Dist Center Fulfilment Ops Days</th>\n",
              "      <th>Dimension weight flag</th>\n",
              "      <th>Embroidery product service flag</th>\n",
              "      <th>Engraving product service flag</th>\n",
              "      <th>Gift box product service flag</th>\n",
              "      <th>Monogramming product flag</th>\n",
              "      <th>Order release to DC minutes</th>\n",
              "      <th>Other product service flag</th>\n",
              "      <th>Personalization product service flag</th>\n",
              "      <th>Package delivered by quoted date indicator</th>\n",
              "      <th>Package girth</th>\n",
              "      <th>Package height</th>\n",
              "      <th>Package length</th>\n",
              "      <th>Package merchandise quantity</th>\n",
              "      <th>Package manifest delay minutes</th>\n",
              "      <th>Package product service flag</th>\n",
              "      <th>Package width</th>\n",
              "      <th>Package weight</th>\n",
              "      <th>Second carrier flag</th>\n",
              "      <th>Second carrier on time flag</th>\n",
              "    </tr>\n",
              "  </thead>\n",
              "  <tbody>\n",
              "    <tr>\n",
              "      <th>0</th>\n",
              "      <td>N</td>\n",
              "      <td>N</td>\n",
              "      <td>1</td>\n",
              "      <td>0.0</td>\n",
              "      <td>USA</td>\n",
              "      <td>4</td>\n",
              "      <td>Y</td>\n",
              "      <td>N</td>\n",
              "      <td>N</td>\n",
              "      <td>N</td>\n",
              "      <td>N</td>\n",
              "      <td>250</td>\n",
              "      <td>N</td>\n",
              "      <td>N</td>\n",
              "      <td>Y</td>\n",
              "      <td>52.0</td>\n",
              "      <td>4.0</td>\n",
              "      <td>18.0</td>\n",
              "      <td>2</td>\n",
              "      <td>0.0</td>\n",
              "      <td>N</td>\n",
              "      <td>13.0</td>\n",
              "      <td>1.575</td>\n",
              "      <td>N</td>\n",
              "      <td>Y</td>\n",
              "    </tr>\n",
              "    <tr>\n",
              "      <th>1</th>\n",
              "      <td>N</td>\n",
              "      <td>N</td>\n",
              "      <td>3</td>\n",
              "      <td>0.0</td>\n",
              "      <td>USA</td>\n",
              "      <td>3</td>\n",
              "      <td>Y</td>\n",
              "      <td>N</td>\n",
              "      <td>N</td>\n",
              "      <td>N</td>\n",
              "      <td>N</td>\n",
              "      <td>31</td>\n",
              "      <td>N</td>\n",
              "      <td>N</td>\n",
              "      <td>Y</td>\n",
              "      <td>0.0</td>\n",
              "      <td>0.0</td>\n",
              "      <td>0.0</td>\n",
              "      <td>1</td>\n",
              "      <td>0.0</td>\n",
              "      <td>N</td>\n",
              "      <td>0.0</td>\n",
              "      <td>0.790</td>\n",
              "      <td>N</td>\n",
              "      <td>Y</td>\n",
              "    </tr>\n",
              "    <tr>\n",
              "      <th>2</th>\n",
              "      <td>N</td>\n",
              "      <td>N</td>\n",
              "      <td>6</td>\n",
              "      <td>0.0</td>\n",
              "      <td>USA</td>\n",
              "      <td>1</td>\n",
              "      <td>Y</td>\n",
              "      <td>N</td>\n",
              "      <td>N</td>\n",
              "      <td>N</td>\n",
              "      <td>N</td>\n",
              "      <td>30</td>\n",
              "      <td>N</td>\n",
              "      <td>N</td>\n",
              "      <td>Y</td>\n",
              "      <td>60.0</td>\n",
              "      <td>5.0</td>\n",
              "      <td>22.0</td>\n",
              "      <td>3</td>\n",
              "      <td>0.0</td>\n",
              "      <td>N</td>\n",
              "      <td>14.0</td>\n",
              "      <td>2.440</td>\n",
              "      <td>N</td>\n",
              "      <td>Y</td>\n",
              "    </tr>\n",
              "    <tr>\n",
              "      <th>3</th>\n",
              "      <td>N</td>\n",
              "      <td>N</td>\n",
              "      <td>2</td>\n",
              "      <td>0.0</td>\n",
              "      <td>USA</td>\n",
              "      <td>2</td>\n",
              "      <td>Y</td>\n",
              "      <td>N</td>\n",
              "      <td>N</td>\n",
              "      <td>N</td>\n",
              "      <td>N</td>\n",
              "      <td>31</td>\n",
              "      <td>N</td>\n",
              "      <td>N</td>\n",
              "      <td>Y</td>\n",
              "      <td>0.0</td>\n",
              "      <td>0.0</td>\n",
              "      <td>0.0</td>\n",
              "      <td>1</td>\n",
              "      <td>0.0</td>\n",
              "      <td>N</td>\n",
              "      <td>0.0</td>\n",
              "      <td>1.525</td>\n",
              "      <td>N</td>\n",
              "      <td>Y</td>\n",
              "    </tr>\n",
              "    <tr>\n",
              "      <th>4</th>\n",
              "      <td>N</td>\n",
              "      <td>N</td>\n",
              "      <td>1</td>\n",
              "      <td>0.0</td>\n",
              "      <td>USA</td>\n",
              "      <td>1</td>\n",
              "      <td>Y</td>\n",
              "      <td>N</td>\n",
              "      <td>N</td>\n",
              "      <td>N</td>\n",
              "      <td>N</td>\n",
              "      <td>30</td>\n",
              "      <td>N</td>\n",
              "      <td>N</td>\n",
              "      <td>Y</td>\n",
              "      <td>0.0</td>\n",
              "      <td>0.0</td>\n",
              "      <td>0.0</td>\n",
              "      <td>1</td>\n",
              "      <td>0.0</td>\n",
              "      <td>N</td>\n",
              "      <td>0.0</td>\n",
              "      <td>1.889</td>\n",
              "      <td>N</td>\n",
              "      <td>Y</td>\n",
              "    </tr>\n",
              "    <tr>\n",
              "      <th>...</th>\n",
              "      <td>...</td>\n",
              "      <td>...</td>\n",
              "      <td>...</td>\n",
              "      <td>...</td>\n",
              "      <td>...</td>\n",
              "      <td>...</td>\n",
              "      <td>...</td>\n",
              "      <td>...</td>\n",
              "      <td>...</td>\n",
              "      <td>...</td>\n",
              "      <td>...</td>\n",
              "      <td>...</td>\n",
              "      <td>...</td>\n",
              "      <td>...</td>\n",
              "      <td>...</td>\n",
              "      <td>...</td>\n",
              "      <td>...</td>\n",
              "      <td>...</td>\n",
              "      <td>...</td>\n",
              "      <td>...</td>\n",
              "      <td>...</td>\n",
              "      <td>...</td>\n",
              "      <td>...</td>\n",
              "      <td>...</td>\n",
              "      <td>...</td>\n",
              "    </tr>\n",
              "    <tr>\n",
              "      <th>139832</th>\n",
              "      <td>N</td>\n",
              "      <td>N</td>\n",
              "      <td>1</td>\n",
              "      <td>0.0</td>\n",
              "      <td>USA</td>\n",
              "      <td>10</td>\n",
              "      <td>Y</td>\n",
              "      <td>N</td>\n",
              "      <td>N</td>\n",
              "      <td>N</td>\n",
              "      <td>Y</td>\n",
              "      <td>34</td>\n",
              "      <td>N</td>\n",
              "      <td>N</td>\n",
              "      <td>N</td>\n",
              "      <td>52.0</td>\n",
              "      <td>4.0</td>\n",
              "      <td>18.0</td>\n",
              "      <td>1</td>\n",
              "      <td>0.0</td>\n",
              "      <td>Y</td>\n",
              "      <td>13.0</td>\n",
              "      <td>1.455</td>\n",
              "      <td>N</td>\n",
              "      <td>Y</td>\n",
              "    </tr>\n",
              "    <tr>\n",
              "      <th>139833</th>\n",
              "      <td>N</td>\n",
              "      <td>N</td>\n",
              "      <td>3</td>\n",
              "      <td>0.0</td>\n",
              "      <td>USA</td>\n",
              "      <td>2</td>\n",
              "      <td>Y</td>\n",
              "      <td>N</td>\n",
              "      <td>N</td>\n",
              "      <td>N</td>\n",
              "      <td>N</td>\n",
              "      <td>37</td>\n",
              "      <td>N</td>\n",
              "      <td>N</td>\n",
              "      <td>Y</td>\n",
              "      <td>0.0</td>\n",
              "      <td>0.0</td>\n",
              "      <td>0.0</td>\n",
              "      <td>1</td>\n",
              "      <td>0.0</td>\n",
              "      <td>N</td>\n",
              "      <td>0.0</td>\n",
              "      <td>0.940</td>\n",
              "      <td>N</td>\n",
              "      <td>N</td>\n",
              "    </tr>\n",
              "    <tr>\n",
              "      <th>139834</th>\n",
              "      <td>N</td>\n",
              "      <td>N</td>\n",
              "      <td>2</td>\n",
              "      <td>0.0</td>\n",
              "      <td>USA</td>\n",
              "      <td>2</td>\n",
              "      <td>Y</td>\n",
              "      <td>N</td>\n",
              "      <td>N</td>\n",
              "      <td>N</td>\n",
              "      <td>N</td>\n",
              "      <td>31</td>\n",
              "      <td>N</td>\n",
              "      <td>N</td>\n",
              "      <td>Y</td>\n",
              "      <td>60.0</td>\n",
              "      <td>5.0</td>\n",
              "      <td>22.0</td>\n",
              "      <td>1</td>\n",
              "      <td>0.0</td>\n",
              "      <td>N</td>\n",
              "      <td>14.0</td>\n",
              "      <td>3.090</td>\n",
              "      <td>N</td>\n",
              "      <td>Y</td>\n",
              "    </tr>\n",
              "    <tr>\n",
              "      <th>139835</th>\n",
              "      <td>N</td>\n",
              "      <td>N</td>\n",
              "      <td>6</td>\n",
              "      <td>0.0</td>\n",
              "      <td>USA</td>\n",
              "      <td>3</td>\n",
              "      <td>Y</td>\n",
              "      <td>N</td>\n",
              "      <td>N</td>\n",
              "      <td>N</td>\n",
              "      <td>N</td>\n",
              "      <td>36</td>\n",
              "      <td>N</td>\n",
              "      <td>N</td>\n",
              "      <td>N</td>\n",
              "      <td>0.0</td>\n",
              "      <td>0.0</td>\n",
              "      <td>0.0</td>\n",
              "      <td>1</td>\n",
              "      <td>0.0</td>\n",
              "      <td>N</td>\n",
              "      <td>0.0</td>\n",
              "      <td>0.875</td>\n",
              "      <td>N</td>\n",
              "      <td>Y</td>\n",
              "    </tr>\n",
              "    <tr>\n",
              "      <th>139836</th>\n",
              "      <td>N</td>\n",
              "      <td>N</td>\n",
              "      <td>3</td>\n",
              "      <td>0.0</td>\n",
              "      <td>USA</td>\n",
              "      <td>3</td>\n",
              "      <td>Y</td>\n",
              "      <td>N</td>\n",
              "      <td>N</td>\n",
              "      <td>N</td>\n",
              "      <td>N</td>\n",
              "      <td>30</td>\n",
              "      <td>N</td>\n",
              "      <td>N</td>\n",
              "      <td>Y</td>\n",
              "      <td>0.0</td>\n",
              "      <td>0.0</td>\n",
              "      <td>0.0</td>\n",
              "      <td>1</td>\n",
              "      <td>0.0</td>\n",
              "      <td>N</td>\n",
              "      <td>0.0</td>\n",
              "      <td>0.875</td>\n",
              "      <td>N</td>\n",
              "      <td>Y</td>\n",
              "    </tr>\n",
              "  </tbody>\n",
              "</table>\n",
              "<p>139837 rows × 25 columns</p>\n",
              "</div>"
            ],
            "text/plain": [
              "       Alteration service flag  ... Second carrier on time flag\n",
              "0                            N  ...                           Y\n",
              "1                            N  ...                           Y\n",
              "2                            N  ...                           Y\n",
              "3                            N  ...                           Y\n",
              "4                            N  ...                           Y\n",
              "...                        ...  ...                         ...\n",
              "139832                       N  ...                           Y\n",
              "139833                       N  ...                           N\n",
              "139834                       N  ...                           Y\n",
              "139835                       N  ...                           Y\n",
              "139836                       N  ...                           Y\n",
              "\n",
              "[139837 rows x 25 columns]"
            ]
          },
          "metadata": {},
          "execution_count": 27
        }
      ]
    },
    {
      "cell_type": "markdown",
      "metadata": {
        "id": "e0x3SEYzwlaC"
      },
      "source": [
        "Seguidamente, se desea analizar la variable de país. Para ello, se utiliza un histograma de frecuencia y luego básicamente una query que nos devuelve la cantidad de datos totales cuyo valor es USA. "
      ]
    },
    {
      "cell_type": "code",
      "metadata": {
        "colab": {
          "base_uri": "https://localhost:8080/",
          "height": 316
        },
        "id": "sEa7r1jt1r8m",
        "outputId": "0817b273-b42d-43c9-bd00-c114e77205e1"
      },
      "source": [
        "plt.hist(packageDelivery['Country ID'], color = '#2ca02c', rwidth=0.85)\n",
        "plt.title('Histograma de frecuencia')\n",
        "plt.xlabel('Country')\n",
        "plt.ylabel('Frecuencia')\n",
        "\n",
        "\n",
        "plt.show() \n",
        "\n",
        "USAData = packageDelivery.loc[packageDelivery['Country ID'] == 'USA']\n",
        "\n",
        "\n",
        "print(\"Cantidad de datos de USA: \",USAData.shape[0])\n"
      ],
      "execution_count": 28,
      "outputs": [
        {
          "output_type": "display_data",
          "data": {
            "image/png": "[encoded data removed]",
            "text/plain": [
              "<Figure size 432x288 with 1 Axes>"
            ]
          },
          "metadata": {}
        },
        {
          "output_type": "stream",
          "name": "stdout",
          "text": [
            "Cantidad de datos de USA:  139397\n"
          ]
        }
      ]
    },
    {
      "cell_type": "markdown",
      "metadata": {
        "id": "MpjZHZnL2rvx"
      },
      "source": [
        "Se denota que menos de 500 datos corresponden a países que no son Estados Unidos, lo cual representa alrededor de un 0.35% del total de los datos. Por esto, se determina que el país no es una variable que vaya a añadir variabilidad al modelo, y que por lo tanto, no influye en la capacidad de predicción. Por esto, se procede a eliminarla."
      ]
    },
    {
      "cell_type": "code",
      "metadata": {
        "colab": {
          "base_uri": "https://localhost:8080/",
          "height": 505
        },
        "id": "y1Vi5V1-3CMI",
        "outputId": "5e6aedea-7067-4ec9-9548-a558a8d61992"
      },
      "source": [
        "porEliminar += [\"Country ID\"]\n",
        "\n",
        "packageDelivery.drop(porEliminar, axis=1, errors='ignore', inplace=True)\n",
        "packageDelivery"
      ],
      "execution_count": 29,
      "outputs": [
        {
          "output_type": "execute_result",
          "data": {
            "text/html": [
              "<div>\n",
              "<style scoped>\n",
              "    .dataframe tbody tr th:only-of-type {\n",
              "        vertical-align: middle;\n",
              "    }\n",
              "\n",
              "    .dataframe tbody tr th {\n",
              "        vertical-align: top;\n",
              "    }\n",
              "\n",
              "    .dataframe thead th {\n",
              "        text-align: right;\n",
              "    }\n",
              "</style>\n",
              "<table border=\"1\" class=\"dataframe\">\n",
              "  <thead>\n",
              "    <tr style=\"text-align: right;\">\n",
              "      <th></th>\n",
              "      <th>Alteration service flag</th>\n",
              "      <th>Backorder flag</th>\n",
              "      <th>Carrier delivery days</th>\n",
              "      <th>Carrier delivery delay minutes</th>\n",
              "      <th>Dist Center Fulfilment Ops Days</th>\n",
              "      <th>Dimension weight flag</th>\n",
              "      <th>Embroidery product service flag</th>\n",
              "      <th>Engraving product service flag</th>\n",
              "      <th>Gift box product service flag</th>\n",
              "      <th>Monogramming product flag</th>\n",
              "      <th>Order release to DC minutes</th>\n",
              "      <th>Other product service flag</th>\n",
              "      <th>Personalization product service flag</th>\n",
              "      <th>Package delivered by quoted date indicator</th>\n",
              "      <th>Package girth</th>\n",
              "      <th>Package height</th>\n",
              "      <th>Package length</th>\n",
              "      <th>Package merchandise quantity</th>\n",
              "      <th>Package manifest delay minutes</th>\n",
              "      <th>Package product service flag</th>\n",
              "      <th>Package width</th>\n",
              "      <th>Package weight</th>\n",
              "      <th>Second carrier flag</th>\n",
              "      <th>Second carrier on time flag</th>\n",
              "    </tr>\n",
              "  </thead>\n",
              "  <tbody>\n",
              "    <tr>\n",
              "      <th>0</th>\n",
              "      <td>N</td>\n",
              "      <td>N</td>\n",
              "      <td>1</td>\n",
              "      <td>0.0</td>\n",
              "      <td>4</td>\n",
              "      <td>Y</td>\n",
              "      <td>N</td>\n",
              "      <td>N</td>\n",
              "      <td>N</td>\n",
              "      <td>N</td>\n",
              "      <td>250</td>\n",
              "      <td>N</td>\n",
              "      <td>N</td>\n",
              "      <td>Y</td>\n",
              "      <td>52.0</td>\n",
              "      <td>4.0</td>\n",
              "      <td>18.0</td>\n",
              "      <td>2</td>\n",
              "      <td>0.0</td>\n",
              "      <td>N</td>\n",
              "      <td>13.0</td>\n",
              "      <td>1.575</td>\n",
              "      <td>N</td>\n",
              "      <td>Y</td>\n",
              "    </tr>\n",
              "    <tr>\n",
              "      <th>1</th>\n",
              "      <td>N</td>\n",
              "      <td>N</td>\n",
              "      <td>3</td>\n",
              "      <td>0.0</td>\n",
              "      <td>3</td>\n",
              "      <td>Y</td>\n",
              "      <td>N</td>\n",
              "      <td>N</td>\n",
              "      <td>N</td>\n",
              "      <td>N</td>\n",
              "      <td>31</td>\n",
              "      <td>N</td>\n",
              "      <td>N</td>\n",
              "      <td>Y</td>\n",
              "      <td>0.0</td>\n",
              "      <td>0.0</td>\n",
              "      <td>0.0</td>\n",
              "      <td>1</td>\n",
              "      <td>0.0</td>\n",
              "      <td>N</td>\n",
              "      <td>0.0</td>\n",
              "      <td>0.790</td>\n",
              "      <td>N</td>\n",
              "      <td>Y</td>\n",
              "    </tr>\n",
              "    <tr>\n",
              "      <th>2</th>\n",
              "      <td>N</td>\n",
              "      <td>N</td>\n",
              "      <td>6</td>\n",
              "      <td>0.0</td>\n",
              "      <td>1</td>\n",
              "      <td>Y</td>\n",
              "      <td>N</td>\n",
              "      <td>N</td>\n",
              "      <td>N</td>\n",
              "      <td>N</td>\n",
              "      <td>30</td>\n",
              "      <td>N</td>\n",
              "      <td>N</td>\n",
              "      <td>Y</td>\n",
              "      <td>60.0</td>\n",
              "      <td>5.0</td>\n",
              "      <td>22.0</td>\n",
              "      <td>3</td>\n",
              "      <td>0.0</td>\n",
              "      <td>N</td>\n",
              "      <td>14.0</td>\n",
              "      <td>2.440</td>\n",
              "      <td>N</td>\n",
              "      <td>Y</td>\n",
              "    </tr>\n",
              "    <tr>\n",
              "      <th>3</th>\n",
              "      <td>N</td>\n",
              "      <td>N</td>\n",
              "      <td>2</td>\n",
              "      <td>0.0</td>\n",
              "      <td>2</td>\n",
              "      <td>Y</td>\n",
              "      <td>N</td>\n",
              "      <td>N</td>\n",
              "      <td>N</td>\n",
              "      <td>N</td>\n",
              "      <td>31</td>\n",
              "      <td>N</td>\n",
              "      <td>N</td>\n",
              "      <td>Y</td>\n",
              "      <td>0.0</td>\n",
              "      <td>0.0</td>\n",
              "      <td>0.0</td>\n",
              "      <td>1</td>\n",
              "      <td>0.0</td>\n",
              "      <td>N</td>\n",
              "      <td>0.0</td>\n",
              "      <td>1.525</td>\n",
              "      <td>N</td>\n",
              "      <td>Y</td>\n",
              "    </tr>\n",
              "    <tr>\n",
              "      <th>4</th>\n",
              "      <td>N</td>\n",
              "      <td>N</td>\n",
              "      <td>1</td>\n",
              "      <td>0.0</td>\n",
              "      <td>1</td>\n",
              "      <td>Y</td>\n",
              "      <td>N</td>\n",
              "      <td>N</td>\n",
              "      <td>N</td>\n",
              "      <td>N</td>\n",
              "      <td>30</td>\n",
              "      <td>N</td>\n",
              "      <td>N</td>\n",
              "      <td>Y</td>\n",
              "      <td>0.0</td>\n",
              "      <td>0.0</td>\n",
              "      <td>0.0</td>\n",
              "      <td>1</td>\n",
              "      <td>0.0</td>\n",
              "      <td>N</td>\n",
              "      <td>0.0</td>\n",
              "      <td>1.889</td>\n",
              "      <td>N</td>\n",
              "      <td>Y</td>\n",
              "    </tr>\n",
              "    <tr>\n",
              "      <th>...</th>\n",
              "      <td>...</td>\n",
              "      <td>...</td>\n",
              "      <td>...</td>\n",
              "      <td>...</td>\n",
              "      <td>...</td>\n",
              "      <td>...</td>\n",
              "      <td>...</td>\n",
              "      <td>...</td>\n",
              "      <td>...</td>\n",
              "      <td>...</td>\n",
              "      <td>...</td>\n",
              "      <td>...</td>\n",
              "      <td>...</td>\n",
              "      <td>...</td>\n",
              "      <td>...</td>\n",
              "      <td>...</td>\n",
              "      <td>...</td>\n",
              "      <td>...</td>\n",
              "      <td>...</td>\n",
              "      <td>...</td>\n",
              "      <td>...</td>\n",
              "      <td>...</td>\n",
              "      <td>...</td>\n",
              "      <td>...</td>\n",
              "    </tr>\n",
              "    <tr>\n",
              "      <th>139832</th>\n",
              "      <td>N</td>\n",
              "      <td>N</td>\n",
              "      <td>1</td>\n",
              "      <td>0.0</td>\n",
              "      <td>10</td>\n",
              "      <td>Y</td>\n",
              "      <td>N</td>\n",
              "      <td>N</td>\n",
              "      <td>N</td>\n",
              "      <td>Y</td>\n",
              "      <td>34</td>\n",
              "      <td>N</td>\n",
              "      <td>N</td>\n",
              "      <td>N</td>\n",
              "      <td>52.0</td>\n",
              "      <td>4.0</td>\n",
              "      <td>18.0</td>\n",
              "      <td>1</td>\n",
              "      <td>0.0</td>\n",
              "      <td>Y</td>\n",
              "      <td>13.0</td>\n",
              "      <td>1.455</td>\n",
              "      <td>N</td>\n",
              "      <td>Y</td>\n",
              "    </tr>\n",
              "    <tr>\n",
              "      <th>139833</th>\n",
              "      <td>N</td>\n",
              "      <td>N</td>\n",
              "      <td>3</td>\n",
              "      <td>0.0</td>\n",
              "      <td>2</td>\n",
              "      <td>Y</td>\n",
              "      <td>N</td>\n",
              "      <td>N</td>\n",
              "      <td>N</td>\n",
              "      <td>N</td>\n",
              "      <td>37</td>\n",
              "      <td>N</td>\n",
              "      <td>N</td>\n",
              "      <td>Y</td>\n",
              "      <td>0.0</td>\n",
              "      <td>0.0</td>\n",
              "      <td>0.0</td>\n",
              "      <td>1</td>\n",
              "      <td>0.0</td>\n",
              "      <td>N</td>\n",
              "      <td>0.0</td>\n",
              "      <td>0.940</td>\n",
              "      <td>N</td>\n",
              "      <td>N</td>\n",
              "    </tr>\n",
              "    <tr>\n",
              "      <th>139834</th>\n",
              "      <td>N</td>\n",
              "      <td>N</td>\n",
              "      <td>2</td>\n",
              "      <td>0.0</td>\n",
              "      <td>2</td>\n",
              "      <td>Y</td>\n",
              "      <td>N</td>\n",
              "      <td>N</td>\n",
              "      <td>N</td>\n",
              "      <td>N</td>\n",
              "      <td>31</td>\n",
              "      <td>N</td>\n",
              "      <td>N</td>\n",
              "      <td>Y</td>\n",
              "      <td>60.0</td>\n",
              "      <td>5.0</td>\n",
              "      <td>22.0</td>\n",
              "      <td>1</td>\n",
              "      <td>0.0</td>\n",
              "      <td>N</td>\n",
              "      <td>14.0</td>\n",
              "      <td>3.090</td>\n",
              "      <td>N</td>\n",
              "      <td>Y</td>\n",
              "    </tr>\n",
              "    <tr>\n",
              "      <th>139835</th>\n",
              "      <td>N</td>\n",
              "      <td>N</td>\n",
              "      <td>6</td>\n",
              "      <td>0.0</td>\n",
              "      <td>3</td>\n",
              "      <td>Y</td>\n",
              "      <td>N</td>\n",
              "      <td>N</td>\n",
              "      <td>N</td>\n",
              "      <td>N</td>\n",
              "      <td>36</td>\n",
              "      <td>N</td>\n",
              "      <td>N</td>\n",
              "      <td>N</td>\n",
              "      <td>0.0</td>\n",
              "      <td>0.0</td>\n",
              "      <td>0.0</td>\n",
              "      <td>1</td>\n",
              "      <td>0.0</td>\n",
              "      <td>N</td>\n",
              "      <td>0.0</td>\n",
              "      <td>0.875</td>\n",
              "      <td>N</td>\n",
              "      <td>Y</td>\n",
              "    </tr>\n",
              "    <tr>\n",
              "      <th>139836</th>\n",
              "      <td>N</td>\n",
              "      <td>N</td>\n",
              "      <td>3</td>\n",
              "      <td>0.0</td>\n",
              "      <td>3</td>\n",
              "      <td>Y</td>\n",
              "      <td>N</td>\n",
              "      <td>N</td>\n",
              "      <td>N</td>\n",
              "      <td>N</td>\n",
              "      <td>30</td>\n",
              "      <td>N</td>\n",
              "      <td>N</td>\n",
              "      <td>Y</td>\n",
              "      <td>0.0</td>\n",
              "      <td>0.0</td>\n",
              "      <td>0.0</td>\n",
              "      <td>1</td>\n",
              "      <td>0.0</td>\n",
              "      <td>N</td>\n",
              "      <td>0.0</td>\n",
              "      <td>0.875</td>\n",
              "      <td>N</td>\n",
              "      <td>Y</td>\n",
              "    </tr>\n",
              "  </tbody>\n",
              "</table>\n",
              "<p>139837 rows × 24 columns</p>\n",
              "</div>"
            ],
            "text/plain": [
              "       Alteration service flag  ... Second carrier on time flag\n",
              "0                            N  ...                           Y\n",
              "1                            N  ...                           Y\n",
              "2                            N  ...                           Y\n",
              "3                            N  ...                           Y\n",
              "4                            N  ...                           Y\n",
              "...                        ...  ...                         ...\n",
              "139832                       N  ...                           Y\n",
              "139833                       N  ...                           N\n",
              "139834                       N  ...                           Y\n",
              "139835                       N  ...                           Y\n",
              "139836                       N  ...                           Y\n",
              "\n",
              "[139837 rows x 24 columns]"
            ]
          },
          "metadata": {},
          "execution_count": 29
        }
      ]
    },
    {
      "cell_type": "markdown",
      "metadata": {
        "id": "mc3O5x6sRq1Y"
      },
      "source": [
        "En los siguientes dos histogramas, logramos visualizar la data que se encuentra en la columna \"Package manifest delay minutes\" y nos damos cuenta que solo el 0.2% de la data no es similar a cero, por lo que procedemos a eliminar esta columna ya que no proporciona relevancia."
      ]
    },
    {
      "cell_type": "code",
      "metadata": {
        "colab": {
          "base_uri": "https://localhost:8080/",
          "height": 299
        },
        "id": "7Y80_z2D9JFB",
        "outputId": "f91b2538-897f-4112-892c-cca54e8d1621"
      },
      "source": [
        "plt.hist(packageDelivery['Package manifest delay minutes'], color = '#2ca02c', rwidth=0.85, range=[0, 500])\n",
        "plt.title('Histograma de frecuencia')\n",
        "plt.xlabel('Package manifest delay minutes')\n",
        "plt.ylabel('Frecuencia')\n",
        "\n",
        "\n",
        "plt.show() "
      ],
      "execution_count": 30,
      "outputs": [
        {
          "output_type": "display_data",
          "data": {
            "image/png": "[encoded data removed]",
            "text/plain": [
              "<Figure size 432x288 with 1 Axes>"
            ]
          },
          "metadata": {}
        }
      ]
    },
    {
      "cell_type": "code",
      "metadata": {
        "colab": {
          "base_uri": "https://localhost:8080/",
          "height": 299
        },
        "id": "I2WMQvJh9fFC",
        "outputId": "76578527-d2d0-4444-c1a8-18a2c8ecc2b2"
      },
      "source": [
        "plt.hist(packageDelivery['Package manifest delay minutes'], color = '#2ca02c', rwidth=0.85, range=[100, 500])\n",
        "plt.title('Histograma de frecuencia')\n",
        "plt.xlabel('Package manifest delay minutes')\n",
        "plt.ylabel('Frecuencia')\n",
        "\n",
        "\n",
        "plt.show() "
      ],
      "execution_count": 31,
      "outputs": [
        {
          "output_type": "display_data",
          "data": {
            "image/png": "[encoded data removed]",
            "text/plain": [
              "<Figure size 432x288 with 1 Axes>"
            ]
          },
          "metadata": {}
        }
      ]
    },
    {
      "cell_type": "markdown",
      "metadata": {
        "id": "zDeZfx1KRtgq"
      },
      "source": [
        "Asímismo podemos ver que la data de las siguientes columnas no es relevante para nuestro modelo porque más del 95% de su data es de la misma clase, por lo que no aporta variabilidad en la predicción de la variable de respuesta: \n",
        "\n",
        "- \"Embroidery product service flag\"\n",
        "- \"Engraving product service flag\"\n",
        "- \"Gift box product service flag\"\n",
        "- \"Personalization product service flag\"\n",
        "- \"Other product service flag\"\n",
        "- \"Second carrier flag\"\n",
        "- \"Alteration service flag\"\n",
        "\n",
        "A continuación, corremos los histogramas correspondientes para el análisis de estas variables."
      ]
    },
    {
      "cell_type": "code",
      "metadata": {
        "colab": {
          "base_uri": "https://localhost:8080/",
          "height": 1000
        },
        "id": "-g8oAagE9zSi",
        "outputId": "015c6ca0-edb6-4218-d87a-4f8d81ef588e"
      },
      "source": [
        "plt.hist(packageDelivery['Embroidery product service flag'], color = '#2ca02c', rwidth=0.85)\n",
        "plt.title('Histograma de frecuencia')\n",
        "plt.xlabel('Embroidery product service flag')\n",
        "plt.ylabel('Frecuencia')\n",
        "\n",
        "\n",
        "plt.show() \n",
        "\n",
        "plt.hist(packageDelivery['Engraving product service flag'], color = '#2ca02c', rwidth=0.85)\n",
        "plt.title('Histograma de frecuencia')\n",
        "plt.xlabel('Engraving product service flag')\n",
        "plt.ylabel('Frecuencia')\n",
        "\n",
        "\n",
        "plt.show() \n",
        "\n",
        "plt.hist(packageDelivery['Gift box product service flag'], color = '#2ca02c', rwidth=0.85)\n",
        "plt.title('Histograma de frecuencia')\n",
        "plt.xlabel('Gift box product service flag')\n",
        "plt.ylabel('Frecuencia')\n",
        "\n",
        "\n",
        "plt.show() \n",
        "\n",
        "\n",
        "plt.hist(packageDelivery['Personalization product service flag'], color = '#2ca02c', rwidth=0.85)\n",
        "plt.title('Histograma de frecuencia')\n",
        "plt.xlabel('Personalization product service flag')\n",
        "plt.ylabel('Frecuencia')\n",
        "\n",
        "\n",
        "plt.show() \n",
        "\n",
        "plt.hist(packageDelivery['Other product service flag'], color = '#2ca02c', rwidth=0.85)\n",
        "plt.title('Histograma de frecuencia')\n",
        "plt.xlabel('Other product service flag')\n",
        "plt.ylabel('Frecuencia')\n",
        "\n",
        "\n",
        "plt.show() \n",
        "\n",
        "\n"
      ],
      "execution_count": 32,
      "outputs": [
        {
          "output_type": "display_data",
          "data": {
            "image/png": "[encoded data removed]",
            "text/plain": [
              "<Figure size 432x288 with 1 Axes>"
            ]
          },
          "metadata": {}
        },
        {
          "output_type": "display_data",
          "data": {
            "image/png": "[encoded data removed]",
            "text/plain": [
              "<Figure size 432x288 with 1 Axes>"
            ]
          },
          "metadata": {}
        },
        {
          "output_type": "display_data",
          "data": {
            "image/png": "[encoded data removed]",
            "text/plain": [
              "<Figure size 432x288 with 1 Axes>"
            ]
          },
          "metadata": {}
        },
        {
          "output_type": "display_data",
          "data": {
            "image/png": "[encoded data removed]",
            "text/plain": [
              "<Figure size 432x288 with 1 Axes>"
            ]
          },
          "metadata": {}
        },
        {
          "output_type": "display_data",
          "data": {
            "image/png": "[encoded data removed]",
            "text/plain": [
              "<Figure size 432x288 with 1 Axes>"
            ]
          },
          "metadata": {}
        }
      ]
    },
    {
      "cell_type": "code",
      "metadata": {
        "colab": {
          "base_uri": "https://localhost:8080/",
          "height": 299
        },
        "id": "dEhKYzMwHcb-",
        "outputId": "d8549c70-d199-4019-e157-486c4a214b5d"
      },
      "source": [
        "plt.hist(packageDelivery['Second carrier flag'], color = '#2ca02c', rwidth=0.85)\n",
        "plt.title('Histograma de frecuencia')\n",
        "plt.xlabel('Second carrier flag')\n",
        "plt.ylabel('Frecuencia')\n",
        "\n",
        "\n",
        "plt.show() \n"
      ],
      "execution_count": 33,
      "outputs": [
        {
          "output_type": "display_data",
          "data": {
            "image/png": "[encoded data removed]",
            "text/plain": [
              "<Figure size 432x288 with 1 Axes>"
            ]
          },
          "metadata": {}
        }
      ]
    },
    {
      "cell_type": "code",
      "metadata": {
        "colab": {
          "base_uri": "https://localhost:8080/",
          "height": 299
        },
        "id": "nYKJJX6uHfj-",
        "outputId": "8ab799a3-0aa4-4bea-eba2-a473153033d9"
      },
      "source": [
        "plt.hist(packageDelivery['Alteration service flag'], color = '#2ca02c', rwidth=0.85)\n",
        "plt.title('Histograma de frecuencia')\n",
        "plt.xlabel('Alteration service flag')\n",
        "plt.ylabel('Frecuencia')\n",
        "\n",
        "\n",
        "plt.show() "
      ],
      "execution_count": 34,
      "outputs": [
        {
          "output_type": "display_data",
          "data": {
            "image/png": "[encoded data removed]",
            "text/plain": [
              "<Figure size 432x288 with 1 Axes>"
            ]
          },
          "metadata": {}
        }
      ]
    },
    {
      "cell_type": "markdown",
      "metadata": {
        "id": "SUYs5hNXRwrz"
      },
      "source": [
        "Por otro lado, la data de las siguientes columnas sí tiene al menos un 5% de datos que pertenecen a más de una clase, por lo que decidimos dejar esas columnas en el dataframe, ya que pueden aportar a la capacidad de predicción:\n",
        "\n",
        "- \"Package product service flag\"\n",
        "- \"Backorder flag\"\n",
        "- \"Second carrier on time flag\"\n",
        "- \"Dimension weight flag\"\n",
        "- \"Monogramming product flag\""
      ]
    },
    {
      "cell_type": "code",
      "metadata": {
        "colab": {
          "base_uri": "https://localhost:8080/",
          "height": 863
        },
        "id": "19HRgc9CHrBe",
        "outputId": "6efdf9e2-4517-4652-caac-a491519c464e"
      },
      "source": [
        "plt.hist(packageDelivery['Package product service flag'], color = '#2ca02c', rwidth=0.85)\n",
        "plt.title('Histograma de frecuencia')\n",
        "plt.xlabel('Package product service flag')\n",
        "plt.ylabel('Frecuencia')\n",
        "\n",
        "\n",
        "plt.show() \n",
        "\n",
        "plt.hist(packageDelivery['Backorder flag'], color = '#2ca02c', rwidth=0.85)\n",
        "plt.title('Histograma de frecuencia')\n",
        "plt.xlabel('Backorder flag')\n",
        "plt.ylabel('Frecuencia')\n",
        "\n",
        "\n",
        "plt.show() \n",
        "\n",
        "plt.hist(packageDelivery['Second carrier on time flag'], color = '#2ca02c', rwidth=0.85)\n",
        "plt.title('Histograma de frecuencia')\n",
        "plt.xlabel('Second carrier on time flag')\n",
        "plt.ylabel('Frecuencia')\n",
        "\n",
        "\n",
        "plt.show() "
      ],
      "execution_count": 35,
      "outputs": [
        {
          "output_type": "display_data",
          "data": {
            "image/png": "[encoded data removed]",
            "text/plain": [
              "<Figure size 432x288 with 1 Axes>"
            ]
          },
          "metadata": {}
        },
        {
          "output_type": "display_data",
          "data": {
            "image/png": "[encoded data removed]",
            "text/plain": [
              "<Figure size 432x288 with 1 Axes>"
            ]
          },
          "metadata": {}
        },
        {
          "output_type": "display_data",
          "data": {
            "image/png": "[encoded data removed]",
            "text/plain": [
              "<Figure size 432x288 with 1 Axes>"
            ]
          },
          "metadata": {}
        }
      ]
    },
    {
      "cell_type": "code",
      "metadata": {
        "colab": {
          "base_uri": "https://localhost:8080/",
          "height": 581
        },
        "id": "uVzhP4GbAznm",
        "outputId": "d599b288-6868-4541-9b73-3f7ca9a5fbd1"
      },
      "source": [
        "plt.hist(packageDelivery['Dimension weight flag'], color = '#2ca02c', rwidth=0.85)\n",
        "plt.title('Histograma de frecuencia')\n",
        "plt.xlabel('Dimension weight flag')\n",
        "plt.ylabel('Frecuencia')\n",
        "\n",
        "\n",
        "plt.show() \n",
        "\n",
        "plt.hist(packageDelivery['Monogramming product flag'], color = '#2ca02c', rwidth=0.85)\n",
        "plt.title('Histograma de frecuencia')\n",
        "plt.xlabel('Monogramming product flag')\n",
        "plt.ylabel('Frecuencia')\n",
        "\n",
        "\n",
        "plt.show() "
      ],
      "execution_count": 36,
      "outputs": [
        {
          "output_type": "display_data",
          "data": {
            "image/png": "[encoded data removed]",
            "text/plain": [
              "<Figure size 432x288 with 1 Axes>"
            ]
          },
          "metadata": {}
        },
        {
          "output_type": "display_data",
          "data": {
            "image/png": "[encoded data removed]",
            "text/plain": [
              "<Figure size 432x288 with 1 Axes>"
            ]
          },
          "metadata": {}
        }
      ]
    },
    {
      "cell_type": "markdown",
      "metadata": {
        "id": "g8jzS9bNR4Fb"
      },
      "source": [
        "Procedemos a remover las columnas previamente mencionadas."
      ]
    },
    {
      "cell_type": "code",
      "metadata": {
        "colab": {
          "base_uri": "https://localhost:8080/",
          "height": 468
        },
        "id": "KttYxwBC9lwR",
        "outputId": "9501b512-bd46-4011-f924-cd511de4cfcd"
      },
      "source": [
        "porEliminar += [\"Package manifest delay minutes\", 'Embroidery product service flag', 'Engraving product service flag', 'Gift box product service flag', \n",
        "                'Personalization product service flag', 'Other product service flag', 'Second carrier flag', 'Alteration service flag']\n",
        "\n",
        "packageDelivery.drop(porEliminar, axis=1, errors='ignore', inplace=True)\n",
        "packageDelivery"
      ],
      "execution_count": 37,
      "outputs": [
        {
          "output_type": "execute_result",
          "data": {
            "text/html": [
              "<div>\n",
              "<style scoped>\n",
              "    .dataframe tbody tr th:only-of-type {\n",
              "        vertical-align: middle;\n",
              "    }\n",
              "\n",
              "    .dataframe tbody tr th {\n",
              "        vertical-align: top;\n",
              "    }\n",
              "\n",
              "    .dataframe thead th {\n",
              "        text-align: right;\n",
              "    }\n",
              "</style>\n",
              "<table border=\"1\" class=\"dataframe\">\n",
              "  <thead>\n",
              "    <tr style=\"text-align: right;\">\n",
              "      <th></th>\n",
              "      <th>Backorder flag</th>\n",
              "      <th>Carrier delivery days</th>\n",
              "      <th>Carrier delivery delay minutes</th>\n",
              "      <th>Dist Center Fulfilment Ops Days</th>\n",
              "      <th>Dimension weight flag</th>\n",
              "      <th>Monogramming product flag</th>\n",
              "      <th>Order release to DC minutes</th>\n",
              "      <th>Package delivered by quoted date indicator</th>\n",
              "      <th>Package girth</th>\n",
              "      <th>Package height</th>\n",
              "      <th>Package length</th>\n",
              "      <th>Package merchandise quantity</th>\n",
              "      <th>Package product service flag</th>\n",
              "      <th>Package width</th>\n",
              "      <th>Package weight</th>\n",
              "      <th>Second carrier on time flag</th>\n",
              "    </tr>\n",
              "  </thead>\n",
              "  <tbody>\n",
              "    <tr>\n",
              "      <th>0</th>\n",
              "      <td>N</td>\n",
              "      <td>1</td>\n",
              "      <td>0.0</td>\n",
              "      <td>4</td>\n",
              "      <td>Y</td>\n",
              "      <td>N</td>\n",
              "      <td>250</td>\n",
              "      <td>Y</td>\n",
              "      <td>52.0</td>\n",
              "      <td>4.0</td>\n",
              "      <td>18.0</td>\n",
              "      <td>2</td>\n",
              "      <td>N</td>\n",
              "      <td>13.0</td>\n",
              "      <td>1.575</td>\n",
              "      <td>Y</td>\n",
              "    </tr>\n",
              "    <tr>\n",
              "      <th>1</th>\n",
              "      <td>N</td>\n",
              "      <td>3</td>\n",
              "      <td>0.0</td>\n",
              "      <td>3</td>\n",
              "      <td>Y</td>\n",
              "      <td>N</td>\n",
              "      <td>31</td>\n",
              "      <td>Y</td>\n",
              "      <td>0.0</td>\n",
              "      <td>0.0</td>\n",
              "      <td>0.0</td>\n",
              "      <td>1</td>\n",
              "      <td>N</td>\n",
              "      <td>0.0</td>\n",
              "      <td>0.790</td>\n",
              "      <td>Y</td>\n",
              "    </tr>\n",
              "    <tr>\n",
              "      <th>2</th>\n",
              "      <td>N</td>\n",
              "      <td>6</td>\n",
              "      <td>0.0</td>\n",
              "      <td>1</td>\n",
              "      <td>Y</td>\n",
              "      <td>N</td>\n",
              "      <td>30</td>\n",
              "      <td>Y</td>\n",
              "      <td>60.0</td>\n",
              "      <td>5.0</td>\n",
              "      <td>22.0</td>\n",
              "      <td>3</td>\n",
              "      <td>N</td>\n",
              "      <td>14.0</td>\n",
              "      <td>2.440</td>\n",
              "      <td>Y</td>\n",
              "    </tr>\n",
              "    <tr>\n",
              "      <th>3</th>\n",
              "      <td>N</td>\n",
              "      <td>2</td>\n",
              "      <td>0.0</td>\n",
              "      <td>2</td>\n",
              "      <td>Y</td>\n",
              "      <td>N</td>\n",
              "      <td>31</td>\n",
              "      <td>Y</td>\n",
              "      <td>0.0</td>\n",
              "      <td>0.0</td>\n",
              "      <td>0.0</td>\n",
              "      <td>1</td>\n",
              "      <td>N</td>\n",
              "      <td>0.0</td>\n",
              "      <td>1.525</td>\n",
              "      <td>Y</td>\n",
              "    </tr>\n",
              "    <tr>\n",
              "      <th>4</th>\n",
              "      <td>N</td>\n",
              "      <td>1</td>\n",
              "      <td>0.0</td>\n",
              "      <td>1</td>\n",
              "      <td>Y</td>\n",
              "      <td>N</td>\n",
              "      <td>30</td>\n",
              "      <td>Y</td>\n",
              "      <td>0.0</td>\n",
              "      <td>0.0</td>\n",
              "      <td>0.0</td>\n",
              "      <td>1</td>\n",
              "      <td>N</td>\n",
              "      <td>0.0</td>\n",
              "      <td>1.889</td>\n",
              "      <td>Y</td>\n",
              "    </tr>\n",
              "    <tr>\n",
              "      <th>...</th>\n",
              "      <td>...</td>\n",
              "      <td>...</td>\n",
              "      <td>...</td>\n",
              "      <td>...</td>\n",
              "      <td>...</td>\n",
              "      <td>...</td>\n",
              "      <td>...</td>\n",
              "      <td>...</td>\n",
              "      <td>...</td>\n",
              "      <td>...</td>\n",
              "      <td>...</td>\n",
              "      <td>...</td>\n",
              "      <td>...</td>\n",
              "      <td>...</td>\n",
              "      <td>...</td>\n",
              "      <td>...</td>\n",
              "    </tr>\n",
              "    <tr>\n",
              "      <th>139832</th>\n",
              "      <td>N</td>\n",
              "      <td>1</td>\n",
              "      <td>0.0</td>\n",
              "      <td>10</td>\n",
              "      <td>Y</td>\n",
              "      <td>Y</td>\n",
              "      <td>34</td>\n",
              "      <td>N</td>\n",
              "      <td>52.0</td>\n",
              "      <td>4.0</td>\n",
              "      <td>18.0</td>\n",
              "      <td>1</td>\n",
              "      <td>Y</td>\n",
              "      <td>13.0</td>\n",
              "      <td>1.455</td>\n",
              "      <td>Y</td>\n",
              "    </tr>\n",
              "    <tr>\n",
              "      <th>139833</th>\n",
              "      <td>N</td>\n",
              "      <td>3</td>\n",
              "      <td>0.0</td>\n",
              "      <td>2</td>\n",
              "      <td>Y</td>\n",
              "      <td>N</td>\n",
              "      <td>37</td>\n",
              "      <td>Y</td>\n",
              "      <td>0.0</td>\n",
              "      <td>0.0</td>\n",
              "      <td>0.0</td>\n",
              "      <td>1</td>\n",
              "      <td>N</td>\n",
              "      <td>0.0</td>\n",
              "      <td>0.940</td>\n",
              "      <td>N</td>\n",
              "    </tr>\n",
              "    <tr>\n",
              "      <th>139834</th>\n",
              "      <td>N</td>\n",
              "      <td>2</td>\n",
              "      <td>0.0</td>\n",
              "      <td>2</td>\n",
              "      <td>Y</td>\n",
              "      <td>N</td>\n",
              "      <td>31</td>\n",
              "      <td>Y</td>\n",
              "      <td>60.0</td>\n",
              "      <td>5.0</td>\n",
              "      <td>22.0</td>\n",
              "      <td>1</td>\n",
              "      <td>N</td>\n",
              "      <td>14.0</td>\n",
              "      <td>3.090</td>\n",
              "      <td>Y</td>\n",
              "    </tr>\n",
              "    <tr>\n",
              "      <th>139835</th>\n",
              "      <td>N</td>\n",
              "      <td>6</td>\n",
              "      <td>0.0</td>\n",
              "      <td>3</td>\n",
              "      <td>Y</td>\n",
              "      <td>N</td>\n",
              "      <td>36</td>\n",
              "      <td>N</td>\n",
              "      <td>0.0</td>\n",
              "      <td>0.0</td>\n",
              "      <td>0.0</td>\n",
              "      <td>1</td>\n",
              "      <td>N</td>\n",
              "      <td>0.0</td>\n",
              "      <td>0.875</td>\n",
              "      <td>Y</td>\n",
              "    </tr>\n",
              "    <tr>\n",
              "      <th>139836</th>\n",
              "      <td>N</td>\n",
              "      <td>3</td>\n",
              "      <td>0.0</td>\n",
              "      <td>3</td>\n",
              "      <td>Y</td>\n",
              "      <td>N</td>\n",
              "      <td>30</td>\n",
              "      <td>Y</td>\n",
              "      <td>0.0</td>\n",
              "      <td>0.0</td>\n",
              "      <td>0.0</td>\n",
              "      <td>1</td>\n",
              "      <td>N</td>\n",
              "      <td>0.0</td>\n",
              "      <td>0.875</td>\n",
              "      <td>Y</td>\n",
              "    </tr>\n",
              "  </tbody>\n",
              "</table>\n",
              "<p>139837 rows × 16 columns</p>\n",
              "</div>"
            ],
            "text/plain": [
              "       Backorder flag  ...  Second carrier on time flag\n",
              "0                   N  ...                            Y\n",
              "1                   N  ...                            Y\n",
              "2                   N  ...                            Y\n",
              "3                   N  ...                            Y\n",
              "4                   N  ...                            Y\n",
              "...               ...  ...                          ...\n",
              "139832              N  ...                            Y\n",
              "139833              N  ...                            N\n",
              "139834              N  ...                            Y\n",
              "139835              N  ...                            Y\n",
              "139836              N  ...                            Y\n",
              "\n",
              "[139837 rows x 16 columns]"
            ]
          },
          "metadata": {},
          "execution_count": 37
        }
      ]
    },
    {
      "cell_type": "markdown",
      "metadata": {
        "id": "GfcQ-gF0R9kd"
      },
      "source": [
        "El siguiente paso consiste en diagramar la variable que se va a utilizar como variable de respuesta, es decir, la que queremos predecir. "
      ]
    },
    {
      "cell_type": "code",
      "metadata": {
        "colab": {
          "base_uri": "https://localhost:8080/",
          "height": 299
        },
        "id": "k8f4Z6mT37S8",
        "outputId": "9865aacd-888c-40e3-81f9-8b5f9734c889"
      },
      "source": [
        "plt.hist(packageDelivery['Package delivered by quoted date indicator'], color = '#2ca02c', rwidth=0.85)\n",
        "plt.title('Histograma de frecuencia de clases')\n",
        "plt.xlabel('Package delivered by quoted date')\n",
        "plt.ylabel('Frecuencia')\n",
        "\n",
        "\n",
        "plt.show() "
      ],
      "execution_count": 38,
      "outputs": [
        {
          "output_type": "display_data",
          "data": {
            "image/png": "[encoded data removed]",
            "text/plain": [
              "<Figure size 432x288 with 1 Axes>"
            ]
          },
          "metadata": {}
        }
      ]
    },
    {
      "cell_type": "markdown",
      "metadata": {
        "id": "Btv0pdZ8SA1n"
      },
      "source": [
        "Utilizando el histograma, ya tenemos un indicio de que las clases se encuentran desbalanceadas, y que eso puede suponer un problema a la hora de predecir. Para confirmarlo, visualizamos el número de paquetes que fueron entregados a tiempo y los que no de acuerdo a la data del dataframe."
      ]
    },
    {
      "cell_type": "code",
      "metadata": {
        "colab": {
          "base_uri": "https://localhost:8080/"
        },
        "id": "xKfe2BX74Agn",
        "outputId": "bf0ac458-5e2e-4013-9bff-12760b563b61"
      },
      "source": [
        "packagesYES = packageDelivery.loc[packageDelivery['Package delivered by quoted date indicator'] == 'Y']\n",
        "packagesNO = packageDelivery.loc[packageDelivery['Package delivered by quoted date indicator'] == 'N']\n",
        "\n",
        "print(\"Cantidad de paquetes entregados a tiempo: \",packagesYES.shape[0])\n",
        "print(\"Cantidad de paquetes NO entregados a tiempo: \",packagesNO.shape[0])"
      ],
      "execution_count": 39,
      "outputs": [
        {
          "output_type": "stream",
          "name": "stdout",
          "text": [
            "Cantidad de paquetes entregados a tiempo:  123516\n",
            "Cantidad de paquetes NO entregados a tiempo:  16321\n"
          ]
        }
      ]
    },
    {
      "cell_type": "markdown",
      "metadata": {
        "id": "Jg6FxdZjSFOu"
      },
      "source": [
        "Dado que la diferencia es de más de 100.000 datos entre ambas clases, procedemos a extraer la misma cantidad de filas de data de paquetes entregados que de no entregados, para poder realizar predicciones con resultados mejores y más precisos. Seguidamente juntamos la data con la de los paquetes no entregados y realizamos un shuffle para mezclar la data y que no esté en un orden específico."
      ]
    },
    {
      "cell_type": "code",
      "metadata": {
        "id": "tZinxHfw4bCA"
      },
      "source": [
        "packagesYES_filtrados = packagesYES.head(16321)"
      ],
      "execution_count": 40,
      "outputs": []
    },
    {
      "cell_type": "code",
      "metadata": {
        "id": "772mDUHK4nO7"
      },
      "source": [
        "packages_nuevo = pd.concat([packagesNO,packagesYES_filtrados])"
      ],
      "execution_count": 41,
      "outputs": []
    },
    {
      "cell_type": "code",
      "metadata": {
        "id": "yCfsofew4ukz"
      },
      "source": [
        "from sklearn.utils import shuffle\n",
        "\n",
        "packages_revuelto = shuffle(packages_nuevo)\n",
        "\n",
        "packages_NN = packages_revuelto"
      ],
      "execution_count": 42,
      "outputs": []
    },
    {
      "cell_type": "markdown",
      "metadata": {
        "id": "lFThDkvYyQxC"
      },
      "source": [
        "El siguiente paso consiste en codificar las variables categóricas, para que puedan ser procesadas por el modelo que se va a utilizar."
      ]
    },
    {
      "cell_type": "code",
      "metadata": {
        "colab": {
          "base_uri": "https://localhost:8080/",
          "height": 468
        },
        "id": "-0YquQDAIjwf",
        "outputId": "4be6b035-5595-48f0-e46f-65ca34215971"
      },
      "source": [
        "packages_revuelto[\"Backorder flag\"] = packages_revuelto[\"Backorder flag\"].astype('category')\n",
        "packages_revuelto[\"Backorder flag\"] = packages_revuelto[\"Backorder flag\"].cat.codes\n",
        "\n",
        "packages_revuelto[\"Dimension weight flag\"] = packages_revuelto[\"Dimension weight flag\"].astype('category')\n",
        "packages_revuelto[\"Dimension weight flag\"] = packages_revuelto[\"Dimension weight flag\"].cat.codes\n",
        "\n",
        "packages_revuelto[\"Monogramming product flag\"] = packages_revuelto[\"Monogramming product flag\"].astype('category')\n",
        "packages_revuelto[\"Monogramming product flag\"] = packages_revuelto[\"Monogramming product flag\"].cat.codes\n",
        "\n",
        "packages_revuelto[\"Package delivered by quoted date indicator\"] = packages_revuelto[\"Package delivered by quoted date indicator\"].astype('category')\n",
        "packages_revuelto[\"Package delivered by quoted date indicator\"] = packages_revuelto[\"Package delivered by quoted date indicator\"].cat.codes\n",
        "\n",
        "packages_revuelto[\"Package product service flag\"] = packages_revuelto[\"Package product service flag\"].astype('category')\n",
        "packages_revuelto[\"Package product service flag\"] = packages_revuelto[\"Package product service flag\"].cat.codes\n",
        "\n",
        "packages_revuelto[\"Second carrier on time flag\"] = packages_revuelto[\"Second carrier on time flag\"].astype('category')\n",
        "packages_revuelto[\"Second carrier on time flag\"] = packages_revuelto[\"Second carrier on time flag\"].cat.codes\n",
        "\n",
        "packages_revuelto"
      ],
      "execution_count": 43,
      "outputs": [
        {
          "output_type": "execute_result",
          "data": {
            "text/html": [
              "<div>\n",
              "<style scoped>\n",
              "    .dataframe tbody tr th:only-of-type {\n",
              "        vertical-align: middle;\n",
              "    }\n",
              "\n",
              "    .dataframe tbody tr th {\n",
              "        vertical-align: top;\n",
              "    }\n",
              "\n",
              "    .dataframe thead th {\n",
              "        text-align: right;\n",
              "    }\n",
              "</style>\n",
              "<table border=\"1\" class=\"dataframe\">\n",
              "  <thead>\n",
              "    <tr style=\"text-align: right;\">\n",
              "      <th></th>\n",
              "      <th>Backorder flag</th>\n",
              "      <th>Carrier delivery days</th>\n",
              "      <th>Carrier delivery delay minutes</th>\n",
              "      <th>Dist Center Fulfilment Ops Days</th>\n",
              "      <th>Dimension weight flag</th>\n",
              "      <th>Monogramming product flag</th>\n",
              "      <th>Order release to DC minutes</th>\n",
              "      <th>Package delivered by quoted date indicator</th>\n",
              "      <th>Package girth</th>\n",
              "      <th>Package height</th>\n",
              "      <th>Package length</th>\n",
              "      <th>Package merchandise quantity</th>\n",
              "      <th>Package product service flag</th>\n",
              "      <th>Package width</th>\n",
              "      <th>Package weight</th>\n",
              "      <th>Second carrier on time flag</th>\n",
              "    </tr>\n",
              "  </thead>\n",
              "  <tbody>\n",
              "    <tr>\n",
              "      <th>62712</th>\n",
              "      <td>1</td>\n",
              "      <td>4</td>\n",
              "      <td>0.0</td>\n",
              "      <td>15</td>\n",
              "      <td>1</td>\n",
              "      <td>0</td>\n",
              "      <td>30</td>\n",
              "      <td>0</td>\n",
              "      <td>0.0</td>\n",
              "      <td>0.0</td>\n",
              "      <td>0.0</td>\n",
              "      <td>1</td>\n",
              "      <td>0</td>\n",
              "      <td>0.00</td>\n",
              "      <td>0.790</td>\n",
              "      <td>1</td>\n",
              "    </tr>\n",
              "    <tr>\n",
              "      <th>11809</th>\n",
              "      <td>0</td>\n",
              "      <td>1</td>\n",
              "      <td>0.0</td>\n",
              "      <td>1</td>\n",
              "      <td>1</td>\n",
              "      <td>1</td>\n",
              "      <td>39</td>\n",
              "      <td>1</td>\n",
              "      <td>52.0</td>\n",
              "      <td>4.0</td>\n",
              "      <td>18.0</td>\n",
              "      <td>1</td>\n",
              "      <td>1</td>\n",
              "      <td>13.00</td>\n",
              "      <td>0.880</td>\n",
              "      <td>1</td>\n",
              "    </tr>\n",
              "    <tr>\n",
              "      <th>51425</th>\n",
              "      <td>0</td>\n",
              "      <td>1</td>\n",
              "      <td>0.0</td>\n",
              "      <td>4</td>\n",
              "      <td>1</td>\n",
              "      <td>0</td>\n",
              "      <td>31</td>\n",
              "      <td>0</td>\n",
              "      <td>52.0</td>\n",
              "      <td>4.0</td>\n",
              "      <td>18.0</td>\n",
              "      <td>3</td>\n",
              "      <td>0</td>\n",
              "      <td>13.00</td>\n",
              "      <td>3.210</td>\n",
              "      <td>1</td>\n",
              "    </tr>\n",
              "    <tr>\n",
              "      <th>49391</th>\n",
              "      <td>0</td>\n",
              "      <td>1</td>\n",
              "      <td>0.0</td>\n",
              "      <td>20</td>\n",
              "      <td>1</td>\n",
              "      <td>0</td>\n",
              "      <td>31</td>\n",
              "      <td>0</td>\n",
              "      <td>63.0</td>\n",
              "      <td>7.0</td>\n",
              "      <td>25.5</td>\n",
              "      <td>1</td>\n",
              "      <td>1</td>\n",
              "      <td>11.75</td>\n",
              "      <td>7.300</td>\n",
              "      <td>1</td>\n",
              "    </tr>\n",
              "    <tr>\n",
              "      <th>62060</th>\n",
              "      <td>0</td>\n",
              "      <td>5</td>\n",
              "      <td>0.0</td>\n",
              "      <td>1</td>\n",
              "      <td>0</td>\n",
              "      <td>0</td>\n",
              "      <td>34</td>\n",
              "      <td>0</td>\n",
              "      <td>64.0</td>\n",
              "      <td>6.0</td>\n",
              "      <td>22.0</td>\n",
              "      <td>1</td>\n",
              "      <td>0</td>\n",
              "      <td>15.00</td>\n",
              "      <td>8.000</td>\n",
              "      <td>1</td>\n",
              "    </tr>\n",
              "    <tr>\n",
              "      <th>...</th>\n",
              "      <td>...</td>\n",
              "      <td>...</td>\n",
              "      <td>...</td>\n",
              "      <td>...</td>\n",
              "      <td>...</td>\n",
              "      <td>...</td>\n",
              "      <td>...</td>\n",
              "      <td>...</td>\n",
              "      <td>...</td>\n",
              "      <td>...</td>\n",
              "      <td>...</td>\n",
              "      <td>...</td>\n",
              "      <td>...</td>\n",
              "      <td>...</td>\n",
              "      <td>...</td>\n",
              "      <td>...</td>\n",
              "    </tr>\n",
              "    <tr>\n",
              "      <th>89329</th>\n",
              "      <td>0</td>\n",
              "      <td>5</td>\n",
              "      <td>0.0</td>\n",
              "      <td>4</td>\n",
              "      <td>1</td>\n",
              "      <td>0</td>\n",
              "      <td>34</td>\n",
              "      <td>0</td>\n",
              "      <td>60.0</td>\n",
              "      <td>5.0</td>\n",
              "      <td>22.0</td>\n",
              "      <td>3</td>\n",
              "      <td>0</td>\n",
              "      <td>14.00</td>\n",
              "      <td>3.380</td>\n",
              "      <td>1</td>\n",
              "    </tr>\n",
              "    <tr>\n",
              "      <th>61710</th>\n",
              "      <td>0</td>\n",
              "      <td>6</td>\n",
              "      <td>0.0</td>\n",
              "      <td>5</td>\n",
              "      <td>1</td>\n",
              "      <td>0</td>\n",
              "      <td>39</td>\n",
              "      <td>0</td>\n",
              "      <td>43.0</td>\n",
              "      <td>2.5</td>\n",
              "      <td>17.0</td>\n",
              "      <td>1</td>\n",
              "      <td>0</td>\n",
              "      <td>10.50</td>\n",
              "      <td>0.228</td>\n",
              "      <td>1</td>\n",
              "    </tr>\n",
              "    <tr>\n",
              "      <th>4018</th>\n",
              "      <td>1</td>\n",
              "      <td>4</td>\n",
              "      <td>0.0</td>\n",
              "      <td>25</td>\n",
              "      <td>1</td>\n",
              "      <td>1</td>\n",
              "      <td>42</td>\n",
              "      <td>0</td>\n",
              "      <td>60.0</td>\n",
              "      <td>5.0</td>\n",
              "      <td>22.0</td>\n",
              "      <td>1</td>\n",
              "      <td>1</td>\n",
              "      <td>14.00</td>\n",
              "      <td>1.280</td>\n",
              "      <td>1</td>\n",
              "    </tr>\n",
              "    <tr>\n",
              "      <th>4773</th>\n",
              "      <td>0</td>\n",
              "      <td>2</td>\n",
              "      <td>0.0</td>\n",
              "      <td>1</td>\n",
              "      <td>1</td>\n",
              "      <td>0</td>\n",
              "      <td>36</td>\n",
              "      <td>1</td>\n",
              "      <td>51.0</td>\n",
              "      <td>6.0</td>\n",
              "      <td>15.0</td>\n",
              "      <td>1</td>\n",
              "      <td>0</td>\n",
              "      <td>12.00</td>\n",
              "      <td>3.830</td>\n",
              "      <td>0</td>\n",
              "    </tr>\n",
              "    <tr>\n",
              "      <th>128921</th>\n",
              "      <td>0</td>\n",
              "      <td>4</td>\n",
              "      <td>0.0</td>\n",
              "      <td>6</td>\n",
              "      <td>0</td>\n",
              "      <td>0</td>\n",
              "      <td>32</td>\n",
              "      <td>0</td>\n",
              "      <td>47.0</td>\n",
              "      <td>5.0</td>\n",
              "      <td>27.0</td>\n",
              "      <td>1</td>\n",
              "      <td>0</td>\n",
              "      <td>5.00</td>\n",
              "      <td>8.000</td>\n",
              "      <td>1</td>\n",
              "    </tr>\n",
              "  </tbody>\n",
              "</table>\n",
              "<p>32642 rows × 16 columns</p>\n",
              "</div>"
            ],
            "text/plain": [
              "        Backorder flag  ...  Second carrier on time flag\n",
              "62712                1  ...                            1\n",
              "11809                0  ...                            1\n",
              "51425                0  ...                            1\n",
              "49391                0  ...                            1\n",
              "62060                0  ...                            1\n",
              "...                ...  ...                          ...\n",
              "89329                0  ...                            1\n",
              "61710                0  ...                            1\n",
              "4018                 1  ...                            1\n",
              "4773                 0  ...                            0\n",
              "128921               0  ...                            1\n",
              "\n",
              "[32642 rows x 16 columns]"
            ]
          },
          "metadata": {},
          "execution_count": 43
        }
      ]
    },
    {
      "cell_type": "markdown",
      "metadata": {
        "id": "3yeegUKmSInN"
      },
      "source": [
        "Seguidamente dividimos la data en X y Y para poder realizar predicciones, siendo X la data del dataframe sin la columna que se quiere predecir y \"Y\" la columna de datos que requiere ser predicha."
      ]
    },
    {
      "cell_type": "code",
      "metadata": {
        "id": "r5nS3OnMKf3N"
      },
      "source": [
        "X = packages_revuelto.drop('Package delivered by quoted date indicator', axis = 1)\n",
        "y = packages_revuelto['Package delivered by quoted date indicator']"
      ],
      "execution_count": 44,
      "outputs": []
    },
    {
      "cell_type": "markdown",
      "metadata": {
        "id": "AgF5jy9gyfjs"
      },
      "source": [
        "Se parten los datos en entrenamiento y testeo, usando un 30% para el testeo, según biblliografía."
      ]
    },
    {
      "cell_type": "code",
      "metadata": {
        "id": "BWR-curPKqXr"
      },
      "source": [
        "X_train, X_test, y_train, y_test = train_test_split(X, y, test_size=0.3)"
      ],
      "execution_count": 45,
      "outputs": []
    },
    {
      "cell_type": "markdown",
      "metadata": {
        "id": "buxne1q2SLhc"
      },
      "source": [
        "**Random Forest**\n",
        "\n",
        "Una vez limpios, analizados inicialmente y procesados los datos, se continua aplicando el modelo de aprendizaje automático. En este caso, el modelo elegido es Random Forest, dada su capacidad predictiva potente al ser un método de ensamble. Se selecciona por la complejidad de los datos. \n",
        "\n",
        "Inicialmente se utilizan 100 estimadores o árboles para correr el modelo."
      ]
    },
    {
      "cell_type": "code",
      "metadata": {
        "id": "HayytkWqKymo"
      },
      "source": [
        "from sklearn.ensemble import RandomForestClassifier\n",
        "\n",
        "clf=RandomForestClassifier(random_state = 1, n_estimators = 100)\n",
        "\n",
        "clf.fit(X_train,y_train)\n",
        "\n",
        "y_pred=clf.predict(X_test)"
      ],
      "execution_count": 46,
      "outputs": []
    },
    {
      "cell_type": "markdown",
      "metadata": {
        "id": "ns_0ncNMSXXd"
      },
      "source": [
        "Utilizando la función accuracy_score de metrics, perteneciente a sklearn, se obtiene una precisión de 83,41%. Esto resulta sumamente alto como un resultado inicial, significando que el modelo tiene una gran capacidad para predecir la variable de respuesta."
      ]
    },
    {
      "cell_type": "code",
      "metadata": {
        "colab": {
          "base_uri": "https://localhost:8080/"
        },
        "id": "Y8t2ZUFtLbTn",
        "outputId": "25767197-06b0-47b9-8fef-8a317a806834"
      },
      "source": [
        "from sklearn import metrics\n",
        "\n",
        "print(\"Precisión:\",metrics.accuracy_score(y_test, y_pred))"
      ],
      "execution_count": 47,
      "outputs": [
        {
          "output_type": "stream",
          "name": "stdout",
          "text": [
            "Precisión: 0.8310017359338303\n"
          ]
        }
      ]
    },
    {
      "cell_type": "markdown",
      "metadata": {
        "id": "xp_4S-A9zTvE"
      },
      "source": [
        "Ahora, se quiere saber cuál es la importancia de cada variable del modelo planteado, para saber a cuáles prestarle más atención, esto se realiza usando la función feature_importances y metiéndolo en un dataframe de pandas. "
      ]
    },
    {
      "cell_type": "code",
      "metadata": {
        "colab": {
          "base_uri": "https://localhost:8080/"
        },
        "id": "QIBDL3YJMTP9",
        "outputId": "7c114bd5-7ddb-4aba-b962-8e918cf99dca"
      },
      "source": [
        "import pandas as pd\n",
        "feature_imp = pd.Series(clf.feature_importances_,index=X.columns).sort_values(ascending=False)\n",
        "feature_imp"
      ],
      "execution_count": 48,
      "outputs": [
        {
          "output_type": "execute_result",
          "data": {
            "text/plain": [
              "Dist Center Fulfilment Ops Days    0.308761\n",
              "Package weight                     0.196185\n",
              "Carrier delivery days              0.149475\n",
              "Backorder flag                     0.117438\n",
              "Order release to DC minutes        0.105618\n",
              "Package merchandise quantity       0.032815\n",
              "Package length                     0.016840\n",
              "Package height                     0.016347\n",
              "Package girth                      0.016345\n",
              "Package width                      0.015539\n",
              "Dimension weight flag              0.012814\n",
              "Package product service flag       0.005604\n",
              "Second carrier on time flag        0.002920\n",
              "Monogramming product flag          0.002784\n",
              "Carrier delivery delay minutes     0.000516\n",
              "dtype: float64"
            ]
          },
          "metadata": {},
          "execution_count": 48
        }
      ]
    },
    {
      "cell_type": "markdown",
      "metadata": {
        "id": "PQNTfLN1SaqU"
      },
      "source": [
        "Seguidamente realizamos un gráfico de barras para visualizar la importancia de las características del mismo. Esto se realiza en saborn."
      ]
    },
    {
      "cell_type": "code",
      "metadata": {
        "colab": {
          "base_uri": "https://localhost:8080/",
          "height": 318
        },
        "id": "gTZ-fcCYNMcJ",
        "outputId": "ccf576de-1b3b-4c9a-e5ce-dae63e6c73be"
      },
      "source": [
        "import matplotlib.pyplot as plt\n",
        "import seaborn as sns\n",
        "%matplotlib inline\n",
        "\n",
        "sns.barplot(x=feature_imp, y=feature_imp.index)\n",
        "\n",
        "plt.xlabel('Puntaje de importancia de las características')\n",
        "plt.ylabel('Características')\n",
        "plt.title(\"Visualizar características importantes\")\n",
        "plt.legend()\n",
        "plt.show()"
      ],
      "execution_count": 50,
      "outputs": [
        {
          "output_type": "stream",
          "name": "stderr",
          "text": [
            "No handles with labels found to put in legend.\n"
          ]
        },
        {
          "output_type": "display_data",
          "data": {
            "image/png": "[encoded data removed]",
            "text/plain": [
              "<Figure size 432x288 with 1 Axes>"
            ]
          },
          "metadata": {
            "needs_background": "light"
          }
        }
      ]
    },
    {
      "cell_type": "markdown",
      "metadata": {
        "id": "6MBHxgOXzvJs"
      },
      "source": [
        "Aquí se denota que hay 5 variables que explican el 85% de la variabilidad del modelo, lo cual indica que si se desea dejar de medir las demás, es muy probable que el modelo no empeore, y que la entrega a tiempo del paquete pueda predecirse solamente tomando en cuenta los días de operación del centro de distribución, el peso del paquete, los días de entrega del repartidor, el estado de backorder y la estimación del tiempo que dura la orden en llegar al centro de distribución."
      ]
    },
    {
      "cell_type": "markdown",
      "metadata": {
        "id": "z9RlHdNU0SFH"
      },
      "source": [
        "**Tuneo de hiperparámetros del random forest**"
      ]
    },
    {
      "cell_type": "markdown",
      "metadata": {
        "id": "DcSPmw9AScsZ"
      },
      "source": [
        "Procedemos a realizar gráficos con una curva de validación del random forest para visualizar el puntaje del entrenamiento del mismo y el de su validación, utilizando la media y la desviación estándar, vs el número de estimadores y su profundidad máxima, ambos hiperparámetros del modelo."
      ]
    },
    {
      "cell_type": "markdown",
      "metadata": {
        "id": "XpxOLXF_0nuC"
      },
      "source": [
        "En el caso de los estimadores, se busca en el rango de 0 a 200, con aumentos de 10."
      ]
    },
    {
      "cell_type": "code",
      "metadata": {
        "colab": {
          "base_uri": "https://localhost:8080/",
          "height": 297
        },
        "id": "sKL55o96dCMw",
        "outputId": "378e5f1f-f378-4700-e8fd-f7fed16e0100"
      },
      "source": [
        "from sklearn.model_selection import validation_curve\n",
        "\n",
        "param_range = np.arange(0, 200,10 )\n",
        "\n",
        "train_scores, test_scores = validation_curve(RandomForestClassifier(), \n",
        "                                             X, \n",
        "                                             y, \n",
        "                                             param_name=\"n_estimators\", \n",
        "                                             param_range=param_range,\n",
        "                                             cv=3, \n",
        "                                             scoring=\"accuracy\", \n",
        "                                             n_jobs=-1)\n",
        "\n",
        "train_mean = np.mean(train_scores, axis=1)\n",
        "train_std = np.std(train_scores, axis=1)\n",
        "\n",
        "\n",
        "test_mean = np.mean(test_scores, axis=1)\n",
        "test_std = np.std(test_scores, axis=1)\n",
        "\n",
        "plt.plot(param_range, train_mean, label=\"Puntaje de entrenamiento\", color=\"black\")\n",
        "plt.plot(param_range, test_mean, label=\"Puntaje de cross-validación\", color=\"dimgrey\")\n",
        "\n",
        "plt.fill_between(param_range, train_mean - train_std, train_mean + train_std, color=\"gray\")\n",
        "plt.fill_between(param_range, test_mean - test_std, test_mean + test_std, color=\"gainsboro\")\n",
        "\n",
        "plt.title(\"Curva de validación con Random Forest\")\n",
        "plt.xlabel(\"Número de árboles\")\n",
        "plt.ylabel(\"Puntaje de precisión\")\n",
        "plt.tight_layout()\n",
        "plt.legend(loc=\"best\")\n",
        "plt.show()"
      ],
      "execution_count": 51,
      "outputs": [
        {
          "output_type": "display_data",
          "data": {
            "image/png": "[encoded data removed]",
            "text/plain": [
              "<Figure size 432x288 with 1 Axes>"
            ]
          },
          "metadata": {
            "needs_background": "light"
          }
        }
      ]
    },
    {
      "cell_type": "markdown",
      "metadata": {
        "id": "wB11HSBi0whs"
      },
      "source": [
        "Esta curva de validación indica que el puntaje de entrenamiento se mantiene sumamente alto sin importar el número de árboles que se esté utilizando. Sin embargo, se denota que el puntaje de validación tiene una leve mejoría al utilizar 75 árboles. Este es un buen valor porque, al no ser tan alto, permite que no se caiga en overfitting."
      ]
    },
    {
      "cell_type": "markdown",
      "metadata": {
        "id": "psv2dY3R1i67"
      },
      "source": [
        "Para la profundidad máxima se usa una búsqueda entre el rango de 0 a 300, con aumentos de 15. "
      ]
    },
    {
      "cell_type": "code",
      "metadata": {
        "colab": {
          "base_uri": "https://localhost:8080/",
          "height": 297
        },
        "id": "jZdmARujlmIU",
        "outputId": "791c94ba-8e6d-44c3-c142-55124388c88d"
      },
      "source": [
        "param_range = np.arange(0, 300,15 )\n",
        "\n",
        "train_scores, test_scores = validation_curve(RandomForestClassifier(), \n",
        "                                             X, \n",
        "                                             y, \n",
        "                                             param_name=\"max_depth\", \n",
        "                                             param_range=param_range,\n",
        "                                             cv=3, \n",
        "                                             scoring=\"accuracy\", \n",
        "                                             n_jobs=-1)\n",
        "\n",
        "plt.plot(param_range, train_mean, label=\"Puntaje de entrenamiento\", color=\"black\")\n",
        "plt.plot(param_range, test_mean, label=\"Puntaje de cross-validación\", color=\"dimgrey\")\n",
        "\n",
        "plt.fill_between(param_range, train_mean - train_std, train_mean + train_std, color=\"gray\")\n",
        "plt.fill_between(param_range, test_mean - test_std, test_mean + test_std, color=\"gainsboro\")\n",
        "\n",
        "plt.title(\"Curva de validación con Random Forest\")\n",
        "plt.xlabel(\"Profundidad máxima\")\n",
        "plt.ylabel(\"Puntaje de precisión\")\n",
        "plt.tight_layout()\n",
        "plt.legend(loc=\"best\")\n",
        "plt.show()"
      ],
      "execution_count": 52,
      "outputs": [
        {
          "output_type": "display_data",
          "data": {
            "image/png": "[encoded data removed]",
            "text/plain": [
              "<Figure size 432x288 with 1 Axes>"
            ]
          },
          "metadata": {
            "needs_background": "light"
          }
        }
      ]
    },
    {
      "cell_type": "markdown",
      "metadata": {
        "id": "8edpZwaX1o8M"
      },
      "source": [
        "De nuevo, la precisión del modelo se mantiene bastante constante para el entrenamiento, con una mejoría apartir de la profundidad de 20. Sin embargo, se denota que el mejor puntaje de validación se obtiene alrededor de los 110. Este es un buen valor también porque permite que el modelo no caiga en overfitting."
      ]
    },
    {
      "cell_type": "markdown",
      "metadata": {
        "id": "vAsYCNL9S8Bq"
      },
      "source": [
        "Creamos nuevamente un clasificador gaussiano para entrenar el modelo de nuevo pero con los hiperparámetros encontrados en el tuneo."
      ]
    },
    {
      "cell_type": "code",
      "metadata": {
        "id": "t7W5fMEa2Ons"
      },
      "source": [
        "clf=RandomForestClassifier(random_state = 1, n_estimators = 75, max_depth =110)\n",
        "\n",
        "clf.fit(X_train,y_train)\n",
        "\n",
        "y_pred=clf.predict(X_test)"
      ],
      "execution_count": 57,
      "outputs": []
    },
    {
      "cell_type": "code",
      "metadata": {
        "colab": {
          "base_uri": "https://localhost:8080/"
        },
        "id": "f76UH06k3zT5",
        "outputId": "2cada02e-e155-4695-c0f1-9dd03a9b7eb7"
      },
      "source": [
        "from sklearn import metrics\n",
        "\n",
        "print(\"Precisión:\",metrics.accuracy_score(y_test, y_pred))"
      ],
      "execution_count": 58,
      "outputs": [
        {
          "output_type": "stream",
          "name": "stdout",
          "text": [
            "Precisión: 0.8321249872357807\n"
          ]
        }
      ]
    },
    {
      "cell_type": "markdown",
      "metadata": {
        "id": "gm-8zKrY28Q-"
      },
      "source": [
        "Usando los hiperparámetros encontrados en el tuneo, se logra mejorar la precisión del modelo de un 83,10% a un 83,24%. La mejora es poca, sin embargo, aplicada a gran escala puede significar que muchos más paquetes van a ser clasificados correctamente. "
      ]
    },
    {
      "cell_type": "markdown",
      "metadata": {
        "id": "ei-QxaeH60sj"
      },
      "source": [
        "**Red neuronal**\n",
        "\n",
        "Para contrastar los resultados del random forest, se decide también ejecutarle una red neuronal a los datos. "
      ]
    },
    {
      "cell_type": "markdown",
      "metadata": {
        "id": "uM9vDX3s3SXV"
      },
      "source": [
        "Primero, copiamos un dataset previo a la codificación realizada para el random forest, dado que en este caso se va a utilizar one hot encoding para la red. "
      ]
    },
    {
      "cell_type": "code",
      "metadata": {
        "colab": {
          "base_uri": "https://localhost:8080/",
          "height": 468
        },
        "id": "FA-Keudk43__",
        "outputId": "10be09b7-777c-4fbf-ad06-52fe17660d0c"
      },
      "source": [
        "packages_NN = shuffle(packages_nuevo)\n",
        "packages_NN"
      ],
      "execution_count": 59,
      "outputs": [
        {
          "output_type": "execute_result",
          "data": {
            "text/html": [
              "<div>\n",
              "<style scoped>\n",
              "    .dataframe tbody tr th:only-of-type {\n",
              "        vertical-align: middle;\n",
              "    }\n",
              "\n",
              "    .dataframe tbody tr th {\n",
              "        vertical-align: top;\n",
              "    }\n",
              "\n",
              "    .dataframe thead th {\n",
              "        text-align: right;\n",
              "    }\n",
              "</style>\n",
              "<table border=\"1\" class=\"dataframe\">\n",
              "  <thead>\n",
              "    <tr style=\"text-align: right;\">\n",
              "      <th></th>\n",
              "      <th>Backorder flag</th>\n",
              "      <th>Carrier delivery days</th>\n",
              "      <th>Carrier delivery delay minutes</th>\n",
              "      <th>Dist Center Fulfilment Ops Days</th>\n",
              "      <th>Dimension weight flag</th>\n",
              "      <th>Monogramming product flag</th>\n",
              "      <th>Order release to DC minutes</th>\n",
              "      <th>Package delivered by quoted date indicator</th>\n",
              "      <th>Package girth</th>\n",
              "      <th>Package height</th>\n",
              "      <th>Package length</th>\n",
              "      <th>Package merchandise quantity</th>\n",
              "      <th>Package product service flag</th>\n",
              "      <th>Package width</th>\n",
              "      <th>Package weight</th>\n",
              "      <th>Second carrier on time flag</th>\n",
              "    </tr>\n",
              "  </thead>\n",
              "  <tbody>\n",
              "    <tr>\n",
              "      <th>2109</th>\n",
              "      <td>N</td>\n",
              "      <td>5</td>\n",
              "      <td>0.0</td>\n",
              "      <td>1</td>\n",
              "      <td>Y</td>\n",
              "      <td>N</td>\n",
              "      <td>37</td>\n",
              "      <td>Y</td>\n",
              "      <td>59.14</td>\n",
              "      <td>5.75</td>\n",
              "      <td>18.38</td>\n",
              "      <td>2</td>\n",
              "      <td>N</td>\n",
              "      <td>14.63</td>\n",
              "      <td>6.545</td>\n",
              "      <td>Y</td>\n",
              "    </tr>\n",
              "    <tr>\n",
              "      <th>13186</th>\n",
              "      <td>N</td>\n",
              "      <td>6</td>\n",
              "      <td>0.0</td>\n",
              "      <td>2</td>\n",
              "      <td>Y</td>\n",
              "      <td>N</td>\n",
              "      <td>13</td>\n",
              "      <td>Y</td>\n",
              "      <td>0.00</td>\n",
              "      <td>0.00</td>\n",
              "      <td>0.00</td>\n",
              "      <td>1</td>\n",
              "      <td>N</td>\n",
              "      <td>0.00</td>\n",
              "      <td>2.485</td>\n",
              "      <td>Y</td>\n",
              "    </tr>\n",
              "    <tr>\n",
              "      <th>6511</th>\n",
              "      <td>N</td>\n",
              "      <td>3</td>\n",
              "      <td>0.0</td>\n",
              "      <td>2</td>\n",
              "      <td>Y</td>\n",
              "      <td>N</td>\n",
              "      <td>30</td>\n",
              "      <td>Y</td>\n",
              "      <td>0.00</td>\n",
              "      <td>0.00</td>\n",
              "      <td>0.00</td>\n",
              "      <td>1</td>\n",
              "      <td>N</td>\n",
              "      <td>0.00</td>\n",
              "      <td>0.540</td>\n",
              "      <td>Y</td>\n",
              "    </tr>\n",
              "    <tr>\n",
              "      <th>7499</th>\n",
              "      <td>N</td>\n",
              "      <td>3</td>\n",
              "      <td>0.0</td>\n",
              "      <td>4</td>\n",
              "      <td>Y</td>\n",
              "      <td>N</td>\n",
              "      <td>33</td>\n",
              "      <td>Y</td>\n",
              "      <td>43.00</td>\n",
              "      <td>2.50</td>\n",
              "      <td>17.00</td>\n",
              "      <td>2</td>\n",
              "      <td>N</td>\n",
              "      <td>10.50</td>\n",
              "      <td>2.075</td>\n",
              "      <td>Y</td>\n",
              "    </tr>\n",
              "    <tr>\n",
              "      <th>5578</th>\n",
              "      <td>N</td>\n",
              "      <td>4</td>\n",
              "      <td>0.0</td>\n",
              "      <td>1</td>\n",
              "      <td>Y</td>\n",
              "      <td>N</td>\n",
              "      <td>39</td>\n",
              "      <td>Y</td>\n",
              "      <td>45.00</td>\n",
              "      <td>3.00</td>\n",
              "      <td>17.00</td>\n",
              "      <td>2</td>\n",
              "      <td>N</td>\n",
              "      <td>11.00</td>\n",
              "      <td>0.711</td>\n",
              "      <td>Y</td>\n",
              "    </tr>\n",
              "    <tr>\n",
              "      <th>...</th>\n",
              "      <td>...</td>\n",
              "      <td>...</td>\n",
              "      <td>...</td>\n",
              "      <td>...</td>\n",
              "      <td>...</td>\n",
              "      <td>...</td>\n",
              "      <td>...</td>\n",
              "      <td>...</td>\n",
              "      <td>...</td>\n",
              "      <td>...</td>\n",
              "      <td>...</td>\n",
              "      <td>...</td>\n",
              "      <td>...</td>\n",
              "      <td>...</td>\n",
              "      <td>...</td>\n",
              "      <td>...</td>\n",
              "    </tr>\n",
              "    <tr>\n",
              "      <th>4255</th>\n",
              "      <td>N</td>\n",
              "      <td>3</td>\n",
              "      <td>0.0</td>\n",
              "      <td>4</td>\n",
              "      <td>Y</td>\n",
              "      <td>N</td>\n",
              "      <td>37</td>\n",
              "      <td>N</td>\n",
              "      <td>52.00</td>\n",
              "      <td>4.00</td>\n",
              "      <td>18.00</td>\n",
              "      <td>2</td>\n",
              "      <td>N</td>\n",
              "      <td>13.00</td>\n",
              "      <td>3.400</td>\n",
              "      <td>Y</td>\n",
              "    </tr>\n",
              "    <tr>\n",
              "      <th>30607</th>\n",
              "      <td>N</td>\n",
              "      <td>1</td>\n",
              "      <td>0.0</td>\n",
              "      <td>6</td>\n",
              "      <td>Y</td>\n",
              "      <td>N</td>\n",
              "      <td>35</td>\n",
              "      <td>N</td>\n",
              "      <td>51.00</td>\n",
              "      <td>6.00</td>\n",
              "      <td>15.00</td>\n",
              "      <td>2</td>\n",
              "      <td>N</td>\n",
              "      <td>12.00</td>\n",
              "      <td>3.920</td>\n",
              "      <td>Y</td>\n",
              "    </tr>\n",
              "    <tr>\n",
              "      <th>2524</th>\n",
              "      <td>N</td>\n",
              "      <td>1</td>\n",
              "      <td>0.0</td>\n",
              "      <td>4</td>\n",
              "      <td>Y</td>\n",
              "      <td>N</td>\n",
              "      <td>69</td>\n",
              "      <td>Y</td>\n",
              "      <td>39.00</td>\n",
              "      <td>5.00</td>\n",
              "      <td>13.00</td>\n",
              "      <td>1</td>\n",
              "      <td>N</td>\n",
              "      <td>8.00</td>\n",
              "      <td>0.310</td>\n",
              "      <td>Y</td>\n",
              "    </tr>\n",
              "    <tr>\n",
              "      <th>3012</th>\n",
              "      <td>N</td>\n",
              "      <td>1</td>\n",
              "      <td>0.0</td>\n",
              "      <td>3</td>\n",
              "      <td>Y</td>\n",
              "      <td>N</td>\n",
              "      <td>44</td>\n",
              "      <td>Y</td>\n",
              "      <td>52.00</td>\n",
              "      <td>4.00</td>\n",
              "      <td>18.00</td>\n",
              "      <td>2</td>\n",
              "      <td>N</td>\n",
              "      <td>13.00</td>\n",
              "      <td>2.760</td>\n",
              "      <td>Y</td>\n",
              "    </tr>\n",
              "    <tr>\n",
              "      <th>39650</th>\n",
              "      <td>N</td>\n",
              "      <td>5</td>\n",
              "      <td>0.0</td>\n",
              "      <td>4</td>\n",
              "      <td>Y</td>\n",
              "      <td>N</td>\n",
              "      <td>35</td>\n",
              "      <td>N</td>\n",
              "      <td>0.00</td>\n",
              "      <td>0.00</td>\n",
              "      <td>0.00</td>\n",
              "      <td>1</td>\n",
              "      <td>N</td>\n",
              "      <td>0.00</td>\n",
              "      <td>0.930</td>\n",
              "      <td>Y</td>\n",
              "    </tr>\n",
              "  </tbody>\n",
              "</table>\n",
              "<p>32642 rows × 16 columns</p>\n",
              "</div>"
            ],
            "text/plain": [
              "      Backorder flag  ...  Second carrier on time flag\n",
              "2109               N  ...                            Y\n",
              "13186              N  ...                            Y\n",
              "6511               N  ...                            Y\n",
              "7499               N  ...                            Y\n",
              "5578               N  ...                            Y\n",
              "...              ...  ...                          ...\n",
              "4255               N  ...                            Y\n",
              "30607              N  ...                            Y\n",
              "2524               N  ...                            Y\n",
              "3012               N  ...                            Y\n",
              "39650              N  ...                            Y\n",
              "\n",
              "[32642 rows x 16 columns]"
            ]
          },
          "metadata": {},
          "execution_count": 59
        }
      ]
    },
    {
      "cell_type": "markdown",
      "metadata": {
        "id": "wZo3y3Pi3cTv"
      },
      "source": [
        "Se divide nuevamente en el dataframe de X y el de Y."
      ]
    },
    {
      "cell_type": "code",
      "metadata": {
        "id": "dW04_OkP5Zn4"
      },
      "source": [
        "X = packages_NN.drop('Package delivered by quoted date indicator', axis = 1)\n",
        "y = packages_NN['Package delivered by quoted date indicator']"
      ],
      "execution_count": 60,
      "outputs": []
    },
    {
      "cell_type": "markdown",
      "metadata": {
        "id": "8mduro2jTPMa"
      },
      "source": [
        "Seguidamente realizamos un one-hot encoding con la data de las columnas, usando la función get_dummies:\n",
        "\n",
        "- \"Backorder flag\"\n",
        "- \"Dimension weight flag\"\n",
        "- \"Monogramming product flag\"\n",
        "- \"Package product service flag\"\n",
        "- \"Second carrier on time flag\""
      ]
    },
    {
      "cell_type": "code",
      "metadata": {
        "colab": {
          "base_uri": "https://localhost:8080/",
          "height": 488
        },
        "id": "TkriFMqb5tHa",
        "outputId": "e5ead343-e625-49ca-e2e1-4aff1bf6533c"
      },
      "source": [
        "# One-hot encoding \n",
        "X_procesado = pd.get_dummies(X, columns=['Backorder flag','Dimension weight flag','Monogramming product flag','Package product service flag','Second carrier on time flag'])\n",
        "X_procesado"
      ],
      "execution_count": 61,
      "outputs": [
        {
          "output_type": "execute_result",
          "data": {
            "text/html": [
              "<div>\n",
              "<style scoped>\n",
              "    .dataframe tbody tr th:only-of-type {\n",
              "        vertical-align: middle;\n",
              "    }\n",
              "\n",
              "    .dataframe tbody tr th {\n",
              "        vertical-align: top;\n",
              "    }\n",
              "\n",
              "    .dataframe thead th {\n",
              "        text-align: right;\n",
              "    }\n",
              "</style>\n",
              "<table border=\"1\" class=\"dataframe\">\n",
              "  <thead>\n",
              "    <tr style=\"text-align: right;\">\n",
              "      <th></th>\n",
              "      <th>Carrier delivery days</th>\n",
              "      <th>Carrier delivery delay minutes</th>\n",
              "      <th>Dist Center Fulfilment Ops Days</th>\n",
              "      <th>Order release to DC minutes</th>\n",
              "      <th>Package girth</th>\n",
              "      <th>Package height</th>\n",
              "      <th>Package length</th>\n",
              "      <th>Package merchandise quantity</th>\n",
              "      <th>Package width</th>\n",
              "      <th>Package weight</th>\n",
              "      <th>Backorder flag_N</th>\n",
              "      <th>Backorder flag_Y</th>\n",
              "      <th>Dimension weight flag_N</th>\n",
              "      <th>Dimension weight flag_Y</th>\n",
              "      <th>Monogramming product flag_N</th>\n",
              "      <th>Monogramming product flag_Y</th>\n",
              "      <th>Package product service flag_N</th>\n",
              "      <th>Package product service flag_Y</th>\n",
              "      <th>Second carrier on time flag_N</th>\n",
              "      <th>Second carrier on time flag_Y</th>\n",
              "    </tr>\n",
              "  </thead>\n",
              "  <tbody>\n",
              "    <tr>\n",
              "      <th>2109</th>\n",
              "      <td>5</td>\n",
              "      <td>0.0</td>\n",
              "      <td>1</td>\n",
              "      <td>37</td>\n",
              "      <td>59.14</td>\n",
              "      <td>5.75</td>\n",
              "      <td>18.38</td>\n",
              "      <td>2</td>\n",
              "      <td>14.63</td>\n",
              "      <td>6.545</td>\n",
              "      <td>1</td>\n",
              "      <td>0</td>\n",
              "      <td>0</td>\n",
              "      <td>1</td>\n",
              "      <td>1</td>\n",
              "      <td>0</td>\n",
              "      <td>1</td>\n",
              "      <td>0</td>\n",
              "      <td>0</td>\n",
              "      <td>1</td>\n",
              "    </tr>\n",
              "    <tr>\n",
              "      <th>13186</th>\n",
              "      <td>6</td>\n",
              "      <td>0.0</td>\n",
              "      <td>2</td>\n",
              "      <td>13</td>\n",
              "      <td>0.00</td>\n",
              "      <td>0.00</td>\n",
              "      <td>0.00</td>\n",
              "      <td>1</td>\n",
              "      <td>0.00</td>\n",
              "      <td>2.485</td>\n",
              "      <td>1</td>\n",
              "      <td>0</td>\n",
              "      <td>0</td>\n",
              "      <td>1</td>\n",
              "      <td>1</td>\n",
              "      <td>0</td>\n",
              "      <td>1</td>\n",
              "      <td>0</td>\n",
              "      <td>0</td>\n",
              "      <td>1</td>\n",
              "    </tr>\n",
              "    <tr>\n",
              "      <th>6511</th>\n",
              "      <td>3</td>\n",
              "      <td>0.0</td>\n",
              "      <td>2</td>\n",
              "      <td>30</td>\n",
              "      <td>0.00</td>\n",
              "      <td>0.00</td>\n",
              "      <td>0.00</td>\n",
              "      <td>1</td>\n",
              "      <td>0.00</td>\n",
              "      <td>0.540</td>\n",
              "      <td>1</td>\n",
              "      <td>0</td>\n",
              "      <td>0</td>\n",
              "      <td>1</td>\n",
              "      <td>1</td>\n",
              "      <td>0</td>\n",
              "      <td>1</td>\n",
              "      <td>0</td>\n",
              "      <td>0</td>\n",
              "      <td>1</td>\n",
              "    </tr>\n",
              "    <tr>\n",
              "      <th>7499</th>\n",
              "      <td>3</td>\n",
              "      <td>0.0</td>\n",
              "      <td>4</td>\n",
              "      <td>33</td>\n",
              "      <td>43.00</td>\n",
              "      <td>2.50</td>\n",
              "      <td>17.00</td>\n",
              "      <td>2</td>\n",
              "      <td>10.50</td>\n",
              "      <td>2.075</td>\n",
              "      <td>1</td>\n",
              "      <td>0</td>\n",
              "      <td>0</td>\n",
              "      <td>1</td>\n",
              "      <td>1</td>\n",
              "      <td>0</td>\n",
              "      <td>1</td>\n",
              "      <td>0</td>\n",
              "      <td>0</td>\n",
              "      <td>1</td>\n",
              "    </tr>\n",
              "    <tr>\n",
              "      <th>5578</th>\n",
              "      <td>4</td>\n",
              "      <td>0.0</td>\n",
              "      <td>1</td>\n",
              "      <td>39</td>\n",
              "      <td>45.00</td>\n",
              "      <td>3.00</td>\n",
              "      <td>17.00</td>\n",
              "      <td>2</td>\n",
              "      <td>11.00</td>\n",
              "      <td>0.711</td>\n",
              "      <td>1</td>\n",
              "      <td>0</td>\n",
              "      <td>0</td>\n",
              "      <td>1</td>\n",
              "      <td>1</td>\n",
              "      <td>0</td>\n",
              "      <td>1</td>\n",
              "      <td>0</td>\n",
              "      <td>0</td>\n",
              "      <td>1</td>\n",
              "    </tr>\n",
              "    <tr>\n",
              "      <th>...</th>\n",
              "      <td>...</td>\n",
              "      <td>...</td>\n",
              "      <td>...</td>\n",
              "      <td>...</td>\n",
              "      <td>...</td>\n",
              "      <td>...</td>\n",
              "      <td>...</td>\n",
              "      <td>...</td>\n",
              "      <td>...</td>\n",
              "      <td>...</td>\n",
              "      <td>...</td>\n",
              "      <td>...</td>\n",
              "      <td>...</td>\n",
              "      <td>...</td>\n",
              "      <td>...</td>\n",
              "      <td>...</td>\n",
              "      <td>...</td>\n",
              "      <td>...</td>\n",
              "      <td>...</td>\n",
              "      <td>...</td>\n",
              "    </tr>\n",
              "    <tr>\n",
              "      <th>4255</th>\n",
              "      <td>3</td>\n",
              "      <td>0.0</td>\n",
              "      <td>4</td>\n",
              "      <td>37</td>\n",
              "      <td>52.00</td>\n",
              "      <td>4.00</td>\n",
              "      <td>18.00</td>\n",
              "      <td>2</td>\n",
              "      <td>13.00</td>\n",
              "      <td>3.400</td>\n",
              "      <td>1</td>\n",
              "      <td>0</td>\n",
              "      <td>0</td>\n",
              "      <td>1</td>\n",
              "      <td>1</td>\n",
              "      <td>0</td>\n",
              "      <td>1</td>\n",
              "      <td>0</td>\n",
              "      <td>0</td>\n",
              "      <td>1</td>\n",
              "    </tr>\n",
              "    <tr>\n",
              "      <th>30607</th>\n",
              "      <td>1</td>\n",
              "      <td>0.0</td>\n",
              "      <td>6</td>\n",
              "      <td>35</td>\n",
              "      <td>51.00</td>\n",
              "      <td>6.00</td>\n",
              "      <td>15.00</td>\n",
              "      <td>2</td>\n",
              "      <td>12.00</td>\n",
              "      <td>3.920</td>\n",
              "      <td>1</td>\n",
              "      <td>0</td>\n",
              "      <td>0</td>\n",
              "      <td>1</td>\n",
              "      <td>1</td>\n",
              "      <td>0</td>\n",
              "      <td>1</td>\n",
              "      <td>0</td>\n",
              "      <td>0</td>\n",
              "      <td>1</td>\n",
              "    </tr>\n",
              "    <tr>\n",
              "      <th>2524</th>\n",
              "      <td>1</td>\n",
              "      <td>0.0</td>\n",
              "      <td>4</td>\n",
              "      <td>69</td>\n",
              "      <td>39.00</td>\n",
              "      <td>5.00</td>\n",
              "      <td>13.00</td>\n",
              "      <td>1</td>\n",
              "      <td>8.00</td>\n",
              "      <td>0.310</td>\n",
              "      <td>1</td>\n",
              "      <td>0</td>\n",
              "      <td>0</td>\n",
              "      <td>1</td>\n",
              "      <td>1</td>\n",
              "      <td>0</td>\n",
              "      <td>1</td>\n",
              "      <td>0</td>\n",
              "      <td>0</td>\n",
              "      <td>1</td>\n",
              "    </tr>\n",
              "    <tr>\n",
              "      <th>3012</th>\n",
              "      <td>1</td>\n",
              "      <td>0.0</td>\n",
              "      <td>3</td>\n",
              "      <td>44</td>\n",
              "      <td>52.00</td>\n",
              "      <td>4.00</td>\n",
              "      <td>18.00</td>\n",
              "      <td>2</td>\n",
              "      <td>13.00</td>\n",
              "      <td>2.760</td>\n",
              "      <td>1</td>\n",
              "      <td>0</td>\n",
              "      <td>0</td>\n",
              "      <td>1</td>\n",
              "      <td>1</td>\n",
              "      <td>0</td>\n",
              "      <td>1</td>\n",
              "      <td>0</td>\n",
              "      <td>0</td>\n",
              "      <td>1</td>\n",
              "    </tr>\n",
              "    <tr>\n",
              "      <th>39650</th>\n",
              "      <td>5</td>\n",
              "      <td>0.0</td>\n",
              "      <td>4</td>\n",
              "      <td>35</td>\n",
              "      <td>0.00</td>\n",
              "      <td>0.00</td>\n",
              "      <td>0.00</td>\n",
              "      <td>1</td>\n",
              "      <td>0.00</td>\n",
              "      <td>0.930</td>\n",
              "      <td>1</td>\n",
              "      <td>0</td>\n",
              "      <td>0</td>\n",
              "      <td>1</td>\n",
              "      <td>1</td>\n",
              "      <td>0</td>\n",
              "      <td>1</td>\n",
              "      <td>0</td>\n",
              "      <td>0</td>\n",
              "      <td>1</td>\n",
              "    </tr>\n",
              "  </tbody>\n",
              "</table>\n",
              "<p>32642 rows × 20 columns</p>\n",
              "</div>"
            ],
            "text/plain": [
              "       Carrier delivery days  ...  Second carrier on time flag_Y\n",
              "2109                       5  ...                              1\n",
              "13186                      6  ...                              1\n",
              "6511                       3  ...                              1\n",
              "7499                       3  ...                              1\n",
              "5578                       4  ...                              1\n",
              "...                      ...  ...                            ...\n",
              "4255                       3  ...                              1\n",
              "30607                      1  ...                              1\n",
              "2524                       1  ...                              1\n",
              "3012                       1  ...                              1\n",
              "39650                      5  ...                              1\n",
              "\n",
              "[32642 rows x 20 columns]"
            ]
          },
          "metadata": {},
          "execution_count": 61
        }
      ]
    },
    {
      "cell_type": "markdown",
      "metadata": {
        "id": "gYbReIS1TZMy"
      },
      "source": [
        "Luego, se realiza el one hot encoding pero solamente de la y que queremos predecir. "
      ]
    },
    {
      "cell_type": "code",
      "metadata": {
        "colab": {
          "base_uri": "https://localhost:8080/",
          "height": 418
        },
        "id": "6wbq828l6WAt",
        "outputId": "b168cc26-d750-4420-930e-3bde71f57321"
      },
      "source": [
        "y_procesado = pd.get_dummies(y)\n",
        "y_procesado"
      ],
      "execution_count": 62,
      "outputs": [
        {
          "output_type": "execute_result",
          "data": {
            "text/html": [
              "<div>\n",
              "<style scoped>\n",
              "    .dataframe tbody tr th:only-of-type {\n",
              "        vertical-align: middle;\n",
              "    }\n",
              "\n",
              "    .dataframe tbody tr th {\n",
              "        vertical-align: top;\n",
              "    }\n",
              "\n",
              "    .dataframe thead th {\n",
              "        text-align: right;\n",
              "    }\n",
              "</style>\n",
              "<table border=\"1\" class=\"dataframe\">\n",
              "  <thead>\n",
              "    <tr style=\"text-align: right;\">\n",
              "      <th></th>\n",
              "      <th>N</th>\n",
              "      <th>Y</th>\n",
              "    </tr>\n",
              "  </thead>\n",
              "  <tbody>\n",
              "    <tr>\n",
              "      <th>2109</th>\n",
              "      <td>0</td>\n",
              "      <td>1</td>\n",
              "    </tr>\n",
              "    <tr>\n",
              "      <th>13186</th>\n",
              "      <td>0</td>\n",
              "      <td>1</td>\n",
              "    </tr>\n",
              "    <tr>\n",
              "      <th>6511</th>\n",
              "      <td>0</td>\n",
              "      <td>1</td>\n",
              "    </tr>\n",
              "    <tr>\n",
              "      <th>7499</th>\n",
              "      <td>0</td>\n",
              "      <td>1</td>\n",
              "    </tr>\n",
              "    <tr>\n",
              "      <th>5578</th>\n",
              "      <td>0</td>\n",
              "      <td>1</td>\n",
              "    </tr>\n",
              "    <tr>\n",
              "      <th>...</th>\n",
              "      <td>...</td>\n",
              "      <td>...</td>\n",
              "    </tr>\n",
              "    <tr>\n",
              "      <th>4255</th>\n",
              "      <td>1</td>\n",
              "      <td>0</td>\n",
              "    </tr>\n",
              "    <tr>\n",
              "      <th>30607</th>\n",
              "      <td>1</td>\n",
              "      <td>0</td>\n",
              "    </tr>\n",
              "    <tr>\n",
              "      <th>2524</th>\n",
              "      <td>0</td>\n",
              "      <td>1</td>\n",
              "    </tr>\n",
              "    <tr>\n",
              "      <th>3012</th>\n",
              "      <td>0</td>\n",
              "      <td>1</td>\n",
              "    </tr>\n",
              "    <tr>\n",
              "      <th>39650</th>\n",
              "      <td>1</td>\n",
              "      <td>0</td>\n",
              "    </tr>\n",
              "  </tbody>\n",
              "</table>\n",
              "<p>32642 rows × 2 columns</p>\n",
              "</div>"
            ],
            "text/plain": [
              "       N  Y\n",
              "2109   0  1\n",
              "13186  0  1\n",
              "6511   0  1\n",
              "7499   0  1\n",
              "5578   0  1\n",
              "...   .. ..\n",
              "4255   1  0\n",
              "30607  1  0\n",
              "2524   0  1\n",
              "3012   0  1\n",
              "39650  1  0\n",
              "\n",
              "[32642 rows x 2 columns]"
            ]
          },
          "metadata": {},
          "execution_count": 62
        }
      ]
    },
    {
      "cell_type": "markdown",
      "metadata": {
        "id": "E11YdsYKTb3F"
      },
      "source": [
        "Se procede a escalar los datos de X usando la función MinMaxScaler, que los deja entre el rango de 0 y 1. Esto permite que a ninguna columna se le dé más importancia por cuestiones de tamaño. "
      ]
    },
    {
      "cell_type": "code",
      "metadata": {
        "id": "KVjo4Arw69ud"
      },
      "source": [
        "escalado = MinMaxScaler()\n",
        "X_escalado = escalado.fit_transform(X_procesado)\n",
        "X_escalado = pd.DataFrame(data = X_escalado, columns = X_procesado.columns)\n",
        "\n"
      ],
      "execution_count": 63,
      "outputs": []
    },
    {
      "cell_type": "markdown",
      "metadata": {
        "id": "PX3UdilK34u7"
      },
      "source": [
        "Ahora, se pasan los datos a arrays de numpy para poder ser utilizados por la red neuronal, y se verifica que tanto la X y la y tengan la misma cantidad de registros."
      ]
    },
    {
      "cell_type": "code",
      "metadata": {
        "colab": {
          "base_uri": "https://localhost:8080/"
        },
        "id": "wRy5pHSR35yl",
        "outputId": "1de1ab0f-be74-4a84-ab24-527356dee0f8"
      },
      "source": [
        "X_NN = np.array(X_escalado)\n",
        "y_NN = np.array(y_procesado)\n",
        "\n",
        "#Verificando la entrada y la salida de los datos\n",
        "print(\"Forma de X:\", X_NN.shape)\n",
        "print(\"\\nForma de y:\", y_NN.shape)"
      ],
      "execution_count": 64,
      "outputs": [
        {
          "output_type": "stream",
          "name": "stdout",
          "text": [
            "Forma de X: (32642, 20)\n",
            "\n",
            "Forma de y: (32642, 2)\n"
          ]
        }
      ]
    },
    {
      "cell_type": "markdown",
      "metadata": {
        "id": "BxJbQoxO4J10"
      },
      "source": [
        "A continuación se parten los datos en entrenamiento y testeo, con un valor de entrenamiento del 70%, según bibliografía. "
      ]
    },
    {
      "cell_type": "code",
      "metadata": {
        "id": "iBgGDRnL7mjE"
      },
      "source": [
        "X_train, X_test, y_train, y_test = train_test_split(X_NN, y_NN, train_size= 0.7, random_state = 1234, shuffle = True)"
      ],
      "execution_count": 65,
      "outputs": []
    },
    {
      "cell_type": "code",
      "metadata": {
        "colab": {
          "base_uri": "https://localhost:8080/"
        },
        "id": "ni8E45EG7r0E",
        "outputId": "030f4c63-7ba5-4733-bde8-9dd2aaa0eb0c"
      },
      "source": [
        "print(y_train.shape)\n",
        "print(X_train.shape)\n",
        "\n",
        "print(y_test.shape)\n",
        "print(X_test.shape)"
      ],
      "execution_count": 66,
      "outputs": [
        {
          "output_type": "stream",
          "name": "stdout",
          "text": [
            "(22849, 2)\n",
            "(22849, 20)\n",
            "(9793, 2)\n",
            "(9793, 20)\n"
          ]
        }
      ]
    },
    {
      "cell_type": "markdown",
      "metadata": {
        "id": "a5tmBZWdTg_q"
      },
      "source": [
        "Se importan las librerías para la red neuronal, que en este caso se va a realizar utilizando keras."
      ]
    },
    {
      "cell_type": "code",
      "metadata": {
        "id": "Yqz3ZsJR7umy"
      },
      "source": [
        "# Imports para keras\n",
        "import numpy as np\n",
        "from sklearn.model_selection import GridSearchCV\n",
        "from keras.models import Sequential\n",
        "from keras.layers.core import Dense, Dropout, Activation\n",
        "from tensorflow.keras.optimizers import SGD\n",
        "from keras.utils import np_utils\n",
        "from keras.wrappers.scikit_learn import KerasClassifier\n"
      ],
      "execution_count": 67,
      "outputs": []
    },
    {
      "cell_type": "markdown",
      "metadata": {
        "id": "0Nv5GgHJ4Zrj"
      },
      "source": [
        "Se decide por un modelo secuencial, con una capa de entrada de dimensión 20, que corresponde a la cantidad de variables que se tienen en X. Además, se usan 3 hidden layers, una con función de activación relu y dos con sigmoide.Según la literatura, la función de activación sigmoide es la mejor para cuando se intenta predecir una variable binaria; además, el loss de binary cross entropy también es el mejor para estos casos. Por otro lado, se utiliza el optimizador Adam, que junto con el rmsprop son los mejores para clasificación."
      ]
    },
    {
      "cell_type": "code",
      "metadata": {
        "colab": {
          "base_uri": "https://localhost:8080/"
        },
        "id": "mnw_zgOK7yTc",
        "outputId": "da11352b-2abc-4496-b1d8-63447f783404"
      },
      "source": [
        "model = Sequential()\n",
        "\n",
        "model.add(Dense(128, input_dim=20))\n",
        "model.add(Activation('relu'))\n",
        "\n",
        "model.add(Dense(64))\n",
        "model.add(Activation('sigmoid'))\n",
        "\n",
        "model.add(Dense(2))\n",
        "model.add(Activation('sigmoid'))\n",
        "\n",
        "# Compilando el modelo\n",
        "model.compile(loss = 'binary_crossentropy', optimizer='Adam', metrics=['accuracy'])\n",
        "\n",
        "model.summary()"
      ],
      "execution_count": 77,
      "outputs": [
        {
          "output_type": "stream",
          "name": "stdout",
          "text": [
            "Model: \"sequential_1\"\n",
            "_________________________________________________________________\n",
            " Layer (type)                Output Shape              Param #   \n",
            "=================================================================\n",
            " dense_3 (Dense)             (None, 128)               2688      \n",
            "                                                                 \n",
            " activation_3 (Activation)   (None, 128)               0         \n",
            "                                                                 \n",
            " dense_4 (Dense)             (None, 64)                8256      \n",
            "                                                                 \n",
            " activation_4 (Activation)   (None, 64)                0         \n",
            "                                                                 \n",
            " dense_5 (Dense)             (None, 2)                 130       \n",
            "                                                                 \n",
            " activation_5 (Activation)   (None, 2)                 0         \n",
            "                                                                 \n",
            "=================================================================\n",
            "Total params: 11,074\n",
            "Trainable params: 11,074\n",
            "Non-trainable params: 0\n",
            "_________________________________________________________________\n"
          ]
        }
      ]
    },
    {
      "cell_type": "markdown",
      "metadata": {
        "id": "oe_WmCYNTk6f"
      },
      "source": [
        "Se le aplica la red a los datos, usando arbitrariamente 460 epochs y un tamaño de batch de 20. "
      ]
    },
    {
      "cell_type": "code",
      "metadata": {
        "id": "ztiMGLg971mN"
      },
      "source": [
        "history = model.fit(X_train, y_train,validation_data=(X_test, y_test), epochs=460, batch_size=20, verbose=0)"
      ],
      "execution_count": 78,
      "outputs": []
    },
    {
      "cell_type": "markdown",
      "metadata": {
        "id": "lInQe11V9I4_"
      },
      "source": [
        "Se evalúa el modelo usando el score de entrenamiento y el de testeo, obteniendo casi un 80% en ambos."
      ]
    },
    {
      "cell_type": "code",
      "metadata": {
        "colab": {
          "base_uri": "https://localhost:8080/"
        },
        "id": "8PXM41XB8X94",
        "outputId": "469b51f8-5e38-4008-d26a-5cfb44a5e858"
      },
      "source": [
        "score = model.evaluate(X_train, y_train)\n",
        "print(\"\\n Training Accuracy:\", score[1])\n",
        "score = model.evaluate(X_test, y_test)\n",
        "print(\"\\n Testing Accuracy:\", score[1])"
      ],
      "execution_count": 80,
      "outputs": [
        {
          "output_type": "stream",
          "name": "stdout",
          "text": [
            "715/715 [==============================] - 1s 1ms/step - loss: 0.4208 - accuracy: 0.7919\n",
            "\n",
            " Training Accuracy: 0.7918508648872375\n",
            "307/307 [==============================] - 0s 1ms/step - loss: 0.4211 - accuracy: 0.7951\n",
            "\n",
            " Testing Accuracy: 0.7950577139854431\n"
          ]
        }
      ]
    },
    {
      "cell_type": "markdown",
      "metadata": {
        "id": "ki9otmWlT-TI"
      },
      "source": [
        "Seguidamente procedemos a realizar gráficos de validación de la precisión del modelo y de la validación de la pérdida para poder tunear el hiperparámetro de epochs, y tener una noción de cuál valor de este genera el mejor modelo."
      ]
    },
    {
      "cell_type": "code",
      "metadata": {
        "colab": {
          "base_uri": "https://localhost:8080/",
          "height": 433
        },
        "id": "a1F5L1p3GBp6",
        "outputId": "6c4d19ca-8919-4439-81f7-973e1d8ce9db"
      },
      "source": [
        "history_dict = history.history\n",
        "loss_values = history_dict['loss']\n",
        "val_loss_values = history_dict['val_loss']\n",
        "accuracy = history_dict['accuracy']\n",
        "val_accuracy = history_dict['val_accuracy']\n",
        " \n",
        "epochs = range(1, len(loss_values) + 1)\n",
        "fig, ax = plt.subplots(1, 2, figsize=(14, 6))\n",
        "\n",
        "ax[0].plot(epochs, accuracy, 'bo', label='Precisión de entrenamiento')\n",
        "ax[0].plot(epochs, val_accuracy, 'b', label='Precisión de validación')\n",
        "ax[0].set_title('Entrenamiento y validación de precisión', fontsize=16)\n",
        "ax[0].set_xlabel('Épocas', fontsize=16)\n",
        "ax[0].set_ylabel('Precisión', fontsize=16)\n",
        "ax[0].legend()\n",
        "\n",
        "ax[1].plot(epochs, loss_values, 'bo', label='Pérdida de entrenamiento')\n",
        "ax[1].plot(epochs, val_loss_values, 'b', label='Pérdida de validación')\n",
        "ax[1].set_title('Entrenamiento y validación de la pérdida', fontsize=16)\n",
        "ax[1].set_xlabel('Épocas', fontsize=16)\n",
        "ax[1].set_ylabel('Pérdida', fontsize=16)\n",
        "ax[1].legend()"
      ],
      "execution_count": 84,
      "outputs": [
        {
          "output_type": "execute_result",
          "data": {
            "text/plain": [
              "<matplotlib.legend.Legend at 0x7f62f45b74d0>"
            ]
          },
          "metadata": {},
          "execution_count": 84
        },
        {
          "output_type": "display_data",
          "data": {
            "image/png": "[encoded data removed]",
            "text/plain": [
              "<Figure size 1008x432 with 2 Axes>"
            ]
          },
          "metadata": {
            "needs_background": "light"
          }
        }
      ]
    },
    {
      "cell_type": "markdown",
      "metadata": {
        "id": "fu5BcMtioWsQ"
      },
      "source": [
        "Se denota usando las curvas que el modelo llega hasta el 80% al usar diversos valores de epochs, por lo tanto. Usando esta información, se corre de nuevo la red con un valor menor de epochs, siempre y cuando se encuentre por arriba de 100, que es cuando alcanza su mejor performance."
      ]
    },
    {
      "cell_type": "code",
      "metadata": {
        "colab": {
          "base_uri": "https://localhost:8080/"
        },
        "id": "qwsdgcHU9zii",
        "outputId": "565fd6de-f33e-48fe-cc66-411411284f90"
      },
      "source": [
        "model.fit(X_train, y_train,validation_data=(X_test, y_test), epochs=160, batch_size=20, verbose=0)"
      ],
      "execution_count": 82,
      "outputs": [
        {
          "output_type": "execute_result",
          "data": {
            "text/plain": [
              "<keras.callbacks.History at 0x7f62f462b350>"
            ]
          },
          "metadata": {},
          "execution_count": 82
        }
      ]
    },
    {
      "cell_type": "code",
      "metadata": {
        "colab": {
          "base_uri": "https://localhost:8080/"
        },
        "id": "pt3kTOIg_Ghz",
        "outputId": "d0e46bf0-4491-403e-a509-85fba6e3cbc4"
      },
      "source": [
        "score = model.evaluate(X_train, y_train)\n",
        "print(\"\\n Training Accuracy:\", score[1])\n",
        "score = model.evaluate(X_test, y_test)\n",
        "print(\"\\n Testing Accuracy:\", score[1])"
      ],
      "execution_count": 83,
      "outputs": [
        {
          "output_type": "stream",
          "name": "stdout",
          "text": [
            "715/715 [==============================] - 1s 1ms/step - loss: 0.4191 - accuracy: 0.7950\n",
            "\n",
            " Training Accuracy: 0.7949581742286682\n",
            "307/307 [==============================] - 0s 1ms/step - loss: 0.4262 - accuracy: 0.7986\n",
            "\n",
            " Testing Accuracy: 0.7986316680908203\n"
          ]
        }
      ]
    },
    {
      "cell_type": "markdown",
      "metadata": {
        "id": "8NMjIVdVGWm7"
      },
      "source": [
        "Al correr la red usando el nuevo número de epochs se denote que la precisión de testeo mejoró en un 0,3%, alcanzando un 79,86%."
      ]
    },
    {
      "cell_type": "markdown",
      "metadata": {
        "id": "bBlphPhfG6Jl"
      },
      "source": [
        "**Conclusión**\n",
        "\n",
        "Tanto la red neuronal como el random forest permiten encontrar modelos que se desempeñan adecuadamente ante el data set presentado en el problema, alcanzando niveles que rondan el 80% de precisión para los datos de validación, en ambos casos. \n",
        "\n",
        "Estos buenos niveles de precisión pueden deberse a que la limpieza realizada a los datos fue adecuada, además de que se trata de modelos sumamente poderosos y que se ajustaron de buena manera a los datos en cuestión. De hecho, usando el gráfico obtenido de las variables importantes para el modelo, se podría correr uno nuevo solamente con las 5 variables que explican el 85% de la variabilidad, para ver cómo se comporta la precisión en este caso, y ver si las demás variables podrían dejar de medirse. \n",
        "\n",
        "Finalmente, se resalta que si bien el tuneo de hiperparámetros mejora un poco el modelo en ambos casos, no resulta una mejoría sustancial en cuanto a precisión, pero sí en la eficiencia del modelo, al reducir el número de árboles en el random forest y el número de epochs en la red neuronal. "
      ]
    }
  ]
}