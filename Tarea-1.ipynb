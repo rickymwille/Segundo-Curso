{
 "cells": [
  {
   "cell_type": "markdown",
   "id": "54b94d62",
   "metadata": {},
   "source": [
    "# Programa de Ciencia de Datos, Aprendizaje Automático\n",
    "# Trabajo 1\n",
    "\n",
    "**Tarea #1**\n",
    "\n",
    "\n",
    "Estudiantes:\n",
    "\n",
    "   - *Ricardo Montero Wille*\n",
    "\n",
    "   - *Esteban Pérez Navarro*\n",
    "\n",
    "**Pregunta #1:**\n",
    "\n",
    "Crear un ambiente de trabajo (.ipynb) basado en PYTHON3 y llamarle Tarea-1.ipynb, además debe contener\n",
    "las librerías: numpy, matplotlib, scikit-learn, pandas, jupyter notebook como mínimo, puede agre-\n",
    "gar las que considere necesario. \n",
    "\n",
    "El objetivo de esta Tarea 1 consiste en normalizar y estandarizar el set de datos de daily-min-temperatures.csv de forma manual y automática a partir de scikit-learn o la librería que considere apropiada."
   ]
  },
  {
   "cell_type": "code",
   "execution_count": 1,
   "id": "9f0ccea0",
   "metadata": {},
   "outputs": [],
   "source": [
    "import numpy as np\n",
    "import matplotlib as plt\n",
    "import sklearn\n",
    "import pandas as pd\n",
    "from sklearn.preprocessing import StandardScaler\n",
    "from sklearn.preprocessing import MinMaxScaler\n",
    "import statistics\n",
    "pd.options.mode.chained_assignment = None  # default='warn'\n"
   ]
  },
  {
   "cell_type": "markdown",
   "id": "e6120681",
   "metadata": {},
   "source": [
    "Lo primero que hacemos es importar las librerías a utilizar. \n",
    "Las librerías que utilizaremos son: Numpy, Matplotlib, Scikit-Learn, Pandas y Statistics. (Utilizamos el chained_assignment para evitar un warning que pandas envía)"
   ]
  },
  {
   "cell_type": "code",
   "execution_count": 2,
   "id": "61d79c62",
   "metadata": {},
   "outputs": [
    {
     "data": {
      "text/html": [
       "<div>\n",
       "<style scoped>\n",
       "    .dataframe tbody tr th:only-of-type {\n",
       "        vertical-align: middle;\n",
       "    }\n",
       "\n",
       "    .dataframe tbody tr th {\n",
       "        vertical-align: top;\n",
       "    }\n",
       "\n",
       "    .dataframe thead th {\n",
       "        text-align: right;\n",
       "    }\n",
       "</style>\n",
       "<table border=\"1\" class=\"dataframe\">\n",
       "  <thead>\n",
       "    <tr style=\"text-align: right;\">\n",
       "      <th></th>\n",
       "      <th>Date</th>\n",
       "      <th>Temp</th>\n",
       "    </tr>\n",
       "  </thead>\n",
       "  <tbody>\n",
       "    <tr>\n",
       "      <th>0</th>\n",
       "      <td>1981-01-01</td>\n",
       "      <td>20.7</td>\n",
       "    </tr>\n",
       "    <tr>\n",
       "      <th>1</th>\n",
       "      <td>1981-01-02</td>\n",
       "      <td>17.9</td>\n",
       "    </tr>\n",
       "    <tr>\n",
       "      <th>2</th>\n",
       "      <td>1981-01-03</td>\n",
       "      <td>18.8</td>\n",
       "    </tr>\n",
       "    <tr>\n",
       "      <th>3</th>\n",
       "      <td>1981-01-04</td>\n",
       "      <td>14.6</td>\n",
       "    </tr>\n",
       "    <tr>\n",
       "      <th>4</th>\n",
       "      <td>1981-01-05</td>\n",
       "      <td>15.8</td>\n",
       "    </tr>\n",
       "  </tbody>\n",
       "</table>\n",
       "</div>"
      ],
      "text/plain": [
       "         Date  Temp\n",
       "0  1981-01-01  20.7\n",
       "1  1981-01-02  17.9\n",
       "2  1981-01-03  18.8\n",
       "3  1981-01-04  14.6\n",
       "4  1981-01-05  15.8"
      ]
     },
     "execution_count": 2,
     "metadata": {},
     "output_type": "execute_result"
    }
   ],
   "source": [
    "archivo = \"daily-min-temperatures.txt\"\n",
    "df_manual_nrm = pd.read_csv(archivo) \n",
    "df_manual_std = pd.read_csv(archivo) \n",
    "df_automatico = pd.read_csv(archivo) \n",
    "df_top = df_automatico.head() \n",
    "df_top"
   ]
  },
  {
   "cell_type": "markdown",
   "id": "a6d84827",
   "metadata": {},
   "source": [
    "Leemos el archivo \"Daily Min Temperatures\"  y lo cargamos en 3 variables diferentes; una para la normalización manual, otra para la estandarización manual y una para las automáticas."
   ]
  },
  {
   "cell_type": "code",
   "execution_count": 3,
   "id": "920b1db9",
   "metadata": {},
   "outputs": [],
   "source": [
    "standardizer = StandardScaler()\n",
    "temp_automatico_std = standardizer.fit_transform(df_automatico[['Temp']])\n",
    "\n",
    "normalizer = MinMaxScaler()\n",
    "temp_automatico_nrm = normalizer.fit_transform(df_automatico[['Temp']])"
   ]
  },
  {
   "cell_type": "markdown",
   "id": "4c9eb8bb",
   "metadata": {},
   "source": [
    "Se utilizan las fórmulas que realizan el proceso de manera automática, que son StandardScaler() y MinMaxScaler(), las cuales son para estandarizar y para normalizar respectivamente."
   ]
  },
  {
   "cell_type": "code",
   "execution_count": 4,
   "id": "7942d814",
   "metadata": {},
   "outputs": [],
   "source": [
    "x = statistics.mean(df_manual_std['Temp'])\n",
    "\n",
    "y = statistics.stdev(df_manual_std['Temp'])\n",
    "\n",
    "maximo = df_manual_nrm['Temp'].max()\n",
    "\n",
    "minimo = df_manual_nrm['Temp'].min()\n",
    "\n",
    "temp_manual_std = df_manual_std['Temp']\n",
    "temp_manual_nrm = df_manual_nrm['Temp']"
   ]
  },
  {
   "cell_type": "markdown",
   "id": "bd599b00",
   "metadata": {},
   "source": [
    "Utilizamos las fórmulas para sacar la media y la deviación estándar de la columna que necesitábamos ('Temp') y también para sacar el número máximo y el mínimo.\n",
    "\n",
    "Después asignamos una variable temporal para la columna temp para cada uno de los métodos que vamos a aplicar."
   ]
  },
  {
   "cell_type": "code",
   "execution_count": 5,
   "id": "1ceec64e",
   "metadata": {},
   "outputs": [],
   "source": [
    "for i in range(temp_manual_std.size):\n",
    "    temp_manual_std[i] = (temp_manual_std[i]-x)/y\n",
    "\n",
    "\n",
    "\n",
    "for i in range(temp_manual_nrm.size):\n",
    "    temp_manual_nrm[i] = (temp_manual_nrm[i]-minimo)/(maximo-minimo)"
   ]
  },
  {
   "cell_type": "markdown",
   "id": "2da942df",
   "metadata": {},
   "source": [
    "Ahora se aplican las fórmulas de normalización y estandarización utilizando un for para cada una.\n",
    "\n",
    "La fórmula de normalización es la siguiente:\n",
    "\n",
    "$X=\\frac{X-X_{min}}{X_{max}-X_{min}} $\n",
    "\n",
    "La fórmula de estandarización es la siguiente:\n",
    "\n",
    "$X=\\frac{X-\\mu}{\\sigma} $"
   ]
  },
  {
   "cell_type": "code",
   "execution_count": null,
   "id": "9f5db173",
   "metadata": {},
   "outputs": [],
   "source": [
    "Imprimimos las estandarizaciones manual y automática respectivamente:"
   ]
  },
  {
   "cell_type": "code",
   "execution_count": 7,
   "id": "c7e5fe7f",
   "metadata": {},
   "outputs": [
    {
     "name": "stdout",
     "output_type": "stream",
     "text": [
      "[[2.33888328]\n",
      " [1.65113873]\n",
      " [1.87219948]\n",
      " ...\n",
      " [0.5703973 ]\n",
      " [1.11076801]\n",
      " [0.44758577]]\n",
      "            Date      Temp\n",
      "0     1981-01-01  2.338563\n",
      "1     1981-01-02  1.650913\n",
      "2     1981-01-03  1.871943\n",
      "3     1981-01-04  0.840467\n",
      "4     1981-01-05  1.135175\n",
      "...          ...       ...\n",
      "3645  1990-12-27  0.693114\n",
      "3646  1990-12-28  0.594878\n",
      "3647  1990-12-29  0.570319\n",
      "3648  1990-12-30  1.110616\n",
      "3649  1990-12-31  0.447524\n",
      "\n",
      "[3650 rows x 2 columns]\n"
     ]
    }
   ],
   "source": [
    "print (temp_automatico_std)\n",
    "print (df_manual_std)"
   ]
  },
  {
   "cell_type": "markdown",
   "id": "b37c8981",
   "metadata": {},
   "source": [
    "Imprimimos las normalizaciones manual y automática respectivamente:"
   ]
  },
  {
   "cell_type": "code",
   "execution_count": 8,
   "id": "f0e4da97",
   "metadata": {},
   "outputs": [
    {
     "name": "stdout",
     "output_type": "stream",
     "text": [
      "[[0.78707224]\n",
      " [0.68060837]\n",
      " [0.7148289 ]\n",
      " ...\n",
      " [0.51330798]\n",
      " [0.59695817]\n",
      " [0.49429658]]\n",
      "            Date      Temp\n",
      "0     1981-01-01  0.787072\n",
      "1     1981-01-02  0.680608\n",
      "2     1981-01-03  0.714829\n",
      "3     1981-01-04  0.555133\n",
      "4     1981-01-05  0.600760\n",
      "...          ...       ...\n",
      "3645  1990-12-27  0.532319\n",
      "3646  1990-12-28  0.517110\n",
      "3647  1990-12-29  0.513308\n",
      "3648  1990-12-30  0.596958\n",
      "3649  1990-12-31  0.494297\n",
      "\n",
      "[3650 rows x 2 columns]\n"
     ]
    }
   ],
   "source": [
    "print (temp_automatico_nrm)\n",
    "print (df_manual_nrm)"
   ]
  },
  {
   "cell_type": "code",
   "execution_count": null,
   "id": "3c0d6f1d",
   "metadata": {},
   "outputs": [],
   "source": []
  }
 ],
 "metadata": {
  "kernelspec": {
   "display_name": "Python 3",
   "language": "python",
   "name": "python3"
  },
  "language_info": {
   "codemirror_mode": {
    "name": "ipython",
    "version": 3
   },
   "file_extension": ".py",
   "mimetype": "text/x-python",
   "name": "python",
   "nbconvert_exporter": "python",
   "pygments_lexer": "ipython3",
   "version": "3.8.8"
  }
 },
 "nbformat": 4,
 "nbformat_minor": 5
}
