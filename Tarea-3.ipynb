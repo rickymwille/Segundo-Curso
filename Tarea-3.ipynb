{
 "cells": [
  {
   "cell_type": "markdown",
   "id": "a5df7e5a",
   "metadata": {},
   "source": [
    "# Programa de Ciencia de Datos, Aprendizaje Automático\n",
    "\n",
    "\n",
    "**Tarea #3**\n",
    "\n",
    "Estudiantes:\n",
    "\n",
    "   - *Ricardo Montero Wille*\n",
    "\n",
    "   - *Esteban Pérez Navarro*\n",
    "   \n",
    "   "
   ]
  },
  {
   "cell_type": "markdown",
   "id": "7540c138",
   "metadata": {},
   "source": [
    "**Métricas para evaluación de modelos de aprendizaje supervisado**\n",
    "\n",
    "**Clasificación:**\n",
    "\n",
    "- Matriz de Confusión:\n",
    "\n",
    "        Se utiliza para evaluar la presición de un clasificador. Cada columna de la matriz representa el número de predicciones de cada clase, mientras que las filas las instancias en la clase real. Se puede apreciar los tipos de aciertos y errores que nuestro modelo tiene a la hora de pasar los datos por el modelo de aprendizaje.\n",
    "        \n",
    "        Para un ejemplo de falso positivo se pueden utilizar correos que se filtran como no deseados que si lo son. De falso negativo se puede utilizar de ejemplo cuando una prueba de embarazo sale negativa y claramente la persona que se la realizó si lo está.\n",
    "\n",
    "\n",
    "- Métrica de Exactitud:\n",
    "        \n",
    "        Indica el número de elementos que se han clasificado de manera correcta en comparación con el total de elementos clasificados. \n",
    "        \n",
    "    $$ Exactitud=\\frac{PV + NV}{PV + NV + FP + FN} $$\n",
    "    \n",
    "        Se puede utilizar de ejemplo una comparación de correos no deseados que fueron clasificados correctamente en comparación del total de elementos clasificados.\n",
    "\n",
    "\n",
    "- Métrica de Sensibilidad:\n",
    "\n",
    "        Logra mostrar la cantidad de verdaderos positivos que el modelo logró clasificar en función del número total de valores positivos.\n",
    "        \n",
    "    $$ Sensibilidad=\\frac{PV}{PV + FN} $$\n",
    "    \n",
    "        Se puede utilizar de ejemplo una comparación de cajas que fueron detectadas por el sistema de una bodega que fueron clasificadas correctamente en comparación del total de valores que el modelo predijo que iban a serlo.\n",
    "\n",
    "\n",
    "- Métrica de Precisión:\n",
    "\n",
    "        Compara el total de verdaderos positivos que realmente lo son contra el total de valores positivos que el modelo predijo.\n",
    "\n",
    "    $$ Precision=\\frac{PV}{PV + FP} $$\n",
    "    \n",
    "        De ejemplo podemos ver la cantidad de ordenes que fueron compras predecidas por un sistema contra el total de ordenes que el modelo predijo que lo iban a ser.\n",
    "    \n",
    "\n",
    "- Puntuación F1:\n",
    "\n",
    "        Utiliza una combinación entre la métrica de precisión y Sensibilidad y sirve de compromiso entre ambas.\n",
    "        \n",
    "    $$ F1=\\frac{Precision  *  Sensibilidad}{Precision + Sensibilidad} $$        \n",
    "\n",
    "\n",
    "\n",
    "**Regresión:**\n",
    "\n",
    "- Error medio absoluto:\n",
    "\n",
    "        Es el valor medio de la diferencias absoluta entre el valor real y el valor predicho.\n",
    "        \n",
    "    $$ EMA = \\frac{1}{n}\\sum_{t=1}^{n}\\left|e_{t}\\right|$$\n",
    "        \n",
    "$$ e_{t} = real_{t} - predicho_{t} $$\n",
    "\n",
    "\n",
    "        Un ejemplo puede ser cuando se comparan datos originales de series de tiempo de una carrera contra los datos de las series de tiempo que fueron pronosticadas. Al aplicar la fórmula, da un valor medio entre ambas.\n",
    "\n",
    "\n",
    "- Error cuadrático medio:\n",
    "\n",
    "        Calcula el valor medio de la diferencia al cuadrado entre el valor real y el predicho para todos los puntos de datos. Los valores relacionados se elevan al cuadrado por lo que los valores negativos no se compensan con los positivos. El impacto de los errores es mayor debido a como es esta métrica. Cuanto menor sea el ECM, las predicciones serán más acertadas. Si el ECM es 1, ese sería el punto óptimo para que el pronóstico sea preciso.\n",
    "        \n",
    "    $$ ECM = \\frac{1}{n}\\sum_{t=1}^{n}e_{t}^2$$\n",
    "        \n",
    "$$ e_{t} = real_{t} - predicho_{t} $$\n",
    "\n",
    "        Un ejemplo sería cuando en un nodo hay 4 muestras cuyas etiquetas son 2, 4, 5 y 8, el valor medio es de 4.75 y al calcular el ECM se obtiene 4.6875\n",
    "\n",
    "\n",
    "- Raíz del error cuadrático medio:\n",
    "\n",
    "        Es la raíz cuadrada del ECM. Utiliza valores absolutos más pequeños lo que hace que sea más útil para cálculos informáticos.\n",
    "        \n",
    "    $$ RECM = \\sqrt{\\frac{1}{n}\\sum_{t=1}^{n}e_{t}^2}$$\n",
    "        \n",
    "$$ e_{t} = real_{t} - predicho_{t} $$\n",
    "\n",
    "        Un ejemplo es cuando se compara un punto de elevación predicho (valor predicho) con una medición topográfica del terreno (valor real). El ECM toma la diferencia para cada valor predicho y valor medio. Después se divide la suma de los valores por elnúmero de observaciones y obtenemos el valor de su raíz."
   ]
  },
  {
   "cell_type": "markdown",
   "id": "06e4cda1",
   "metadata": {},
   "source": [
    "**A continuación se presenta el desarrollo del problema:**\n",
    "\n",
    "Primero se importan las librerías."
   ]
  },
  {
   "cell_type": "code",
   "execution_count": 1,
   "id": "1e4baccf",
   "metadata": {},
   "outputs": [],
   "source": [
    "# Imports para tratamiento de datos\n",
    "# ==============================================================================\n",
    "import pandas as pd\n",
    "import numpy as np\n",
    "from numpy import mean\n",
    "from numpy import std\n",
    "from numpy import absolute\n",
    "from numpy import arange\n",
    "\n",
    "# Imports para graficación\n",
    "# ==============================================================================\n",
    "\n",
    "import matplotlib.pyplot as plt\n",
    "from matplotlib import style\n",
    "import seaborn as sns\n",
    "import sklearn.metrics as skm\n",
    "\n",
    "# Imports para pre-procesado y modelado\n",
    "# ==============================================================================\n",
    "from scipy.stats import pearsonr\n",
    "from sklearn.model_selection import train_test_split\n",
    "from sklearn.metrics import mean_squared_error\n",
    "from sklearn.linear_model import LinearRegression\n",
    "from sklearn.linear_model import Ridge\n",
    "from sklearn.linear_model import Lasso\n",
    "from sklearn.linear_model import ElasticNet\n",
    "from sklearn.linear_model import RidgeCV\n",
    "from sklearn.linear_model import LassoCV\n",
    "from sklearn.linear_model import ElasticNetCV\n",
    "from sklearn.preprocessing import \\\n",
    "    StandardScaler, PolynomialFeatures\n",
    "from sklearn.model_selection import \\\n",
    "    KFold, RepeatedKFold, GridSearchCV, \\\n",
    "    cross_validate, train_test_split\n",
    "from sklearn.metrics import \\\n",
    "    r2_score, get_scorer\n",
    "from sklearn import metrics \n",
    "from sklearn import linear_model\n",
    "from sklearn.model_selection import cross_val_score\n",
    "from sklearn.model_selection import RepeatedKFold\n",
    "from sklearn.linear_model import Lasso\n",
    "from sklearn.ensemble import RandomForestRegressor\n",
    "from sklearn.metrics import r2_score\n",
    "\n",
    "# Configuración matplotlib\n",
    "# ==============================================================================\n",
    "plt.rcParams['image.cmap'] = \"bwr\"\n",
    "#plt.rcParams['figure.dpi'] = \"100\"\n",
    "plt.rcParams['savefig.bbox'] = \"tight\"\n",
    "style.use('ggplot') or plt.style.use('ggplot')\n",
    "\n",
    "#Esta línea se utiliza para evitar algunas advertencias que panda tiene\n",
    "pd.options.mode.chained_assignment = None  # default='warn'"
   ]
  },
  {
   "cell_type": "markdown",
   "id": "60191943",
   "metadata": {},
   "source": [
    "Seguidamente procedemos a leer el archivo y visualizamos las primeras 10 líneas. En este caso, vamos a utilizar un archivo que contiene datos relativos a una página de ventas digitales entre clientes, es decir, C2C (Customer To Customer). En esta, los usuarios pueden comprar y vender productos, y se cuenta con diferentes métricas para cada usuario, como su cantidad de seguidores, de seguidos, los productos listados y gustados, su país e idioma, entre otros. En este caso, se va a realizar un análisis basado en predecir cuántos productos compra un usuario basado en el resto de sus atributos, es decir, se trata de un problema de regresión."
   ]
  },
  {
   "cell_type": "code",
   "execution_count": 2,
   "id": "c93b8be5",
   "metadata": {},
   "outputs": [
    {
     "data": {
      "text/html": [
       "<div>\n",
       "<style scoped>\n",
       "    .dataframe tbody tr th:only-of-type {\n",
       "        vertical-align: middle;\n",
       "    }\n",
       "\n",
       "    .dataframe tbody tr th {\n",
       "        vertical-align: top;\n",
       "    }\n",
       "\n",
       "    .dataframe thead th {\n",
       "        text-align: right;\n",
       "    }\n",
       "</style>\n",
       "<table border=\"1\" class=\"dataframe\">\n",
       "  <thead>\n",
       "    <tr style=\"text-align: right;\">\n",
       "      <th></th>\n",
       "      <th>identifierHash</th>\n",
       "      <th>type</th>\n",
       "      <th>country</th>\n",
       "      <th>language</th>\n",
       "      <th>socialNbFollowers</th>\n",
       "      <th>socialNbFollows</th>\n",
       "      <th>socialProductsLiked</th>\n",
       "      <th>productsListed</th>\n",
       "      <th>productsSold</th>\n",
       "      <th>productsPassRate</th>\n",
       "      <th>...</th>\n",
       "      <th>civilityTitle</th>\n",
       "      <th>hasAnyApp</th>\n",
       "      <th>hasAndroidApp</th>\n",
       "      <th>hasIosApp</th>\n",
       "      <th>hasProfilePicture</th>\n",
       "      <th>daysSinceLastLogin</th>\n",
       "      <th>seniority</th>\n",
       "      <th>seniorityAsMonths</th>\n",
       "      <th>seniorityAsYears</th>\n",
       "      <th>countryCode</th>\n",
       "    </tr>\n",
       "  </thead>\n",
       "  <tbody>\n",
       "    <tr>\n",
       "      <th>0</th>\n",
       "      <td>-1.369440e+18</td>\n",
       "      <td>user</td>\n",
       "      <td>France</td>\n",
       "      <td>fr</td>\n",
       "      <td>31</td>\n",
       "      <td>8</td>\n",
       "      <td>0</td>\n",
       "      <td>1</td>\n",
       "      <td>1</td>\n",
       "      <td>0.0</td>\n",
       "      <td>...</td>\n",
       "      <td>mrs</td>\n",
       "      <td>True</td>\n",
       "      <td>False</td>\n",
       "      <td>True</td>\n",
       "      <td>False</td>\n",
       "      <td>127</td>\n",
       "      <td>3205</td>\n",
       "      <td>106.83</td>\n",
       "      <td>8.9</td>\n",
       "      <td>fr</td>\n",
       "    </tr>\n",
       "    <tr>\n",
       "      <th>1</th>\n",
       "      <td>-6.589090e+18</td>\n",
       "      <td>user</td>\n",
       "      <td>Etats-Unis</td>\n",
       "      <td>en</td>\n",
       "      <td>3</td>\n",
       "      <td>9</td>\n",
       "      <td>1</td>\n",
       "      <td>0</td>\n",
       "      <td>0</td>\n",
       "      <td>0.0</td>\n",
       "      <td>...</td>\n",
       "      <td>mr</td>\n",
       "      <td>False</td>\n",
       "      <td>False</td>\n",
       "      <td>False</td>\n",
       "      <td>True</td>\n",
       "      <td>26</td>\n",
       "      <td>3205</td>\n",
       "      <td>106.83</td>\n",
       "      <td>8.9</td>\n",
       "      <td>us</td>\n",
       "    </tr>\n",
       "    <tr>\n",
       "      <th>2</th>\n",
       "      <td>-9.372890e+17</td>\n",
       "      <td>user</td>\n",
       "      <td>Suède</td>\n",
       "      <td>en</td>\n",
       "      <td>5</td>\n",
       "      <td>8</td>\n",
       "      <td>0</td>\n",
       "      <td>0</td>\n",
       "      <td>0</td>\n",
       "      <td>0.0</td>\n",
       "      <td>...</td>\n",
       "      <td>mr</td>\n",
       "      <td>False</td>\n",
       "      <td>False</td>\n",
       "      <td>False</td>\n",
       "      <td>True</td>\n",
       "      <td>543</td>\n",
       "      <td>3205</td>\n",
       "      <td>106.83</td>\n",
       "      <td>8.9</td>\n",
       "      <td>se</td>\n",
       "    </tr>\n",
       "    <tr>\n",
       "      <th>3</th>\n",
       "      <td>7.144190e+18</td>\n",
       "      <td>user</td>\n",
       "      <td>Canada</td>\n",
       "      <td>en</td>\n",
       "      <td>4</td>\n",
       "      <td>10</td>\n",
       "      <td>1</td>\n",
       "      <td>0</td>\n",
       "      <td>0</td>\n",
       "      <td>0.0</td>\n",
       "      <td>...</td>\n",
       "      <td>mrs</td>\n",
       "      <td>True</td>\n",
       "      <td>True</td>\n",
       "      <td>False</td>\n",
       "      <td>True</td>\n",
       "      <td>208</td>\n",
       "      <td>3205</td>\n",
       "      <td>106.83</td>\n",
       "      <td>8.9</td>\n",
       "      <td>ca</td>\n",
       "    </tr>\n",
       "    <tr>\n",
       "      <th>4</th>\n",
       "      <td>4.994270e+18</td>\n",
       "      <td>user</td>\n",
       "      <td>Royaume-Uni</td>\n",
       "      <td>en</td>\n",
       "      <td>3</td>\n",
       "      <td>8</td>\n",
       "      <td>0</td>\n",
       "      <td>0</td>\n",
       "      <td>0</td>\n",
       "      <td>0.0</td>\n",
       "      <td>...</td>\n",
       "      <td>mrs</td>\n",
       "      <td>False</td>\n",
       "      <td>False</td>\n",
       "      <td>False</td>\n",
       "      <td>True</td>\n",
       "      <td>27</td>\n",
       "      <td>3205</td>\n",
       "      <td>106.83</td>\n",
       "      <td>8.9</td>\n",
       "      <td>gb</td>\n",
       "    </tr>\n",
       "    <tr>\n",
       "      <th>5</th>\n",
       "      <td>4.907050e+18</td>\n",
       "      <td>user</td>\n",
       "      <td>Etats-Unis</td>\n",
       "      <td>en</td>\n",
       "      <td>28</td>\n",
       "      <td>29</td>\n",
       "      <td>0</td>\n",
       "      <td>0</td>\n",
       "      <td>0</td>\n",
       "      <td>0.0</td>\n",
       "      <td>...</td>\n",
       "      <td>mr</td>\n",
       "      <td>True</td>\n",
       "      <td>False</td>\n",
       "      <td>True</td>\n",
       "      <td>False</td>\n",
       "      <td>15</td>\n",
       "      <td>3205</td>\n",
       "      <td>106.83</td>\n",
       "      <td>8.9</td>\n",
       "      <td>us</td>\n",
       "    </tr>\n",
       "    <tr>\n",
       "      <th>6</th>\n",
       "      <td>2.888730e+16</td>\n",
       "      <td>user</td>\n",
       "      <td>Allemagne</td>\n",
       "      <td>de</td>\n",
       "      <td>5</td>\n",
       "      <td>8</td>\n",
       "      <td>3</td>\n",
       "      <td>0</td>\n",
       "      <td>0</td>\n",
       "      <td>0.0</td>\n",
       "      <td>...</td>\n",
       "      <td>mrs</td>\n",
       "      <td>True</td>\n",
       "      <td>False</td>\n",
       "      <td>True</td>\n",
       "      <td>True</td>\n",
       "      <td>338</td>\n",
       "      <td>3205</td>\n",
       "      <td>106.83</td>\n",
       "      <td>8.9</td>\n",
       "      <td>de</td>\n",
       "    </tr>\n",
       "    <tr>\n",
       "      <th>7</th>\n",
       "      <td>-6.445120e+18</td>\n",
       "      <td>user</td>\n",
       "      <td>Japon</td>\n",
       "      <td>en</td>\n",
       "      <td>3</td>\n",
       "      <td>8</td>\n",
       "      <td>12</td>\n",
       "      <td>0</td>\n",
       "      <td>0</td>\n",
       "      <td>0.0</td>\n",
       "      <td>...</td>\n",
       "      <td>mr</td>\n",
       "      <td>False</td>\n",
       "      <td>False</td>\n",
       "      <td>False</td>\n",
       "      <td>True</td>\n",
       "      <td>29</td>\n",
       "      <td>3205</td>\n",
       "      <td>106.83</td>\n",
       "      <td>8.9</td>\n",
       "      <td>jp</td>\n",
       "    </tr>\n",
       "    <tr>\n",
       "      <th>8</th>\n",
       "      <td>-2.217320e+18</td>\n",
       "      <td>user</td>\n",
       "      <td>Danemark</td>\n",
       "      <td>en</td>\n",
       "      <td>7</td>\n",
       "      <td>8</td>\n",
       "      <td>0</td>\n",
       "      <td>0</td>\n",
       "      <td>0</td>\n",
       "      <td>0.0</td>\n",
       "      <td>...</td>\n",
       "      <td>mr</td>\n",
       "      <td>True</td>\n",
       "      <td>True</td>\n",
       "      <td>False</td>\n",
       "      <td>True</td>\n",
       "      <td>50</td>\n",
       "      <td>3205</td>\n",
       "      <td>106.83</td>\n",
       "      <td>8.9</td>\n",
       "      <td>dk</td>\n",
       "    </tr>\n",
       "    <tr>\n",
       "      <th>9</th>\n",
       "      <td>-3.356570e+18</td>\n",
       "      <td>user</td>\n",
       "      <td>Etats-Unis</td>\n",
       "      <td>en</td>\n",
       "      <td>4</td>\n",
       "      <td>9</td>\n",
       "      <td>0</td>\n",
       "      <td>0</td>\n",
       "      <td>0</td>\n",
       "      <td>0.0</td>\n",
       "      <td>...</td>\n",
       "      <td>mr</td>\n",
       "      <td>False</td>\n",
       "      <td>False</td>\n",
       "      <td>False</td>\n",
       "      <td>True</td>\n",
       "      <td>151</td>\n",
       "      <td>3205</td>\n",
       "      <td>106.83</td>\n",
       "      <td>8.9</td>\n",
       "      <td>us</td>\n",
       "    </tr>\n",
       "  </tbody>\n",
       "</table>\n",
       "<p>10 rows × 24 columns</p>\n",
       "</div>"
      ],
      "text/plain": [
       "   identifierHash  type      country language  socialNbFollowers  \\\n",
       "0   -1.369440e+18  user       France       fr                 31   \n",
       "1   -6.589090e+18  user   Etats-Unis       en                  3   \n",
       "2   -9.372890e+17  user        Suède       en                  5   \n",
       "3    7.144190e+18  user       Canada       en                  4   \n",
       "4    4.994270e+18  user  Royaume-Uni       en                  3   \n",
       "5    4.907050e+18  user   Etats-Unis       en                 28   \n",
       "6    2.888730e+16  user    Allemagne       de                  5   \n",
       "7   -6.445120e+18  user        Japon       en                  3   \n",
       "8   -2.217320e+18  user     Danemark       en                  7   \n",
       "9   -3.356570e+18  user   Etats-Unis       en                  4   \n",
       "\n",
       "   socialNbFollows  socialProductsLiked  productsListed  productsSold  \\\n",
       "0                8                    0               1             1   \n",
       "1                9                    1               0             0   \n",
       "2                8                    0               0             0   \n",
       "3               10                    1               0             0   \n",
       "4                8                    0               0             0   \n",
       "5               29                    0               0             0   \n",
       "6                8                    3               0             0   \n",
       "7                8                   12               0             0   \n",
       "8                8                    0               0             0   \n",
       "9                9                    0               0             0   \n",
       "\n",
       "   productsPassRate  ...  civilityTitle  hasAnyApp hasAndroidApp  hasIosApp  \\\n",
       "0               0.0  ...            mrs       True         False       True   \n",
       "1               0.0  ...             mr      False         False      False   \n",
       "2               0.0  ...             mr      False         False      False   \n",
       "3               0.0  ...            mrs       True          True      False   \n",
       "4               0.0  ...            mrs      False         False      False   \n",
       "5               0.0  ...             mr       True         False       True   \n",
       "6               0.0  ...            mrs       True         False       True   \n",
       "7               0.0  ...             mr      False         False      False   \n",
       "8               0.0  ...             mr       True          True      False   \n",
       "9               0.0  ...             mr      False         False      False   \n",
       "\n",
       "  hasProfilePicture  daysSinceLastLogin  seniority  seniorityAsMonths  \\\n",
       "0             False                 127       3205             106.83   \n",
       "1              True                  26       3205             106.83   \n",
       "2              True                 543       3205             106.83   \n",
       "3              True                 208       3205             106.83   \n",
       "4              True                  27       3205             106.83   \n",
       "5             False                  15       3205             106.83   \n",
       "6              True                 338       3205             106.83   \n",
       "7              True                  29       3205             106.83   \n",
       "8              True                  50       3205             106.83   \n",
       "9              True                 151       3205             106.83   \n",
       "\n",
       "   seniorityAsYears  countryCode  \n",
       "0               8.9           fr  \n",
       "1               8.9           us  \n",
       "2               8.9           se  \n",
       "3               8.9           ca  \n",
       "4               8.9           gb  \n",
       "5               8.9           us  \n",
       "6               8.9           de  \n",
       "7               8.9           jp  \n",
       "8               8.9           dk  \n",
       "9               8.9           us  \n",
       "\n",
       "[10 rows x 24 columns]"
      ]
     },
     "execution_count": 2,
     "metadata": {},
     "output_type": "execute_result"
    }
   ],
   "source": [
    "archivo = \"ecommerce2.csv\"\n",
    "ecommerce= pd.read_csv(archivo)\n",
    "ecommerce.head(10)"
   ]
  },
  {
   "cell_type": "markdown",
   "id": "36e96732",
   "metadata": {},
   "source": [
    "**Iniciando con el tratamiento y análisis exploratorio de los datos**\n",
    "\n",
    "Reemplazamos los valores de masculino y femenino por 1 y 0 para poder ser utilizados por el programa."
   ]
  },
  {
   "cell_type": "code",
   "execution_count": 3,
   "id": "449e82f3",
   "metadata": {},
   "outputs": [],
   "source": [
    "ecommerce.replace(to_replace='F', value = 1, inplace = True)\n",
    "ecommerce.replace(to_replace='M', value = 0, inplace = True)"
   ]
  },
  {
   "cell_type": "markdown",
   "id": "616b6047",
   "metadata": {},
   "source": [
    "Procedemos a cambiar los códigos de paises y de idiomas a una categoría numeral para poder ser trabajado, usando label encoding. Para lograrlo, primeros pasamos las columnas a tipo categoría, para luego aplciar la función cad.codes, que las etiqueta.  "
   ]
  },
  {
   "cell_type": "code",
   "execution_count": 4,
   "id": "cdfcdc9f",
   "metadata": {},
   "outputs": [
    {
     "data": {
      "text/html": [
       "<div>\n",
       "<style scoped>\n",
       "    .dataframe tbody tr th:only-of-type {\n",
       "        vertical-align: middle;\n",
       "    }\n",
       "\n",
       "    .dataframe tbody tr th {\n",
       "        vertical-align: top;\n",
       "    }\n",
       "\n",
       "    .dataframe thead th {\n",
       "        text-align: right;\n",
       "    }\n",
       "</style>\n",
       "<table border=\"1\" class=\"dataframe\">\n",
       "  <thead>\n",
       "    <tr style=\"text-align: right;\">\n",
       "      <th></th>\n",
       "      <th>identifierHash</th>\n",
       "      <th>type</th>\n",
       "      <th>country</th>\n",
       "      <th>language</th>\n",
       "      <th>socialNbFollowers</th>\n",
       "      <th>socialNbFollows</th>\n",
       "      <th>socialProductsLiked</th>\n",
       "      <th>productsListed</th>\n",
       "      <th>productsSold</th>\n",
       "      <th>productsPassRate</th>\n",
       "      <th>...</th>\n",
       "      <th>hasAnyApp</th>\n",
       "      <th>hasAndroidApp</th>\n",
       "      <th>hasIosApp</th>\n",
       "      <th>hasProfilePicture</th>\n",
       "      <th>daysSinceLastLogin</th>\n",
       "      <th>seniority</th>\n",
       "      <th>seniorityAsMonths</th>\n",
       "      <th>seniorityAsYears</th>\n",
       "      <th>countryCode</th>\n",
       "      <th>languageCat</th>\n",
       "    </tr>\n",
       "  </thead>\n",
       "  <tbody>\n",
       "    <tr>\n",
       "      <th>0</th>\n",
       "      <td>-1.369440e+18</td>\n",
       "      <td>user</td>\n",
       "      <td>19</td>\n",
       "      <td>fr</td>\n",
       "      <td>31</td>\n",
       "      <td>8</td>\n",
       "      <td>0</td>\n",
       "      <td>1</td>\n",
       "      <td>1</td>\n",
       "      <td>0.0</td>\n",
       "      <td>...</td>\n",
       "      <td>True</td>\n",
       "      <td>False</td>\n",
       "      <td>True</td>\n",
       "      <td>False</td>\n",
       "      <td>127</td>\n",
       "      <td>3205</td>\n",
       "      <td>106.83</td>\n",
       "      <td>8.9</td>\n",
       "      <td>fr</td>\n",
       "      <td>3</td>\n",
       "    </tr>\n",
       "    <tr>\n",
       "      <th>1</th>\n",
       "      <td>-6.589090e+18</td>\n",
       "      <td>user</td>\n",
       "      <td>61</td>\n",
       "      <td>en</td>\n",
       "      <td>3</td>\n",
       "      <td>9</td>\n",
       "      <td>1</td>\n",
       "      <td>0</td>\n",
       "      <td>0</td>\n",
       "      <td>0.0</td>\n",
       "      <td>...</td>\n",
       "      <td>False</td>\n",
       "      <td>False</td>\n",
       "      <td>False</td>\n",
       "      <td>True</td>\n",
       "      <td>26</td>\n",
       "      <td>3205</td>\n",
       "      <td>106.83</td>\n",
       "      <td>8.9</td>\n",
       "      <td>us</td>\n",
       "      <td>1</td>\n",
       "    </tr>\n",
       "    <tr>\n",
       "      <th>2</th>\n",
       "      <td>-9.372890e+17</td>\n",
       "      <td>user</td>\n",
       "      <td>54</td>\n",
       "      <td>en</td>\n",
       "      <td>5</td>\n",
       "      <td>8</td>\n",
       "      <td>0</td>\n",
       "      <td>0</td>\n",
       "      <td>0</td>\n",
       "      <td>0.0</td>\n",
       "      <td>...</td>\n",
       "      <td>False</td>\n",
       "      <td>False</td>\n",
       "      <td>False</td>\n",
       "      <td>True</td>\n",
       "      <td>543</td>\n",
       "      <td>3205</td>\n",
       "      <td>106.83</td>\n",
       "      <td>8.9</td>\n",
       "      <td>se</td>\n",
       "      <td>1</td>\n",
       "    </tr>\n",
       "    <tr>\n",
       "      <th>3</th>\n",
       "      <td>7.144190e+18</td>\n",
       "      <td>user</td>\n",
       "      <td>7</td>\n",
       "      <td>en</td>\n",
       "      <td>4</td>\n",
       "      <td>10</td>\n",
       "      <td>1</td>\n",
       "      <td>0</td>\n",
       "      <td>0</td>\n",
       "      <td>0.0</td>\n",
       "      <td>...</td>\n",
       "      <td>True</td>\n",
       "      <td>True</td>\n",
       "      <td>False</td>\n",
       "      <td>True</td>\n",
       "      <td>208</td>\n",
       "      <td>3205</td>\n",
       "      <td>106.83</td>\n",
       "      <td>8.9</td>\n",
       "      <td>ca</td>\n",
       "      <td>1</td>\n",
       "    </tr>\n",
       "    <tr>\n",
       "      <th>4</th>\n",
       "      <td>4.994270e+18</td>\n",
       "      <td>user</td>\n",
       "      <td>20</td>\n",
       "      <td>en</td>\n",
       "      <td>3</td>\n",
       "      <td>8</td>\n",
       "      <td>0</td>\n",
       "      <td>0</td>\n",
       "      <td>0</td>\n",
       "      <td>0.0</td>\n",
       "      <td>...</td>\n",
       "      <td>False</td>\n",
       "      <td>False</td>\n",
       "      <td>False</td>\n",
       "      <td>True</td>\n",
       "      <td>27</td>\n",
       "      <td>3205</td>\n",
       "      <td>106.83</td>\n",
       "      <td>8.9</td>\n",
       "      <td>gb</td>\n",
       "      <td>1</td>\n",
       "    </tr>\n",
       "  </tbody>\n",
       "</table>\n",
       "<p>5 rows × 25 columns</p>\n",
       "</div>"
      ],
      "text/plain": [
       "   identifierHash  type  country language  socialNbFollowers  socialNbFollows  \\\n",
       "0   -1.369440e+18  user       19       fr                 31                8   \n",
       "1   -6.589090e+18  user       61       en                  3                9   \n",
       "2   -9.372890e+17  user       54       en                  5                8   \n",
       "3    7.144190e+18  user        7       en                  4               10   \n",
       "4    4.994270e+18  user       20       en                  3                8   \n",
       "\n",
       "   socialProductsLiked  productsListed  productsSold  productsPassRate  ...  \\\n",
       "0                    0               1             1               0.0  ...   \n",
       "1                    1               0             0               0.0  ...   \n",
       "2                    0               0             0               0.0  ...   \n",
       "3                    1               0             0               0.0  ...   \n",
       "4                    0               0             0               0.0  ...   \n",
       "\n",
       "   hasAnyApp  hasAndroidApp  hasIosApp  hasProfilePicture daysSinceLastLogin  \\\n",
       "0       True          False       True              False                127   \n",
       "1      False          False      False               True                 26   \n",
       "2      False          False      False               True                543   \n",
       "3       True           True      False               True                208   \n",
       "4      False          False      False               True                 27   \n",
       "\n",
       "   seniority  seniorityAsMonths  seniorityAsYears  countryCode  languageCat  \n",
       "0       3205             106.83               8.9           fr            3  \n",
       "1       3205             106.83               8.9           us            1  \n",
       "2       3205             106.83               8.9           se            1  \n",
       "3       3205             106.83               8.9           ca            1  \n",
       "4       3205             106.83               8.9           gb            1  \n",
       "\n",
       "[5 rows x 25 columns]"
      ]
     },
     "execution_count": 4,
     "metadata": {},
     "output_type": "execute_result"
    }
   ],
   "source": [
    "ecommerce[\"countryCode\"] = ecommerce[\"countryCode\"].astype('category')\n",
    "\n",
    "ecommerce[\"country\"] = ecommerce[\"countryCode\"].cat.codes\n",
    "\n",
    "ecommerce[\"language\"] = ecommerce[\"language\"].astype('category')\n",
    "\n",
    "ecommerce[\"languageCat\"] = ecommerce[\"language\"].cat.codes\n",
    "\n",
    "ecommerce.head()"
   ]
  },
  {
   "cell_type": "markdown",
   "id": "bc235ac8",
   "metadata": {},
   "source": [
    "Seguidamente descartamos las columnas que no van a ser utilizadas por el modelo, por ser poco importantes según la investigación previa realizada (criterio experto) o que fueron reemplazadas por una nueva al hacer el label encoding. Para esto, se procede a usar la función drop."
   ]
  },
  {
   "cell_type": "code",
   "execution_count": 5,
   "id": "fe79b85a",
   "metadata": {},
   "outputs": [],
   "source": [
    "porEliminar = []\n",
    "#Removemos columnas que no aportan a los modelos\n",
    "porEliminar += [\"identifierHash\", \"type\", \"civilityTitle\", \"countryCode\", \"language\",\"hasAnyApp\",\"hasAndroidApp\",\"hasIosApp\",\"hasProfilePicture\"]\n",
    "\n",
    "#Removemos columnas duplicadas\n",
    "porEliminar += [\"seniority\", \"seniorityAsYears\", \"civilityGenderId\"]\n",
    "\n",
    "#Se remueven las columnas\n",
    "ecommerce.drop(porEliminar, axis=1, errors='ignore', inplace=True)"
   ]
  },
  {
   "cell_type": "markdown",
   "id": "b4919fd6",
   "metadata": {},
   "source": [
    "A continuación, se consulta el tipo de dato de cada columna, con el objetivo de determinar que son los necesarios para hacer un análisis cuantitativo. "
   ]
  },
  {
   "cell_type": "code",
   "execution_count": 6,
   "id": "99f28d6b",
   "metadata": {},
   "outputs": [
    {
     "data": {
      "text/plain": [
       "country                   int8\n",
       "socialNbFollowers        int64\n",
       "socialNbFollows          int64\n",
       "socialProductsLiked      int64\n",
       "productsListed           int64\n",
       "productsSold             int64\n",
       "productsPassRate       float64\n",
       "productsWished           int64\n",
       "productsBought           int64\n",
       "gender                   int64\n",
       "daysSinceLastLogin       int64\n",
       "seniorityAsMonths      float64\n",
       "languageCat               int8\n",
       "dtype: object"
      ]
     },
     "execution_count": 6,
     "metadata": {},
     "output_type": "execute_result"
    }
   ],
   "source": [
    "ecommerce.dtypes"
   ]
  },
  {
   "cell_type": "markdown",
   "id": "8bfe4b01",
   "metadata": {},
   "source": [
    "Como parte de la limpieza de datos, se verifica que no existan nulos en el set, usando la función isna()."
   ]
  },
  {
   "cell_type": "code",
   "execution_count": 7,
   "id": "673aa1d3",
   "metadata": {},
   "outputs": [
    {
     "data": {
      "text/plain": [
       "country                0\n",
       "socialNbFollowers      0\n",
       "socialNbFollows        0\n",
       "socialProductsLiked    0\n",
       "productsListed         0\n",
       "productsSold           0\n",
       "productsPassRate       0\n",
       "productsWished         0\n",
       "productsBought         0\n",
       "gender                 0\n",
       "daysSinceLastLogin     0\n",
       "seniorityAsMonths      0\n",
       "languageCat            0\n",
       "dtype: int64"
      ]
     },
     "execution_count": 7,
     "metadata": {},
     "output_type": "execute_result"
    }
   ],
   "source": [
    "ecommerce.isna().sum()"
   ]
  },
  {
   "cell_type": "markdown",
   "id": "27609354",
   "metadata": {},
   "source": [
    "Se procede a representar las correlaciones entre las diversas variables usando un mapa de calor. "
   ]
  },
  {
   "cell_type": "code",
   "execution_count": 8,
   "id": "16d992fd",
   "metadata": {},
   "outputs": [
    {
     "data": {
      "text/plain": [
       "<function matplotlib.pyplot.show(close=None, block=None)>"
      ]
     },
     "execution_count": 8,
     "metadata": {},
     "output_type": "execute_result"
    },
    {
     "data": {
      "image/png": "[encoded data removed]",
      "text/plain": [
       "<Figure size 1080x1080 with 2 Axes>"
      ]
     },
     "metadata": {},
     "output_type": "display_data"
    }
   ],
   "source": [
    "plt.figure(figsize=(15,15))\n",
    "\n",
    "chart = sns.heatmap(ecommerce.corr(), annot = True, cmap = 'viridis')\n",
    "plt.xticks(rotation=90)\n",
    "plt.show"
   ]
  },
  {
   "cell_type": "markdown",
   "id": "612f0c4a",
   "metadata": {},
   "source": [
    "Acá, se denota que la columna que vamos a utilizar como y, que corresponde a los productos comprados, tiene una mayor correlación con las variables de seguidos, seguidos, productos gustados, productos vendidos, tasa de pase de productos y productos deseados. "
   ]
  },
  {
   "cell_type": "markdown",
   "id": "4ba4389e",
   "metadata": {},
   "source": [
    "**Utilización de modelos para regresión**"
   ]
  },
  {
   "cell_type": "markdown",
   "id": "6582d36f",
   "metadata": {},
   "source": [
    "Procedemos a dividir los datos en los regresores y la columna por predecir. "
   ]
  },
  {
   "cell_type": "code",
   "execution_count": 9,
   "id": "390bdb60",
   "metadata": {},
   "outputs": [],
   "source": [
    "X = ecommerce.drop(columns='productsBought')\n",
    "y = ecommerce['productsBought']\n"
   ]
  },
  {
   "cell_type": "markdown",
   "id": "34884259",
   "metadata": {},
   "source": [
    "Seguidamente, se escalan los datos de X, para eliminar los posibles pesos que pueda tener una variable sobre otra por tema de escala."
   ]
  },
  {
   "cell_type": "code",
   "execution_count": 10,
   "id": "75ef1b7a",
   "metadata": {},
   "outputs": [],
   "source": [
    "\n",
    "escalado = StandardScaler()\n",
    "X_escalado = escalado.fit_transform(X)\n",
    "X_escalado = pd.DataFrame(data = X_escalado, columns = X.columns)\n"
   ]
  },
  {
   "cell_type": "markdown",
   "id": "9896d54d",
   "metadata": {},
   "source": [
    "A continuación, se dividen los datos en entrenamiento y testeo, usando 70% para el entrenamiento y 30% para el testeo, lo cual está en el rango que la literatura recomienda."
   ]
  },
  {
   "cell_type": "code",
   "execution_count": 11,
   "id": "0625be92",
   "metadata": {},
   "outputs": [],
   "source": [
    "\n",
    "X_train, X_test, y_train, y_test = train_test_split(X, y.values.reshape(-1,1), train_size= 0.7, random_state = 1234, shuffle = True)"
   ]
  },
  {
   "cell_type": "markdown",
   "id": "055eb954",
   "metadata": {},
   "source": [
    "# Modelo Lasso"
   ]
  },
  {
   "cell_type": "markdown",
   "id": "c7ad76c8",
   "metadata": {},
   "source": [
    "Definimos el modelo a utilizar. En este caso utilizaremos Lasso. Primero se define el modelo con un alfa de 1, el cual es la máxima penalización que se le puede dar al modelo. Es importante recordar que si el alfa fuera de 0, básicamente se está realizando una regresión lineal. "
   ]
  },
  {
   "cell_type": "code",
   "execution_count": 12,
   "id": "709c2234",
   "metadata": {},
   "outputs": [],
   "source": [
    "modelo = Lasso(alpha=1.0)\n",
    "rkf = RepeatedKFold(n_splits=10, n_repeats=3, random_state=1)"
   ]
  },
  {
   "cell_type": "markdown",
   "id": "1bf38f88",
   "metadata": {},
   "source": [
    " Se corre el modelo, usando la función de score de la validación cruzada y un error medio absoluto, lo cual se almacena en la variable resultados. Se utiliza el valor absoluto para que los resultados sean positivos."
   ]
  },
  {
   "cell_type": "code",
   "execution_count": 13,
   "id": "694225a5",
   "metadata": {},
   "outputs": [
    {
     "name": "stdout",
     "output_type": "stream",
     "text": [
      "Media del EMA: 2.450 (0.324)\n"
     ]
    }
   ],
   "source": [
    "resultados = cross_val_score(modelo, X, y, scoring='neg_mean_absolute_error', cv=rkf, n_jobs=-1)\n",
    "\n",
    "resultados = absolute(resultados)\n",
    "print('Media del EMA: %.3f (%.3f)' % (mean(resultados), std(resultados)))"
   ]
  },
  {
   "cell_type": "markdown",
   "id": "b4062b7e",
   "metadata": {},
   "source": [
    "Se denota que la distancia entre los valores predichos y los reales tiene una media de 2.450, con una desviación estándar de 0.324. Considerando que en la columna de los productos comprados los valores rondan entre el 1 y el 10, este es un error alto."
   ]
  },
  {
   "cell_type": "markdown",
   "id": "bfaecd0e",
   "metadata": {},
   "source": [
    "El modelo de Lasso permite hacer un tuneo del alfa, el cual es su hiperparámetro. Para lograrlo, definimos la cuadrícula del modelo seguidamente por su busqueda, la cuál realizamos y se resume. Para hacer este grid search, definimos el espacio de los alfa de 0 a 1, con aumentos de 0.01 en cada momento. \n",
    "\n",
    "Usando la función GridSearchCV, procedemos a correr la búsqueda. \n",
    "\n",
    "Finalmente, se evalúa el error medio absoluto de nuevo, para compararlo con la penalización que se hizo originalmente de 1. "
   ]
  },
  {
   "cell_type": "code",
   "execution_count": 14,
   "id": "1e91c67c",
   "metadata": {},
   "outputs": [
    {
     "name": "stdout",
     "output_type": "stream",
     "text": [
      "EMA: -2.450\n",
      "Configuración: {'alpha': 0.99}\n"
     ]
    }
   ],
   "source": [
    "modelo = Lasso()\n",
    "rkf = RepeatedKFold(n_splits=10, n_repeats=3, random_state=1)\n",
    "cuadr = dict()\n",
    "cuadr['alpha'] = arange(0, 1, 0.01)\n",
    "\n",
    "busqueda = GridSearchCV(modelo, cuadr, scoring='neg_mean_absolute_error', cv=rkf, n_jobs=-1)\n",
    "\n",
    "resultado = busqueda.fit(X, y)\n",
    "\n",
    "print('EMA: %.3f' % resultado.best_score_)\n",
    "print('Configuración: %s' % resultado.best_params_)"
   ]
  },
  {
   "cell_type": "markdown",
   "id": "ca71f532",
   "metadata": {},
   "source": [
    "Al evaluar el error y el alfa, es posible observar que son prácticamente iguales que los que se corrieron originalmente. Esto ocurre porque la búsqueda cuadrícula definió que el mejor alfa se ajusta a estos datos es de 0.99, que es prácticamente la penalización entera de 1, resultando en el mismo error que se tenía al inicio."
   ]
  },
  {
   "cell_type": "markdown",
   "id": "a6122d14",
   "metadata": {},
   "source": [
    "# Modelo Ridge"
   ]
  },
  {
   "cell_type": "markdown",
   "id": "4103a03d",
   "metadata": {},
   "source": [
    "Definimos el modelo a utilizar. En este caso utilizaremos Ridge, usando un alfa de 1, como penalización máxima. "
   ]
  },
  {
   "cell_type": "code",
   "execution_count": 15,
   "id": "6248e70e",
   "metadata": {},
   "outputs": [],
   "source": [
    "modelo = Ridge(alpha=1.0)\n",
    "\n",
    "rkf = RepeatedKFold(n_splits=10, n_repeats=3, random_state=1)\n"
   ]
  },
  {
   "cell_type": "markdown",
   "id": "cb01a12e",
   "metadata": {},
   "source": [
    "Se corre el modelo, usando la función de score de la validación cruzada y un error medio absoluto, lo cual se almacena en la variable resultados. Se utiliza el valor absoluto para que los resultados sean positivos."
   ]
  },
  {
   "cell_type": "code",
   "execution_count": 16,
   "id": "efb3616a",
   "metadata": {},
   "outputs": [
    {
     "name": "stdout",
     "output_type": "stream",
     "text": [
      "Media del EMA: 2.494 (0.320)\n"
     ]
    }
   ],
   "source": [
    "resultados = cross_val_score(modelo, X, y, scoring='neg_mean_absolute_error', cv=rkf, n_jobs=-1)\n",
    "\n",
    "resultados = absolute(resultados)\n",
    "print('Media del EMA: %.3f (%.3f)' % (mean(resultados), std(resultados)))"
   ]
  },
  {
   "cell_type": "markdown",
   "id": "62b9440a",
   "metadata": {},
   "source": [
    "Se observa que el modelo da un error absoluto medio de 2.494 con una desviación estándar de 0.320. Como se menciono antes, considerando que la columna de productos comprados va de 1 a 10, es un error bastante alto."
   ]
  },
  {
   "cell_type": "markdown",
   "id": "b012c92c",
   "metadata": {},
   "source": [
    "Seguidamente, se procede a tunear el hiperparámetro de alfa para mejorar el desempeño del modelo. Para esto, se define la cuadrícula que busca de 0 a 1, en intervalos de 0.01. Luego, se aplica la función GridSearchCV con el modelo de Ridge y basado en el error absoluto medio. "
   ]
  },
  {
   "cell_type": "code",
   "execution_count": 17,
   "id": "e09e1d95",
   "metadata": {},
   "outputs": [
    {
     "name": "stdout",
     "output_type": "stream",
     "text": [
      "EMA: -2.494\n",
      "Configuración: {'alpha': 0.99}\n"
     ]
    }
   ],
   "source": [
    "modelo = Ridge()\n",
    "rkf = RepeatedKFold(n_splits=10, n_repeats=3, random_state=1)\n",
    "cuadr = dict()\n",
    "cuadr['alpha'] = arange(0, 1, 0.01)\n",
    "\n",
    "busqueda = GridSearchCV(modelo, cuadr, scoring='neg_mean_absolute_error', cv=rkf, n_jobs=-1)\n",
    "\n",
    "resultado = busqueda.fit(X, y)\n",
    "\n",
    "print('EMA: %.3f' % resultado.best_score_)\n",
    "print('Configuración: %s' % resultado.best_params_)"
   ]
  },
  {
   "cell_type": "markdown",
   "id": "f124fbe2",
   "metadata": {},
   "source": [
    "De nuevo, se observa que el error es prácticamente igual del original, porque el gird search determinó que el mejor alfa es 0.99 que corresponde prácticamente a la penalización completa."
   ]
  },
  {
   "cell_type": "markdown",
   "id": "ae17c904",
   "metadata": {},
   "source": [
    "**Modelos Ridge y Lassso eliminando variables sin correlación con la variable Y**"
   ]
  },
  {
   "cell_type": "markdown",
   "id": "e139b701",
   "metadata": {},
   "source": [
    "Usando el mapa de calor de la etapa de exploración, procedemos a eliminar las variables que tenían un coeficiente bajo con la variable por predecir. En este caso, se eliminan 6 variables, y se visualizan 5 filas al azar del dataset para determinar que se realizó correctamente."
   ]
  },
  {
   "cell_type": "code",
   "execution_count": 18,
   "id": "82912c39",
   "metadata": {},
   "outputs": [
    {
     "data": {
      "text/html": [
       "<div>\n",
       "<style scoped>\n",
       "    .dataframe tbody tr th:only-of-type {\n",
       "        vertical-align: middle;\n",
       "    }\n",
       "\n",
       "    .dataframe tbody tr th {\n",
       "        vertical-align: top;\n",
       "    }\n",
       "\n",
       "    .dataframe thead th {\n",
       "        text-align: right;\n",
       "    }\n",
       "</style>\n",
       "<table border=\"1\" class=\"dataframe\">\n",
       "  <thead>\n",
       "    <tr style=\"text-align: right;\">\n",
       "      <th></th>\n",
       "      <th>socialNbFollowers</th>\n",
       "      <th>socialProductsLiked</th>\n",
       "      <th>productsListed</th>\n",
       "      <th>productsSold</th>\n",
       "      <th>productsPassRate</th>\n",
       "      <th>productsWished</th>\n",
       "      <th>productsBought</th>\n",
       "    </tr>\n",
       "  </thead>\n",
       "  <tbody>\n",
       "    <tr>\n",
       "      <th>2434</th>\n",
       "      <td>6</td>\n",
       "      <td>116</td>\n",
       "      <td>1</td>\n",
       "      <td>0</td>\n",
       "      <td>0.0</td>\n",
       "      <td>153</td>\n",
       "      <td>25</td>\n",
       "    </tr>\n",
       "    <tr>\n",
       "      <th>2847</th>\n",
       "      <td>5</td>\n",
       "      <td>0</td>\n",
       "      <td>0</td>\n",
       "      <td>0</td>\n",
       "      <td>0.0</td>\n",
       "      <td>0</td>\n",
       "      <td>1</td>\n",
       "    </tr>\n",
       "    <tr>\n",
       "      <th>3680</th>\n",
       "      <td>18</td>\n",
       "      <td>11</td>\n",
       "      <td>0</td>\n",
       "      <td>7</td>\n",
       "      <td>100.0</td>\n",
       "      <td>3</td>\n",
       "      <td>5</td>\n",
       "    </tr>\n",
       "    <tr>\n",
       "      <th>2745</th>\n",
       "      <td>3</td>\n",
       "      <td>0</td>\n",
       "      <td>0</td>\n",
       "      <td>0</td>\n",
       "      <td>0.0</td>\n",
       "      <td>0</td>\n",
       "      <td>1</td>\n",
       "    </tr>\n",
       "    <tr>\n",
       "      <th>345</th>\n",
       "      <td>7</td>\n",
       "      <td>0</td>\n",
       "      <td>0</td>\n",
       "      <td>0</td>\n",
       "      <td>0.0</td>\n",
       "      <td>12</td>\n",
       "      <td>2</td>\n",
       "    </tr>\n",
       "  </tbody>\n",
       "</table>\n",
       "</div>"
      ],
      "text/plain": [
       "      socialNbFollowers  socialProductsLiked  productsListed  productsSold  \\\n",
       "2434                  6                  116               1             0   \n",
       "2847                  5                    0               0             0   \n",
       "3680                 18                   11               0             7   \n",
       "2745                  3                    0               0             0   \n",
       "345                   7                    0               0             0   \n",
       "\n",
       "      productsPassRate  productsWished  productsBought  \n",
       "2434               0.0             153              25  \n",
       "2847               0.0               0               1  \n",
       "3680             100.0               3               5  \n",
       "2745               0.0               0               1  \n",
       "345                0.0              12               2  "
      ]
     },
     "execution_count": 18,
     "metadata": {},
     "output_type": "execute_result"
    }
   ],
   "source": [
    "porEliminar = []\n",
    "# se quitan columnas que no aportan al modelo\n",
    "porEliminar += [\"country\",\"socialNbFollows\",\"gender\",\"daysSinceLastLogin\",\"seniorityAsMonths\",\"languageCat\"]\n",
    "\n",
    "\n",
    "ecommerce.drop(porEliminar, axis=1, errors='ignore', inplace=True)\n",
    "\n",
    "ecommerce.sample(5)"
   ]
  },
  {
   "cell_type": "markdown",
   "id": "0d151295",
   "metadata": {},
   "source": [
    "Se vuelven a dividir los datos en X y Y y a escalarlos. "
   ]
  },
  {
   "cell_type": "code",
   "execution_count": 19,
   "id": "34fe857b",
   "metadata": {},
   "outputs": [],
   "source": [
    "X = ecommerce.drop(columns='productsBought')\n",
    "y = ecommerce['productsBought']\n",
    "\n",
    "sc = StandardScaler()\n",
    "X_escalado = sc.fit_transform(X)\n",
    "X_escalado = pd.DataFrame(data = X_escalado, columns = X.columns)\n"
   ]
  },
  {
   "cell_type": "markdown",
   "id": "f5259d3b",
   "metadata": {},
   "source": [
    "Se vuelve a dividir en las variables de entrenamiento y de testeo, con un tamaño de entrenamiento del 70%."
   ]
  },
  {
   "cell_type": "code",
   "execution_count": 20,
   "id": "8ae740ad",
   "metadata": {},
   "outputs": [],
   "source": [
    "\n",
    "X_train, X_test, y_train, y_test = train_test_split(X, y.values.reshape(-1,1), train_size= 0.7, random_state = 1234, shuffle = True)"
   ]
  },
  {
   "cell_type": "markdown",
   "id": "c0da97c6",
   "metadata": {},
   "source": [
    "En los siguientes dos bloques, básicamente se vuelve a correr el modelo de Lasso y de Ridge usando el GridSearch, pero solamente con las variables que tenían más correlación con la variable de respuesta. "
   ]
  },
  {
   "cell_type": "code",
   "execution_count": 21,
   "id": "a8d27122",
   "metadata": {},
   "outputs": [
    {
     "name": "stdout",
     "output_type": "stream",
     "text": [
      "EMA: -2.499\n",
      "Configuración: {'alpha': 0.9}\n"
     ]
    }
   ],
   "source": [
    "modelo = Lasso()\n",
    "rkf = RepeatedKFold(n_splits=10, n_repeats=3, random_state=1)\n",
    "cuadr = dict()\n",
    "cuadr['alpha'] = arange(0, 1, 0.01)\n",
    "\n",
    "busqueda = GridSearchCV(modelo, cuadr, scoring='neg_mean_absolute_error', cv=rkf, n_jobs=-1)\n",
    "\n",
    "resultadosLasso = busqueda.fit(X, y)\n",
    "\n",
    "print('EMA: %.3f' % resultadosLasso.best_score_)\n",
    "print('Configuración: %s' % resultadosLasso.best_params_)"
   ]
  },
  {
   "cell_type": "code",
   "execution_count": 22,
   "id": "aa8c8c26",
   "metadata": {},
   "outputs": [
    {
     "name": "stdout",
     "output_type": "stream",
     "text": [
      "EMA: -2.504\n",
      "Configuración: {'alpha': 0.99}\n"
     ]
    }
   ],
   "source": [
    "modelo = Ridge()\n",
    "rkf = RepeatedKFold(n_splits=10, n_repeats=3, random_state=1)\n",
    "cuadr = dict()\n",
    "cuadr['alpha'] = arange(0, 1, 0.01)\n",
    "\n",
    "busqueda = GridSearchCV(modelo, cuadr, scoring='neg_mean_absolute_error', cv=rkf, n_jobs=-1)\n",
    "\n",
    "resultadosRidge = busqueda.fit(X, y)\n",
    "\n",
    "print('EMA: %.3f' % resultadosRidge.best_score_)\n",
    "print('Configuración: %s' % resultadosRidge.best_params_)"
   ]
  },
  {
   "cell_type": "markdown",
   "id": "c49ce955",
   "metadata": {},
   "source": [
    "Es claro que el error y el alfa se mantienen en ambos modelos, con respecto a los que se obtuvieron previos a la eliminación de variables. Esto indica que las variables no aportaban nada de variabilidad al modelo, siendo insignificantes para el análisis. Por esto, se procede en los demás modelos sin esas variables. "
   ]
  },
  {
   "cell_type": "markdown",
   "id": "9751b143",
   "metadata": {},
   "source": [
    "# Regresión lineal múltiple\n"
   ]
  },
  {
   "cell_type": "markdown",
   "id": "62ecbbad",
   "metadata": {},
   "source": [
    "Primero se define el modelo de regresión y se procede a correr usando el .fit, con los datos de entrenamiento."
   ]
  },
  {
   "cell_type": "code",
   "execution_count": 23,
   "id": "625676fe",
   "metadata": {},
   "outputs": [],
   "source": [
    "modelorl = LinearRegression()\n",
    "resultadosRL = modelorl.fit(X = X_train, y = y_train)"
   ]
  },
  {
   "cell_type": "markdown",
   "id": "08fa2b8c",
   "metadata": {},
   "source": [
    "Se imprime la información del modelo, como la intersección y los coeficientes para cada una de las variables. Además, se imprime el coeficiente de determinación R2."
   ]
  },
  {
   "cell_type": "code",
   "execution_count": 24,
   "id": "c3d5e1c5",
   "metadata": {},
   "outputs": [
    {
     "name": "stdout",
     "output_type": "stream",
     "text": [
      "Intercección: [0.84375256]\n",
      "Coeficiente: [('socialNbFollowers', 0.2856418102943932), ('socialProductsLiked', 0.005337748562928037), ('productsListed', -0.03893016830473671), ('productsSold', 0.023359863095312485), ('productsPassRate', 0.03461040964480548), ('productsWished', 0.01613458463739295)]\n",
      "Coeficiente de determinación R^2: 0.14264316621947892\n"
     ]
    }
   ],
   "source": [
    "print(\"Intercección:\", modelorl.intercept_)\n",
    "print(\"Coeficiente:\", list(zip(X.columns, modelorl.coef_.flatten(), )))\n",
    "print(\"Coeficiente de determinación R^2:\", modelorl.score(X, y))"
   ]
  },
  {
   "cell_type": "markdown",
   "id": "488017cc",
   "metadata": {},
   "source": [
    "Para evaluar el error cuadrático medio, se procede a realizar las predicciones basados en los x de testeo. A esto, se le calcula el error entre los valores predichos y los valores originales de testeo."
   ]
  },
  {
   "cell_type": "code",
   "execution_count": 25,
   "id": "27b1477d",
   "metadata": {},
   "outputs": [
    {
     "name": "stdout",
     "output_type": "stream",
     "text": [
      "El error RECM de test es: 13.0567875373638\n"
     ]
    }
   ],
   "source": [
    "predicciones = modelorl.predict(X = X_test)\n",
    "\n",
    "recm = mean_squared_error(y_true = y_test, y_pred = predicciones, squared = False)\n",
    "\n",
    "print(f\"El error RECM de test es: {recm}\")"
   ]
  },
  {
   "cell_type": "markdown",
   "id": "2d5c041a",
   "metadata": {},
   "source": [
    "Se denota que en este caso, el error cuadrático es de 6.09."
   ]
  },
  {
   "cell_type": "markdown",
   "id": "6003df67",
   "metadata": {},
   "source": [
    "# Ensemble con Random Forest\n"
   ]
  },
  {
   "cell_type": "markdown",
   "id": "14ae7071",
   "metadata": {},
   "source": [
    "Los métodos de ensemble usan múltiples algoritmos de aprendizaje de forma combinada para obtener un mejor rendimiento predictivo que el que se obtendría de los algoritmos de forma individual. Estos algoritmos usan lo denominado bagging o boosting para unir los algoritmos más simples, y algunos ejemplos son el XGBoost, Random Forest y AdaBoost. \n",
    "\n",
    "El algoritmo Random Forest usa el bagging, en donde los algoritmos simples son usados en paralelo para aprovechar la independiente entre ellos, ya que el error se puede reducir al promediar las salidas de los modelos simples. Por otro lado, en los algoritmos de boosting, se usan los modelos simples secuencialmente, para aprovechar la dependencia entre estos. El rendimiento general se puede mejorar porque un modelo posterior le puede dar más importancia a los errores cometidos por un modelo previo.\n",
    "\n",
    "Las predicciones de cada modelo simple se combinan por medio de una votación para problemas de clasificación o por suma ponderada para regresión. \n",
    "\n",
    "Algunas características son:\n",
    "\n",
    "- Requieren más computación para la evaluación de su predicción, es decir, requieren muchos cálculos adicionales.\n",
    "- Usualmente presentan mejores resultados que los algoritmos más simples.\n",
    "- Usan el bagging o boosting para unir los algoritmos simples.\n",
    "- La mayor diferencia entre bagging y boosting es que en boosting los algoritmos no se entrenan independientemente, sino que se ponderan según los errores de los anteriores. \n"
   ]
  },
  {
   "cell_type": "markdown",
   "id": "09469e7d",
   "metadata": {},
   "source": [
    "Siguiendo, se utiliza Random Forest como el método de ensemble que no se vio en clase, principalmente porque en clase se vio solamente como un método de clasificación, pero en esta práctica se usa para regresión."
   ]
  },
  {
   "cell_type": "markdown",
   "id": "d5f24dc1",
   "metadata": {},
   "source": [
    "Como siempre, se dividen los datos en entrenamiento y testeo primero."
   ]
  },
  {
   "cell_type": "code",
   "execution_count": 26,
   "id": "7bbe22f8",
   "metadata": {},
   "outputs": [],
   "source": [
    "X_train, X_test, y_train, y_test = train_test_split( ecommerce.drop(columns = \"productsBought\"), ecommerce['productsBought'], random_state = 123)"
   ]
  },
  {
   "cell_type": "markdown",
   "id": "9efd3297",
   "metadata": {},
   "source": [
    "Se crea el modelo, usando 10 árboles como el número de estimadores, un criterio de scoring de error cuadrático medio, y un máximo de atributos automático."
   ]
  },
  {
   "cell_type": "code",
   "execution_count": 27,
   "id": "05af828d",
   "metadata": {},
   "outputs": [
    {
     "data": {
      "text/plain": [
       "RandomForestRegressor(n_estimators=10, n_jobs=-1, random_state=123)"
      ]
     },
     "execution_count": 27,
     "metadata": {},
     "output_type": "execute_result"
    }
   ],
   "source": [
    "modelo = RandomForestRegressor(n_estimators = 10, criterion = 'mse', max_depth = None, max_features = 'auto', oob_score = False, n_jobs = -1, random_state = 123)\n",
    "\n",
    "modelo.fit(X_train, y_train)"
   ]
  },
  {
   "cell_type": "markdown",
   "id": "cb15bd97",
   "metadata": {},
   "source": [
    "Una vez creado el modelo, se procede a predecir usando el x de testeo y comparándolo con el y de testeo usando un error cuadrático medio. Esto regresa un error de 8.6, mayor que el que se observó en los modelos pasados."
   ]
  },
  {
   "cell_type": "code",
   "execution_count": 28,
   "id": "d5d9a832",
   "metadata": {},
   "outputs": [
    {
     "name": "stdout",
     "output_type": "stream",
     "text": [
      "El error RECM de test es: 8.604948172106152\n"
     ]
    }
   ],
   "source": [
    "predicciones = modelo.predict(X = X_test)\n",
    "\n",
    "recm = mean_squared_error( y_true  = y_test, y_pred  = predicciones, squared = False)\n",
    "print(f\"El error RECM de test es: {recm}\")"
   ]
  },
  {
   "cell_type": "markdown",
   "id": "a7bdf83d",
   "metadata": {},
   "source": [
    "Realizamos una validación empleando el out of bag error: Definimos valores evaluados, realizamos un bucle para entrenar el modelo con cada valor de estimadores y extraer su error de entrenamiento y out of bag. "
   ]
  },
  {
   "cell_type": "code",
   "execution_count": 29,
   "id": "5b2b2a6f",
   "metadata": {},
   "outputs": [
    {
     "name": "stderr",
     "output_type": "stream",
     "text": [
      "D:\\Users\\ricky\\anaconda3\\lib\\site-packages\\sklearn\\ensemble\\_forest.py:833: UserWarning: Some inputs do not have OOB scores. This probably means too few trees were used to compute any reliable oob estimates.\n",
      "  warn(\"Some inputs do not have OOB scores. \"\n",
      "D:\\Users\\ricky\\anaconda3\\lib\\site-packages\\sklearn\\ensemble\\_forest.py:833: UserWarning: Some inputs do not have OOB scores. This probably means too few trees were used to compute any reliable oob estimates.\n",
      "  warn(\"Some inputs do not have OOB scores. \"\n",
      "D:\\Users\\ricky\\anaconda3\\lib\\site-packages\\sklearn\\ensemble\\_forest.py:833: UserWarning: Some inputs do not have OOB scores. This probably means too few trees were used to compute any reliable oob estimates.\n",
      "  warn(\"Some inputs do not have OOB scores. \"\n",
      "D:\\Users\\ricky\\anaconda3\\lib\\site-packages\\sklearn\\ensemble\\_forest.py:833: UserWarning: Some inputs do not have OOB scores. This probably means too few trees were used to compute any reliable oob estimates.\n",
      "  warn(\"Some inputs do not have OOB scores. \"\n",
      "D:\\Users\\ricky\\anaconda3\\lib\\site-packages\\sklearn\\ensemble\\_forest.py:833: UserWarning: Some inputs do not have OOB scores. This probably means too few trees were used to compute any reliable oob estimates.\n",
      "  warn(\"Some inputs do not have OOB scores. \"\n"
     ]
    }
   ],
   "source": [
    "resultados_train = []\n",
    "resultados_oob   = []\n",
    "\n",
    "rango_estimador = range(1, 150, 5)\n",
    "\n",
    "for n_estimators in rango_estimador:\n",
    "    modelo = RandomForestRegressor(n_estimators = n_estimators, criterion = 'mse', max_depth = None, max_features = 'auto', oob_score = True, n_jobs = -1, random_state = 123)\n",
    "    modelo.fit(X_train, y_train)\n",
    "    resultados_train.append(modelo.score(X_train, y_train))\n",
    "    resultados_oob.append(modelo.oob_score_)"
   ]
  },
  {
   "cell_type": "markdown",
   "id": "d8584e30",
   "metadata": {},
   "source": [
    "Definimos un gráfico con la evolución de los errores con respecto al número de estimadores. "
   ]
  },
  {
   "cell_type": "code",
   "execution_count": 30,
   "id": "14e616cb",
   "metadata": {},
   "outputs": [
    {
     "name": "stdout",
     "output_type": "stream",
     "text": [
      "Valor óptimo de estimadores_n: 131\n"
     ]
    },
    {
     "data": {
      "image/png": "[encoded data removed]",
      "text/plain": [
       "<Figure size 432x276.48 with 1 Axes>"
      ]
     },
     "metadata": {},
     "output_type": "display_data"
    }
   ],
   "source": [
    "fig, ax = plt.subplots(figsize=(6, 3.84))\n",
    "ax.plot(rango_estimador, resultados_train, label=\"resultados de train\")\n",
    "ax.plot(rango_estimador, resultados_oob, label=\"resultados de out-of-bag\")\n",
    "ax.plot(rango_estimador[np.argmax(resultados_oob)], max(resultados_oob), marker='o', color = \"red\", label=\"resultado máximo\")\n",
    "ax.set_ylabel(\"R^2\")\n",
    "ax.set_xlabel(\"estimadores_n\")\n",
    "ax.set_title(\"Evolución del out-of-bag-error vs número árboles\")\n",
    "plt.legend();\n",
    "print(f\"Valor óptimo de estimadores_n: {rango_estimador[np.argmax(resultados_oob)]}\")"
   ]
  },
  {
   "cell_type": "markdown",
   "id": "30d59d17",
   "metadata": {},
   "source": [
    "Mediante la gráfica, queda claro que el mejor número de estimadores (árboles) es 131. "
   ]
  },
  {
   "cell_type": "markdown",
   "id": "7918bcf9",
   "metadata": {},
   "source": [
    "Ahora, queremos determinar el mejor número de features. Para esto, realizamos una validación empleando el out of bag error: Definimos valores evaluados, realizamos un bucle para entrenar el modelo con cada valor de estimadores y extraer su error de entrenamiento y out of bag."
   ]
  },
  {
   "cell_type": "code",
   "execution_count": 31,
   "id": "e96670ad",
   "metadata": {},
   "outputs": [],
   "source": [
    "resultados_train = []\n",
    "resultados_oob   = []\n",
    "\n",
    "rango_carac_max = range(1, X_train.shape[1] + 1, 1)\n",
    "\n",
    "for max_features in rango_carac_max:\n",
    "    modelo = RandomForestRegressor(n_estimators = 100, criterion    = 'mse', max_depth    = None, max_features = max_features, oob_score    = True, n_jobs       = -1, random_state = 123)\n",
    "    modelo.fit(X_train, y_train)\n",
    "    resultados_train.append(modelo.score(X_train, y_train))\n",
    "    resultados_oob.append(modelo.oob_score_)\n"
   ]
  },
  {
   "cell_type": "markdown",
   "id": "3bcf8d9d",
   "metadata": {},
   "source": [
    "Definimos un gráfico con la evolución de los errores"
   ]
  },
  {
   "cell_type": "code",
   "execution_count": 32,
   "id": "a883748d",
   "metadata": {},
   "outputs": [
    {
     "name": "stdout",
     "output_type": "stream",
     "text": [
      "Valor óptimo de max_features: 2\n"
     ]
    },
    {
     "data": {
      "image/png": "[encoded data removed]",
      "text/plain": [
       "<Figure size 432x276.48 with 1 Axes>"
      ]
     },
     "metadata": {},
     "output_type": "display_data"
    }
   ],
   "source": [
    "fig, ax = plt.subplots(figsize=(6, 3.84))\n",
    "ax.plot(rango_carac_max, resultados_train, label=\"resultados de train\")\n",
    "ax.plot(rango_carac_max, resultados_oob, label=\"resultados de out-of-bag\")\n",
    "ax.plot(rango_carac_max[np.argmax(resultados_oob)], max(resultados_oob), marker='o', color = \"red\")\n",
    "ax.set_ylabel(\"R^2\")\n",
    "ax.set_xlabel(\"max_features\")\n",
    "ax.set_title(\"Evolución del out-of-bag-error vs número de predictores\")\n",
    "plt.legend();\n",
    "print(f\"Valor óptimo de max_features: {rango_carac_max[np.argmax(resultados_oob)]}\")"
   ]
  },
  {
   "cell_type": "markdown",
   "id": "1055335d",
   "metadata": {},
   "source": [
    "Queda claro que el mejor número de features para el modelo es 2. "
   ]
  },
  {
   "cell_type": "markdown",
   "id": "6168b7ed",
   "metadata": {},
   "source": [
    "Nuevamente se plantea y se corre el modelo de Random Forest, pero usando 131 árboles como estimadores, y 2 features, según el tuneo de hiperparámetros realizado. "
   ]
  },
  {
   "cell_type": "code",
   "execution_count": 33,
   "id": "7c5564ef",
   "metadata": {},
   "outputs": [
    {
     "data": {
      "text/plain": [
       "RandomForestRegressor(max_features=2, n_estimators=131, n_jobs=-1,\n",
       "                      random_state=123)"
      ]
     },
     "execution_count": 33,
     "metadata": {},
     "output_type": "execute_result"
    }
   ],
   "source": [
    "modelo = RandomForestRegressor(n_estimators = 131, criterion    = 'mse', max_depth    = None, max_features = 2, oob_score    = False, n_jobs       = -1, random_state = 123)\n",
    "\n",
    "modelo.fit(X_train, y_train)"
   ]
  },
  {
   "cell_type": "markdown",
   "id": "f343c338",
   "metadata": {},
   "source": [
    "Realizamos un error de test del modelo tuneado, usando como error el cuadrático medio."
   ]
  },
  {
   "cell_type": "code",
   "execution_count": 34,
   "id": "ce69d035",
   "metadata": {},
   "outputs": [
    {
     "name": "stdout",
     "output_type": "stream",
     "text": [
      "El error RECM de test es: 7.445893396728748\n"
     ]
    }
   ],
   "source": [
    "predicciones = modelo.predict(X = X_test)\n",
    "\n",
    "recm = mean_squared_error(y_true  = y_test,y_pred  = predicciones,squared = False)\n",
    "print(f\"El error RECM de test es: {recm}\")"
   ]
  },
  {
   "cell_type": "markdown",
   "id": "6ba65f5e",
   "metadata": {},
   "source": [
    "Se denota que mediante el tuneo de los hiperparámetros de árboles y de features, se logra bajar el error de 8.6 a 7.4, lo cual implica que sí se logró una mejoría en el modelo alcanzado."
   ]
  },
  {
   "cell_type": "markdown",
   "id": "39d76908",
   "metadata": {},
   "source": [
    "# Definición de métricas de rendimiento: \n",
    "\n",
    "Procedemos a definir las funciones para las métricas de rendimiento por regresión.\n",
    "\n"
   ]
  },
  {
   "cell_type": "markdown",
   "id": "0bea960b",
   "metadata": {},
   "source": [
    "- Error medio absoluto:"
   ]
  },
  {
   "cell_type": "code",
   "execution_count": 35,
   "id": "44bab709",
   "metadata": {},
   "outputs": [],
   "source": [
    "def ema(pred, true):\n",
    "    return skm.mean_absolute_error(true, pred)"
   ]
  },
  {
   "cell_type": "markdown",
   "id": "51d02d94",
   "metadata": {},
   "source": [
    "- Error cuadrático medio::"
   ]
  },
  {
   "cell_type": "code",
   "execution_count": 36,
   "id": "b5029d68",
   "metadata": {},
   "outputs": [],
   "source": [
    "def ecm(pred, true):\n",
    "    return skm.mean_squared_error(true, pred, squared = True)"
   ]
  },
  {
   "cell_type": "markdown",
   "id": "cceb08dd",
   "metadata": {},
   "source": [
    "- Raíz del error cuadrático medio:"
   ]
  },
  {
   "cell_type": "code",
   "execution_count": 37,
   "id": "173d62bb",
   "metadata": {},
   "outputs": [],
   "source": [
    "def recm(pred, true):\n",
    "    return skm.mean_squared_error(true, pred, squared = False)"
   ]
  },
  {
   "cell_type": "markdown",
   "id": "959fa9d1",
   "metadata": {},
   "source": [
    "- Raíz del error cuadrático medio:"
   ]
  },
  {
   "cell_type": "code",
   "execution_count": 38,
   "id": "c6f89706",
   "metadata": {},
   "outputs": [],
   "source": [
    "def r2(pred,true): \n",
    "    return r2_score(true, pred,\n",
    "        multioutput='variance_weighted')"
   ]
  },
  {
   "cell_type": "markdown",
   "id": "2d40e77a",
   "metadata": {},
   "source": [
    "# Aplicación de métricas de rendimiento:\n",
    "\n",
    "Procedemos a definir las funciones para las métricas de rendimiento por regresión.\n",
    "\n",
    "Para cada modelo estudiado se evalúan las métricas de error medio absoluto, error cuadrático medio, raíz del error cuadrático medio y coeficiente de determinación R2. \n",
    "\n",
    "En cada uno de los modelos se crean dos variables, una que almacena el valor real (Y de testeo) y el valor predicho (Y predicha, usando las X de testeo)"
   ]
  },
  {
   "cell_type": "markdown",
   "id": "74a6ab17",
   "metadata": {},
   "source": [
    "**Modelo de Regresión Lineal:**"
   ]
  },
  {
   "cell_type": "code",
   "execution_count": 39,
   "id": "247beeac",
   "metadata": {},
   "outputs": [],
   "source": [
    "pred = resultadosRL.predict(X_test)\n",
    "true = y_test.tolist()"
   ]
  },
  {
   "cell_type": "markdown",
   "id": "d15be555",
   "metadata": {},
   "source": [
    "Error Medio Absoluto:"
   ]
  },
  {
   "cell_type": "code",
   "execution_count": 40,
   "id": "00dd798f",
   "metadata": {},
   "outputs": [
    {
     "data": {
      "text/plain": [
       "2.2487816748023004"
      ]
     },
     "execution_count": 40,
     "metadata": {},
     "output_type": "execute_result"
    }
   ],
   "source": [
    "ema(pred, true)"
   ]
  },
  {
   "cell_type": "markdown",
   "id": "0257f665",
   "metadata": {},
   "source": [
    "Error Cuadrático Medio:"
   ]
  },
  {
   "cell_type": "code",
   "execution_count": 41,
   "id": "a35aab80",
   "metadata": {},
   "outputs": [
    {
     "data": {
      "text/plain": [
       "37.16566616161663"
      ]
     },
     "execution_count": 41,
     "metadata": {},
     "output_type": "execute_result"
    }
   ],
   "source": [
    "ecm(pred, true)"
   ]
  },
  {
   "cell_type": "markdown",
   "id": "0c8c5caf",
   "metadata": {},
   "source": [
    "Raíz del Error Cuadrático Medio:"
   ]
  },
  {
   "cell_type": "code",
   "execution_count": 42,
   "id": "1b05eb95",
   "metadata": {},
   "outputs": [
    {
     "data": {
      "text/plain": [
       "6.096364995767283"
      ]
     },
     "execution_count": 42,
     "metadata": {},
     "output_type": "execute_result"
    }
   ],
   "source": [
    "recm(pred, true)"
   ]
  },
  {
   "cell_type": "markdown",
   "id": "11fab83b",
   "metadata": {},
   "source": [
    "Coeficiente de determinación R2:"
   ]
  },
  {
   "cell_type": "code",
   "execution_count": 43,
   "id": "63eac900",
   "metadata": {},
   "outputs": [
    {
     "data": {
      "text/plain": [
       "0.26160716950278473"
      ]
     },
     "execution_count": 43,
     "metadata": {},
     "output_type": "execute_result"
    }
   ],
   "source": [
    "r2(pred,true)"
   ]
  },
  {
   "cell_type": "markdown",
   "id": "1bfbfb2e",
   "metadata": {},
   "source": [
    "**Modelo Lasso:**"
   ]
  },
  {
   "cell_type": "code",
   "execution_count": 44,
   "id": "dc7de172",
   "metadata": {},
   "outputs": [],
   "source": [
    "pred = resultadosLasso.predict(X_test)\n",
    "true = y_test.tolist()"
   ]
  },
  {
   "cell_type": "markdown",
   "id": "ecdef486",
   "metadata": {},
   "source": [
    "Error Medio Absoluto:"
   ]
  },
  {
   "cell_type": "code",
   "execution_count": 45,
   "id": "971cbee4",
   "metadata": {},
   "outputs": [
    {
     "data": {
      "text/plain": [
       "2.301107376686692"
      ]
     },
     "execution_count": 45,
     "metadata": {},
     "output_type": "execute_result"
    }
   ],
   "source": [
    "ema(pred, true)"
   ]
  },
  {
   "cell_type": "markdown",
   "id": "ed368a6c",
   "metadata": {},
   "source": [
    "Error Cuadrático Medio:"
   ]
  },
  {
   "cell_type": "code",
   "execution_count": 46,
   "id": "d8137d94",
   "metadata": {},
   "outputs": [
    {
     "data": {
      "text/plain": [
       "38.95133889429995"
      ]
     },
     "execution_count": 46,
     "metadata": {},
     "output_type": "execute_result"
    }
   ],
   "source": [
    "ecm(pred, true)"
   ]
  },
  {
   "cell_type": "markdown",
   "id": "8266a090",
   "metadata": {},
   "source": [
    "Raíz del Error Cuadrático Medio:"
   ]
  },
  {
   "cell_type": "code",
   "execution_count": 47,
   "id": "4f867851",
   "metadata": {},
   "outputs": [
    {
     "data": {
      "text/plain": [
       "6.241100775848756"
      ]
     },
     "execution_count": 47,
     "metadata": {},
     "output_type": "execute_result"
    }
   ],
   "source": [
    "recm(pred, true)"
   ]
  },
  {
   "cell_type": "markdown",
   "id": "02c9b9cf",
   "metadata": {},
   "source": [
    "Coeficiente de determinación R2:"
   ]
  },
  {
   "cell_type": "code",
   "execution_count": 48,
   "id": "a143548e",
   "metadata": {},
   "outputs": [
    {
     "data": {
      "text/plain": [
       "0.22613012631744112"
      ]
     },
     "execution_count": 48,
     "metadata": {},
     "output_type": "execute_result"
    }
   ],
   "source": [
    "r2(pred,true)"
   ]
  },
  {
   "cell_type": "markdown",
   "id": "327909b6",
   "metadata": {},
   "source": [
    "**Modelo Ridge:**"
   ]
  },
  {
   "cell_type": "code",
   "execution_count": 49,
   "id": "c36bd0e0",
   "metadata": {},
   "outputs": [],
   "source": [
    "pred = resultadosRidge.predict(X_test)\n",
    "true = y_test.tolist()"
   ]
  },
  {
   "cell_type": "markdown",
   "id": "db35f679",
   "metadata": {},
   "source": [
    "Error Medio Absoluto:"
   ]
  },
  {
   "cell_type": "code",
   "execution_count": 50,
   "id": "4c4dbec2",
   "metadata": {},
   "outputs": [
    {
     "data": {
      "text/plain": [
       "2.29761025705417"
      ]
     },
     "execution_count": 50,
     "metadata": {},
     "output_type": "execute_result"
    }
   ],
   "source": [
    "ema(pred, true)"
   ]
  },
  {
   "cell_type": "markdown",
   "id": "3a77fce8",
   "metadata": {},
   "source": [
    "Error Cuadrático Medio:"
   ]
  },
  {
   "cell_type": "code",
   "execution_count": 51,
   "id": "0113e61a",
   "metadata": {},
   "outputs": [
    {
     "data": {
      "text/plain": [
       "38.987994632436084"
      ]
     },
     "execution_count": 51,
     "metadata": {},
     "output_type": "execute_result"
    }
   ],
   "source": [
    "ecm(pred, true)"
   ]
  },
  {
   "cell_type": "markdown",
   "id": "0e096a93",
   "metadata": {},
   "source": [
    "Raíz del Error Cuadrático Medio:"
   ]
  },
  {
   "cell_type": "code",
   "execution_count": 52,
   "id": "8c938a7d",
   "metadata": {},
   "outputs": [
    {
     "data": {
      "text/plain": [
       "6.244036725743698"
      ]
     },
     "execution_count": 52,
     "metadata": {},
     "output_type": "execute_result"
    }
   ],
   "source": [
    "recm(pred, true)"
   ]
  },
  {
   "cell_type": "markdown",
   "id": "29efb406",
   "metadata": {},
   "source": [
    "Coeficiente de determinación R2:"
   ]
  },
  {
   "cell_type": "code",
   "execution_count": 53,
   "id": "7726a8d2",
   "metadata": {},
   "outputs": [
    {
     "data": {
      "text/plain": [
       "0.22540186453629596"
      ]
     },
     "execution_count": 53,
     "metadata": {},
     "output_type": "execute_result"
    }
   ],
   "source": [
    "r2(pred,true)"
   ]
  },
  {
   "cell_type": "markdown",
   "id": "60903c5e",
   "metadata": {},
   "source": [
    "**Random Forest:**"
   ]
  },
  {
   "cell_type": "code",
   "execution_count": 54,
   "id": "072eff86",
   "metadata": {},
   "outputs": [],
   "source": [
    "pred = modelo.predict(X_test)\n",
    "true = y_test.tolist()"
   ]
  },
  {
   "cell_type": "markdown",
   "id": "80a5f7d6",
   "metadata": {},
   "source": [
    "Error Medio Absoluto:"
   ]
  },
  {
   "cell_type": "code",
   "execution_count": 55,
   "id": "8dd1a449",
   "metadata": {},
   "outputs": [
    {
     "data": {
      "text/plain": [
       "2.3762251125353693"
      ]
     },
     "execution_count": 55,
     "metadata": {},
     "output_type": "execute_result"
    }
   ],
   "source": [
    "ema(pred, true)"
   ]
  },
  {
   "cell_type": "markdown",
   "id": "54270f7f",
   "metadata": {},
   "source": [
    "Error Cuadrático Medio:"
   ]
  },
  {
   "cell_type": "code",
   "execution_count": 56,
   "id": "bae7eb55",
   "metadata": {},
   "outputs": [
    {
     "data": {
      "text/plain": [
       "55.44132847544878"
      ]
     },
     "execution_count": 56,
     "metadata": {},
     "output_type": "execute_result"
    }
   ],
   "source": [
    "ecm(pred, true)"
   ]
  },
  {
   "cell_type": "markdown",
   "id": "ae6ad3d5",
   "metadata": {},
   "source": [
    "Raíz del Error Cuadrático Medio:"
   ]
  },
  {
   "cell_type": "code",
   "execution_count": 57,
   "id": "2e73cbfa",
   "metadata": {},
   "outputs": [
    {
     "data": {
      "text/plain": [
       "7.445893396728748"
      ]
     },
     "execution_count": 57,
     "metadata": {},
     "output_type": "execute_result"
    }
   ],
   "source": [
    "recm(pred, true)"
   ]
  },
  {
   "cell_type": "markdown",
   "id": "d3e056be",
   "metadata": {},
   "source": [
    "Coeficiente de determinación R2:"
   ]
  },
  {
   "cell_type": "code",
   "execution_count": 58,
   "id": "d3a627ab",
   "metadata": {},
   "outputs": [
    {
     "data": {
      "text/plain": [
       "-0.10148649782016417"
      ]
     },
     "execution_count": 58,
     "metadata": {},
     "output_type": "execute_result"
    }
   ],
   "source": [
    "r2(pred,true)"
   ]
  },
  {
   "cell_type": "markdown",
   "id": "39ce362c",
   "metadata": {},
   "source": [
    "**Análisis final de métricas**"
   ]
  },
  {
   "cell_type": "markdown",
   "id": "bc06b3b6",
   "metadata": {},
   "source": [
    "Cuando se compara el error medio absoluto entre los diferentes modelos, queda claro que todos rondan entre 2.24 y 2.37, por lo cual es una métrica que se asemeja mucho entre ellos. Este indicador da una buena noción del desempeño de los modelos, en donde ya se puede ir observando que es alto en comparación con los valores de la variable por predecir, que como se mencionó anteriormente va entre 1 y 10.\n",
    "\n",
    "Con respecto al error cuadrático medio, el comportamiento se repite, con los modelos de regresión, Lasso y Ridge ronando los 39 y el random forest 55. Lo mismo ocurre con la raíz del error, en donde los primeros tres tienen un valor de 6 y el Random Forest de 7. Esto se puede explicar porque son modelos que utilizan un principio similar, con la diferencia de la penalización por el alfa. \n",
    "\n",
    "Finalmente, el R2 indica que el mejor modelo es el de regresión lineal, con un coeficiente de 0.26, y el peor sería el Random Forest, con 0.10. \n",
    "\n",
    "Queda claro que los modelos se desempeñan de manera deficiente con el dataset seleccionado. \n",
    "\n",
    "Como conclusión, este bajo desempeño puede darse por dos razones: \n",
    "\n",
    "- El dataset era pequeño, y tenía alrededor de 5000 registros. Esto ocasiona que el modelo no sea tan robusto en su entrenamiento, causando menor capacidad de predicción.\n",
    "\n",
    "- Muchos registros del modelo eran 0: En muchas ocasiones, usuarios tenían 0 en sus diferentes variables; por ejemplo, no tenían seguidores, seguidos, publicaciones con like, entre otros. Esto no es suficiente razón como para eliminar esos registros, porque el dato se tiene, es simplemente que es 0. El 0, al ser un valor tan neutro, no añade la variabilidad que necesita el modelo para aumentar su capacidad de predicción."
   ]
  }
 ],
 "metadata": {
  "kernelspec": {
   "display_name": "Python 3",
   "language": "python",
   "name": "python3"
  },
  "language_info": {
   "codemirror_mode": {
    "name": "ipython",
    "version": 3
   },
   "file_extension": ".py",
   "mimetype": "text/x-python",
   "name": "python",
   "nbconvert_exporter": "python",
   "pygments_lexer": "ipython3",
   "version": "3.8.8"
  }
 },
 "nbformat": 4,
 "nbformat_minor": 5
}
