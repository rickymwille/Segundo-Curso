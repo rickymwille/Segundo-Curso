{
  "nbformat": 4,
  "nbformat_minor": 0,
  "metadata": {
    "colab": {
      "name": "Tarea_4.2.ipynb",
      "provenance": [],
      "collapsed_sections": []
    },
    "kernelspec": {
      "name": "python3",
      "display_name": "Python 3"
    },
    "language_info": {
      "name": "python"
    }
  },
  "cells": [
    {
      "cell_type": "markdown",
      "metadata": {
        "id": "wItNnNLg9a3_"
      },
      "source": [
        "# Programa de Ciencia de Datos, Aprendizaje Automático\n",
        "\n",
        "\n",
        "**Tarea #4**\n",
        "\n",
        "Estudiantes:\n",
        "\n",
        "   - *Ricardo Montero Wille*\n",
        "\n",
        "   - *Esteban Pérez Navarro*\n",
        "   \n",
        "   "
      ]
    },
    {
      "cell_type": "markdown",
      "metadata": {
        "id": "Tc6w_bPF9fvo"
      },
      "source": [
        "**A continuación se presenta el desarrollo del problema:**\n",
        "\n",
        "Primero se importan las librerías."
      ]
    },
    {
      "cell_type": "code",
      "metadata": {
        "id": "nIB2e7Lr9hbY"
      },
      "source": [
        "# Imports para tratamiento de datos\n",
        "# ==============================================================================\n",
        "import pandas as pd\n",
        "import numpy as np\n",
        "from numpy import mean\n",
        "from numpy import std\n",
        "from numpy import absolute\n",
        "from numpy import arange\n",
        "\n",
        "# Imports para graficación\n",
        "# ==============================================================================\n",
        "\n",
        "import matplotlib.pyplot as plt\n",
        "from matplotlib import style\n",
        "import seaborn as sns\n",
        "import sklearn.metrics as skm\n",
        "\n",
        "# Imports para pre-procesado y modelado\n",
        "# ==============================================================================\n",
        "from scipy.stats import pearsonr\n",
        "from sklearn.model_selection import train_test_split\n",
        "from sklearn.metrics import mean_squared_error\n",
        "from sklearn.preprocessing import MinMaxScaler\n",
        "\n",
        "\n",
        "# Configuración matplotlib\n",
        "# ==============================================================================\n",
        "plt.rcParams['image.cmap'] = \"bwr\"\n",
        "#plt.rcParams['figure.dpi'] = \"100\"\n",
        "plt.rcParams['savefig.bbox'] = \"tight\"\n",
        "style.use('ggplot') or plt.style.use('ggplot')\n",
        "\n",
        "#Esta línea se utiliza para evitar algunas advertencias que panda tiene\n",
        "pd.options.mode.chained_assignment = None  # default='warn'"
      ],
      "execution_count": 2,
      "outputs": []
    },
    {
      "cell_type": "markdown",
      "metadata": {
        "id": "eb7c8SUI9otN"
      },
      "source": [
        "Seguidamente procedemos a leer el archivo y visualizamos las primeras 10 líneas. En este caso, vamos a utilizar un archivo que contiene datos relativos a una página de ventas digitales entre clientes, es decir, C2C (Customer To Customer). En esta, los usuarios pueden comprar y vender productos, y se cuenta con diferentes métricas para cada usuario, como su cantidad de seguidores, de seguidos, los productos listados y gustados, su país e idioma, entre otros. \n",
        "\n",
        "Dado que en la tarea pasada se utilizó el set de datos para predecir la cantidad de artículos que compra un usuario (problema de regresión), en este caso se decide darle un enfoque de clasificación, e intentar predecir si un usuario va a vender o comprar algo, o si no va a hacer ninguno de los dos. "
      ]
    },
    {
      "cell_type": "code",
      "metadata": {
        "colab": {
          "base_uri": "https://localhost:8080/",
          "height": 408
        },
        "id": "-1E4wdxU9rVP",
        "outputId": "59d0e884-a07f-4a94-d09d-7d6688f11b32"
      },
      "source": [
        "archivo = 'https://raw.githubusercontent.com/EstebanPN14/prueba2/main/ecommerce4.csv'\n",
        "ecommerce = pd.read_csv(archivo,error_bad_lines=False)\n",
        "ecommerce.head(10)"
      ],
      "execution_count": 3,
      "outputs": [
        {
          "output_type": "execute_result",
          "data": {
            "text/html": [
              "<div>\n",
              "<style scoped>\n",
              "    .dataframe tbody tr th:only-of-type {\n",
              "        vertical-align: middle;\n",
              "    }\n",
              "\n",
              "    .dataframe tbody tr th {\n",
              "        vertical-align: top;\n",
              "    }\n",
              "\n",
              "    .dataframe thead th {\n",
              "        text-align: right;\n",
              "    }\n",
              "</style>\n",
              "<table border=\"1\" class=\"dataframe\">\n",
              "  <thead>\n",
              "    <tr style=\"text-align: right;\">\n",
              "      <th></th>\n",
              "      <th>identifierHash</th>\n",
              "      <th>type</th>\n",
              "      <th>country</th>\n",
              "      <th>language</th>\n",
              "      <th>socialNbFollowers</th>\n",
              "      <th>socialNbFollows</th>\n",
              "      <th>socialProductsLiked</th>\n",
              "      <th>productsListed</th>\n",
              "      <th>productsSold</th>\n",
              "      <th>productsPassRate</th>\n",
              "      <th>productsWished</th>\n",
              "      <th>productsBought</th>\n",
              "      <th>Indicador</th>\n",
              "      <th>gender</th>\n",
              "      <th>civilityGenderId</th>\n",
              "      <th>civilityTitle</th>\n",
              "      <th>hasAnyApp</th>\n",
              "      <th>hasAndroidApp</th>\n",
              "      <th>hasIosApp</th>\n",
              "      <th>hasProfilePicture</th>\n",
              "      <th>daysSinceLastLogin</th>\n",
              "      <th>seniority</th>\n",
              "      <th>seniorityAsMonths</th>\n",
              "      <th>seniorityAsYears</th>\n",
              "      <th>countryCode</th>\n",
              "    </tr>\n",
              "  </thead>\n",
              "  <tbody>\n",
              "    <tr>\n",
              "      <th>0</th>\n",
              "      <td>-7.280000e+18</td>\n",
              "      <td>user</td>\n",
              "      <td>Etats-Unis</td>\n",
              "      <td>en</td>\n",
              "      <td>3</td>\n",
              "      <td>8</td>\n",
              "      <td>0</td>\n",
              "      <td>0</td>\n",
              "      <td>0</td>\n",
              "      <td>0.0</td>\n",
              "      <td>0</td>\n",
              "      <td>0</td>\n",
              "      <td>Bad User</td>\n",
              "      <td>F</td>\n",
              "      <td>2</td>\n",
              "      <td>mrs</td>\n",
              "      <td>False</td>\n",
              "      <td>False</td>\n",
              "      <td>False</td>\n",
              "      <td>True</td>\n",
              "      <td>709</td>\n",
              "      <td>3205</td>\n",
              "      <td>106.83</td>\n",
              "      <td>8.9</td>\n",
              "      <td>us</td>\n",
              "    </tr>\n",
              "    <tr>\n",
              "      <th>1</th>\n",
              "      <td>-1.460000e+18</td>\n",
              "      <td>user</td>\n",
              "      <td>Allemagne</td>\n",
              "      <td>de</td>\n",
              "      <td>3</td>\n",
              "      <td>8</td>\n",
              "      <td>0</td>\n",
              "      <td>0</td>\n",
              "      <td>0</td>\n",
              "      <td>0.0</td>\n",
              "      <td>0</td>\n",
              "      <td>0</td>\n",
              "      <td>Bad User</td>\n",
              "      <td>F</td>\n",
              "      <td>2</td>\n",
              "      <td>mrs</td>\n",
              "      <td>False</td>\n",
              "      <td>False</td>\n",
              "      <td>False</td>\n",
              "      <td>True</td>\n",
              "      <td>709</td>\n",
              "      <td>3205</td>\n",
              "      <td>106.83</td>\n",
              "      <td>8.9</td>\n",
              "      <td>de</td>\n",
              "    </tr>\n",
              "    <tr>\n",
              "      <th>2</th>\n",
              "      <td>9.010000e+18</td>\n",
              "      <td>user</td>\n",
              "      <td>Suède</td>\n",
              "      <td>en</td>\n",
              "      <td>3</td>\n",
              "      <td>8</td>\n",
              "      <td>0</td>\n",
              "      <td>0</td>\n",
              "      <td>0</td>\n",
              "      <td>0.0</td>\n",
              "      <td>0</td>\n",
              "      <td>0</td>\n",
              "      <td>Bad User</td>\n",
              "      <td>M</td>\n",
              "      <td>1</td>\n",
              "      <td>mr</td>\n",
              "      <td>True</td>\n",
              "      <td>False</td>\n",
              "      <td>True</td>\n",
              "      <td>True</td>\n",
              "      <td>689</td>\n",
              "      <td>3205</td>\n",
              "      <td>106.83</td>\n",
              "      <td>8.9</td>\n",
              "      <td>se</td>\n",
              "    </tr>\n",
              "    <tr>\n",
              "      <th>3</th>\n",
              "      <td>-7.150000e+18</td>\n",
              "      <td>user</td>\n",
              "      <td>Turquie</td>\n",
              "      <td>en</td>\n",
              "      <td>3</td>\n",
              "      <td>8</td>\n",
              "      <td>0</td>\n",
              "      <td>0</td>\n",
              "      <td>0</td>\n",
              "      <td>0.0</td>\n",
              "      <td>0</td>\n",
              "      <td>0</td>\n",
              "      <td>Bad User</td>\n",
              "      <td>F</td>\n",
              "      <td>2</td>\n",
              "      <td>mrs</td>\n",
              "      <td>False</td>\n",
              "      <td>False</td>\n",
              "      <td>False</td>\n",
              "      <td>True</td>\n",
              "      <td>709</td>\n",
              "      <td>3205</td>\n",
              "      <td>106.83</td>\n",
              "      <td>8.9</td>\n",
              "      <td>tr</td>\n",
              "    </tr>\n",
              "    <tr>\n",
              "      <th>4</th>\n",
              "      <td>2.860000e+18</td>\n",
              "      <td>user</td>\n",
              "      <td>France</td>\n",
              "      <td>en</td>\n",
              "      <td>3</td>\n",
              "      <td>8</td>\n",
              "      <td>0</td>\n",
              "      <td>0</td>\n",
              "      <td>0</td>\n",
              "      <td>0.0</td>\n",
              "      <td>0</td>\n",
              "      <td>0</td>\n",
              "      <td>Bad User</td>\n",
              "      <td>M</td>\n",
              "      <td>1</td>\n",
              "      <td>mr</td>\n",
              "      <td>True</td>\n",
              "      <td>False</td>\n",
              "      <td>True</td>\n",
              "      <td>True</td>\n",
              "      <td>709</td>\n",
              "      <td>3205</td>\n",
              "      <td>106.83</td>\n",
              "      <td>8.9</td>\n",
              "      <td>fr</td>\n",
              "    </tr>\n",
              "    <tr>\n",
              "      <th>5</th>\n",
              "      <td>-8.370000e+18</td>\n",
              "      <td>user</td>\n",
              "      <td>Royaume-Uni</td>\n",
              "      <td>en</td>\n",
              "      <td>3</td>\n",
              "      <td>8</td>\n",
              "      <td>0</td>\n",
              "      <td>0</td>\n",
              "      <td>0</td>\n",
              "      <td>0.0</td>\n",
              "      <td>0</td>\n",
              "      <td>0</td>\n",
              "      <td>Bad User</td>\n",
              "      <td>F</td>\n",
              "      <td>2</td>\n",
              "      <td>mrs</td>\n",
              "      <td>False</td>\n",
              "      <td>False</td>\n",
              "      <td>False</td>\n",
              "      <td>True</td>\n",
              "      <td>709</td>\n",
              "      <td>3205</td>\n",
              "      <td>106.83</td>\n",
              "      <td>8.9</td>\n",
              "      <td>gb</td>\n",
              "    </tr>\n",
              "    <tr>\n",
              "      <th>6</th>\n",
              "      <td>-7.880000e+18</td>\n",
              "      <td>user</td>\n",
              "      <td>Royaume-Uni</td>\n",
              "      <td>en</td>\n",
              "      <td>3</td>\n",
              "      <td>8</td>\n",
              "      <td>4</td>\n",
              "      <td>0</td>\n",
              "      <td>0</td>\n",
              "      <td>0.0</td>\n",
              "      <td>0</td>\n",
              "      <td>0</td>\n",
              "      <td>Bad User</td>\n",
              "      <td>F</td>\n",
              "      <td>2</td>\n",
              "      <td>mrs</td>\n",
              "      <td>False</td>\n",
              "      <td>False</td>\n",
              "      <td>False</td>\n",
              "      <td>True</td>\n",
              "      <td>591</td>\n",
              "      <td>3205</td>\n",
              "      <td>106.83</td>\n",
              "      <td>8.9</td>\n",
              "      <td>gb</td>\n",
              "    </tr>\n",
              "    <tr>\n",
              "      <th>7</th>\n",
              "      <td>7.460000e+18</td>\n",
              "      <td>user</td>\n",
              "      <td>Italie</td>\n",
              "      <td>fr</td>\n",
              "      <td>3</td>\n",
              "      <td>8</td>\n",
              "      <td>0</td>\n",
              "      <td>0</td>\n",
              "      <td>0</td>\n",
              "      <td>0.0</td>\n",
              "      <td>0</td>\n",
              "      <td>0</td>\n",
              "      <td>Bad User</td>\n",
              "      <td>F</td>\n",
              "      <td>2</td>\n",
              "      <td>mrs</td>\n",
              "      <td>True</td>\n",
              "      <td>True</td>\n",
              "      <td>False</td>\n",
              "      <td>True</td>\n",
              "      <td>709</td>\n",
              "      <td>3205</td>\n",
              "      <td>106.83</td>\n",
              "      <td>8.9</td>\n",
              "      <td>it</td>\n",
              "    </tr>\n",
              "    <tr>\n",
              "      <th>8</th>\n",
              "      <td>4.610000e+18</td>\n",
              "      <td>user</td>\n",
              "      <td>Italie</td>\n",
              "      <td>fr</td>\n",
              "      <td>3</td>\n",
              "      <td>8</td>\n",
              "      <td>0</td>\n",
              "      <td>0</td>\n",
              "      <td>0</td>\n",
              "      <td>0.0</td>\n",
              "      <td>0</td>\n",
              "      <td>0</td>\n",
              "      <td>Bad User</td>\n",
              "      <td>F</td>\n",
              "      <td>2</td>\n",
              "      <td>mrs</td>\n",
              "      <td>True</td>\n",
              "      <td>True</td>\n",
              "      <td>False</td>\n",
              "      <td>True</td>\n",
              "      <td>701</td>\n",
              "      <td>3205</td>\n",
              "      <td>106.83</td>\n",
              "      <td>8.9</td>\n",
              "      <td>it</td>\n",
              "    </tr>\n",
              "    <tr>\n",
              "      <th>9</th>\n",
              "      <td>-7.300000e+18</td>\n",
              "      <td>user</td>\n",
              "      <td>France</td>\n",
              "      <td>en</td>\n",
              "      <td>3</td>\n",
              "      <td>8</td>\n",
              "      <td>0</td>\n",
              "      <td>0</td>\n",
              "      <td>0</td>\n",
              "      <td>0.0</td>\n",
              "      <td>0</td>\n",
              "      <td>0</td>\n",
              "      <td>Bad User</td>\n",
              "      <td>M</td>\n",
              "      <td>1</td>\n",
              "      <td>mr</td>\n",
              "      <td>True</td>\n",
              "      <td>False</td>\n",
              "      <td>True</td>\n",
              "      <td>True</td>\n",
              "      <td>703</td>\n",
              "      <td>3205</td>\n",
              "      <td>106.83</td>\n",
              "      <td>8.9</td>\n",
              "      <td>fr</td>\n",
              "    </tr>\n",
              "  </tbody>\n",
              "</table>\n",
              "</div>"
            ],
            "text/plain": [
              "   identifierHash  type  ... seniorityAsYears countryCode\n",
              "0   -7.280000e+18  user  ...              8.9          us\n",
              "1   -1.460000e+18  user  ...              8.9          de\n",
              "2    9.010000e+18  user  ...              8.9          se\n",
              "3   -7.150000e+18  user  ...              8.9          tr\n",
              "4    2.860000e+18  user  ...              8.9          fr\n",
              "5   -8.370000e+18  user  ...              8.9          gb\n",
              "6   -7.880000e+18  user  ...              8.9          gb\n",
              "7    7.460000e+18  user  ...              8.9          it\n",
              "8    4.610000e+18  user  ...              8.9          it\n",
              "9   -7.300000e+18  user  ...              8.9          fr\n",
              "\n",
              "[10 rows x 25 columns]"
            ]
          },
          "metadata": {},
          "execution_count": 3
        }
      ]
    },
    {
      "cell_type": "markdown",
      "metadata": {
        "id": "lFcKd0M5A_ui"
      },
      "source": [
        "**Iniciando con el tratamiento y análisis exploratorio de los datos**"
      ]
    },
    {
      "cell_type": "markdown",
      "metadata": {
        "id": "JanPEz7KBAkv"
      },
      "source": [
        "Seguidamente descartamos las columnas que no van a ser utilizadas por el modelo, por ser poco importantes según la investigación previa realizada (criterio experto) o que fueron reemplazadas por una nueva al hacer el label encoding. Para esto, se procede a usar la función drop."
      ]
    },
    {
      "cell_type": "code",
      "metadata": {
        "colab": {
          "base_uri": "https://localhost:8080/",
          "height": 324
        },
        "id": "8Gz4j6u4BFjv",
        "outputId": "f2480bb1-f896-4830-9b6e-02c50b251cf1"
      },
      "source": [
        "porEliminar = []\n",
        "#Removemos columnas que no aportan al modelo, segun criterio experto\n",
        "porEliminar += [\"identifierHash\", \"type\", \"civilityTitle\", \"countryCode\",\"hasAnyApp\",\"hasAndroidApp\",\"hasIosApp\",\"hasProfilePicture\"]\n",
        "\n",
        "#Removemos columnas duplicadas\n",
        "porEliminar += [\"seniority\", \"seniorityAsYears\", \"civilityGenderId\"]\n",
        "\n",
        "#Se remueven las columnas\n",
        "ecommerce.drop(porEliminar, axis=1, errors='ignore', inplace=True)\n",
        "ecommerce.head(9)"
      ],
      "execution_count": 4,
      "outputs": [
        {
          "output_type": "execute_result",
          "data": {
            "text/html": [
              "<div>\n",
              "<style scoped>\n",
              "    .dataframe tbody tr th:only-of-type {\n",
              "        vertical-align: middle;\n",
              "    }\n",
              "\n",
              "    .dataframe tbody tr th {\n",
              "        vertical-align: top;\n",
              "    }\n",
              "\n",
              "    .dataframe thead th {\n",
              "        text-align: right;\n",
              "    }\n",
              "</style>\n",
              "<table border=\"1\" class=\"dataframe\">\n",
              "  <thead>\n",
              "    <tr style=\"text-align: right;\">\n",
              "      <th></th>\n",
              "      <th>country</th>\n",
              "      <th>language</th>\n",
              "      <th>socialNbFollowers</th>\n",
              "      <th>socialNbFollows</th>\n",
              "      <th>socialProductsLiked</th>\n",
              "      <th>productsListed</th>\n",
              "      <th>productsSold</th>\n",
              "      <th>productsPassRate</th>\n",
              "      <th>productsWished</th>\n",
              "      <th>productsBought</th>\n",
              "      <th>Indicador</th>\n",
              "      <th>gender</th>\n",
              "      <th>daysSinceLastLogin</th>\n",
              "      <th>seniorityAsMonths</th>\n",
              "    </tr>\n",
              "  </thead>\n",
              "  <tbody>\n",
              "    <tr>\n",
              "      <th>0</th>\n",
              "      <td>Etats-Unis</td>\n",
              "      <td>en</td>\n",
              "      <td>3</td>\n",
              "      <td>8</td>\n",
              "      <td>0</td>\n",
              "      <td>0</td>\n",
              "      <td>0</td>\n",
              "      <td>0.0</td>\n",
              "      <td>0</td>\n",
              "      <td>0</td>\n",
              "      <td>Bad User</td>\n",
              "      <td>F</td>\n",
              "      <td>709</td>\n",
              "      <td>106.83</td>\n",
              "    </tr>\n",
              "    <tr>\n",
              "      <th>1</th>\n",
              "      <td>Allemagne</td>\n",
              "      <td>de</td>\n",
              "      <td>3</td>\n",
              "      <td>8</td>\n",
              "      <td>0</td>\n",
              "      <td>0</td>\n",
              "      <td>0</td>\n",
              "      <td>0.0</td>\n",
              "      <td>0</td>\n",
              "      <td>0</td>\n",
              "      <td>Bad User</td>\n",
              "      <td>F</td>\n",
              "      <td>709</td>\n",
              "      <td>106.83</td>\n",
              "    </tr>\n",
              "    <tr>\n",
              "      <th>2</th>\n",
              "      <td>Suède</td>\n",
              "      <td>en</td>\n",
              "      <td>3</td>\n",
              "      <td>8</td>\n",
              "      <td>0</td>\n",
              "      <td>0</td>\n",
              "      <td>0</td>\n",
              "      <td>0.0</td>\n",
              "      <td>0</td>\n",
              "      <td>0</td>\n",
              "      <td>Bad User</td>\n",
              "      <td>M</td>\n",
              "      <td>689</td>\n",
              "      <td>106.83</td>\n",
              "    </tr>\n",
              "    <tr>\n",
              "      <th>3</th>\n",
              "      <td>Turquie</td>\n",
              "      <td>en</td>\n",
              "      <td>3</td>\n",
              "      <td>8</td>\n",
              "      <td>0</td>\n",
              "      <td>0</td>\n",
              "      <td>0</td>\n",
              "      <td>0.0</td>\n",
              "      <td>0</td>\n",
              "      <td>0</td>\n",
              "      <td>Bad User</td>\n",
              "      <td>F</td>\n",
              "      <td>709</td>\n",
              "      <td>106.83</td>\n",
              "    </tr>\n",
              "    <tr>\n",
              "      <th>4</th>\n",
              "      <td>France</td>\n",
              "      <td>en</td>\n",
              "      <td>3</td>\n",
              "      <td>8</td>\n",
              "      <td>0</td>\n",
              "      <td>0</td>\n",
              "      <td>0</td>\n",
              "      <td>0.0</td>\n",
              "      <td>0</td>\n",
              "      <td>0</td>\n",
              "      <td>Bad User</td>\n",
              "      <td>M</td>\n",
              "      <td>709</td>\n",
              "      <td>106.83</td>\n",
              "    </tr>\n",
              "    <tr>\n",
              "      <th>5</th>\n",
              "      <td>Royaume-Uni</td>\n",
              "      <td>en</td>\n",
              "      <td>3</td>\n",
              "      <td>8</td>\n",
              "      <td>0</td>\n",
              "      <td>0</td>\n",
              "      <td>0</td>\n",
              "      <td>0.0</td>\n",
              "      <td>0</td>\n",
              "      <td>0</td>\n",
              "      <td>Bad User</td>\n",
              "      <td>F</td>\n",
              "      <td>709</td>\n",
              "      <td>106.83</td>\n",
              "    </tr>\n",
              "    <tr>\n",
              "      <th>6</th>\n",
              "      <td>Royaume-Uni</td>\n",
              "      <td>en</td>\n",
              "      <td>3</td>\n",
              "      <td>8</td>\n",
              "      <td>4</td>\n",
              "      <td>0</td>\n",
              "      <td>0</td>\n",
              "      <td>0.0</td>\n",
              "      <td>0</td>\n",
              "      <td>0</td>\n",
              "      <td>Bad User</td>\n",
              "      <td>F</td>\n",
              "      <td>591</td>\n",
              "      <td>106.83</td>\n",
              "    </tr>\n",
              "    <tr>\n",
              "      <th>7</th>\n",
              "      <td>Italie</td>\n",
              "      <td>fr</td>\n",
              "      <td>3</td>\n",
              "      <td>8</td>\n",
              "      <td>0</td>\n",
              "      <td>0</td>\n",
              "      <td>0</td>\n",
              "      <td>0.0</td>\n",
              "      <td>0</td>\n",
              "      <td>0</td>\n",
              "      <td>Bad User</td>\n",
              "      <td>F</td>\n",
              "      <td>709</td>\n",
              "      <td>106.83</td>\n",
              "    </tr>\n",
              "    <tr>\n",
              "      <th>8</th>\n",
              "      <td>Italie</td>\n",
              "      <td>fr</td>\n",
              "      <td>3</td>\n",
              "      <td>8</td>\n",
              "      <td>0</td>\n",
              "      <td>0</td>\n",
              "      <td>0</td>\n",
              "      <td>0.0</td>\n",
              "      <td>0</td>\n",
              "      <td>0</td>\n",
              "      <td>Bad User</td>\n",
              "      <td>F</td>\n",
              "      <td>701</td>\n",
              "      <td>106.83</td>\n",
              "    </tr>\n",
              "  </tbody>\n",
              "</table>\n",
              "</div>"
            ],
            "text/plain": [
              "       country language  ...  daysSinceLastLogin  seniorityAsMonths\n",
              "0   Etats-Unis       en  ...                 709             106.83\n",
              "1    Allemagne       de  ...                 709             106.83\n",
              "2        Suède       en  ...                 689             106.83\n",
              "3      Turquie       en  ...                 709             106.83\n",
              "4       France       en  ...                 709             106.83\n",
              "5  Royaume-Uni       en  ...                 709             106.83\n",
              "6  Royaume-Uni       en  ...                 591             106.83\n",
              "7       Italie       fr  ...                 709             106.83\n",
              "8       Italie       fr  ...                 701             106.83\n",
              "\n",
              "[9 rows x 14 columns]"
            ]
          },
          "metadata": {},
          "execution_count": 4
        }
      ]
    },
    {
      "cell_type": "markdown",
      "metadata": {
        "id": "l8uFI5xJYQWx"
      },
      "source": [
        "Se comienza a realizar el one hot encoding usando la columna de país. Dado que esta columna tiene alrededor de 180 países, se usa el método de solo codificar las 10 más frecuentes para transformarlas en columnas."
      ]
    },
    {
      "cell_type": "code",
      "metadata": {
        "colab": {
          "base_uri": "https://localhost:8080/",
          "height": 355
        },
        "id": "TGX420MiBIyI",
        "outputId": "4586816f-ca08-4866-cba3-827c404bfc57"
      },
      "source": [
        "#Se buscan las mejores 20 categorías\n",
        "ecommerce.country.value_counts().sort_values(ascending=False).head(20)\n",
        "\n",
        "top_10 = [x for x in ecommerce.country.value_counts().sort_values(ascending=False).head(10).index]\n",
        "\n",
        "#Se realiza un for que convierte cada una de ese top 10 en una columna y básicamente realiza el one hot encoding para esas 10\n",
        "for label in top_10:\n",
        "    ecommerce[label] = np.where(ecommerce[\"country\"]==label,1,0)\n",
        "ecommerce[[\"country\"]+top_10].head(10)"
      ],
      "execution_count": 5,
      "outputs": [
        {
          "output_type": "execute_result",
          "data": {
            "text/html": [
              "<div>\n",
              "<style scoped>\n",
              "    .dataframe tbody tr th:only-of-type {\n",
              "        vertical-align: middle;\n",
              "    }\n",
              "\n",
              "    .dataframe tbody tr th {\n",
              "        vertical-align: top;\n",
              "    }\n",
              "\n",
              "    .dataframe thead th {\n",
              "        text-align: right;\n",
              "    }\n",
              "</style>\n",
              "<table border=\"1\" class=\"dataframe\">\n",
              "  <thead>\n",
              "    <tr style=\"text-align: right;\">\n",
              "      <th></th>\n",
              "      <th>country</th>\n",
              "      <th>France</th>\n",
              "      <th>Etats-Unis</th>\n",
              "      <th>Royaume-Uni</th>\n",
              "      <th>Italie</th>\n",
              "      <th>Allemagne</th>\n",
              "      <th>Espagne</th>\n",
              "      <th>Australie</th>\n",
              "      <th>Danemark</th>\n",
              "      <th>Suède</th>\n",
              "      <th>Belgique</th>\n",
              "    </tr>\n",
              "  </thead>\n",
              "  <tbody>\n",
              "    <tr>\n",
              "      <th>0</th>\n",
              "      <td>Etats-Unis</td>\n",
              "      <td>0</td>\n",
              "      <td>1</td>\n",
              "      <td>0</td>\n",
              "      <td>0</td>\n",
              "      <td>0</td>\n",
              "      <td>0</td>\n",
              "      <td>0</td>\n",
              "      <td>0</td>\n",
              "      <td>0</td>\n",
              "      <td>0</td>\n",
              "    </tr>\n",
              "    <tr>\n",
              "      <th>1</th>\n",
              "      <td>Allemagne</td>\n",
              "      <td>0</td>\n",
              "      <td>0</td>\n",
              "      <td>0</td>\n",
              "      <td>0</td>\n",
              "      <td>1</td>\n",
              "      <td>0</td>\n",
              "      <td>0</td>\n",
              "      <td>0</td>\n",
              "      <td>0</td>\n",
              "      <td>0</td>\n",
              "    </tr>\n",
              "    <tr>\n",
              "      <th>2</th>\n",
              "      <td>Suède</td>\n",
              "      <td>0</td>\n",
              "      <td>0</td>\n",
              "      <td>0</td>\n",
              "      <td>0</td>\n",
              "      <td>0</td>\n",
              "      <td>0</td>\n",
              "      <td>0</td>\n",
              "      <td>0</td>\n",
              "      <td>1</td>\n",
              "      <td>0</td>\n",
              "    </tr>\n",
              "    <tr>\n",
              "      <th>3</th>\n",
              "      <td>Turquie</td>\n",
              "      <td>0</td>\n",
              "      <td>0</td>\n",
              "      <td>0</td>\n",
              "      <td>0</td>\n",
              "      <td>0</td>\n",
              "      <td>0</td>\n",
              "      <td>0</td>\n",
              "      <td>0</td>\n",
              "      <td>0</td>\n",
              "      <td>0</td>\n",
              "    </tr>\n",
              "    <tr>\n",
              "      <th>4</th>\n",
              "      <td>France</td>\n",
              "      <td>1</td>\n",
              "      <td>0</td>\n",
              "      <td>0</td>\n",
              "      <td>0</td>\n",
              "      <td>0</td>\n",
              "      <td>0</td>\n",
              "      <td>0</td>\n",
              "      <td>0</td>\n",
              "      <td>0</td>\n",
              "      <td>0</td>\n",
              "    </tr>\n",
              "    <tr>\n",
              "      <th>5</th>\n",
              "      <td>Royaume-Uni</td>\n",
              "      <td>0</td>\n",
              "      <td>0</td>\n",
              "      <td>1</td>\n",
              "      <td>0</td>\n",
              "      <td>0</td>\n",
              "      <td>0</td>\n",
              "      <td>0</td>\n",
              "      <td>0</td>\n",
              "      <td>0</td>\n",
              "      <td>0</td>\n",
              "    </tr>\n",
              "    <tr>\n",
              "      <th>6</th>\n",
              "      <td>Royaume-Uni</td>\n",
              "      <td>0</td>\n",
              "      <td>0</td>\n",
              "      <td>1</td>\n",
              "      <td>0</td>\n",
              "      <td>0</td>\n",
              "      <td>0</td>\n",
              "      <td>0</td>\n",
              "      <td>0</td>\n",
              "      <td>0</td>\n",
              "      <td>0</td>\n",
              "    </tr>\n",
              "    <tr>\n",
              "      <th>7</th>\n",
              "      <td>Italie</td>\n",
              "      <td>0</td>\n",
              "      <td>0</td>\n",
              "      <td>0</td>\n",
              "      <td>1</td>\n",
              "      <td>0</td>\n",
              "      <td>0</td>\n",
              "      <td>0</td>\n",
              "      <td>0</td>\n",
              "      <td>0</td>\n",
              "      <td>0</td>\n",
              "    </tr>\n",
              "    <tr>\n",
              "      <th>8</th>\n",
              "      <td>Italie</td>\n",
              "      <td>0</td>\n",
              "      <td>0</td>\n",
              "      <td>0</td>\n",
              "      <td>1</td>\n",
              "      <td>0</td>\n",
              "      <td>0</td>\n",
              "      <td>0</td>\n",
              "      <td>0</td>\n",
              "      <td>0</td>\n",
              "      <td>0</td>\n",
              "    </tr>\n",
              "    <tr>\n",
              "      <th>9</th>\n",
              "      <td>France</td>\n",
              "      <td>1</td>\n",
              "      <td>0</td>\n",
              "      <td>0</td>\n",
              "      <td>0</td>\n",
              "      <td>0</td>\n",
              "      <td>0</td>\n",
              "      <td>0</td>\n",
              "      <td>0</td>\n",
              "      <td>0</td>\n",
              "      <td>0</td>\n",
              "    </tr>\n",
              "  </tbody>\n",
              "</table>\n",
              "</div>"
            ],
            "text/plain": [
              "       country  France  Etats-Unis  ...  Danemark  Suède  Belgique\n",
              "0   Etats-Unis       0           1  ...         0      0         0\n",
              "1    Allemagne       0           0  ...         0      0         0\n",
              "2        Suède       0           0  ...         0      1         0\n",
              "3      Turquie       0           0  ...         0      0         0\n",
              "4       France       1           0  ...         0      0         0\n",
              "5  Royaume-Uni       0           0  ...         0      0         0\n",
              "6  Royaume-Uni       0           0  ...         0      0         0\n",
              "7       Italie       0           0  ...         0      0         0\n",
              "8       Italie       0           0  ...         0      0         0\n",
              "9       France       1           0  ...         0      0         0\n",
              "\n",
              "[10 rows x 11 columns]"
            ]
          },
          "metadata": {},
          "execution_count": 5
        }
      ]
    },
    {
      "cell_type": "markdown",
      "metadata": {
        "id": "3GucRhPiY1H3"
      },
      "source": [
        "Seguidamente se hace el one hot encoding de las variables de género e idioma."
      ]
    },
    {
      "cell_type": "code",
      "metadata": {
        "colab": {
          "base_uri": "https://localhost:8080/",
          "height": 451
        },
        "id": "coL8WLEvBNYJ",
        "outputId": "db3beffd-ab54-4cb1-bc33-f8fc962b8c19"
      },
      "source": [
        "# One-hot encoding \n",
        "ecommerce_procesado = pd.get_dummies(ecommerce, columns=['gender','language'])\n",
        "\n",
        "ecommerce_procesado"
      ],
      "execution_count": 6,
      "outputs": [
        {
          "output_type": "execute_result",
          "data": {
            "text/html": [
              "<div>\n",
              "<style scoped>\n",
              "    .dataframe tbody tr th:only-of-type {\n",
              "        vertical-align: middle;\n",
              "    }\n",
              "\n",
              "    .dataframe tbody tr th {\n",
              "        vertical-align: top;\n",
              "    }\n",
              "\n",
              "    .dataframe thead th {\n",
              "        text-align: right;\n",
              "    }\n",
              "</style>\n",
              "<table border=\"1\" class=\"dataframe\">\n",
              "  <thead>\n",
              "    <tr style=\"text-align: right;\">\n",
              "      <th></th>\n",
              "      <th>country</th>\n",
              "      <th>socialNbFollowers</th>\n",
              "      <th>socialNbFollows</th>\n",
              "      <th>socialProductsLiked</th>\n",
              "      <th>productsListed</th>\n",
              "      <th>productsSold</th>\n",
              "      <th>productsPassRate</th>\n",
              "      <th>productsWished</th>\n",
              "      <th>productsBought</th>\n",
              "      <th>Indicador</th>\n",
              "      <th>daysSinceLastLogin</th>\n",
              "      <th>seniorityAsMonths</th>\n",
              "      <th>France</th>\n",
              "      <th>Etats-Unis</th>\n",
              "      <th>Royaume-Uni</th>\n",
              "      <th>Italie</th>\n",
              "      <th>Allemagne</th>\n",
              "      <th>Espagne</th>\n",
              "      <th>Australie</th>\n",
              "      <th>Danemark</th>\n",
              "      <th>Suède</th>\n",
              "      <th>Belgique</th>\n",
              "      <th>gender_F</th>\n",
              "      <th>gender_M</th>\n",
              "      <th>language_de</th>\n",
              "      <th>language_en</th>\n",
              "      <th>language_es</th>\n",
              "      <th>language_fr</th>\n",
              "      <th>language_it</th>\n",
              "    </tr>\n",
              "  </thead>\n",
              "  <tbody>\n",
              "    <tr>\n",
              "      <th>0</th>\n",
              "      <td>Etats-Unis</td>\n",
              "      <td>3</td>\n",
              "      <td>8</td>\n",
              "      <td>0</td>\n",
              "      <td>0</td>\n",
              "      <td>0</td>\n",
              "      <td>0.0</td>\n",
              "      <td>0</td>\n",
              "      <td>0</td>\n",
              "      <td>Bad User</td>\n",
              "      <td>709</td>\n",
              "      <td>106.83</td>\n",
              "      <td>0</td>\n",
              "      <td>1</td>\n",
              "      <td>0</td>\n",
              "      <td>0</td>\n",
              "      <td>0</td>\n",
              "      <td>0</td>\n",
              "      <td>0</td>\n",
              "      <td>0</td>\n",
              "      <td>0</td>\n",
              "      <td>0</td>\n",
              "      <td>1</td>\n",
              "      <td>0</td>\n",
              "      <td>0</td>\n",
              "      <td>1</td>\n",
              "      <td>0</td>\n",
              "      <td>0</td>\n",
              "      <td>0</td>\n",
              "    </tr>\n",
              "    <tr>\n",
              "      <th>1</th>\n",
              "      <td>Allemagne</td>\n",
              "      <td>3</td>\n",
              "      <td>8</td>\n",
              "      <td>0</td>\n",
              "      <td>0</td>\n",
              "      <td>0</td>\n",
              "      <td>0.0</td>\n",
              "      <td>0</td>\n",
              "      <td>0</td>\n",
              "      <td>Bad User</td>\n",
              "      <td>709</td>\n",
              "      <td>106.83</td>\n",
              "      <td>0</td>\n",
              "      <td>0</td>\n",
              "      <td>0</td>\n",
              "      <td>0</td>\n",
              "      <td>1</td>\n",
              "      <td>0</td>\n",
              "      <td>0</td>\n",
              "      <td>0</td>\n",
              "      <td>0</td>\n",
              "      <td>0</td>\n",
              "      <td>1</td>\n",
              "      <td>0</td>\n",
              "      <td>1</td>\n",
              "      <td>0</td>\n",
              "      <td>0</td>\n",
              "      <td>0</td>\n",
              "      <td>0</td>\n",
              "    </tr>\n",
              "    <tr>\n",
              "      <th>2</th>\n",
              "      <td>Suède</td>\n",
              "      <td>3</td>\n",
              "      <td>8</td>\n",
              "      <td>0</td>\n",
              "      <td>0</td>\n",
              "      <td>0</td>\n",
              "      <td>0.0</td>\n",
              "      <td>0</td>\n",
              "      <td>0</td>\n",
              "      <td>Bad User</td>\n",
              "      <td>689</td>\n",
              "      <td>106.83</td>\n",
              "      <td>0</td>\n",
              "      <td>0</td>\n",
              "      <td>0</td>\n",
              "      <td>0</td>\n",
              "      <td>0</td>\n",
              "      <td>0</td>\n",
              "      <td>0</td>\n",
              "      <td>0</td>\n",
              "      <td>1</td>\n",
              "      <td>0</td>\n",
              "      <td>0</td>\n",
              "      <td>1</td>\n",
              "      <td>0</td>\n",
              "      <td>1</td>\n",
              "      <td>0</td>\n",
              "      <td>0</td>\n",
              "      <td>0</td>\n",
              "    </tr>\n",
              "    <tr>\n",
              "      <th>3</th>\n",
              "      <td>Turquie</td>\n",
              "      <td>3</td>\n",
              "      <td>8</td>\n",
              "      <td>0</td>\n",
              "      <td>0</td>\n",
              "      <td>0</td>\n",
              "      <td>0.0</td>\n",
              "      <td>0</td>\n",
              "      <td>0</td>\n",
              "      <td>Bad User</td>\n",
              "      <td>709</td>\n",
              "      <td>106.83</td>\n",
              "      <td>0</td>\n",
              "      <td>0</td>\n",
              "      <td>0</td>\n",
              "      <td>0</td>\n",
              "      <td>0</td>\n",
              "      <td>0</td>\n",
              "      <td>0</td>\n",
              "      <td>0</td>\n",
              "      <td>0</td>\n",
              "      <td>0</td>\n",
              "      <td>1</td>\n",
              "      <td>0</td>\n",
              "      <td>0</td>\n",
              "      <td>1</td>\n",
              "      <td>0</td>\n",
              "      <td>0</td>\n",
              "      <td>0</td>\n",
              "    </tr>\n",
              "    <tr>\n",
              "      <th>4</th>\n",
              "      <td>France</td>\n",
              "      <td>3</td>\n",
              "      <td>8</td>\n",
              "      <td>0</td>\n",
              "      <td>0</td>\n",
              "      <td>0</td>\n",
              "      <td>0.0</td>\n",
              "      <td>0</td>\n",
              "      <td>0</td>\n",
              "      <td>Bad User</td>\n",
              "      <td>709</td>\n",
              "      <td>106.83</td>\n",
              "      <td>1</td>\n",
              "      <td>0</td>\n",
              "      <td>0</td>\n",
              "      <td>0</td>\n",
              "      <td>0</td>\n",
              "      <td>0</td>\n",
              "      <td>0</td>\n",
              "      <td>0</td>\n",
              "      <td>0</td>\n",
              "      <td>0</td>\n",
              "      <td>0</td>\n",
              "      <td>1</td>\n",
              "      <td>0</td>\n",
              "      <td>1</td>\n",
              "      <td>0</td>\n",
              "      <td>0</td>\n",
              "      <td>0</td>\n",
              "    </tr>\n",
              "    <tr>\n",
              "      <th>...</th>\n",
              "      <td>...</td>\n",
              "      <td>...</td>\n",
              "      <td>...</td>\n",
              "      <td>...</td>\n",
              "      <td>...</td>\n",
              "      <td>...</td>\n",
              "      <td>...</td>\n",
              "      <td>...</td>\n",
              "      <td>...</td>\n",
              "      <td>...</td>\n",
              "      <td>...</td>\n",
              "      <td>...</td>\n",
              "      <td>...</td>\n",
              "      <td>...</td>\n",
              "      <td>...</td>\n",
              "      <td>...</td>\n",
              "      <td>...</td>\n",
              "      <td>...</td>\n",
              "      <td>...</td>\n",
              "      <td>...</td>\n",
              "      <td>...</td>\n",
              "      <td>...</td>\n",
              "      <td>...</td>\n",
              "      <td>...</td>\n",
              "      <td>...</td>\n",
              "      <td>...</td>\n",
              "      <td>...</td>\n",
              "      <td>...</td>\n",
              "      <td>...</td>\n",
              "    </tr>\n",
              "    <tr>\n",
              "      <th>98908</th>\n",
              "      <td>Etats-Unis</td>\n",
              "      <td>3</td>\n",
              "      <td>8</td>\n",
              "      <td>0</td>\n",
              "      <td>0</td>\n",
              "      <td>0</td>\n",
              "      <td>0.0</td>\n",
              "      <td>0</td>\n",
              "      <td>0</td>\n",
              "      <td>Bad User</td>\n",
              "      <td>708</td>\n",
              "      <td>106.80</td>\n",
              "      <td>0</td>\n",
              "      <td>1</td>\n",
              "      <td>0</td>\n",
              "      <td>0</td>\n",
              "      <td>0</td>\n",
              "      <td>0</td>\n",
              "      <td>0</td>\n",
              "      <td>0</td>\n",
              "      <td>0</td>\n",
              "      <td>0</td>\n",
              "      <td>0</td>\n",
              "      <td>1</td>\n",
              "      <td>0</td>\n",
              "      <td>0</td>\n",
              "      <td>0</td>\n",
              "      <td>1</td>\n",
              "      <td>0</td>\n",
              "    </tr>\n",
              "    <tr>\n",
              "      <th>98909</th>\n",
              "      <td>France</td>\n",
              "      <td>3</td>\n",
              "      <td>8</td>\n",
              "      <td>0</td>\n",
              "      <td>0</td>\n",
              "      <td>0</td>\n",
              "      <td>0.0</td>\n",
              "      <td>0</td>\n",
              "      <td>0</td>\n",
              "      <td>Bad User</td>\n",
              "      <td>695</td>\n",
              "      <td>106.80</td>\n",
              "      <td>1</td>\n",
              "      <td>0</td>\n",
              "      <td>0</td>\n",
              "      <td>0</td>\n",
              "      <td>0</td>\n",
              "      <td>0</td>\n",
              "      <td>0</td>\n",
              "      <td>0</td>\n",
              "      <td>0</td>\n",
              "      <td>0</td>\n",
              "      <td>0</td>\n",
              "      <td>1</td>\n",
              "      <td>0</td>\n",
              "      <td>0</td>\n",
              "      <td>0</td>\n",
              "      <td>1</td>\n",
              "      <td>0</td>\n",
              "    </tr>\n",
              "    <tr>\n",
              "      <th>98910</th>\n",
              "      <td>Belgique</td>\n",
              "      <td>3</td>\n",
              "      <td>8</td>\n",
              "      <td>0</td>\n",
              "      <td>0</td>\n",
              "      <td>0</td>\n",
              "      <td>0.0</td>\n",
              "      <td>0</td>\n",
              "      <td>0</td>\n",
              "      <td>Bad User</td>\n",
              "      <td>520</td>\n",
              "      <td>106.80</td>\n",
              "      <td>0</td>\n",
              "      <td>0</td>\n",
              "      <td>0</td>\n",
              "      <td>0</td>\n",
              "      <td>0</td>\n",
              "      <td>0</td>\n",
              "      <td>0</td>\n",
              "      <td>0</td>\n",
              "      <td>0</td>\n",
              "      <td>1</td>\n",
              "      <td>0</td>\n",
              "      <td>1</td>\n",
              "      <td>0</td>\n",
              "      <td>1</td>\n",
              "      <td>0</td>\n",
              "      <td>0</td>\n",
              "      <td>0</td>\n",
              "    </tr>\n",
              "    <tr>\n",
              "      <th>98911</th>\n",
              "      <td>Italie</td>\n",
              "      <td>3</td>\n",
              "      <td>8</td>\n",
              "      <td>0</td>\n",
              "      <td>0</td>\n",
              "      <td>0</td>\n",
              "      <td>0.0</td>\n",
              "      <td>0</td>\n",
              "      <td>0</td>\n",
              "      <td>Bad User</td>\n",
              "      <td>267</td>\n",
              "      <td>106.80</td>\n",
              "      <td>0</td>\n",
              "      <td>0</td>\n",
              "      <td>0</td>\n",
              "      <td>1</td>\n",
              "      <td>0</td>\n",
              "      <td>0</td>\n",
              "      <td>0</td>\n",
              "      <td>0</td>\n",
              "      <td>0</td>\n",
              "      <td>0</td>\n",
              "      <td>1</td>\n",
              "      <td>0</td>\n",
              "      <td>0</td>\n",
              "      <td>0</td>\n",
              "      <td>0</td>\n",
              "      <td>0</td>\n",
              "      <td>1</td>\n",
              "    </tr>\n",
              "    <tr>\n",
              "      <th>98912</th>\n",
              "      <td>Guinée</td>\n",
              "      <td>3</td>\n",
              "      <td>8</td>\n",
              "      <td>0</td>\n",
              "      <td>0</td>\n",
              "      <td>0</td>\n",
              "      <td>0.0</td>\n",
              "      <td>0</td>\n",
              "      <td>0</td>\n",
              "      <td>Bad User</td>\n",
              "      <td>561</td>\n",
              "      <td>106.80</td>\n",
              "      <td>0</td>\n",
              "      <td>0</td>\n",
              "      <td>0</td>\n",
              "      <td>0</td>\n",
              "      <td>0</td>\n",
              "      <td>0</td>\n",
              "      <td>0</td>\n",
              "      <td>0</td>\n",
              "      <td>0</td>\n",
              "      <td>0</td>\n",
              "      <td>0</td>\n",
              "      <td>1</td>\n",
              "      <td>0</td>\n",
              "      <td>0</td>\n",
              "      <td>0</td>\n",
              "      <td>1</td>\n",
              "      <td>0</td>\n",
              "    </tr>\n",
              "  </tbody>\n",
              "</table>\n",
              "<p>98913 rows × 29 columns</p>\n",
              "</div>"
            ],
            "text/plain": [
              "          country  socialNbFollowers  ...  language_fr  language_it\n",
              "0      Etats-Unis                  3  ...            0            0\n",
              "1       Allemagne                  3  ...            0            0\n",
              "2           Suède                  3  ...            0            0\n",
              "3         Turquie                  3  ...            0            0\n",
              "4          France                  3  ...            0            0\n",
              "...           ...                ...  ...          ...          ...\n",
              "98908  Etats-Unis                  3  ...            1            0\n",
              "98909      France                  3  ...            1            0\n",
              "98910    Belgique                  3  ...            0            0\n",
              "98911      Italie                  3  ...            0            1\n",
              "98912      Guinée                  3  ...            1            0\n",
              "\n",
              "[98913 rows x 29 columns]"
            ]
          },
          "metadata": {},
          "execution_count": 6
        }
      ]
    },
    {
      "cell_type": "markdown",
      "metadata": {
        "id": "4zMIqsWZaDbg"
      },
      "source": [
        "Se elimina el resto de columnas duplicadas. ProductsBought y ProductsSold se eliminan porque ya se toman en cuenta en la columna de indicador."
      ]
    },
    {
      "cell_type": "code",
      "metadata": {
        "id": "55qf8AKDBR_i"
      },
      "source": [
        "#Removemos columnas duplicadas\n",
        "porEliminar += [\"country\",\"language\",\"gender\",\"productsBought\",\"productsSold\"]\n",
        "\n",
        "#Se remueven las columnas\n",
        "ecommerce_procesado.drop(porEliminar, axis=1, errors='ignore', inplace=True)"
      ],
      "execution_count": 7,
      "outputs": []
    },
    {
      "cell_type": "markdown",
      "metadata": {
        "id": "AWordbu0BUjg"
      },
      "source": [
        "A continuación, se consulta el tipo de dato de cada columna, con el objetivo de determinar que son los necesarios para hacer un análisis cuantitativo. "
      ]
    },
    {
      "cell_type": "code",
      "metadata": {
        "colab": {
          "base_uri": "https://localhost:8080/"
        },
        "id": "IRvEBu0sBW2w",
        "outputId": "7dd2c12f-bb2c-442c-9d88-34c73d25a156"
      },
      "source": [
        "ecommerce_procesado.dtypes"
      ],
      "execution_count": 8,
      "outputs": [
        {
          "output_type": "execute_result",
          "data": {
            "text/plain": [
              "socialNbFollowers        int64\n",
              "socialNbFollows          int64\n",
              "socialProductsLiked      int64\n",
              "productsListed           int64\n",
              "productsPassRate       float64\n",
              "productsWished           int64\n",
              "Indicador               object\n",
              "daysSinceLastLogin       int64\n",
              "seniorityAsMonths      float64\n",
              "France                   int64\n",
              "Etats-Unis               int64\n",
              "Royaume-Uni              int64\n",
              "Italie                   int64\n",
              "Allemagne                int64\n",
              "Espagne                  int64\n",
              "Australie                int64\n",
              "Danemark                 int64\n",
              "Suède                    int64\n",
              "Belgique                 int64\n",
              "gender_F                 uint8\n",
              "gender_M                 uint8\n",
              "language_de              uint8\n",
              "language_en              uint8\n",
              "language_es              uint8\n",
              "language_fr              uint8\n",
              "language_it              uint8\n",
              "dtype: object"
            ]
          },
          "metadata": {},
          "execution_count": 8
        }
      ]
    },
    {
      "cell_type": "markdown",
      "metadata": {
        "id": "6ufL-r9pBZVL"
      },
      "source": [
        "Como parte de la limpieza de datos, se verifica que no existan nulos en el set, usando la función isna()."
      ]
    },
    {
      "cell_type": "code",
      "metadata": {
        "colab": {
          "base_uri": "https://localhost:8080/"
        },
        "id": "roRPpg94Bcyq",
        "outputId": "bbfb2888-f965-4699-a596-0fc4945abfbc"
      },
      "source": [
        "ecommerce_procesado.isna().sum()"
      ],
      "execution_count": 9,
      "outputs": [
        {
          "output_type": "execute_result",
          "data": {
            "text/plain": [
              "socialNbFollowers      0\n",
              "socialNbFollows        0\n",
              "socialProductsLiked    0\n",
              "productsListed         0\n",
              "productsPassRate       0\n",
              "productsWished         0\n",
              "Indicador              0\n",
              "daysSinceLastLogin     0\n",
              "seniorityAsMonths      0\n",
              "France                 0\n",
              "Etats-Unis             0\n",
              "Royaume-Uni            0\n",
              "Italie                 0\n",
              "Allemagne              0\n",
              "Espagne                0\n",
              "Australie              0\n",
              "Danemark               0\n",
              "Suède                  0\n",
              "Belgique               0\n",
              "gender_F               0\n",
              "gender_M               0\n",
              "language_de            0\n",
              "language_en            0\n",
              "language_es            0\n",
              "language_fr            0\n",
              "language_it            0\n",
              "dtype: int64"
            ]
          },
          "metadata": {},
          "execution_count": 9
        }
      ]
    },
    {
      "cell_type": "markdown",
      "metadata": {
        "id": "FHYzRh64Bfhq"
      },
      "source": [
        "Se procede a representar las correlaciones entre las diversas variables usando un mapa de calor. "
      ]
    },
    {
      "cell_type": "code",
      "metadata": {
        "colab": {
          "base_uri": "https://localhost:8080/",
          "height": 973
        },
        "id": "6z-RbLbbBhMA",
        "outputId": "a39aef70-80b0-4bca-d49d-0528aafcbbc5"
      },
      "source": [
        "plt.figure(figsize=(15,15))\n",
        "\n",
        "chart = sns.heatmap(ecommerce_procesado.corr(), annot = True, cmap = 'viridis')\n",
        "plt.xticks(rotation=90)\n",
        "plt.show"
      ],
      "execution_count": 10,
      "outputs": [
        {
          "output_type": "execute_result",
          "data": {
            "text/plain": [
              "<function matplotlib.pyplot.show>"
            ]
          },
          "metadata": {},
          "execution_count": 10
        },
        {
          "output_type": "display_data",
          "data": {
            "image/png": "[encoded data removed]",
            "text/plain": [
              "<Figure size 1080x1080 with 2 Axes>"
            ]
          },
          "metadata": {}
        }
      ]
    },
    {
      "cell_type": "markdown",
      "metadata": {
        "id": "4n4X_LcvBl8U"
      },
      "source": [
        "**Utilización del algoritmo genético**"
      ]
    },
    {
      "cell_type": "markdown",
      "metadata": {
        "id": "usPbedW0BvCl"
      },
      "source": [
        "Procedemos a dividir los datos en features y en la columna por predecir. Luego, se pasa la variable y a one hot encoding y se visualiza."
      ]
    },
    {
      "cell_type": "code",
      "metadata": {
        "colab": {
          "base_uri": "https://localhost:8080/",
          "height": 414
        },
        "id": "6Q7edmkLBxN6",
        "outputId": "618e71c5-8c73-4b54-ff4c-aac035702bd2"
      },
      "source": [
        "X = ecommerce_procesado.drop(columns='Indicador')\n",
        "y = ecommerce_procesado['Indicador']\n",
        "\n",
        "# One-hot encoding the y\n",
        "y_procesado = pd.get_dummies(y, columns=['Indicador'])\n",
        "\n",
        "y_procesado.head(4000)"
      ],
      "execution_count": 11,
      "outputs": [
        {
          "output_type": "execute_result",
          "data": {
            "text/html": [
              "<div>\n",
              "<style scoped>\n",
              "    .dataframe tbody tr th:only-of-type {\n",
              "        vertical-align: middle;\n",
              "    }\n",
              "\n",
              "    .dataframe tbody tr th {\n",
              "        vertical-align: top;\n",
              "    }\n",
              "\n",
              "    .dataframe thead th {\n",
              "        text-align: right;\n",
              "    }\n",
              "</style>\n",
              "<table border=\"1\" class=\"dataframe\">\n",
              "  <thead>\n",
              "    <tr style=\"text-align: right;\">\n",
              "      <th></th>\n",
              "      <th>Bad User</th>\n",
              "      <th>Good User</th>\n",
              "    </tr>\n",
              "  </thead>\n",
              "  <tbody>\n",
              "    <tr>\n",
              "      <th>0</th>\n",
              "      <td>1</td>\n",
              "      <td>0</td>\n",
              "    </tr>\n",
              "    <tr>\n",
              "      <th>1</th>\n",
              "      <td>1</td>\n",
              "      <td>0</td>\n",
              "    </tr>\n",
              "    <tr>\n",
              "      <th>2</th>\n",
              "      <td>1</td>\n",
              "      <td>0</td>\n",
              "    </tr>\n",
              "    <tr>\n",
              "      <th>3</th>\n",
              "      <td>1</td>\n",
              "      <td>0</td>\n",
              "    </tr>\n",
              "    <tr>\n",
              "      <th>4</th>\n",
              "      <td>1</td>\n",
              "      <td>0</td>\n",
              "    </tr>\n",
              "    <tr>\n",
              "      <th>...</th>\n",
              "      <td>...</td>\n",
              "      <td>...</td>\n",
              "    </tr>\n",
              "    <tr>\n",
              "      <th>3995</th>\n",
              "      <td>1</td>\n",
              "      <td>0</td>\n",
              "    </tr>\n",
              "    <tr>\n",
              "      <th>3996</th>\n",
              "      <td>1</td>\n",
              "      <td>0</td>\n",
              "    </tr>\n",
              "    <tr>\n",
              "      <th>3997</th>\n",
              "      <td>1</td>\n",
              "      <td>0</td>\n",
              "    </tr>\n",
              "    <tr>\n",
              "      <th>3998</th>\n",
              "      <td>0</td>\n",
              "      <td>1</td>\n",
              "    </tr>\n",
              "    <tr>\n",
              "      <th>3999</th>\n",
              "      <td>1</td>\n",
              "      <td>0</td>\n",
              "    </tr>\n",
              "  </tbody>\n",
              "</table>\n",
              "<p>4000 rows × 2 columns</p>\n",
              "</div>"
            ],
            "text/plain": [
              "      Bad User  Good User\n",
              "0            1          0\n",
              "1            1          0\n",
              "2            1          0\n",
              "3            1          0\n",
              "4            1          0\n",
              "...        ...        ...\n",
              "3995         1          0\n",
              "3996         1          0\n",
              "3997         1          0\n",
              "3998         0          1\n",
              "3999         1          0\n",
              "\n",
              "[4000 rows x 2 columns]"
            ]
          },
          "metadata": {},
          "execution_count": 11
        }
      ]
    },
    {
      "cell_type": "markdown",
      "metadata": {
        "id": "tscWoG-vB0Zl"
      },
      "source": [
        "Seguidamente, se normalizan los datos de X, para eliminar los posibles pesos que pueda tener una variable sobre otra por tema de escala. Se elige normalziar usando el MinMaxScaler que los pone en escala de 0 a 1, dado que en la investigación realizada se recomienda este método para redes neuronales.\n",
        "\n",
        "Luego se pasan a arrays de numpy para que puedan ser alimentados a la red neuronal.\n",
        "\n",
        "Finalmente, se imprime el tamaño de los arrays para ver que todo vaya correcto."
      ]
    },
    {
      "cell_type": "code",
      "metadata": {
        "colab": {
          "base_uri": "https://localhost:8080/"
        },
        "id": "17uNMivQB1SX",
        "outputId": "6728d6c3-3db0-415b-d249-a851fc5bcbae"
      },
      "source": [
        "escalado = MinMaxScaler()\n",
        "X_escalado = escalado.fit_transform(X)\n",
        "X_escalado = pd.DataFrame(data = X_escalado, columns = X.columns)\n",
        "\n",
        "X_nuevo = np.array(X_escalado)\n",
        "y_nuevo = np.array(y_procesado)\n",
        "\n",
        "#Verificando la entrada y la salida de los datos\n",
        "print(\"Forma de X:\", X_nuevo.shape)\n",
        "print(\"\\nForma de y:\", y_nuevo.shape)\n"
      ],
      "execution_count": 38,
      "outputs": [
        {
          "output_type": "stream",
          "name": "stdout",
          "text": [
            "Forma de X: (13786, 25)\n",
            "\n",
            "Forma de y: (98913, 2)\n"
          ]
        }
      ]
    },
    {
      "cell_type": "markdown",
      "metadata": {
        "id": "_Apo1qNdB56G"
      },
      "source": [
        "A continuación, se dividen los datos en entrenamiento y testeo, usando 70% para el entrenamiento y 30% para el testeo, lo cual está en el rango que la literatura recomienda."
      ]
    },
    {
      "cell_type": "code",
      "metadata": {
        "id": "zI4yT6-nB7qA"
      },
      "source": [
        "X_train, X_test, y_train, y_test = train_test_split(X_nuevo, y_nuevo, train_size= 0.7, random_state = 1234, shuffle = True)"
      ],
      "execution_count": 13,
      "outputs": []
    },
    {
      "cell_type": "code",
      "metadata": {
        "colab": {
          "base_uri": "https://localhost:8080/"
        },
        "id": "6ymuqBq9CUbU",
        "outputId": "af58ef61-ab6d-43e6-aa95-49666f0955dc"
      },
      "source": [
        "print(y_train.shape)\n",
        "print(X_train.shape)\n",
        "\n",
        "print(y_test.shape)\n",
        "print(X_test.shape)"
      ],
      "execution_count": 14,
      "outputs": [
        {
          "output_type": "stream",
          "name": "stdout",
          "text": [
            "(69239, 2)\n",
            "(69239, 25)\n",
            "(29674, 2)\n",
            "(29674, 25)\n"
          ]
        }
      ]
    },
    {
      "cell_type": "markdown",
      "metadata": {
        "id": "gGF3eTrRbLMS"
      },
      "source": [
        "Se importan los paquetes necesarios para la red."
      ]
    },
    {
      "cell_type": "code",
      "metadata": {
        "id": "uZ9X0ES7B95N"
      },
      "source": [
        "# Imports para keras\n",
        "import numpy as np\n",
        "from sklearn.model_selection import GridSearchCV\n",
        "from keras.models import Sequential\n",
        "from keras.layers.core import Dense, Dropout, Activation\n",
        "from tensorflow.keras.optimizers import SGD\n",
        "from keras.utils import np_utils\n",
        "from keras.wrappers.scikit_learn import KerasClassifier\n"
      ],
      "execution_count": 15,
      "outputs": []
    },
    {
      "cell_type": "markdown",
      "metadata": {
        "id": "tBWqay93bP8_"
      },
      "source": [
        "Construimos un modelo inicial con algunas funciones de activación, un optimizador cualquiera y una métrica para medir el desempeño del modelo"
      ]
    },
    {
      "cell_type": "code",
      "metadata": {
        "colab": {
          "base_uri": "https://localhost:8080/"
        },
        "id": "I_7xJLzzbXNd",
        "outputId": "dbe2e719-aa0f-4201-b3e7-589a303fd358"
      },
      "source": [
        "\n",
        "model = Sequential()\n",
        "\n",
        "model.add(Dense(128, input_dim=25))\n",
        "model.add(Activation('relu'))\n",
        "\n",
        "model.add(Dense(64))\n",
        "model.add(Activation('sigmoid'))\n",
        "\n",
        "model.add(Dense(2))\n",
        "model.add(Activation('sigmoid'))\n",
        "\n",
        "# Compiling the model\n",
        "model.compile(loss = 'categorical_crossentropy', optimizer='Adagrad', metrics=['accuracy'])\n",
        "\n",
        "model.summary()"
      ],
      "execution_count": 16,
      "outputs": [
        {
          "output_type": "stream",
          "name": "stdout",
          "text": [
            "Model: \"sequential\"\n",
            "_________________________________________________________________\n",
            "Layer (type)                 Output Shape              Param #   \n",
            "=================================================================\n",
            "dense (Dense)                (None, 128)               3328      \n",
            "_________________________________________________________________\n",
            "activation (Activation)      (None, 128)               0         \n",
            "_________________________________________________________________\n",
            "dense_1 (Dense)              (None, 64)                8256      \n",
            "_________________________________________________________________\n",
            "activation_1 (Activation)    (None, 64)                0         \n",
            "_________________________________________________________________\n",
            "dense_2 (Dense)              (None, 2)                 130       \n",
            "_________________________________________________________________\n",
            "activation_2 (Activation)    (None, 2)                 0         \n",
            "=================================================================\n",
            "Total params: 11,714\n",
            "Trainable params: 11,714\n",
            "Non-trainable params: 0\n",
            "_________________________________________________________________\n"
          ]
        }
      ]
    },
    {
      "cell_type": "markdown",
      "metadata": {
        "id": "qsQAiJFnbeb8"
      },
      "source": [
        "Se entrena el modelo con los hiperparámetros de epochs y batch definidos aleatoriamente."
      ]
    },
    {
      "cell_type": "code",
      "metadata": {
        "colab": {
          "base_uri": "https://localhost:8080/"
        },
        "id": "Ot0MD1TgbmwT",
        "outputId": "61dff7c7-b32c-4ffe-93e2-9b7af4c6abc5"
      },
      "source": [
        "\n",
        "model.fit(X_train, y_train, epochs=100, batch_size=40, verbose=0)\n"
      ],
      "execution_count": 17,
      "outputs": [
        {
          "output_type": "execute_result",
          "data": {
            "text/plain": [
              "<keras.callbacks.History at 0x7f0a2363a210>"
            ]
          },
          "metadata": {},
          "execution_count": 17
        }
      ]
    },
    {
      "cell_type": "markdown",
      "metadata": {
        "id": "x8AI9ik4bnzz"
      },
      "source": [
        "Se imprime la precisión del modelo, tanto para los datos de entrenamiento como para los de testeo."
      ]
    },
    {
      "cell_type": "code",
      "metadata": {
        "colab": {
          "base_uri": "https://localhost:8080/"
        },
        "id": "LGraDBxIcpm_",
        "outputId": "5b430c5c-d336-4c9c-eea1-386442fa707c"
      },
      "source": [
        "score = model.evaluate(X_train, y_train)\n",
        "print(\"\\n Training Accuracy:\", score[1])\n",
        "score = model.evaluate(X_test, y_test)\n",
        "print(\"\\n Testing Accuracy:\", score[1])"
      ],
      "execution_count": 18,
      "outputs": [
        {
          "output_type": "stream",
          "name": "stdout",
          "text": [
            "2164/2164 [==============================] - 3s 1ms/step - loss: 0.2340 - accuracy: 0.9329\n",
            "\n",
            " Training Accuracy: 0.9328702092170715\n",
            "928/928 [==============================] - 1s 1ms/step - loss: 0.2355 - accuracy: 0.9320\n",
            "\n",
            " Testing Accuracy: 0.9319943189620972\n"
          ]
        }
      ]
    },
    {
      "cell_type": "markdown",
      "metadata": {
        "id": "AtqFlGQkcGyS"
      },
      "source": [
        "**Mejora del modelo usando hiperparámetros**"
      ]
    },
    {
      "cell_type": "markdown",
      "metadata": {
        "id": "9Bdv9bacby5R"
      },
      "source": [
        "Se construye una función que permite ajustar el tamaño del batch y de epochs"
      ]
    },
    {
      "cell_type": "code",
      "metadata": {
        "id": "WOP2wzYKbTHt"
      },
      "source": [
        "# Construimos el modelo para ajustar batch size y epochs\n",
        "def create_model():\n",
        "  mymodel = Sequential()\n",
        "  mymodel.add(Dense(128, input_dim=25, activation='relu'))\n",
        "  mymodel.add(Dense(2, activation='sigmoid'))\n",
        "\n",
        "  mymodel.compile(loss = 'binary_crossentropy', optimizer='adam', metrics=['accuracy'])\n",
        "  return mymodel\n",
        "\n",
        "model = KerasClassifier(build_fn=create_model)"
      ],
      "execution_count": null,
      "outputs": []
    },
    {
      "cell_type": "markdown",
      "metadata": {
        "id": "evLnOy_yb716"
      },
      "source": [
        "Seguidamente se definen los parámetros para buscar usando el GridSearch y ajustandolo para que busque justamente estos hiperparámetros."
      ]
    },
    {
      "cell_type": "code",
      "metadata": {
        "id": "szk2OqBlNpvU",
        "colab": {
          "base_uri": "https://localhost:8080/"
        },
        "outputId": "743a3ecf-f7aa-4186-ffea-065155953450"
      },
      "source": [
        "# Definimos parámetros a ajustar\n",
        "batchSize = [10, 20, 30, 40, 60, 80, 100, 150, 200]\n",
        "epochs = [50, 100, 200]\n",
        "\n",
        "parameter_grid = dict(batch_size = batchSize, epochs = epochs)\n",
        "\n",
        "mygrid = GridSearchCV(estimator = model, param_grid = parameter_grid, n_jobs= -1, cv = 3)\n",
        "grid_result = mygrid.fit(X_train, y_train)"
      ],
      "execution_count": null,
      "outputs": [
        {
          "output_type": "stream",
          "name": "stdout",
          "text": [
            "Epoch 1/200\n",
            "866/866 [==============================] - 2s 2ms/step - loss: 0.2475 - accuracy: 0.9347\n",
            "Epoch 2/200\n",
            "866/866 [==============================] - 1s 2ms/step - loss: 0.2219 - accuracy: 0.9399\n",
            "Epoch 3/200\n",
            "866/866 [==============================] - 1s 2ms/step - loss: 0.2174 - accuracy: 0.9403\n",
            "Epoch 4/200\n",
            "866/866 [==============================] - 1s 2ms/step - loss: 0.2126 - accuracy: 0.9407\n",
            "Epoch 5/200\n",
            "866/866 [==============================] - 1s 2ms/step - loss: 0.2077 - accuracy: 0.9410\n",
            "Epoch 6/200\n",
            "866/866 [==============================] - 1s 2ms/step - loss: 0.2034 - accuracy: 0.9417\n",
            "Epoch 7/200\n",
            "866/866 [==============================] - 1s 2ms/step - loss: 0.1998 - accuracy: 0.9422\n",
            "Epoch 8/200\n",
            "866/866 [==============================] - 1s 2ms/step - loss: 0.1964 - accuracy: 0.9427\n",
            "Epoch 9/200\n",
            "866/866 [==============================] - 1s 2ms/step - loss: 0.1939 - accuracy: 0.9431\n",
            "Epoch 10/200\n",
            "866/866 [==============================] - 1s 2ms/step - loss: 0.1921 - accuracy: 0.9434\n",
            "Epoch 11/200\n",
            "866/866 [==============================] - 1s 2ms/step - loss: 0.1896 - accuracy: 0.9435\n",
            "Epoch 12/200\n",
            "866/866 [==============================] - 1s 2ms/step - loss: 0.1878 - accuracy: 0.9436\n",
            "Epoch 13/200\n",
            "866/866 [==============================] - 1s 2ms/step - loss: 0.1866 - accuracy: 0.9438\n",
            "Epoch 14/200\n",
            "866/866 [==============================] - 1s 2ms/step - loss: 0.1845 - accuracy: 0.9441\n",
            "Epoch 15/200\n",
            "866/866 [==============================] - 1s 2ms/step - loss: 0.1828 - accuracy: 0.9441\n",
            "Epoch 16/200\n",
            "866/866 [==============================] - 1s 2ms/step - loss: 0.1810 - accuracy: 0.9442\n",
            "Epoch 17/200\n",
            "866/866 [==============================] - 1s 2ms/step - loss: 0.1796 - accuracy: 0.9445\n",
            "Epoch 18/200\n",
            "866/866 [==============================] - 1s 2ms/step - loss: 0.1776 - accuracy: 0.9448\n",
            "Epoch 19/200\n",
            "866/866 [==============================] - 1s 2ms/step - loss: 0.1757 - accuracy: 0.9446\n",
            "Epoch 20/200\n",
            "866/866 [==============================] - 1s 2ms/step - loss: 0.1744 - accuracy: 0.9447\n",
            "Epoch 21/200\n",
            "866/866 [==============================] - 1s 2ms/step - loss: 0.1727 - accuracy: 0.9449\n",
            "Epoch 22/200\n",
            "866/866 [==============================] - 1s 2ms/step - loss: 0.1713 - accuracy: 0.9452\n",
            "Epoch 23/200\n",
            "866/866 [==============================] - 1s 2ms/step - loss: 0.1695 - accuracy: 0.9450\n",
            "Epoch 24/200\n",
            "866/866 [==============================] - 1s 2ms/step - loss: 0.1679 - accuracy: 0.9450\n",
            "Epoch 25/200\n",
            "866/866 [==============================] - 1s 2ms/step - loss: 0.1668 - accuracy: 0.9451\n",
            "Epoch 26/200\n",
            "866/866 [==============================] - 1s 2ms/step - loss: 0.1655 - accuracy: 0.9457\n",
            "Epoch 27/200\n",
            "866/866 [==============================] - 1s 2ms/step - loss: 0.1643 - accuracy: 0.9452\n",
            "Epoch 28/200\n",
            "866/866 [==============================] - 1s 2ms/step - loss: 0.1642 - accuracy: 0.9452\n",
            "Epoch 29/200\n",
            "866/866 [==============================] - 1s 2ms/step - loss: 0.1628 - accuracy: 0.9453\n",
            "Epoch 30/200\n",
            "866/866 [==============================] - 1s 2ms/step - loss: 0.1619 - accuracy: 0.9457\n",
            "Epoch 31/200\n",
            "866/866 [==============================] - 1s 2ms/step - loss: 0.1614 - accuracy: 0.9455\n",
            "Epoch 32/200\n",
            "866/866 [==============================] - 1s 2ms/step - loss: 0.1603 - accuracy: 0.9451\n",
            "Epoch 33/200\n",
            "866/866 [==============================] - 1s 2ms/step - loss: 0.1595 - accuracy: 0.9460\n",
            "Epoch 34/200\n",
            "866/866 [==============================] - 1s 2ms/step - loss: 0.1598 - accuracy: 0.9452\n",
            "Epoch 35/200\n",
            "866/866 [==============================] - 1s 2ms/step - loss: 0.1591 - accuracy: 0.9460\n",
            "Epoch 36/200\n",
            "866/866 [==============================] - 1s 2ms/step - loss: 0.1593 - accuracy: 0.9456\n",
            "Epoch 37/200\n",
            "866/866 [==============================] - 1s 2ms/step - loss: 0.1587 - accuracy: 0.9457\n",
            "Epoch 38/200\n",
            "866/866 [==============================] - 1s 2ms/step - loss: 0.1581 - accuracy: 0.9458\n",
            "Epoch 39/200\n",
            "866/866 [==============================] - 1s 2ms/step - loss: 0.1578 - accuracy: 0.9457\n",
            "Epoch 40/200\n",
            "866/866 [==============================] - 1s 2ms/step - loss: 0.1579 - accuracy: 0.9455\n",
            "Epoch 41/200\n",
            "866/866 [==============================] - 1s 2ms/step - loss: 0.1575 - accuracy: 0.9459\n",
            "Epoch 42/200\n",
            "866/866 [==============================] - 1s 2ms/step - loss: 0.1571 - accuracy: 0.9461\n",
            "Epoch 43/200\n",
            "866/866 [==============================] - 1s 2ms/step - loss: 0.1572 - accuracy: 0.9461\n",
            "Epoch 44/200\n",
            "866/866 [==============================] - 1s 2ms/step - loss: 0.1572 - accuracy: 0.9460\n",
            "Epoch 45/200\n",
            "866/866 [==============================] - 1s 2ms/step - loss: 0.1569 - accuracy: 0.9459\n",
            "Epoch 46/200\n",
            "866/866 [==============================] - 1s 2ms/step - loss: 0.1569 - accuracy: 0.9460\n",
            "Epoch 47/200\n",
            "866/866 [==============================] - 1s 2ms/step - loss: 0.1566 - accuracy: 0.9464\n",
            "Epoch 48/200\n",
            "866/866 [==============================] - 1s 2ms/step - loss: 0.1560 - accuracy: 0.9460\n",
            "Epoch 49/200\n",
            "866/866 [==============================] - 1s 2ms/step - loss: 0.1568 - accuracy: 0.9459\n",
            "Epoch 50/200\n",
            "866/866 [==============================] - 1s 2ms/step - loss: 0.1561 - accuracy: 0.9461\n",
            "Epoch 51/200\n",
            "866/866 [==============================] - 1s 2ms/step - loss: 0.1560 - accuracy: 0.9463\n",
            "Epoch 52/200\n",
            "866/866 [==============================] - 1s 2ms/step - loss: 0.1559 - accuracy: 0.9463\n",
            "Epoch 53/200\n",
            "866/866 [==============================] - 1s 2ms/step - loss: 0.1564 - accuracy: 0.9468\n",
            "Epoch 54/200\n",
            "866/866 [==============================] - 1s 2ms/step - loss: 0.1556 - accuracy: 0.9463\n",
            "Epoch 55/200\n",
            "866/866 [==============================] - 1s 2ms/step - loss: 0.1555 - accuracy: 0.9462\n",
            "Epoch 56/200\n",
            "866/866 [==============================] - 1s 2ms/step - loss: 0.1556 - accuracy: 0.9464\n",
            "Epoch 57/200\n",
            "866/866 [==============================] - 1s 2ms/step - loss: 0.1557 - accuracy: 0.9465\n",
            "Epoch 58/200\n",
            "866/866 [==============================] - 1s 2ms/step - loss: 0.1552 - accuracy: 0.9467\n",
            "Epoch 59/200\n",
            "866/866 [==============================] - 1s 2ms/step - loss: 0.1556 - accuracy: 0.9465\n",
            "Epoch 60/200\n",
            "866/866 [==============================] - 1s 2ms/step - loss: 0.1553 - accuracy: 0.9466\n",
            "Epoch 61/200\n",
            "866/866 [==============================] - 1s 2ms/step - loss: 0.1554 - accuracy: 0.9466\n",
            "Epoch 62/200\n",
            "866/866 [==============================] - 1s 2ms/step - loss: 0.1554 - accuracy: 0.9465\n",
            "Epoch 63/200\n",
            "866/866 [==============================] - 1s 2ms/step - loss: 0.1552 - accuracy: 0.9463\n",
            "Epoch 64/200\n",
            "866/866 [==============================] - 1s 2ms/step - loss: 0.1555 - accuracy: 0.9465\n",
            "Epoch 65/200\n",
            "866/866 [==============================] - 1s 2ms/step - loss: 0.1552 - accuracy: 0.9464\n",
            "Epoch 66/200\n",
            "866/866 [==============================] - 1s 2ms/step - loss: 0.1550 - accuracy: 0.9466\n",
            "Epoch 67/200\n",
            "866/866 [==============================] - 1s 2ms/step - loss: 0.1550 - accuracy: 0.9466\n",
            "Epoch 68/200\n",
            "866/866 [==============================] - 1s 2ms/step - loss: 0.1547 - accuracy: 0.9464\n",
            "Epoch 69/200\n",
            "866/866 [==============================] - 1s 2ms/step - loss: 0.1547 - accuracy: 0.9464\n",
            "Epoch 70/200\n",
            "866/866 [==============================] - 1s 2ms/step - loss: 0.1550 - accuracy: 0.9461\n",
            "Epoch 71/200\n",
            "866/866 [==============================] - 1s 2ms/step - loss: 0.1548 - accuracy: 0.9462\n",
            "Epoch 72/200\n",
            "866/866 [==============================] - 1s 2ms/step - loss: 0.1547 - accuracy: 0.9465\n",
            "Epoch 73/200\n",
            "866/866 [==============================] - 1s 2ms/step - loss: 0.1547 - accuracy: 0.9464\n",
            "Epoch 74/200\n",
            "866/866 [==============================] - 1s 2ms/step - loss: 0.1549 - accuracy: 0.9465\n",
            "Epoch 75/200\n",
            "866/866 [==============================] - 1s 2ms/step - loss: 0.1548 - accuracy: 0.9466\n",
            "Epoch 76/200\n",
            "866/866 [==============================] - 1s 2ms/step - loss: 0.1547 - accuracy: 0.9464\n",
            "Epoch 77/200\n",
            "866/866 [==============================] - 1s 2ms/step - loss: 0.1550 - accuracy: 0.9464\n",
            "Epoch 78/200\n",
            "866/866 [==============================] - 1s 2ms/step - loss: 0.1541 - accuracy: 0.9470\n",
            "Epoch 79/200\n",
            "866/866 [==============================] - 1s 2ms/step - loss: 0.1549 - accuracy: 0.9468\n",
            "Epoch 80/200\n",
            "866/866 [==============================] - 1s 2ms/step - loss: 0.1550 - accuracy: 0.9468\n",
            "Epoch 81/200\n",
            "866/866 [==============================] - 1s 2ms/step - loss: 0.1550 - accuracy: 0.9470\n",
            "Epoch 82/200\n",
            "866/866 [==============================] - 1s 2ms/step - loss: 0.1544 - accuracy: 0.9469\n",
            "Epoch 83/200\n",
            "866/866 [==============================] - 1s 2ms/step - loss: 0.1540 - accuracy: 0.9471\n",
            "Epoch 84/200\n",
            "866/866 [==============================] - 1s 2ms/step - loss: 0.1543 - accuracy: 0.9468\n",
            "Epoch 85/200\n",
            "866/866 [==============================] - 1s 2ms/step - loss: 0.1542 - accuracy: 0.9467\n",
            "Epoch 86/200\n",
            "866/866 [==============================] - 1s 2ms/step - loss: 0.1545 - accuracy: 0.9462\n",
            "Epoch 87/200\n",
            "866/866 [==============================] - 1s 2ms/step - loss: 0.1540 - accuracy: 0.9465\n",
            "Epoch 88/200\n",
            "866/866 [==============================] - 1s 2ms/step - loss: 0.1542 - accuracy: 0.9468\n",
            "Epoch 89/200\n",
            "866/866 [==============================] - 1s 2ms/step - loss: 0.1548 - accuracy: 0.9469\n",
            "Epoch 90/200\n",
            "866/866 [==============================] - 1s 2ms/step - loss: 0.1540 - accuracy: 0.9469\n",
            "Epoch 91/200\n",
            "866/866 [==============================] - 1s 2ms/step - loss: 0.1541 - accuracy: 0.9469\n",
            "Epoch 92/200\n",
            "866/866 [==============================] - 1s 2ms/step - loss: 0.1539 - accuracy: 0.9472\n",
            "Epoch 93/200\n",
            "866/866 [==============================] - 1s 2ms/step - loss: 0.1540 - accuracy: 0.9467\n",
            "Epoch 94/200\n",
            "866/866 [==============================] - 1s 2ms/step - loss: 0.1541 - accuracy: 0.9471\n",
            "Epoch 95/200\n",
            "866/866 [==============================] - 1s 2ms/step - loss: 0.1539 - accuracy: 0.9476\n",
            "Epoch 96/200\n",
            "866/866 [==============================] - 1s 2ms/step - loss: 0.1540 - accuracy: 0.9466\n",
            "Epoch 97/200\n",
            "866/866 [==============================] - 1s 2ms/step - loss: 0.1539 - accuracy: 0.9468\n",
            "Epoch 98/200\n",
            "866/866 [==============================] - 1s 2ms/step - loss: 0.1536 - accuracy: 0.9468\n",
            "Epoch 99/200\n",
            "866/866 [==============================] - 1s 2ms/step - loss: 0.1536 - accuracy: 0.9470\n",
            "Epoch 100/200\n",
            "866/866 [==============================] - 1s 2ms/step - loss: 0.1538 - accuracy: 0.9469\n",
            "Epoch 101/200\n",
            "866/866 [==============================] - 1s 2ms/step - loss: 0.1534 - accuracy: 0.9470\n",
            "Epoch 102/200\n",
            "866/866 [==============================] - 1s 2ms/step - loss: 0.1538 - accuracy: 0.9473\n",
            "Epoch 103/200\n",
            "866/866 [==============================] - 1s 2ms/step - loss: 0.1542 - accuracy: 0.9471\n",
            "Epoch 104/200\n",
            "866/866 [==============================] - 1s 2ms/step - loss: 0.1537 - accuracy: 0.9470\n",
            "Epoch 105/200\n",
            "866/866 [==============================] - 2s 2ms/step - loss: 0.1533 - accuracy: 0.9470\n",
            "Epoch 106/200\n",
            "866/866 [==============================] - 1s 2ms/step - loss: 0.1532 - accuracy: 0.9467\n",
            "Epoch 107/200\n",
            "866/866 [==============================] - 1s 2ms/step - loss: 0.1535 - accuracy: 0.9471\n",
            "Epoch 108/200\n",
            "866/866 [==============================] - 1s 2ms/step - loss: 0.1532 - accuracy: 0.9473\n",
            "Epoch 109/200\n",
            "866/866 [==============================] - 1s 2ms/step - loss: 0.1532 - accuracy: 0.9470\n",
            "Epoch 110/200\n",
            "866/866 [==============================] - 1s 2ms/step - loss: 0.1535 - accuracy: 0.9473\n",
            "Epoch 111/200\n",
            "866/866 [==============================] - 1s 2ms/step - loss: 0.1537 - accuracy: 0.9470\n",
            "Epoch 112/200\n",
            "866/866 [==============================] - 1s 2ms/step - loss: 0.1538 - accuracy: 0.9475\n",
            "Epoch 113/200\n",
            "866/866 [==============================] - 1s 2ms/step - loss: 0.1534 - accuracy: 0.9470\n",
            "Epoch 114/200\n",
            "866/866 [==============================] - 1s 2ms/step - loss: 0.1537 - accuracy: 0.9476\n",
            "Epoch 115/200\n",
            "866/866 [==============================] - 1s 2ms/step - loss: 0.1535 - accuracy: 0.9468\n",
            "Epoch 116/200\n",
            "866/866 [==============================] - 1s 2ms/step - loss: 0.1534 - accuracy: 0.9471\n",
            "Epoch 117/200\n",
            "866/866 [==============================] - 1s 2ms/step - loss: 0.1534 - accuracy: 0.9472\n",
            "Epoch 118/200\n",
            "866/866 [==============================] - 1s 2ms/step - loss: 0.1534 - accuracy: 0.9470\n",
            "Epoch 119/200\n",
            "866/866 [==============================] - 1s 2ms/step - loss: 0.1535 - accuracy: 0.9466\n",
            "Epoch 120/200\n",
            "866/866 [==============================] - 1s 2ms/step - loss: 0.1533 - accuracy: 0.9473\n",
            "Epoch 121/200\n",
            "866/866 [==============================] - 1s 2ms/step - loss: 0.1532 - accuracy: 0.9471\n",
            "Epoch 122/200\n",
            "866/866 [==============================] - 2s 2ms/step - loss: 0.1534 - accuracy: 0.9473\n",
            "Epoch 123/200\n",
            "866/866 [==============================] - 2s 2ms/step - loss: 0.1529 - accuracy: 0.9471\n",
            "Epoch 124/200\n",
            "866/866 [==============================] - 2s 2ms/step - loss: 0.1533 - accuracy: 0.9475\n",
            "Epoch 125/200\n",
            "866/866 [==============================] - 1s 2ms/step - loss: 0.1538 - accuracy: 0.9471\n",
            "Epoch 126/200\n",
            "866/866 [==============================] - 1s 2ms/step - loss: 0.1531 - accuracy: 0.9474\n",
            "Epoch 127/200\n",
            "866/866 [==============================] - 1s 2ms/step - loss: 0.1534 - accuracy: 0.9471\n",
            "Epoch 128/200\n",
            "866/866 [==============================] - 1s 2ms/step - loss: 0.1527 - accuracy: 0.9475\n",
            "Epoch 129/200\n",
            "866/866 [==============================] - 2s 2ms/step - loss: 0.1530 - accuracy: 0.9473\n",
            "Epoch 130/200\n",
            "866/866 [==============================] - 2s 2ms/step - loss: 0.1531 - accuracy: 0.9473\n",
            "Epoch 131/200\n",
            "866/866 [==============================] - 2s 2ms/step - loss: 0.1528 - accuracy: 0.9477\n",
            "Epoch 132/200\n",
            "866/866 [==============================] - 2s 2ms/step - loss: 0.1530 - accuracy: 0.9476\n",
            "Epoch 133/200\n",
            "866/866 [==============================] - 2s 2ms/step - loss: 0.1529 - accuracy: 0.9475\n",
            "Epoch 134/200\n",
            "866/866 [==============================] - 1s 2ms/step - loss: 0.1531 - accuracy: 0.9478\n",
            "Epoch 135/200\n",
            "866/866 [==============================] - 1s 2ms/step - loss: 0.1529 - accuracy: 0.9475\n",
            "Epoch 136/200\n",
            "866/866 [==============================] - 2s 2ms/step - loss: 0.1531 - accuracy: 0.9471\n",
            "Epoch 137/200\n",
            "866/866 [==============================] - 2s 2ms/step - loss: 0.1525 - accuracy: 0.9474\n",
            "Epoch 138/200\n",
            "866/866 [==============================] - 2s 2ms/step - loss: 0.1528 - accuracy: 0.9474\n",
            "Epoch 139/200\n",
            "866/866 [==============================] - 2s 2ms/step - loss: 0.1530 - accuracy: 0.9476\n",
            "Epoch 140/200\n",
            "866/866 [==============================] - 1s 2ms/step - loss: 0.1527 - accuracy: 0.9471\n",
            "Epoch 141/200\n",
            "866/866 [==============================] - 1s 2ms/step - loss: 0.1529 - accuracy: 0.9478\n",
            "Epoch 142/200\n",
            "866/866 [==============================] - 1s 2ms/step - loss: 0.1522 - accuracy: 0.9480\n",
            "Epoch 143/200\n",
            "866/866 [==============================] - 1s 2ms/step - loss: 0.1528 - accuracy: 0.9477\n",
            "Epoch 144/200\n",
            "866/866 [==============================] - 2s 2ms/step - loss: 0.1527 - accuracy: 0.9477\n",
            "Epoch 145/200\n",
            "866/866 [==============================] - 1s 2ms/step - loss: 0.1529 - accuracy: 0.9478\n",
            "Epoch 146/200\n",
            "866/866 [==============================] - 2s 2ms/step - loss: 0.1526 - accuracy: 0.9475\n",
            "Epoch 147/200\n",
            "866/866 [==============================] - 1s 2ms/step - loss: 0.1526 - accuracy: 0.9475\n",
            "Epoch 148/200\n",
            "866/866 [==============================] - 1s 2ms/step - loss: 0.1526 - accuracy: 0.9476\n",
            "Epoch 149/200\n",
            "866/866 [==============================] - 2s 2ms/step - loss: 0.1529 - accuracy: 0.9476\n",
            "Epoch 150/200\n",
            "866/866 [==============================] - 1s 2ms/step - loss: 0.1526 - accuracy: 0.9476\n",
            "Epoch 151/200\n",
            "866/866 [==============================] - 1s 2ms/step - loss: 0.1525 - accuracy: 0.9475\n",
            "Epoch 152/200\n",
            "866/866 [==============================] - 2s 2ms/step - loss: 0.1525 - accuracy: 0.9471\n",
            "Epoch 153/200\n",
            "866/866 [==============================] - 1s 2ms/step - loss: 0.1527 - accuracy: 0.9476\n",
            "Epoch 154/200\n",
            "866/866 [==============================] - 1s 2ms/step - loss: 0.1525 - accuracy: 0.9476\n",
            "Epoch 155/200\n",
            "866/866 [==============================] - 1s 2ms/step - loss: 0.1521 - accuracy: 0.9476\n",
            "Epoch 156/200\n",
            "866/866 [==============================] - 1s 2ms/step - loss: 0.1523 - accuracy: 0.9476\n",
            "Epoch 157/200\n",
            "866/866 [==============================] - 2s 2ms/step - loss: 0.1526 - accuracy: 0.9474\n",
            "Epoch 158/200\n",
            "866/866 [==============================] - 2s 2ms/step - loss: 0.1530 - accuracy: 0.9477\n",
            "Epoch 159/200\n",
            "866/866 [==============================] - 2s 2ms/step - loss: 0.1526 - accuracy: 0.9473\n",
            "Epoch 160/200\n",
            "866/866 [==============================] - 2s 2ms/step - loss: 0.1521 - accuracy: 0.9474\n",
            "Epoch 161/200\n",
            "866/866 [==============================] - 2s 2ms/step - loss: 0.1522 - accuracy: 0.9481\n",
            "Epoch 162/200\n",
            "866/866 [==============================] - 2s 2ms/step - loss: 0.1524 - accuracy: 0.9478\n",
            "Epoch 163/200\n",
            "866/866 [==============================] - 2s 2ms/step - loss: 0.1523 - accuracy: 0.9477\n",
            "Epoch 164/200\n",
            "866/866 [==============================] - 1s 2ms/step - loss: 0.1521 - accuracy: 0.9474\n",
            "Epoch 165/200\n",
            "866/866 [==============================] - 1s 2ms/step - loss: 0.1526 - accuracy: 0.9478\n",
            "Epoch 166/200\n",
            "866/866 [==============================] - 1s 2ms/step - loss: 0.1520 - accuracy: 0.9475\n",
            "Epoch 167/200\n",
            "866/866 [==============================] - 2s 2ms/step - loss: 0.1521 - accuracy: 0.9478\n",
            "Epoch 168/200\n",
            "866/866 [==============================] - 2s 2ms/step - loss: 0.1521 - accuracy: 0.9478\n",
            "Epoch 169/200\n",
            "866/866 [==============================] - 2s 2ms/step - loss: 0.1518 - accuracy: 0.9477\n",
            "Epoch 170/200\n",
            "866/866 [==============================] - 2s 2ms/step - loss: 0.1518 - accuracy: 0.9479\n",
            "Epoch 171/200\n",
            "866/866 [==============================] - 2s 2ms/step - loss: 0.1518 - accuracy: 0.9480\n",
            "Epoch 172/200\n",
            "866/866 [==============================] - 2s 2ms/step - loss: 0.1521 - accuracy: 0.9475\n",
            "Epoch 173/200\n",
            "866/866 [==============================] - 2s 2ms/step - loss: 0.1515 - accuracy: 0.9480\n",
            "Epoch 174/200\n",
            "866/866 [==============================] - 2s 2ms/step - loss: 0.1522 - accuracy: 0.9478\n",
            "Epoch 175/200\n",
            "866/866 [==============================] - 1s 2ms/step - loss: 0.1521 - accuracy: 0.9477\n",
            "Epoch 176/200\n",
            "866/866 [==============================] - 2s 2ms/step - loss: 0.1521 - accuracy: 0.9477\n",
            "Epoch 177/200\n",
            "866/866 [==============================] - 1s 2ms/step - loss: 0.1520 - accuracy: 0.9480\n",
            "Epoch 178/200\n",
            "866/866 [==============================] - 2s 2ms/step - loss: 0.1517 - accuracy: 0.9478\n",
            "Epoch 179/200\n",
            "866/866 [==============================] - 1s 2ms/step - loss: 0.1514 - accuracy: 0.9479\n",
            "Epoch 180/200\n",
            "866/866 [==============================] - 1s 2ms/step - loss: 0.1518 - accuracy: 0.9483\n",
            "Epoch 181/200\n",
            "866/866 [==============================] - 1s 2ms/step - loss: 0.1521 - accuracy: 0.9474\n",
            "Epoch 182/200\n",
            "866/866 [==============================] - 1s 2ms/step - loss: 0.1520 - accuracy: 0.9476\n",
            "Epoch 183/200\n",
            "866/866 [==============================] - 1s 2ms/step - loss: 0.1519 - accuracy: 0.9481\n",
            "Epoch 184/200\n",
            "866/866 [==============================] - 1s 2ms/step - loss: 0.1515 - accuracy: 0.9473\n",
            "Epoch 185/200\n",
            "866/866 [==============================] - 1s 2ms/step - loss: 0.1518 - accuracy: 0.9476\n",
            "Epoch 186/200\n",
            "866/866 [==============================] - 1s 2ms/step - loss: 0.1519 - accuracy: 0.9483\n",
            "Epoch 187/200\n",
            "866/866 [==============================] - 1s 2ms/step - loss: 0.1519 - accuracy: 0.9482\n",
            "Epoch 188/200\n",
            "866/866 [==============================] - 2s 2ms/step - loss: 0.1519 - accuracy: 0.9484\n",
            "Epoch 189/200\n",
            "866/866 [==============================] - 1s 2ms/step - loss: 0.1515 - accuracy: 0.9480\n",
            "Epoch 190/200\n",
            "866/866 [==============================] - 1s 2ms/step - loss: 0.1517 - accuracy: 0.9478\n",
            "Epoch 191/200\n",
            "866/866 [==============================] - 1s 2ms/step - loss: 0.1516 - accuracy: 0.9481\n",
            "Epoch 192/200\n",
            "866/866 [==============================] - 2s 2ms/step - loss: 0.1515 - accuracy: 0.9483\n",
            "Epoch 193/200\n",
            "866/866 [==============================] - 2s 2ms/step - loss: 0.1514 - accuracy: 0.9479\n",
            "Epoch 194/200\n",
            "866/866 [==============================] - 2s 2ms/step - loss: 0.1519 - accuracy: 0.9478\n",
            "Epoch 195/200\n",
            "866/866 [==============================] - 1s 2ms/step - loss: 0.1516 - accuracy: 0.9479\n",
            "Epoch 196/200\n",
            "866/866 [==============================] - 1s 2ms/step - loss: 0.1517 - accuracy: 0.9484\n",
            "Epoch 197/200\n",
            "866/866 [==============================] - 1s 2ms/step - loss: 0.1515 - accuracy: 0.9480\n",
            "Epoch 198/200\n",
            "866/866 [==============================] - 1s 2ms/step - loss: 0.1516 - accuracy: 0.9481\n",
            "Epoch 199/200\n",
            "866/866 [==============================] - 1s 2ms/step - loss: 0.1515 - accuracy: 0.9484\n",
            "Epoch 200/200\n",
            "866/866 [==============================] - 1s 2ms/step - loss: 0.1519 - accuracy: 0.9478\n"
          ]
        }
      ]
    },
    {
      "cell_type": "code",
      "metadata": {
        "colab": {
          "base_uri": "https://localhost:8080/"
        },
        "id": "kGpgLgdoFI6n",
        "outputId": "45a9e542-7769-40f0-bd82-81e881e2a7af"
      },
      "source": [
        "print(\"El mejor es: %f usando %s\" % (grid_result.best_score_, grid_result.best_params_))"
      ],
      "execution_count": null,
      "outputs": [
        {
          "output_type": "stream",
          "name": "stdout",
          "text": [
            "El mejor es: 0.946475 usando {'batch_size': 80, 'epochs': 200}\n"
          ]
        }
      ]
    },
    {
      "cell_type": "markdown",
      "metadata": {
        "id": "95vb3FgzcS9O"
      },
      "source": [
        "Se denota que con un tamaño de batch de 80 y 200 epochs el modelo aumenta su precisión en un 1%."
      ]
    },
    {
      "cell_type": "markdown",
      "metadata": {
        "id": "UbOms-kBcazv"
      },
      "source": [
        "Nuestro objetivo ahora es ajustar el optimizador usando para mejorar todavía el modelo"
      ]
    },
    {
      "cell_type": "code",
      "metadata": {
        "id": "vWhVCJRP_xIF"
      },
      "source": [
        "\n",
        "def create_my_model(optimizer='adam'):\n",
        "  mymodel = Sequential()\n",
        "  mymodel.add(Dense(128, input_dim=25, activation='relu'))\n",
        " \n",
        "  mymodel.add(Dense(2, activation='sigmoid'))\n",
        "\n",
        "  mymodel.compile(loss = 'binary_crossentropy', optimizer=optimizer, metrics=['accuracy'])\n",
        "  return mymodel\n",
        "\n",
        "model = KerasClassifier(build_fn=create_my_model, epochs=200, batch_size=80)"
      ],
      "execution_count": null,
      "outputs": []
    },
    {
      "cell_type": "markdown",
      "metadata": {
        "id": "QDY1tG3Ec0Ok"
      },
      "source": [
        "Se definen los modelos que se van a probar para el optimizar usando el GridSearch."
      ]
    },
    {
      "cell_type": "code",
      "metadata": {
        "id": "PXJVZAHlBvCF"
      },
      "source": [
        "# Definimos los parámetroa a ajustar\n",
        "optimizer = ['SGD' , 'Adadelta', 'RMSprop', 'Adagrad', 'Adam']\n",
        "parameter_grid = dict(optimizer=optimizer)"
      ],
      "execution_count": null,
      "outputs": []
    },
    {
      "cell_type": "markdown",
      "metadata": {
        "id": "8Uanw00kc6-n"
      },
      "source": [
        "Se corre el GridSearch para buscar el mejor optimizador para el modelo."
      ]
    },
    {
      "cell_type": "code",
      "metadata": {
        "colab": {
          "base_uri": "https://localhost:8080/"
        },
        "id": "ZFFfCU0ICBFd",
        "outputId": "e2130291-e0cb-4f8f-90e6-cde088906d99"
      },
      "source": [
        "grid = GridSearchCV(estimator = model, param_grid = parameter_grid, n_jobs= -1, cv = 3)\n",
        "grid_result = grid.fit(X_train, y_train)"
      ],
      "execution_count": null,
      "outputs": [
        {
          "output_type": "stream",
          "name": "stdout",
          "text": [
            "Epoch 1/200\n",
            "866/866 [==============================] - 2s 2ms/step - loss: 0.2530 - accuracy: 0.9257\n",
            "Epoch 2/200\n",
            "866/866 [==============================] - 1s 2ms/step - loss: 0.2219 - accuracy: 0.9399\n",
            "Epoch 3/200\n",
            "866/866 [==============================] - 1s 2ms/step - loss: 0.2175 - accuracy: 0.9402\n",
            "Epoch 4/200\n",
            "866/866 [==============================] - 1s 2ms/step - loss: 0.2124 - accuracy: 0.9407\n",
            "Epoch 5/200\n",
            "866/866 [==============================] - 1s 2ms/step - loss: 0.2075 - accuracy: 0.9410\n",
            "Epoch 6/200\n",
            "866/866 [==============================] - 1s 2ms/step - loss: 0.2026 - accuracy: 0.9417\n",
            "Epoch 7/200\n",
            "866/866 [==============================] - 1s 2ms/step - loss: 0.1990 - accuracy: 0.9424\n",
            "Epoch 8/200\n",
            "866/866 [==============================] - 1s 2ms/step - loss: 0.1956 - accuracy: 0.9427\n",
            "Epoch 9/200\n",
            "866/866 [==============================] - 1s 2ms/step - loss: 0.1931 - accuracy: 0.9432\n",
            "Epoch 10/200\n",
            "866/866 [==============================] - 1s 2ms/step - loss: 0.1906 - accuracy: 0.9435\n",
            "Epoch 11/200\n",
            "866/866 [==============================] - 1s 2ms/step - loss: 0.1892 - accuracy: 0.9437\n",
            "Epoch 12/200\n",
            "866/866 [==============================] - 1s 2ms/step - loss: 0.1870 - accuracy: 0.9438\n",
            "Epoch 13/200\n",
            "866/866 [==============================] - 1s 2ms/step - loss: 0.1850 - accuracy: 0.9439\n",
            "Epoch 14/200\n",
            "866/866 [==============================] - 1s 2ms/step - loss: 0.1833 - accuracy: 0.9442\n",
            "Epoch 15/200\n",
            "866/866 [==============================] - 1s 2ms/step - loss: 0.1816 - accuracy: 0.9444\n",
            "Epoch 16/200\n",
            "866/866 [==============================] - 1s 2ms/step - loss: 0.1798 - accuracy: 0.9444\n",
            "Epoch 17/200\n",
            "866/866 [==============================] - 1s 2ms/step - loss: 0.1776 - accuracy: 0.9446\n",
            "Epoch 18/200\n",
            "866/866 [==============================] - 1s 2ms/step - loss: 0.1764 - accuracy: 0.9446\n",
            "Epoch 19/200\n",
            "866/866 [==============================] - 1s 2ms/step - loss: 0.1740 - accuracy: 0.9449\n",
            "Epoch 20/200\n",
            "866/866 [==============================] - 1s 2ms/step - loss: 0.1723 - accuracy: 0.9449\n",
            "Epoch 21/200\n",
            "866/866 [==============================] - 1s 2ms/step - loss: 0.1710 - accuracy: 0.9449\n",
            "Epoch 22/200\n",
            "866/866 [==============================] - 1s 2ms/step - loss: 0.1689 - accuracy: 0.9452\n",
            "Epoch 23/200\n",
            "866/866 [==============================] - 1s 2ms/step - loss: 0.1674 - accuracy: 0.9452\n",
            "Epoch 24/200\n",
            "866/866 [==============================] - 1s 2ms/step - loss: 0.1667 - accuracy: 0.9452\n",
            "Epoch 25/200\n",
            "866/866 [==============================] - 1s 2ms/step - loss: 0.1652 - accuracy: 0.9455\n",
            "Epoch 26/200\n",
            "866/866 [==============================] - 1s 2ms/step - loss: 0.1644 - accuracy: 0.9453\n",
            "Epoch 27/200\n",
            "866/866 [==============================] - 1s 2ms/step - loss: 0.1625 - accuracy: 0.9452\n",
            "Epoch 28/200\n",
            "866/866 [==============================] - 1s 2ms/step - loss: 0.1624 - accuracy: 0.9456\n",
            "Epoch 29/200\n",
            "866/866 [==============================] - 1s 2ms/step - loss: 0.1612 - accuracy: 0.9453\n",
            "Epoch 30/200\n",
            "866/866 [==============================] - 1s 2ms/step - loss: 0.1607 - accuracy: 0.9461\n",
            "Epoch 31/200\n",
            "866/866 [==============================] - 1s 2ms/step - loss: 0.1602 - accuracy: 0.9457\n",
            "Epoch 32/200\n",
            "866/866 [==============================] - 1s 2ms/step - loss: 0.1598 - accuracy: 0.9457\n",
            "Epoch 33/200\n",
            "866/866 [==============================] - 1s 2ms/step - loss: 0.1588 - accuracy: 0.9455\n",
            "Epoch 34/200\n",
            "866/866 [==============================] - 1s 2ms/step - loss: 0.1588 - accuracy: 0.9455\n",
            "Epoch 35/200\n",
            "866/866 [==============================] - 1s 2ms/step - loss: 0.1588 - accuracy: 0.9452\n",
            "Epoch 36/200\n",
            "866/866 [==============================] - 1s 2ms/step - loss: 0.1582 - accuracy: 0.9454\n",
            "Epoch 37/200\n",
            "866/866 [==============================] - 1s 2ms/step - loss: 0.1579 - accuracy: 0.9454\n",
            "Epoch 38/200\n",
            "866/866 [==============================] - 1s 2ms/step - loss: 0.1585 - accuracy: 0.9455\n",
            "Epoch 39/200\n",
            "866/866 [==============================] - 1s 2ms/step - loss: 0.1576 - accuracy: 0.9458\n",
            "Epoch 40/200\n",
            "866/866 [==============================] - 1s 2ms/step - loss: 0.1572 - accuracy: 0.9457\n",
            "Epoch 41/200\n",
            "866/866 [==============================] - 1s 2ms/step - loss: 0.1580 - accuracy: 0.9455\n",
            "Epoch 42/200\n",
            "866/866 [==============================] - 1s 2ms/step - loss: 0.1573 - accuracy: 0.9461\n",
            "Epoch 43/200\n",
            "866/866 [==============================] - 1s 2ms/step - loss: 0.1566 - accuracy: 0.9458\n",
            "Epoch 44/200\n",
            "866/866 [==============================] - 1s 2ms/step - loss: 0.1572 - accuracy: 0.9457\n",
            "Epoch 45/200\n",
            "866/866 [==============================] - 1s 2ms/step - loss: 0.1567 - accuracy: 0.9461\n",
            "Epoch 46/200\n",
            "866/866 [==============================] - 1s 2ms/step - loss: 0.1571 - accuracy: 0.9460\n",
            "Epoch 47/200\n",
            "866/866 [==============================] - 1s 2ms/step - loss: 0.1564 - accuracy: 0.9460\n",
            "Epoch 48/200\n",
            "866/866 [==============================] - 1s 2ms/step - loss: 0.1564 - accuracy: 0.9460\n",
            "Epoch 49/200\n",
            "866/866 [==============================] - 1s 2ms/step - loss: 0.1565 - accuracy: 0.9460\n",
            "Epoch 50/200\n",
            "866/866 [==============================] - 1s 2ms/step - loss: 0.1560 - accuracy: 0.9459\n",
            "Epoch 51/200\n",
            "866/866 [==============================] - 1s 2ms/step - loss: 0.1560 - accuracy: 0.9461\n",
            "Epoch 52/200\n",
            "866/866 [==============================] - 1s 2ms/step - loss: 0.1563 - accuracy: 0.9459\n",
            "Epoch 53/200\n",
            "866/866 [==============================] - 1s 2ms/step - loss: 0.1560 - accuracy: 0.9461\n",
            "Epoch 54/200\n",
            "866/866 [==============================] - 1s 2ms/step - loss: 0.1558 - accuracy: 0.9462\n",
            "Epoch 55/200\n",
            "866/866 [==============================] - 1s 2ms/step - loss: 0.1556 - accuracy: 0.9461\n",
            "Epoch 56/200\n",
            "866/866 [==============================] - 1s 2ms/step - loss: 0.1561 - accuracy: 0.9463\n",
            "Epoch 57/200\n",
            "866/866 [==============================] - 1s 2ms/step - loss: 0.1556 - accuracy: 0.9462\n",
            "Epoch 58/200\n",
            "866/866 [==============================] - 1s 2ms/step - loss: 0.1554 - accuracy: 0.9461\n",
            "Epoch 59/200\n",
            "866/866 [==============================] - 1s 2ms/step - loss: 0.1550 - accuracy: 0.9457\n",
            "Epoch 60/200\n",
            "866/866 [==============================] - 1s 2ms/step - loss: 0.1555 - accuracy: 0.9463\n",
            "Epoch 61/200\n",
            "866/866 [==============================] - 1s 2ms/step - loss: 0.1559 - accuracy: 0.9464\n",
            "Epoch 62/200\n",
            "866/866 [==============================] - 1s 2ms/step - loss: 0.1550 - accuracy: 0.9463\n",
            "Epoch 63/200\n",
            "866/866 [==============================] - 1s 2ms/step - loss: 0.1548 - accuracy: 0.9463\n",
            "Epoch 64/200\n",
            "866/866 [==============================] - 1s 2ms/step - loss: 0.1549 - accuracy: 0.9462\n",
            "Epoch 65/200\n",
            "866/866 [==============================] - 1s 2ms/step - loss: 0.1552 - accuracy: 0.9462\n",
            "Epoch 66/200\n",
            "866/866 [==============================] - 1s 2ms/step - loss: 0.1555 - accuracy: 0.9465\n",
            "Epoch 67/200\n",
            "866/866 [==============================] - 1s 2ms/step - loss: 0.1553 - accuracy: 0.9466\n",
            "Epoch 68/200\n",
            "866/866 [==============================] - 1s 2ms/step - loss: 0.1547 - accuracy: 0.9461\n",
            "Epoch 69/200\n",
            "866/866 [==============================] - 1s 2ms/step - loss: 0.1547 - accuracy: 0.9461\n",
            "Epoch 70/200\n",
            "866/866 [==============================] - 1s 2ms/step - loss: 0.1550 - accuracy: 0.9464\n",
            "Epoch 71/200\n",
            "866/866 [==============================] - 1s 2ms/step - loss: 0.1551 - accuracy: 0.9465\n",
            "Epoch 72/200\n",
            "866/866 [==============================] - 1s 2ms/step - loss: 0.1551 - accuracy: 0.9464\n",
            "Epoch 73/200\n",
            "866/866 [==============================] - 1s 2ms/step - loss: 0.1549 - accuracy: 0.9462\n",
            "Epoch 74/200\n",
            "866/866 [==============================] - 1s 2ms/step - loss: 0.1549 - accuracy: 0.9466\n",
            "Epoch 75/200\n",
            "866/866 [==============================] - 1s 2ms/step - loss: 0.1548 - accuracy: 0.9464\n",
            "Epoch 76/200\n",
            "866/866 [==============================] - 1s 2ms/step - loss: 0.1549 - accuracy: 0.9470\n",
            "Epoch 77/200\n",
            "866/866 [==============================] - 1s 2ms/step - loss: 0.1546 - accuracy: 0.9465\n",
            "Epoch 78/200\n",
            "866/866 [==============================] - 1s 2ms/step - loss: 0.1547 - accuracy: 0.9464\n",
            "Epoch 79/200\n",
            "866/866 [==============================] - 1s 2ms/step - loss: 0.1547 - accuracy: 0.9465\n",
            "Epoch 80/200\n",
            "866/866 [==============================] - 1s 2ms/step - loss: 0.1543 - accuracy: 0.9471\n",
            "Epoch 81/200\n",
            "866/866 [==============================] - 1s 2ms/step - loss: 0.1540 - accuracy: 0.9465\n",
            "Epoch 82/200\n",
            "866/866 [==============================] - 1s 2ms/step - loss: 0.1546 - accuracy: 0.9466\n",
            "Epoch 83/200\n",
            "866/866 [==============================] - 1s 2ms/step - loss: 0.1549 - accuracy: 0.9463\n",
            "Epoch 84/200\n",
            "866/866 [==============================] - 1s 2ms/step - loss: 0.1540 - accuracy: 0.9466\n",
            "Epoch 85/200\n",
            "866/866 [==============================] - 1s 2ms/step - loss: 0.1543 - accuracy: 0.9466\n",
            "Epoch 86/200\n",
            "866/866 [==============================] - 1s 2ms/step - loss: 0.1540 - accuracy: 0.9470\n",
            "Epoch 87/200\n",
            "866/866 [==============================] - 1s 2ms/step - loss: 0.1541 - accuracy: 0.9467\n",
            "Epoch 88/200\n",
            "866/866 [==============================] - 1s 2ms/step - loss: 0.1545 - accuracy: 0.9464\n",
            "Epoch 89/200\n",
            "866/866 [==============================] - 1s 2ms/step - loss: 0.1542 - accuracy: 0.9466\n",
            "Epoch 90/200\n",
            "866/866 [==============================] - 1s 2ms/step - loss: 0.1545 - accuracy: 0.9469\n",
            "Epoch 91/200\n",
            "866/866 [==============================] - 1s 2ms/step - loss: 0.1538 - accuracy: 0.9465\n",
            "Epoch 92/200\n",
            "866/866 [==============================] - 1s 2ms/step - loss: 0.1548 - accuracy: 0.9465\n",
            "Epoch 93/200\n",
            "866/866 [==============================] - 1s 2ms/step - loss: 0.1542 - accuracy: 0.9465\n",
            "Epoch 94/200\n",
            "866/866 [==============================] - 1s 2ms/step - loss: 0.1541 - accuracy: 0.9466\n",
            "Epoch 95/200\n",
            "866/866 [==============================] - 1s 2ms/step - loss: 0.1539 - accuracy: 0.9466\n",
            "Epoch 96/200\n",
            "866/866 [==============================] - 2s 2ms/step - loss: 0.1540 - accuracy: 0.9471\n",
            "Epoch 97/200\n",
            "866/866 [==============================] - 1s 2ms/step - loss: 0.1542 - accuracy: 0.9469\n",
            "Epoch 98/200\n",
            "866/866 [==============================] - 1s 2ms/step - loss: 0.1540 - accuracy: 0.9469\n",
            "Epoch 99/200\n",
            "866/866 [==============================] - 1s 2ms/step - loss: 0.1540 - accuracy: 0.9473\n",
            "Epoch 100/200\n",
            "866/866 [==============================] - 1s 2ms/step - loss: 0.1537 - accuracy: 0.9471\n",
            "Epoch 101/200\n",
            "866/866 [==============================] - 1s 2ms/step - loss: 0.1539 - accuracy: 0.9472\n",
            "Epoch 102/200\n",
            "866/866 [==============================] - 1s 2ms/step - loss: 0.1533 - accuracy: 0.9473\n",
            "Epoch 103/200\n",
            "866/866 [==============================] - 1s 2ms/step - loss: 0.1536 - accuracy: 0.9471\n",
            "Epoch 104/200\n",
            "866/866 [==============================] - 1s 2ms/step - loss: 0.1539 - accuracy: 0.9467\n",
            "Epoch 105/200\n",
            "866/866 [==============================] - 1s 2ms/step - loss: 0.1539 - accuracy: 0.9472\n",
            "Epoch 106/200\n",
            "866/866 [==============================] - 1s 2ms/step - loss: 0.1535 - accuracy: 0.9470\n",
            "Epoch 107/200\n",
            "866/866 [==============================] - 1s 2ms/step - loss: 0.1536 - accuracy: 0.9466\n",
            "Epoch 108/200\n",
            "866/866 [==============================] - 1s 2ms/step - loss: 0.1534 - accuracy: 0.9471\n",
            "Epoch 109/200\n",
            "866/866 [==============================] - 1s 2ms/step - loss: 0.1540 - accuracy: 0.9471\n",
            "Epoch 110/200\n",
            "866/866 [==============================] - 1s 2ms/step - loss: 0.1531 - accuracy: 0.9469\n",
            "Epoch 111/200\n",
            "866/866 [==============================] - 1s 2ms/step - loss: 0.1534 - accuracy: 0.9471\n",
            "Epoch 112/200\n",
            "866/866 [==============================] - 1s 2ms/step - loss: 0.1533 - accuracy: 0.9475\n",
            "Epoch 113/200\n",
            "866/866 [==============================] - 1s 2ms/step - loss: 0.1529 - accuracy: 0.9476\n",
            "Epoch 114/200\n",
            "866/866 [==============================] - 1s 2ms/step - loss: 0.1535 - accuracy: 0.9474\n",
            "Epoch 115/200\n",
            "866/866 [==============================] - 1s 2ms/step - loss: 0.1535 - accuracy: 0.9477\n",
            "Epoch 116/200\n",
            "866/866 [==============================] - 1s 2ms/step - loss: 0.1530 - accuracy: 0.9473\n",
            "Epoch 117/200\n",
            "866/866 [==============================] - 1s 2ms/step - loss: 0.1529 - accuracy: 0.9469\n",
            "Epoch 118/200\n",
            "866/866 [==============================] - 1s 2ms/step - loss: 0.1529 - accuracy: 0.9470\n",
            "Epoch 119/200\n",
            "866/866 [==============================] - 1s 2ms/step - loss: 0.1531 - accuracy: 0.9471\n",
            "Epoch 120/200\n",
            "866/866 [==============================] - 1s 2ms/step - loss: 0.1534 - accuracy: 0.9475\n",
            "Epoch 121/200\n",
            "866/866 [==============================] - 1s 2ms/step - loss: 0.1535 - accuracy: 0.9469\n",
            "Epoch 122/200\n",
            "866/866 [==============================] - 1s 2ms/step - loss: 0.1537 - accuracy: 0.9472\n",
            "Epoch 123/200\n",
            "866/866 [==============================] - 1s 2ms/step - loss: 0.1528 - accuracy: 0.9470\n",
            "Epoch 124/200\n",
            "866/866 [==============================] - 1s 2ms/step - loss: 0.1529 - accuracy: 0.9468\n",
            "Epoch 125/200\n",
            "866/866 [==============================] - 1s 2ms/step - loss: 0.1529 - accuracy: 0.9473\n",
            "Epoch 126/200\n",
            "866/866 [==============================] - 1s 2ms/step - loss: 0.1533 - accuracy: 0.9473\n",
            "Epoch 127/200\n",
            "866/866 [==============================] - 1s 2ms/step - loss: 0.1525 - accuracy: 0.9479\n",
            "Epoch 128/200\n",
            "866/866 [==============================] - 1s 2ms/step - loss: 0.1531 - accuracy: 0.9475\n",
            "Epoch 129/200\n",
            "866/866 [==============================] - 1s 2ms/step - loss: 0.1529 - accuracy: 0.9474\n",
            "Epoch 130/200\n",
            "866/866 [==============================] - 1s 2ms/step - loss: 0.1531 - accuracy: 0.9478\n",
            "Epoch 131/200\n",
            "866/866 [==============================] - 1s 2ms/step - loss: 0.1530 - accuracy: 0.9473\n",
            "Epoch 132/200\n",
            "866/866 [==============================] - 1s 2ms/step - loss: 0.1525 - accuracy: 0.9475\n",
            "Epoch 133/200\n",
            "866/866 [==============================] - 1s 2ms/step - loss: 0.1529 - accuracy: 0.9476\n",
            "Epoch 134/200\n",
            "866/866 [==============================] - 1s 2ms/step - loss: 0.1525 - accuracy: 0.9475\n",
            "Epoch 135/200\n",
            "866/866 [==============================] - 1s 2ms/step - loss: 0.1529 - accuracy: 0.9479\n",
            "Epoch 136/200\n",
            "866/866 [==============================] - 1s 2ms/step - loss: 0.1528 - accuracy: 0.9474\n",
            "Epoch 137/200\n",
            "866/866 [==============================] - 1s 2ms/step - loss: 0.1531 - accuracy: 0.9475\n",
            "Epoch 138/200\n",
            "866/866 [==============================] - 1s 2ms/step - loss: 0.1528 - accuracy: 0.9475\n",
            "Epoch 139/200\n",
            "866/866 [==============================] - 1s 2ms/step - loss: 0.1529 - accuracy: 0.9475\n",
            "Epoch 140/200\n",
            "866/866 [==============================] - 1s 2ms/step - loss: 0.1520 - accuracy: 0.9473\n",
            "Epoch 141/200\n",
            "866/866 [==============================] - 1s 2ms/step - loss: 0.1526 - accuracy: 0.9476\n",
            "Epoch 142/200\n",
            "866/866 [==============================] - 1s 2ms/step - loss: 0.1529 - accuracy: 0.9476\n",
            "Epoch 143/200\n",
            "866/866 [==============================] - 1s 2ms/step - loss: 0.1529 - accuracy: 0.9476\n",
            "Epoch 144/200\n",
            "866/866 [==============================] - 1s 2ms/step - loss: 0.1527 - accuracy: 0.9472\n",
            "Epoch 145/200\n",
            "866/866 [==============================] - 1s 2ms/step - loss: 0.1526 - accuracy: 0.9472\n",
            "Epoch 146/200\n",
            "866/866 [==============================] - 1s 2ms/step - loss: 0.1523 - accuracy: 0.9475\n",
            "Epoch 147/200\n",
            "866/866 [==============================] - 1s 2ms/step - loss: 0.1525 - accuracy: 0.9481\n",
            "Epoch 148/200\n",
            "866/866 [==============================] - 1s 2ms/step - loss: 0.1525 - accuracy: 0.9477\n",
            "Epoch 149/200\n",
            "866/866 [==============================] - 1s 2ms/step - loss: 0.1523 - accuracy: 0.9481\n",
            "Epoch 150/200\n",
            "866/866 [==============================] - 1s 2ms/step - loss: 0.1521 - accuracy: 0.9479\n",
            "Epoch 151/200\n",
            "866/866 [==============================] - 1s 2ms/step - loss: 0.1527 - accuracy: 0.9479\n",
            "Epoch 152/200\n",
            "866/866 [==============================] - 1s 2ms/step - loss: 0.1525 - accuracy: 0.9474\n",
            "Epoch 153/200\n",
            "866/866 [==============================] - 1s 2ms/step - loss: 0.1523 - accuracy: 0.9478\n",
            "Epoch 154/200\n",
            "866/866 [==============================] - 1s 2ms/step - loss: 0.1526 - accuracy: 0.9479\n",
            "Epoch 155/200\n",
            "866/866 [==============================] - 1s 2ms/step - loss: 0.1527 - accuracy: 0.9479\n",
            "Epoch 156/200\n",
            "866/866 [==============================] - 1s 2ms/step - loss: 0.1526 - accuracy: 0.9479\n",
            "Epoch 157/200\n",
            "866/866 [==============================] - 1s 2ms/step - loss: 0.1521 - accuracy: 0.9479\n",
            "Epoch 158/200\n",
            "866/866 [==============================] - 1s 2ms/step - loss: 0.1523 - accuracy: 0.9476\n",
            "Epoch 159/200\n",
            "866/866 [==============================] - 2s 2ms/step - loss: 0.1521 - accuracy: 0.9478\n",
            "Epoch 160/200\n",
            "866/866 [==============================] - 1s 2ms/step - loss: 0.1520 - accuracy: 0.9479\n",
            "Epoch 161/200\n",
            "866/866 [==============================] - 1s 2ms/step - loss: 0.1521 - accuracy: 0.9481\n",
            "Epoch 162/200\n",
            "866/866 [==============================] - 1s 2ms/step - loss: 0.1520 - accuracy: 0.9481\n",
            "Epoch 163/200\n",
            "866/866 [==============================] - 1s 2ms/step - loss: 0.1520 - accuracy: 0.9479\n",
            "Epoch 164/200\n",
            "866/866 [==============================] - 1s 2ms/step - loss: 0.1522 - accuracy: 0.9480\n",
            "Epoch 165/200\n",
            "866/866 [==============================] - 1s 2ms/step - loss: 0.1518 - accuracy: 0.9478\n",
            "Epoch 166/200\n",
            "866/866 [==============================] - 1s 2ms/step - loss: 0.1519 - accuracy: 0.9482\n",
            "Epoch 167/200\n",
            "866/866 [==============================] - 1s 2ms/step - loss: 0.1519 - accuracy: 0.9475\n",
            "Epoch 168/200\n",
            "866/866 [==============================] - 1s 2ms/step - loss: 0.1517 - accuracy: 0.9482\n",
            "Epoch 169/200\n",
            "866/866 [==============================] - 1s 2ms/step - loss: 0.1526 - accuracy: 0.9478\n",
            "Epoch 170/200\n",
            "866/866 [==============================] - 1s 2ms/step - loss: 0.1520 - accuracy: 0.9476\n",
            "Epoch 171/200\n",
            "866/866 [==============================] - 1s 2ms/step - loss: 0.1519 - accuracy: 0.9480\n",
            "Epoch 172/200\n",
            "866/866 [==============================] - 1s 2ms/step - loss: 0.1518 - accuracy: 0.9482\n",
            "Epoch 173/200\n",
            "866/866 [==============================] - 1s 2ms/step - loss: 0.1523 - accuracy: 0.9481\n",
            "Epoch 174/200\n",
            "866/866 [==============================] - 1s 2ms/step - loss: 0.1517 - accuracy: 0.9478\n",
            "Epoch 175/200\n",
            "866/866 [==============================] - 1s 2ms/step - loss: 0.1517 - accuracy: 0.9479\n",
            "Epoch 176/200\n",
            "866/866 [==============================] - 1s 2ms/step - loss: 0.1517 - accuracy: 0.9480\n",
            "Epoch 177/200\n",
            "866/866 [==============================] - 1s 2ms/step - loss: 0.1522 - accuracy: 0.9478\n",
            "Epoch 178/200\n",
            "866/866 [==============================] - 1s 2ms/step - loss: 0.1513 - accuracy: 0.9481\n",
            "Epoch 179/200\n",
            "866/866 [==============================] - 1s 2ms/step - loss: 0.1520 - accuracy: 0.9477\n",
            "Epoch 180/200\n",
            "866/866 [==============================] - 1s 2ms/step - loss: 0.1518 - accuracy: 0.9482\n",
            "Epoch 181/200\n",
            "866/866 [==============================] - 1s 2ms/step - loss: 0.1520 - accuracy: 0.9478\n",
            "Epoch 182/200\n",
            "866/866 [==============================] - 1s 2ms/step - loss: 0.1514 - accuracy: 0.9478\n",
            "Epoch 183/200\n",
            "866/866 [==============================] - 1s 2ms/step - loss: 0.1519 - accuracy: 0.9480\n",
            "Epoch 184/200\n",
            "866/866 [==============================] - 1s 2ms/step - loss: 0.1519 - accuracy: 0.9478\n",
            "Epoch 185/200\n",
            "866/866 [==============================] - 1s 2ms/step - loss: 0.1516 - accuracy: 0.9483\n",
            "Epoch 186/200\n",
            "866/866 [==============================] - 1s 2ms/step - loss: 0.1519 - accuracy: 0.9477\n",
            "Epoch 187/200\n",
            "866/866 [==============================] - 1s 2ms/step - loss: 0.1518 - accuracy: 0.9479\n",
            "Epoch 188/200\n",
            "866/866 [==============================] - 1s 2ms/step - loss: 0.1518 - accuracy: 0.9482\n",
            "Epoch 189/200\n",
            "866/866 [==============================] - 1s 2ms/step - loss: 0.1516 - accuracy: 0.9482\n",
            "Epoch 190/200\n",
            "866/866 [==============================] - 1s 2ms/step - loss: 0.1515 - accuracy: 0.9478\n",
            "Epoch 191/200\n",
            "866/866 [==============================] - 1s 2ms/step - loss: 0.1513 - accuracy: 0.9481\n",
            "Epoch 192/200\n",
            "866/866 [==============================] - 1s 2ms/step - loss: 0.1516 - accuracy: 0.9480\n",
            "Epoch 193/200\n",
            "866/866 [==============================] - 1s 2ms/step - loss: 0.1521 - accuracy: 0.9482\n",
            "Epoch 194/200\n",
            "866/866 [==============================] - 1s 2ms/step - loss: 0.1516 - accuracy: 0.9485\n",
            "Epoch 195/200\n",
            "866/866 [==============================] - 1s 2ms/step - loss: 0.1515 - accuracy: 0.9481\n",
            "Epoch 196/200\n",
            "866/866 [==============================] - 1s 2ms/step - loss: 0.1515 - accuracy: 0.9485\n",
            "Epoch 197/200\n",
            "866/866 [==============================] - 1s 2ms/step - loss: 0.1514 - accuracy: 0.9483\n",
            "Epoch 198/200\n",
            "866/866 [==============================] - 1s 2ms/step - loss: 0.1515 - accuracy: 0.9479\n",
            "Epoch 199/200\n",
            "866/866 [==============================] - 1s 2ms/step - loss: 0.1516 - accuracy: 0.9480\n",
            "Epoch 200/200\n",
            "866/866 [==============================] - 1s 2ms/step - loss: 0.1512 - accuracy: 0.9481\n"
          ]
        }
      ]
    },
    {
      "cell_type": "code",
      "metadata": {
        "colab": {
          "base_uri": "https://localhost:8080/"
        },
        "id": "T7u2TAeTPXlm",
        "outputId": "573de0bc-0a3a-4e93-ec2a-753b67b860d7"
      },
      "source": [
        "print(\"El mejor es: %f usando %s\" % (grid_result.best_score_, grid_result.best_params_))"
      ],
      "execution_count": null,
      "outputs": [
        {
          "output_type": "stream",
          "name": "stdout",
          "text": [
            "El mejor es: 0.946519 usando {'optimizer': 'Adam'}\n"
          ]
        }
      ]
    },
    {
      "cell_type": "markdown",
      "metadata": {
        "id": "RkVXDwurh7Ol"
      },
      "source": [
        "Con esto nos damos cuenta que el optimizador que se debe utilizar es el Adam.\n",
        "Seguidamente procedemos a correr un nuevo modelo pero los hiperparámetros encontrados como mejores."
      ]
    },
    {
      "cell_type": "code",
      "metadata": {
        "colab": {
          "base_uri": "https://localhost:8080/"
        },
        "id": "tRjGgGTN8ReP",
        "outputId": "d28971f1-8ab7-4288-9c0d-393db7899bbd"
      },
      "source": [
        "modelo = Sequential()\n",
        "\n",
        "modelo.add(Dense(128, input_dim=25))\n",
        "modelo.add(Activation('relu'))\n",
        "modelo.add(Dense(2))\n",
        "modelo.add(Activation('sigmoid'))\n",
        "\n",
        "# Compiling the model\n",
        "modelo.compile(loss = 'binary_crossentropy', optimizer='adam', metrics=['accuracy'])\n",
        "\n",
        "modelo.summary()"
      ],
      "execution_count": 19,
      "outputs": [
        {
          "output_type": "stream",
          "name": "stdout",
          "text": [
            "Model: \"sequential_1\"\n",
            "_________________________________________________________________\n",
            "Layer (type)                 Output Shape              Param #   \n",
            "=================================================================\n",
            "dense_3 (Dense)              (None, 128)               3328      \n",
            "_________________________________________________________________\n",
            "activation_3 (Activation)    (None, 128)               0         \n",
            "_________________________________________________________________\n",
            "dense_4 (Dense)              (None, 2)                 258       \n",
            "_________________________________________________________________\n",
            "activation_4 (Activation)    (None, 2)                 0         \n",
            "=================================================================\n",
            "Total params: 3,586\n",
            "Trainable params: 3,586\n",
            "Non-trainable params: 0\n",
            "_________________________________________________________________\n"
          ]
        }
      ]
    },
    {
      "cell_type": "markdown",
      "metadata": {
        "id": "2390DdcJlnWG"
      },
      "source": [
        "\n",
        "Entrenamos el modelo con el nuevo batch size y los epochs encontrados en la optimización con GridSearch.\n",
        "\n"
      ]
    },
    {
      "cell_type": "code",
      "metadata": {
        "colab": {
          "base_uri": "https://localhost:8080/"
        },
        "id": "WkV1pjn2CGqs",
        "outputId": "dc94ea0a-232c-46c1-fdd6-a1ad2741222c"
      },
      "source": [
        "\n",
        "modelo.fit(X_train, y_train, epochs=200, batch_size=80, verbose=0)\n"
      ],
      "execution_count": 20,
      "outputs": [
        {
          "output_type": "execute_result",
          "data": {
            "text/plain": [
              "<keras.callbacks.History at 0x7f0a234c55d0>"
            ]
          },
          "metadata": {},
          "execution_count": 20
        }
      ]
    },
    {
      "cell_type": "markdown",
      "metadata": {
        "id": "nM00fzrjlxO-"
      },
      "source": [
        "Corremos el modelo y se encientra que la precisión del testeo aumenta prácticamente en un 1% con respecto al inicial, por lo que se considera que la búsqueda de los mejores hiperparámetros fue exitosa."
      ]
    },
    {
      "cell_type": "code",
      "metadata": {
        "colab": {
          "base_uri": "https://localhost:8080/"
        },
        "id": "_VXE96wtL_O5",
        "outputId": "8c631c5c-6b46-4877-8c38-f23f8a7885ec"
      },
      "source": [
        "# Evaluamos el modelo en el set de entrenamiento y prueba\n",
        "score = modelo.evaluate(X_train, y_train)\n",
        "print(\"\\n Training Accuracy:\", score[1])\n",
        "score = modelo.evaluate(X_test, y_test)\n",
        "print(\"\\n Testing Accuracy:\", score[1])"
      ],
      "execution_count": 21,
      "outputs": [
        {
          "output_type": "stream",
          "name": "stdout",
          "text": [
            "2164/2164 [==============================] - 3s 1ms/step - loss: 0.1494 - accuracy: 0.9481\n",
            "\n",
            " Training Accuracy: 0.9480928182601929\n",
            "928/928 [==============================] - 1s 1ms/step - loss: 0.1534 - accuracy: 0.9468\n",
            "\n",
            " Testing Accuracy: 0.9467547535896301\n"
          ]
        }
      ]
    },
    {
      "cell_type": "markdown",
      "metadata": {
        "id": "N4cJypxgmGil"
      },
      "source": [
        "**¨Modelo tomando en cuenta el sesgo que existe cuando una clase tiene muchos más registros que la otra**"
      ]
    },
    {
      "cell_type": "markdown",
      "metadata": {
        "id": "KSTQueBGNMul"
      },
      "source": [
        "Al revisar en la literatura, se encuentra que existe un sesgo en los modelos de aprendizaje automático y de redes neuronales el cual se da cuando existe una gran cantidad de datos de una de las clases que se quiere clasificar, y de la otra existen pocos registros. Esto origina que el modelo siempre los clasifique todos como la clase predominante, inflando la precisión pero de forma inadecuada. Para esto, se procede a realizar el siguiente análisis. "
      ]
    },
    {
      "cell_type": "markdown",
      "metadata": {
        "id": "EcSzmmk6mPmr"
      },
      "source": [
        "Primero, realizamos un histograma para ver si efectivamente existe una gran diferencia entre la cantidad de registros que tiene cada clase."
      ]
    },
    {
      "cell_type": "code",
      "metadata": {
        "colab": {
          "base_uri": "https://localhost:8080/",
          "height": 298
        },
        "id": "VI-yFrw0NPZC",
        "outputId": "40a3a36e-39bd-4189-f554-0dad884caf4c"
      },
      "source": [
        "plt.hist(y, color = '#2ca02c', rwidth=0.85)\n",
        "plt.title('Histograma de frecuencia de clases')\n",
        "plt.xlabel('Clase')\n",
        "plt.ylabel('Frecuencia')\n",
        "\n",
        "\n",
        "plt.show() \n"
      ],
      "execution_count": 22,
      "outputs": [
        {
          "output_type": "display_data",
          "data": {
            "image/png": "[encoded data removed]",
            "text/plain": [
              "<Figure size 432x288 with 1 Axes>"
            ]
          },
          "metadata": {}
        }
      ]
    },
    {
      "cell_type": "markdown",
      "metadata": {
        "id": "6IBB0zWSmfTe"
      },
      "source": [
        "Ya aquí se denota que el fenómeno descrito anteriormente está pasando, y que es necesario hacer algo al respecto. Al revisar la teoría, se encuentra que una de las formas para arreglar este sesgo es reducir la cantidad de datos de la clase predominante para que sea igual a la otra. Este es el procedimiento que se va a realizar en este caso."
      ]
    },
    {
      "cell_type": "markdown",
      "metadata": {
        "id": "Ls63rjc2nJXS"
      },
      "source": [
        "Primero, generamos dos dataframes, uno con los datos de cada clase, y vemos cuál es la cantidad de registros para cada uno"
      ]
    },
    {
      "cell_type": "code",
      "metadata": {
        "colab": {
          "base_uri": "https://localhost:8080/"
        },
        "id": "MzmDOciGQh-9",
        "outputId": "e1e98bde-b12b-49f9-9bd1-537af1381994"
      },
      "source": [
        "buenos_usuarios = ecommerce_procesado.loc[ecommerce_procesado['Indicador'] == 'Good User']\n",
        "malos_usuarios = ecommerce_procesado.loc[ecommerce_procesado['Indicador'] == 'Bad User']\n",
        "\n",
        "print(\"Cantidad de buenos usuarios: \",buenos_usuarios.shape[0])\n",
        "print(\"Cantidad de malos usuarios: \",malos_usuarios.shape[0])"
      ],
      "execution_count": 23,
      "outputs": [
        {
          "output_type": "stream",
          "name": "stdout",
          "text": [
            "Cantidad de buenos usuarios:  6893\n",
            "Cantidad de malos usuarios:  92020\n"
          ]
        }
      ]
    },
    {
      "cell_type": "markdown",
      "metadata": {
        "id": "0vu0ju5PngbN"
      },
      "source": [
        "Ahora procedemos a solamente dejarnos los primeros 6893 registros de la clase dominante, para que así ambas tengan el mismo tamaño."
      ]
    },
    {
      "cell_type": "code",
      "metadata": {
        "id": "aZ3llj1nQm1k"
      },
      "source": [
        "malos_usuarios_filtrado = malos_usuarios.head(6893)"
      ],
      "execution_count": 24,
      "outputs": []
    },
    {
      "cell_type": "markdown",
      "metadata": {
        "id": "ScLCTXx-pJEF"
      },
      "source": [
        "Ahora concatenamos los dos dataframes, obteniendo uno solo con los registros del mismo tamaño para ambas clases."
      ]
    },
    {
      "cell_type": "code",
      "metadata": {
        "id": "o3sOFrmaQqhw"
      },
      "source": [
        "ecommerce_nuevo = pd.concat([buenos_usuarios,malos_usuarios_filtrado])"
      ],
      "execution_count": 26,
      "outputs": []
    },
    {
      "cell_type": "markdown",
      "metadata": {
        "id": "FkjkLLuxrwto"
      },
      "source": [
        "Importamos la función shuffle para que no queden todos los registros de las mismas clases juntos."
      ]
    },
    {
      "cell_type": "code",
      "metadata": {
        "id": "kuFOgfd2Qxa8"
      },
      "source": [
        "from sklearn.utils import shuffle\n",
        "\n",
        "ecommerce_revuelto = shuffle(ecommerce_nuevo)"
      ],
      "execution_count": 27,
      "outputs": []
    },
    {
      "cell_type": "markdown",
      "metadata": {
        "id": "IM5-hEw0swKE"
      },
      "source": [
        "Nuevamente realizamos todo el tratamiento y limpieza de datos pero para el nuevo dataframe que tiene las clases con las mismas cantidades"
      ]
    },
    {
      "cell_type": "code",
      "metadata": {
        "colab": {
          "base_uri": "https://localhost:8080/",
          "height": 662
        },
        "id": "91ZY8Q5OQ-mP",
        "outputId": "9175aec0-b651-4de9-94a9-f4139db036d6"
      },
      "source": [
        "X = ecommerce_revuelto.drop(columns='Indicador')\n",
        "y = ecommerce_revuelto['Indicador']\n",
        "\n",
        "\n",
        "y_revuelto = pd.get_dummies(y, columns=['Indicador'])\n",
        "y_revuelto.head(20)"
      ],
      "execution_count": 30,
      "outputs": [
        {
          "output_type": "execute_result",
          "data": {
            "text/html": [
              "<div>\n",
              "<style scoped>\n",
              "    .dataframe tbody tr th:only-of-type {\n",
              "        vertical-align: middle;\n",
              "    }\n",
              "\n",
              "    .dataframe tbody tr th {\n",
              "        vertical-align: top;\n",
              "    }\n",
              "\n",
              "    .dataframe thead th {\n",
              "        text-align: right;\n",
              "    }\n",
              "</style>\n",
              "<table border=\"1\" class=\"dataframe\">\n",
              "  <thead>\n",
              "    <tr style=\"text-align: right;\">\n",
              "      <th></th>\n",
              "      <th>Bad User</th>\n",
              "      <th>Good User</th>\n",
              "    </tr>\n",
              "  </thead>\n",
              "  <tbody>\n",
              "    <tr>\n",
              "      <th>42304</th>\n",
              "      <td>0</td>\n",
              "      <td>1</td>\n",
              "    </tr>\n",
              "    <tr>\n",
              "      <th>40841</th>\n",
              "      <td>0</td>\n",
              "      <td>1</td>\n",
              "    </tr>\n",
              "    <tr>\n",
              "      <th>2453</th>\n",
              "      <td>0</td>\n",
              "      <td>1</td>\n",
              "    </tr>\n",
              "    <tr>\n",
              "      <th>89232</th>\n",
              "      <td>0</td>\n",
              "      <td>1</td>\n",
              "    </tr>\n",
              "    <tr>\n",
              "      <th>2333</th>\n",
              "      <td>1</td>\n",
              "      <td>0</td>\n",
              "    </tr>\n",
              "    <tr>\n",
              "      <th>4331</th>\n",
              "      <td>1</td>\n",
              "      <td>0</td>\n",
              "    </tr>\n",
              "    <tr>\n",
              "      <th>2520</th>\n",
              "      <td>1</td>\n",
              "      <td>0</td>\n",
              "    </tr>\n",
              "    <tr>\n",
              "      <th>84870</th>\n",
              "      <td>0</td>\n",
              "      <td>1</td>\n",
              "    </tr>\n",
              "    <tr>\n",
              "      <th>7250</th>\n",
              "      <td>1</td>\n",
              "      <td>0</td>\n",
              "    </tr>\n",
              "    <tr>\n",
              "      <th>482</th>\n",
              "      <td>1</td>\n",
              "      <td>0</td>\n",
              "    </tr>\n",
              "    <tr>\n",
              "      <th>22130</th>\n",
              "      <td>0</td>\n",
              "      <td>1</td>\n",
              "    </tr>\n",
              "    <tr>\n",
              "      <th>25144</th>\n",
              "      <td>0</td>\n",
              "      <td>1</td>\n",
              "    </tr>\n",
              "    <tr>\n",
              "      <th>76302</th>\n",
              "      <td>0</td>\n",
              "      <td>1</td>\n",
              "    </tr>\n",
              "    <tr>\n",
              "      <th>67255</th>\n",
              "      <td>0</td>\n",
              "      <td>1</td>\n",
              "    </tr>\n",
              "    <tr>\n",
              "      <th>5025</th>\n",
              "      <td>1</td>\n",
              "      <td>0</td>\n",
              "    </tr>\n",
              "    <tr>\n",
              "      <th>7019</th>\n",
              "      <td>1</td>\n",
              "      <td>0</td>\n",
              "    </tr>\n",
              "    <tr>\n",
              "      <th>2527</th>\n",
              "      <td>1</td>\n",
              "      <td>0</td>\n",
              "    </tr>\n",
              "    <tr>\n",
              "      <th>2989</th>\n",
              "      <td>1</td>\n",
              "      <td>0</td>\n",
              "    </tr>\n",
              "    <tr>\n",
              "      <th>27793</th>\n",
              "      <td>0</td>\n",
              "      <td>1</td>\n",
              "    </tr>\n",
              "    <tr>\n",
              "      <th>58974</th>\n",
              "      <td>0</td>\n",
              "      <td>1</td>\n",
              "    </tr>\n",
              "  </tbody>\n",
              "</table>\n",
              "</div>"
            ],
            "text/plain": [
              "       Bad User  Good User\n",
              "42304         0          1\n",
              "40841         0          1\n",
              "2453          0          1\n",
              "89232         0          1\n",
              "2333          1          0\n",
              "4331          1          0\n",
              "2520          1          0\n",
              "84870         0          1\n",
              "7250          1          0\n",
              "482           1          0\n",
              "22130         0          1\n",
              "25144         0          1\n",
              "76302         0          1\n",
              "67255         0          1\n",
              "5025          1          0\n",
              "7019          1          0\n",
              "2527          1          0\n",
              "2989          1          0\n",
              "27793         0          1\n",
              "58974         0          1"
            ]
          },
          "metadata": {},
          "execution_count": 30
        }
      ]
    },
    {
      "cell_type": "code",
      "metadata": {
        "id": "UN1Ku75PRQnz"
      },
      "source": [
        "escalado = MinMaxScaler()\n",
        "X_escalado = escalado.fit_transform(X)\n",
        "X_escalado = pd.DataFrame(data = X_escalado, columns = X.columns)"
      ],
      "execution_count": 31,
      "outputs": []
    },
    {
      "cell_type": "markdown",
      "metadata": {
        "id": "E1iWzS-PtBsB"
      },
      "source": [
        "Se verifica que el tamaño de X y de y sean los correctos"
      ]
    },
    {
      "cell_type": "code",
      "metadata": {
        "colab": {
          "base_uri": "https://localhost:8080/"
        },
        "id": "ViaNgqWrRTeY",
        "outputId": "bbac1e42-47f4-4849-97e1-5f58f4977313"
      },
      "source": [
        "X_nuevo = np.array(X_escalado)\n",
        "y_nuevo = np.array(y_revuelto)\n",
        "\n",
        "#Verificando la entrada y la salida de los datos\n",
        "print(\"Forma de X:\", X_nuevo.shape)\n",
        "print(\"\\nForma de y:\", y_nuevo.shape)\n"
      ],
      "execution_count": 33,
      "outputs": [
        {
          "output_type": "stream",
          "name": "stdout",
          "text": [
            "Forma de X: (13786, 25)\n",
            "\n",
            "Forma de y: (13786, 2)\n"
          ]
        }
      ]
    },
    {
      "cell_type": "markdown",
      "metadata": {
        "id": "zHaPSDHftFOl"
      },
      "source": [
        "Se parten nuevamente en entrenamiento y testing, usando el 70%"
      ]
    },
    {
      "cell_type": "code",
      "metadata": {
        "id": "lUICLOvARYp6"
      },
      "source": [
        "X_train, X_test, y_train, y_test = train_test_split(X_nuevo, y_nuevo, train_size= 0.7, random_state = 1234, shuffle = True)"
      ],
      "execution_count": 34,
      "outputs": []
    },
    {
      "cell_type": "markdown",
      "metadata": {
        "id": "bjXO12wUtaIt"
      },
      "source": [
        "Vamos a definir la red con los hiperparámetros que nos dimos cuenta que eran los mejores, usando el optimizador Adam, el tamaño del batch de 80 y 200 epochs."
      ]
    },
    {
      "cell_type": "code",
      "metadata": {
        "colab": {
          "base_uri": "https://localhost:8080/"
        },
        "id": "ZvQpvHAYRcoC",
        "outputId": "4ff6c0f2-47a7-4d2f-befe-7214c339bbab"
      },
      "source": [
        "modelo = Sequential()\n",
        "\n",
        "modelo.add(Dense(128, input_dim=25))\n",
        "modelo.add(Activation('relu'))\n",
        "modelo.add(Dense(2))\n",
        "modelo.add(Activation('sigmoid'))\n",
        "\n",
        "# Compiling the model\n",
        "modelo.compile(loss = 'binary_crossentropy', optimizer='adam', metrics=['accuracy'])\n",
        "\n",
        "modelo.summary()"
      ],
      "execution_count": 35,
      "outputs": [
        {
          "output_type": "stream",
          "name": "stdout",
          "text": [
            "Model: \"sequential_2\"\n",
            "_________________________________________________________________\n",
            "Layer (type)                 Output Shape              Param #   \n",
            "=================================================================\n",
            "dense_5 (Dense)              (None, 128)               3328      \n",
            "_________________________________________________________________\n",
            "activation_5 (Activation)    (None, 128)               0         \n",
            "_________________________________________________________________\n",
            "dense_6 (Dense)              (None, 2)                 258       \n",
            "_________________________________________________________________\n",
            "activation_6 (Activation)    (None, 2)                 0         \n",
            "=================================================================\n",
            "Total params: 3,586\n",
            "Trainable params: 3,586\n",
            "Non-trainable params: 0\n",
            "_________________________________________________________________\n"
          ]
        }
      ]
    },
    {
      "cell_type": "code",
      "metadata": {
        "colab": {
          "base_uri": "https://localhost:8080/"
        },
        "id": "7dZacXA4RfXe",
        "outputId": "3ec0ab07-60da-427f-d208-4256b4870561"
      },
      "source": [
        "# Se entrena el modelo\n",
        "modelo.fit(X_train, y_train, epochs=200, batch_size=80, verbose=0)"
      ],
      "execution_count": 36,
      "outputs": [
        {
          "output_type": "execute_result",
          "data": {
            "text/plain": [
              "<keras.callbacks.History at 0x7f0a232b4710>"
            ]
          },
          "metadata": {},
          "execution_count": 36
        }
      ]
    },
    {
      "cell_type": "markdown",
      "metadata": {
        "id": "R_AsN1GJtpHl"
      },
      "source": [
        "Finalmente, se evalúa el modelo en sus ambos sets."
      ]
    },
    {
      "cell_type": "code",
      "metadata": {
        "colab": {
          "base_uri": "https://localhost:8080/"
        },
        "id": "59JxFRF5R40z",
        "outputId": "06e7106e-1987-462c-8caf-7cc2ae5b7af2"
      },
      "source": [
        "# Evaluamos el modelo en el set de entrenamiento y prueba\n",
        "score = modelo.evaluate(X_train, y_train)\n",
        "print(\"\\n Training Accuracy:\", score[1])\n",
        "score = modelo.evaluate(X_test, y_test)\n",
        "print(\"\\n Testing Accuracy:\", score[1])"
      ],
      "execution_count": 37,
      "outputs": [
        {
          "output_type": "stream",
          "name": "stdout",
          "text": [
            "302/302 [==============================] - 0s 1ms/step - loss: 0.2587 - accuracy: 0.8983\n",
            "\n",
            " Training Accuracy: 0.898341953754425\n",
            "130/130 [==============================] - 0s 1ms/step - loss: 0.2803 - accuracy: 0.8934\n",
            "\n",
            " Testing Accuracy: 0.8933752179145813\n"
          ]
        }
      ]
    },
    {
      "cell_type": "markdown",
      "metadata": {
        "id": "_x2SnvNAtzvl"
      },
      "source": [
        "Queda evidenciado que al reducir el número de registros de 98.000 a solamente 13.000 se pierde un poco de precisión en el modelo, sin embargo, 89.34% sigue siendo una buena capacidad predictiva. Además, este es un sacrificio necesario, por el hecho de que si se dejaban todos los 98.000 datos podía existir el sesgo de clase, producto de la dominancia de los malos clientes. De esta manera, nos aseguramos que el modelo es correcto y que cuenta con buena capacidad de predecir. "
      ]
    }
  ]
}